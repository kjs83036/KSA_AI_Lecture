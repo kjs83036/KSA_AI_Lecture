{
 "cells": [
  {
   "cell_type": "markdown",
   "metadata": {},
   "source": [
    "Numpy"
   ]
  },
  {
   "cell_type": "code",
   "execution_count": 2,
   "metadata": {},
   "outputs": [
    {
     "name": "stdout",
     "output_type": "stream",
     "text": [
      "[         3          2          5          6 9999999999] (5,) 1 int64\n",
      "[[         3          2          5          6 9999999999]\n",
      " [         9          3          5          4          1]] (2, 5) 2 int64\n",
      "[         3          2          5          6 9999999999] 1972946685344 1972946685344\n",
      "[         3          2          5          6 9999999999] 1972946685344 1972950549088\n",
      "range :[3 6 9]\n",
      "zeros(n) : [0. 0. 0. 0.]\n",
      "zeros((r, c)) : \n",
      " [[0. 0.]\n",
      " [0. 0.]\n",
      " [0. 0.]]\n",
      "zeros_like(obj) : [0 0 0 0 0]\n",
      "zeros_like(ndarray) : \n",
      "[[0 0 0 0 0]\n",
      " [0 0 0 0 0]]\n",
      "eye(n) : \n",
      "[[1. 0. 0.]\n",
      " [0. 1. 0.]\n",
      " [0. 0. 1.]]\n",
      "empty_like(obj) : [         3          2          5          6 9999999999]\n",
      "empty_like(ndarray) : \n",
      "[[0 0 0 0 0]\n",
      " [0 0 0 0 0]]\n"
     ]
    }
   ],
   "source": [
    "import numpy as np\n",
    "\n",
    "#dir(np.ndarray)\n",
    "\n",
    "ls1 = [3, 2, 5, 6, 9999999999]\n",
    "ls2 = [9, 3, 5, 4, 1]\n",
    "\n",
    "data1 = np.array(ls1)\n",
    "data2 = np.array([ls1, ls2])\n",
    "\n",
    "print(data1, data1.shape, data1.ndim, data1.dtype)\n",
    "print(data2, data2.shape, data2.ndim, data2.dtype)\n",
    "\n",
    "data3 = np.asarray(data1)\n",
    "print(data3, id(data1), id(data3))\n",
    "data3 = np.asarray(ls1)\n",
    "print(data3, id(data1), id(data3))\n",
    "\n",
    "print(f\"range :{np.arange(3, 10, 3)}\")\n",
    "print(f\"zeros(n) : {np.zeros(4)}\")\n",
    "print(f\"zeros((r, c)) : \\n {np.zeros((3,2))}\")\n",
    "print(f\"zeros_like(obj) : {np.zeros_like(ls1)}\")\n",
    "print(f\"zeros_like(ndarray) : \\n{np.zeros_like(data2)}\")\n",
    "print(f\"eye(n) : \\n{np.eye(3)}\")\n",
    "print(f\"empty_like(obj) : {np.empty_like(ls1)}\")\n",
    "print(f\"empty_like(ndarray) : \\n{np.empty_like(data2)}\")"
   ]
  },
  {
   "cell_type": "code",
   "execution_count": 3,
   "metadata": {},
   "outputs": [
    {
     "data": {
      "text/plain": [
       "array([[ 0,  1,  2,  3,  4],\n",
       "       [ 0,  1,  4,  9, 16]])"
      ]
     },
     "execution_count": 3,
     "metadata": {},
     "output_type": "execute_result"
    }
   ],
   "source": [
    "matrix1 = np.array([[x for x in range(0,5)],[x ** 2 for x in range(0,5)]])\n",
    "matrix1"
   ]
  },
  {
   "cell_type": "code",
   "execution_count": 4,
   "metadata": {},
   "outputs": [
    {
     "name": "stdout",
     "output_type": "stream",
     "text": [
      "[b'3' b'2' b'5' b'6' b'9999999999']\n"
     ]
    },
    {
     "data": {
      "text/plain": [
       "array([1.3e+01+0.j, 1.2e+01+0.j, 1.5e+01+0.j, 1.6e+01+0.j, 1.0e+10+0.j])"
      ]
     },
     "execution_count": 4,
     "metadata": {},
     "output_type": "execute_result"
    }
   ],
   "source": [
    "vec_a = np.array(ls1, dtype=np.string_)\n",
    "print(vec_a)\n",
    "vec_a2 = vec_a.astype(np.complex128)\n",
    "vec_a2 + 10"
   ]
  },
  {
   "cell_type": "code",
   "execution_count": 5,
   "metadata": {},
   "outputs": [
    {
     "data": {
      "text/plain": [
       "(array([[-0.94657925, -1.42505749, -0.13619156],\n",
       "        [-1.90713933,  0.05349584, -0.04305895],\n",
       "        [-1.85467948,  0.47033821, -1.59311369]]),\n",
       " array([[-0.94657925, -0.        , -0.        ],\n",
       "        [-0.        ,  0.05349584, -0.        ],\n",
       "        [-0.        ,  0.        , -1.59311369]]))"
      ]
     },
     "execution_count": 5,
     "metadata": {},
     "output_type": "execute_result"
    }
   ],
   "source": [
    "matrix2 = np.random.randn(3,3)\n",
    "matrix2, matrix2 * np.eye(3)"
   ]
  },
  {
   "cell_type": "code",
   "execution_count": 6,
   "metadata": {},
   "outputs": [
    {
     "data": {
      "text/plain": [
       "([2, 3, 6, 4, 3], array([2, 3, 6, 6, 6, 4, 3]))"
      ]
     },
     "execution_count": 6,
     "metadata": {},
     "output_type": "execute_result"
    }
   ],
   "source": [
    "ls = [2,3,4,5,6,4,3]\n",
    "x = np.array(ls)\n",
    "\n",
    "ls[2:5] = [6]\n",
    "x[2:5] = 6\n",
    "ls, x"
   ]
  },
  {
   "cell_type": "code",
   "execution_count": 7,
   "metadata": {},
   "outputs": [
    {
     "data": {
      "text/plain": [
       "(array([101, 204, 109, 157]), array([[ 2,  6,  8,  7],\n",
       "        [25, 31, 78, 96]]), 204, 204, array([[ 6],\n",
       "        [31]]))"
      ]
     },
     "execution_count": 7,
     "metadata": {},
     "output_type": "execute_result"
    }
   ],
   "source": [
    "array1 = np.array([\n",
    "    [2, 6, 8, 7],\n",
    "    [25, 31, 78, 96],\n",
    "    [101, 204, 109, 157]\n",
    "])\n",
    "array1[2], array1[:2], array1[2][1], array1[2,1], array1[:2, 1:2]"
   ]
  },
  {
   "cell_type": "code",
   "execution_count": 8,
   "metadata": {},
   "outputs": [
    {
     "data": {
      "text/plain": [
       "(array([[[ 1,  2,  3,  4],\n",
       "         [ 5,  6,  7,  8],\n",
       "         [ 9, 10, 11, 12]],\n",
       " \n",
       "        [[13, 14, 15, 16],\n",
       "         [17, 18, 19, 20],\n",
       "         [21, 22, 23, 24]]]), (2, 3, 4), 3)"
      ]
     },
     "execution_count": 8,
     "metadata": {},
     "output_type": "execute_result"
    }
   ],
   "source": [
    "ls11 = [1,2,3,4]\n",
    "ls12 = [5,6,7,8]\n",
    "ls13 = [9, 10, 11, 12]\n",
    "ls21 = [13,14,15,16]\n",
    "ls22 = [17,18,19,20]\n",
    "ls23 = [21, 22, 23, 24]\n",
    "matrix3 = np.array([[ls11, ls12, ls13],[ls21, ls22, ls23]])\n",
    "matrix3, matrix3.shape, matrix3.ndim"
   ]
  },
  {
   "cell_type": "code",
   "execution_count": 9,
   "metadata": {},
   "outputs": [
    {
     "data": {
      "text/plain": [
       "(array([[1, 2, 3, 4],\n",
       "        [5, 6, 7, 8]]), array([4, 5, 6, 7, 8]), array([5, 6, 7, 8]))"
      ]
     },
     "execution_count": 9,
     "metadata": {},
     "output_type": "execute_result"
    }
   ],
   "source": [
    "matrix4 = np.array([ls11, ls12])\n",
    "matrix4, matrix4[matrix4>=4], matrix4[1]"
   ]
  },
  {
   "cell_type": "code",
   "execution_count": 10,
   "metadata": {},
   "outputs": [
    {
     "data": {
      "text/plain": [
       "(array(['남자', '여자', '남자', '남자', '남자', '여자'], dtype='<U2'),\n",
       " array([[ 1,  2,  3,  4],\n",
       "        [ 5,  6,  7,  8],\n",
       "        [ 9, 10, 11, 12],\n",
       "        [13, 14, 15, 16],\n",
       "        [17, 18, 19, 20],\n",
       "        [21, 22, 23, 24]]),\n",
       " array([False,  True, False, False, False,  True]))"
      ]
     },
     "execution_count": 10,
     "metadata": {},
     "output_type": "execute_result"
    }
   ],
   "source": [
    "name = np.array([\"남자\", \"여자\", \"남자\",\"남자\",\"남자\", \"여자\"])\n",
    "score = np.array([ls11, ls12, ls13, ls21, ls22, ls23])\n",
    "name_bool = name == \"여자\"\n",
    "name, score, name_bool"
   ]
  },
  {
   "cell_type": "code",
   "execution_count": 11,
   "metadata": {},
   "outputs": [
    {
     "data": {
      "text/plain": [
       "(array([[ 5,  6,  7,  8],\n",
       "        [21, 22, 23, 24]]), array([[ 1,  2,  3,  4],\n",
       "        [ 9, 10, 11, 12],\n",
       "        [13, 14, 15, 16],\n",
       "        [17, 18, 19, 20]]), array([[ 1,  2,  3,  4],\n",
       "        [21, 22, 23, 24]]))"
      ]
     },
     "execution_count": 11,
     "metadata": {},
     "output_type": "execute_result"
    }
   ],
   "source": [
    "female = score[name_bool]\n",
    "male = score[~name_bool]\n",
    "abc = score[[True,False,False,False,False,(True)]]\n",
    "female, male, abc"
   ]
  },
  {
   "cell_type": "code",
   "execution_count": 12,
   "metadata": {},
   "outputs": [
    {
     "data": {
      "text/plain": [
       "(array([[-0.57628679, -0.37900033,  1.39094199],\n",
       "        [ 0.38925652,  0.26043803, -1.03376945],\n",
       "        [-0.63650191,  0.85938276,  0.14349315]]),\n",
       " array([[-0.57628679, -0.37900033,  1.39094199],\n",
       "        [ 0.38925652,  0.26043803, -1.03376945],\n",
       "        [-0.63650191,  0.85938276,  0.14349315]]))"
      ]
     },
     "execution_count": 12,
     "metadata": {},
     "output_type": "execute_result"
    }
   ],
   "source": [
    "arr = np.random.randn(7, 4)\n",
    "arr3 = arr[[5, 0, 2], [1, 0, 2]]\n",
    "arr4 = arr[[5, 0, 2]][:, [1, 0, 2]]\n",
    "arr5 = arr[np.ix_([5, 0, 2], [1, 0, 2])]\n",
    "arr4, arr5"
   ]
  },
  {
   "cell_type": "code",
   "execution_count": 13,
   "metadata": {},
   "outputs": [
    {
     "data": {
      "text/plain": [
       "(array([[[ 0,  1,  2],\n",
       "         [ 3,  4,  5],\n",
       "         [ 6,  7,  8],\n",
       "         [ 9, 10, 11]],\n",
       " \n",
       "        [[12, 13, 14],\n",
       "         [15, 16, 17],\n",
       "         [18, 19, 20],\n",
       "         [21, 22, 23]]]), array([[[ 0, 12],\n",
       "         [ 3, 15],\n",
       "         [ 6, 18],\n",
       "         [ 9, 21]],\n",
       " \n",
       "        [[ 1, 13],\n",
       "         [ 4, 16],\n",
       "         [ 7, 19],\n",
       "         [10, 22]],\n",
       " \n",
       "        [[ 2, 14],\n",
       "         [ 5, 17],\n",
       "         [ 8, 20],\n",
       "         [11, 23]]]))"
      ]
     },
     "execution_count": 13,
     "metadata": {},
     "output_type": "execute_result"
    }
   ],
   "source": [
    "arr = np.arange(24).reshape(2, 4, 3)\n",
    "arr, arr.T"
   ]
  },
  {
   "cell_type": "code",
   "execution_count": 14,
   "metadata": {},
   "outputs": [
    {
     "data": {
      "text/plain": [
       "array([[[ 0, 12],\n",
       "        [ 3, 15],\n",
       "        [ 6, 18],\n",
       "        [ 9, 21]],\n",
       "\n",
       "       [[ 1, 13],\n",
       "        [ 4, 16],\n",
       "        [ 7, 19],\n",
       "        [10, 22]],\n",
       "\n",
       "       [[ 2, 14],\n",
       "        [ 5, 17],\n",
       "        [ 8, 20],\n",
       "        [11, 23]]])"
      ]
     },
     "execution_count": 14,
     "metadata": {},
     "output_type": "execute_result"
    }
   ],
   "source": [
    "arr.transpose(2,1,0)"
   ]
  },
  {
   "cell_type": "code",
   "execution_count": 15,
   "metadata": {},
   "outputs": [
    {
     "data": {
      "text/plain": [
       "array([[[ 0,  3,  6,  9],\n",
       "        [ 1,  4,  7, 10],\n",
       "        [ 2,  5,  8, 11]],\n",
       "\n",
       "       [[12, 15, 18, 21],\n",
       "        [13, 16, 19, 22],\n",
       "        [14, 17, 20, 23]]])"
      ]
     },
     "execution_count": 15,
     "metadata": {},
     "output_type": "execute_result"
    }
   ],
   "source": [
    "arr.swapaxes(2,1)"
   ]
  },
  {
   "cell_type": "code",
   "execution_count": 16,
   "metadata": {},
   "outputs": [
    {
     "data": {
      "text/plain": [
       "array([[[ 0, 12],\n",
       "        [ 3, 15],\n",
       "        [ 6, 18],\n",
       "        [ 9, 21]],\n",
       "\n",
       "       [[ 1, 13],\n",
       "        [ 4, 16],\n",
       "        [ 7, 19],\n",
       "        [10, 22]],\n",
       "\n",
       "       [[ 2, 14],\n",
       "        [ 5, 17],\n",
       "        [ 8, 20],\n",
       "        [11, 23]]])"
      ]
     },
     "execution_count": 16,
     "metadata": {},
     "output_type": "execute_result"
    }
   ],
   "source": [
    "arr.swapaxes(2,0)"
   ]
  },
  {
   "cell_type": "code",
   "execution_count": 17,
   "metadata": {},
   "outputs": [
    {
     "data": {
      "text/plain": [
       "(array([[[ 0,  1,  2],\n",
       "         [12, 13, 14]],\n",
       " \n",
       "        [[ 3,  4,  5],\n",
       "         [15, 16, 17]],\n",
       " \n",
       "        [[ 6,  7,  8],\n",
       "         [18, 19, 20]],\n",
       " \n",
       "        [[ 9, 10, 11],\n",
       "         [21, 22, 23]]]), array([[[ 0,  1,  2],\n",
       "         [12, 13, 14]],\n",
       " \n",
       "        [[ 3,  4,  5],\n",
       "         [15, 16, 17]],\n",
       " \n",
       "        [[ 6,  7,  8],\n",
       "         [18, 19, 20]],\n",
       " \n",
       "        [[ 9, 10, 11],\n",
       "         [21, 22, 23]]]))"
      ]
     },
     "execution_count": 17,
     "metadata": {},
     "output_type": "execute_result"
    }
   ],
   "source": [
    "arr.swapaxes(0,1), arr.swapaxes(1, 0)"
   ]
  },
  {
   "cell_type": "code",
   "execution_count": 18,
   "metadata": {},
   "outputs": [
    {
     "data": {
      "text/plain": [
       "array([1.4, 2. , inf, nan])"
      ]
     },
     "execution_count": 18,
     "metadata": {},
     "output_type": "execute_result"
    }
   ],
   "source": [
    "ex = np.arange(24).reshape(2, 4, 3)\n",
    "np.array([1.4, 2, np.inf, np.nan])"
   ]
  },
  {
   "cell_type": "code",
   "execution_count": 19,
   "metadata": {},
   "outputs": [
    {
     "name": "stdout",
     "output_type": "stream",
     "text": [
      "sqrt = [1.58113883 2.36643191 2.84604989 1.97484177 2.38746728]\n",
      "rint = [  12.  270. 3294.   49.  299.]\n",
      "log = [0.91629073 1.7227666  2.09186406 1.36097655 1.74046617]\n",
      "abs = [2 6 3 4 5]\n",
      "sign = [ 1  1 -1  1 -1]\n",
      "modf = [[ 0.5  0.6  0.1  0.9  0.7]\n",
      " [ 0.   0.  -0.   0.  -0. ]]\n",
      "[[ 2.  5.  8.  3.  5.]\n",
      " [ 2.  6. -3.  4. -5.]]\n"
     ]
    }
   ],
   "source": [
    "x = np.array([2.5,5.6,8.1,3.9,5.7])\n",
    "y = np.array([2,6,-3,4,-5])\n",
    "z = np.array([x,y])\n",
    "\n",
    "print(f\"sqrt = {np.sqrt(x)}\")\n",
    "print(f\"rint = {np.rint(np.exp(x))}\")\n",
    "print(f\"log = {np.log(x)}\")\n",
    "print(f\"abs = {np.abs(y)}\")\n",
    "print(f\"sign = {np.sign(y)}\")\n",
    "\n",
    "r, q = np.modf(z)\n",
    "print(f\"modf = {r}\\n{q}\")"
   ]
  },
  {
   "cell_type": "code",
   "execution_count": 20,
   "metadata": {},
   "outputs": [
    {
     "data": {
      "text/plain": [
       "([1, 7, 8, 9, 10], array([ 1,  7,  8,  9, 10]))"
      ]
     },
     "execution_count": 20,
     "metadata": {},
     "output_type": "execute_result"
    }
   ],
   "source": [
    "xarr = np.array([1,2,3,4,5])\n",
    "yarr = np.array([6,7,8,9,10])\n",
    "zarr = np.array([\"a\", \"b\", \"c\", \"d\", \"e\"])\n",
    "res = [(x if z == \"a\" else y) for x, y, z in zip(xarr, yarr, zarr)]\n",
    "res2 = np.where(zarr==\"a\", xarr, yarr)\n",
    "res, res2"
   ]
  },
  {
   "cell_type": "code",
   "execution_count": 21,
   "metadata": {},
   "outputs": [
    {
     "data": {
      "text/plain": [
       "(array([[95.56131283, 64.17440132, 50.35450052],\n",
       "        [35.60605728, 82.39800815, 84.93411634],\n",
       "        [73.72047204, 43.11061991, 75.95625892],\n",
       "        [61.41598221, 77.61807506, 37.31574941]]),\n",
       " array([[ 7.30402328,  2.11607144,  8.86803366],\n",
       "        [19.83022888, 15.33077526,  6.21670813],\n",
       "        [13.94077937,  1.66514484,  7.1684185 ],\n",
       "        [16.1096986 , 15.14195804,  5.8777901 ]]),\n",
       " array([[ 7.30402328,  2.11607144,  0.        ],\n",
       "        [ 0.        , 15.33077526,  6.21670813],\n",
       "        [13.94077937,  0.        ,  7.1684185 ],\n",
       "        [16.1096986 , 15.14195804,  0.        ]]))"
      ]
     },
     "execution_count": 21,
     "metadata": {},
     "output_type": "execute_result"
    }
   ],
   "source": [
    "arr1 = (70 + 30*np.random.randn(12)).reshape(4,3)\n",
    "arr2 = (10 + 5*np.random.randn(12)).reshape(4,3)\n",
    "result = np.where(arr1 >= 60, arr2, 0)\n",
    "arr1, arr2, result"
   ]
  },
  {
   "cell_type": "code",
   "execution_count": 22,
   "metadata": {},
   "outputs": [
    {
     "name": "stdout",
     "output_type": "stream",
     "text": [
      "25.799999999999997 25.799999999999997\n",
      "5.159999999999999 5.159999999999999\n",
      "1.8863721796082553 1.8863721796082553\n",
      "2.109028212234251 2.109028212234251\n",
      "3.5584000000000002 3.5584000000000002\n",
      "2.5 2.5\n",
      "8.1 8.1\n",
      "0 0\n",
      "2 2\n",
      "[ 2.5  8.1 16.2 20.1 25.8] [ 2.5  8.1 16.2 20.1 25.8]\n",
      "[2.500000e+00 1.400000e+01 1.134000e+02 4.422600e+02 2.520882e+03] [2.500000e+00 1.400000e+01 1.134000e+02 4.422600e+02 2.520882e+03]\n"
     ]
    }
   ],
   "source": [
    "xarr = np.array([2.5, 5.6, 8.1, 3.9, 5.7])\n",
    "print(xarr.sum(), np.sum(xarr))\n",
    "print(xarr.mean(), np.mean(xarr))\n",
    "print(xarr.std(), np.std(xarr))\n",
    "print(xarr.std(ddof=1), np.std(xarr, ddof=1))\n",
    "print(xarr.var(), np.var(xarr))\n",
    "print(xarr.min(), np.min(xarr))\n",
    "print(xarr.max(), np.max(xarr))\n",
    "print(xarr.argmin(), np.argmin(xarr))\n",
    "print(xarr.argmax(), np.argmax(xarr))\n",
    "print(xarr.cumsum(), np.cumsum(xarr))\n",
    "print(xarr.cumprod(), np.cumprod(xarr))\n"
   ]
  },
  {
   "cell_type": "code",
   "execution_count": 23,
   "metadata": {},
   "outputs": [
    {
     "data": {
      "text/plain": [
       "array([[2.5, 5.6, 8.1, 3.9, 5.7]])"
      ]
     },
     "execution_count": 23,
     "metadata": {},
     "output_type": "execute_result"
    }
   ],
   "source": [
    "xarr2 = np.array([xarr, xarr, xarr, xarr])\n",
    "xarr2.mean(axis=0, keepdims=True)"
   ]
  },
  {
   "cell_type": "code",
   "execution_count": 24,
   "metadata": {},
   "outputs": [
    {
     "data": {
      "text/plain": [
       "array([5.16, 5.16, 5.16, 5.16])"
      ]
     },
     "execution_count": 24,
     "metadata": {},
     "output_type": "execute_result"
    }
   ],
   "source": [
    "np.random.shuffle(xarr2[0])\n",
    "np.mean(xarr2, axis=1)"
   ]
  },
  {
   "cell_type": "code",
   "execution_count": 25,
   "metadata": {},
   "outputs": [
    {
     "data": {
      "text/plain": [
       "array([[2.5, 3.9, 5.6, 5.7, 8.1],\n",
       "       [2.5, 3.9, 5.6, 5.7, 8.1],\n",
       "       [2.5, 3.9, 5.6, 5.7, 8.1],\n",
       "       [2.5, 3.9, 5.6, 5.7, 8.1]])"
      ]
     },
     "execution_count": 25,
     "metadata": {},
     "output_type": "execute_result"
    }
   ],
   "source": [
    "np.sort(xarr2, axis=1)"
   ]
  },
  {
   "cell_type": "code",
   "execution_count": 26,
   "metadata": {},
   "outputs": [
    {
     "name": "stdout",
     "output_type": "stream",
     "text": [
      "load_x : [1 2 5 6 7 9 2 4]\n",
      "<numpy.lib.npyio.NpzFile object at 0x000001CB5E4516D8>\n",
      "load_x_aa['a']\n",
      "[1 2 5 6 7 9 2 4]\n",
      "load_x_aa['b']\n",
      "[[8 2 6 7]\n",
      " [5 6 7 9]]\n"
     ]
    }
   ],
   "source": [
    "x = np.array([1, 2, 5, 6, 7, 9, 2, 4])\n",
    "aa = np.array([[8, 2, 6, 7], [5, 6, 7, 9]])\n",
    "np.save(\"lecture_data/arr_x.npy\", x)\n",
    "load_x = np.load(\"lecture_data/arr_x.npy\")\n",
    "print(f\"load_x : {load_x}\")\n",
    "\n",
    "np.savez(\"lecture_data/arr.npz\", a=x, b=aa)\n",
    "load_x_aa = np.load(\"lecture_data/arr.npz\")\n",
    "print(load_x_aa)\n",
    "print(\"load_x_aa['a']\\n{0}\".format(load_x_aa[\"a\"]))\n",
    "print(f\"load_x_aa['b']\\n{load_x_aa['b']}\")"
   ]
  },
  {
   "cell_type": "code",
   "execution_count": 28,
   "metadata": {},
   "outputs": [
    {
     "data": {
      "text/plain": [
       "array([[ 81.4, 195. ,  57. ],\n",
       "       [122.2, 179. ,  61. ],\n",
       "       [101.7, 205. ,  60. ],\n",
       "       [175.6, 204. ,  62. ],\n",
       "       [150.3, 201. ,  61. ],\n",
       "       [ 64.8, 184. ,  54. ],\n",
       "       [ 92.1, 210. ,  58. ],\n",
       "       [113.8, 209. ,  61. ]])"
      ]
     },
     "execution_count": 28,
     "metadata": {},
     "output_type": "execute_result"
    }
   ],
   "source": [
    "steel_data = np.loadtxt(\"lecture_data/steel.txt\",\n",
    "                       skiprows=5,\n",
    "                       delimiter=\"\\t\", \n",
    "                       encoding=\"utf-8\")\n",
    "steel_data"
   ]
  },
  {
   "cell_type": "code",
   "execution_count": 31,
   "metadata": {},
   "outputs": [
    {
     "data": {
      "text/plain": [
       "array([[ 81.4, 122.2, 101.7, 175.6, 150.3,  64.8,  92.1, 113.8],\n",
       "       [ 57. ,  61. ,  60. ,  62. ,  61. ,  54. ,  58. ,  61. ]])"
      ]
     },
     "execution_count": 31,
     "metadata": {},
     "output_type": "execute_result"
    }
   ],
   "source": [
    "steel_data = np.loadtxt(\"lecture_data/steel.txt\",\n",
    "                       skiprows=5,\n",
    "                       delimiter=\"\\t\",\n",
    "                       usecols=(0, 2),\n",
    "                       unpack=True,\n",
    "                       encoding=\"utf-8\")\n",
    "steel_data"
   ]
  },
  {
   "cell_type": "code",
   "execution_count": null,
   "metadata": {},
   "outputs": [],
   "source": [
    "a = np.array([[1, 3, 5, 7],[5, 3, 4, 7]])\n",
    "b = np.array([[1, 3], [5, 7], [5, 3], [4, 7]])\n",
    "c = np.array([[4, 9, 1, 3], [7, 5, 2, 7], [5, 3, 4, 3], [1, 4, 7, 9]])\n",
    "a, b, c"
   ]
  },
  {
   "cell_type": "code",
   "execution_count": null,
   "metadata": {},
   "outputs": [],
   "source": [
    "print(np.dot(a, b))\n",
    "print(np.diag(c))\n",
    "print(np.diag(a[1]))\n",
    "print(np.trace(a))\n",
    "print(np.linalg.det(c))"
   ]
  },
  {
   "cell_type": "code",
   "execution_count": null,
   "metadata": {},
   "outputs": [],
   "source": [
    "var_a = np.arange(8).reshape(4, 2)\n",
    "var_b = np.array([[1, 2, 3, 4], [4, 3, 2 ,1]])\n",
    "var_c = np.array([[1, 1, 1, 1], [2, 2, 2, 20], [3, 3, 3, 3], [4, 5, 5, 4]])\n",
    "var_a, var_b, var_c\n",
    "var_c2 = np.linalg.inv(var_c)\n",
    "np.rint(np.dot(var_c, var_c2))"
   ]
  },
  {
   "cell_type": "code",
   "execution_count": 29,
   "metadata": {},
   "outputs": [
    {
     "name": "stderr",
     "output_type": "stream",
     "text": [
      "C:\\ProgramData\\Anaconda3\\lib\\site-packages\\ipykernel_launcher.py:3: FutureWarning: `rcond` parameter will change to the default of machine precision times ``max(M, N)`` where M and N are the input matrix dimensions.\n",
      "To use the future default and silence this warning we advise to pass `rcond=None`, to keep using the old, explicitly pass `rcond=-1`.\n",
      "  This is separate from the ipykernel package so we can avoid doing imports until\n"
     ]
    },
    {
     "data": {
      "text/plain": [
       "(array([ 1.1991453 ,  0.44871795,  0.45854701, -0.35811966]),\n",
       " array([5.52948718]),\n",
       " 4,\n",
       " array([20.5718539 ,  5.90695272,  3.85261955,  0.25309904]))"
      ]
     },
     "execution_count": 29,
     "metadata": {},
     "output_type": "execute_result"
    }
   ],
   "source": [
    "y = np.array([2, 4, 6, 3, 7, 1])\n",
    "x = np.array([[1, 2, 3, 7], [1, 5, 7, 6], [1, 6, 7, 3], [1, 7, 3, 4], [1, 8, 4, 3], [1, 3, 2, 5]])\n",
    "np.linalg.lstsq(x, y)"
   ]
  },
  {
   "cell_type": "code",
   "execution_count": 32,
   "metadata": {},
   "outputs": [
    {
     "data": {
      "text/plain": [
       "array([ 1.1991453 ,  0.44871795,  0.45854701, -0.35811966])"
      ]
     },
     "execution_count": 32,
     "metadata": {},
     "output_type": "execute_result"
    }
   ],
   "source": [
    "xt = x.T\n",
    "xpx = np.dot(xt, x)\n",
    "np.dot(np.dot(np.linalg.inv(xpx), xt), y)"
   ]
  },
  {
   "cell_type": "code",
   "execution_count": null,
   "metadata": {},
   "outputs": [],
   "source": []
  }
 ],
 "metadata": {
  "kernelspec": {
   "display_name": "Py36",
   "language": "python",
   "name": "py36"
  },
  "language_info": {
   "codemirror_mode": {
    "name": "ipython",
    "version": 3
   },
   "file_extension": ".py",
   "mimetype": "text/x-python",
   "name": "python",
   "nbconvert_exporter": "python",
   "pygments_lexer": "ipython3",
   "version": "3.7.3"
  }
 },
 "nbformat": 4,
 "nbformat_minor": 2
}
