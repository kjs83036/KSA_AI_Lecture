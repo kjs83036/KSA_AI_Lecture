{
 "cells": [
  {
   "cell_type": "code",
   "execution_count": 17,
   "metadata": {},
   "outputs": [
    {
     "data": {
      "text/plain": [
       "10"
      ]
     },
     "execution_count": 17,
     "metadata": {},
     "output_type": "execute_result"
    }
   ],
   "source": [
    "a = 5\n",
    "a * 2"
   ]
  },
  {
   "cell_type": "markdown",
   "metadata": {},
   "source": [
    "마크다운\n",
    "텍스트\n"
   ]
  },
  {
   "cell_type": "code",
   "execution_count": 13,
   "metadata": {},
   "outputs": [
    {
     "data": {
      "text/plain": [
       "16"
      ]
     },
     "execution_count": 13,
     "metadata": {},
     "output_type": "execute_result"
    }
   ],
   "source": [
    "a = 4\n",
    "a * 4\n"
   ]
  },
  {
   "cell_type": "code",
   "execution_count": 22,
   "metadata": {},
   "outputs": [
    {
     "name": "stdout",
     "output_type": "stream",
     "text": [
      "A = 25\n",
      "A = 25\n",
      "A = 25, a = 5\n"
     ]
    }
   ],
   "source": [
    "A = 25\n",
    "print(\"A =\", A)\n",
    "print(\"A = \" + str(A))\n",
    "print(\"A = {0}, a = {1}\".format(A,a))"
   ]
  },
  {
   "cell_type": "code",
   "execution_count": 23,
   "metadata": {},
   "outputs": [
    {
     "data": {
      "text/plain": [
       "(True, 5, 2.5, 'python')"
      ]
     },
     "execution_count": 23,
     "metadata": {},
     "output_type": "execute_result"
    }
   ],
   "source": [
    "b_var = True\n",
    "l_var = 5\n",
    "f_var = 2.5\n",
    "s_var = \"python\"\n",
    "b_var, l_var, f_var, s_var"
   ]
  },
  {
   "cell_type": "code",
   "execution_count": 27,
   "metadata": {},
   "outputs": [
    {
     "data": {
      "text/plain": [
       "113.5"
      ]
     },
     "execution_count": 27,
     "metadata": {},
     "output_type": "execute_result"
    }
   ],
   "source": [
    "i_var = 110\n",
    "i_var\n",
    "new_var = 111+f_var\n",
    "new_var"
   ]
  },
  {
   "cell_type": "code",
   "execution_count": 28,
   "metadata": {},
   "outputs": [
    {
     "data": {
      "text/plain": [
       "(1, 2, 3, 4)"
      ]
     },
     "execution_count": 28,
     "metadata": {},
     "output_type": "execute_result"
    }
   ],
   "source": [
    "var1, var2, var3, var4 = 1, 2, 3, 4\n",
    "var1, var2, var3, var4"
   ]
  },
  {
   "cell_type": "code",
   "execution_count": 34,
   "metadata": {},
   "outputs": [
    {
     "data": {
      "text/plain": [
       "('0b101010101', '0o101010101', '0x101010101', str)"
      ]
     },
     "execution_count": 34,
     "metadata": {},
     "output_type": "execute_result"
    }
   ],
   "source": [
    "bn = 0b101010101\n",
    "on = 0o101010101\n",
    "hn = 0x101010101\n",
    "bn, on, hn\n",
    "bn2 = bin(341)\n",
    "on2 = oct(17043521)\n",
    "hn2 = hex(4311810305)\n",
    "bn2, on2, hn2,type(hn2)"
   ]
  },
  {
   "cell_type": "code",
   "execution_count": 50,
   "metadata": {},
   "outputs": [
    {
     "data": {
      "text/plain": [
       "(False, complex, builtin_function_or_method, (6.5+0j))"
      ]
     },
     "execution_count": 50,
     "metadata": {},
     "output_type": "execute_result"
    }
   ],
   "source": [
    "3.1/2\n",
    "3.5//2\n",
    "j1, j2 = 2 + 3j, 2 - 3j \n",
    "j1, j2,\n",
    "j3 = j1 * j2\n",
    "j3\n",
    "j1.real, j1.imag, j1.conjugate()\n",
    "j1.conjugate == j2, type(j2), type(j1.conjugate), j3/2"
   ]
  },
  {
   "cell_type": "code",
   "execution_count": 51,
   "metadata": {},
   "outputs": [
    {
     "data": {
      "text/plain": [
       "(True, False, False)"
      ]
     },
     "execution_count": 51,
     "metadata": {},
     "output_type": "execute_result"
    }
   ],
   "source": [
    "true = True\n",
    "false = False\n",
    "var_t_and_f = true & false\n",
    "true, false, var_t_and_f"
   ]
  },
  {
   "cell_type": "code",
   "execution_count": 60,
   "metadata": {},
   "outputs": [
    {
     "data": {
      "text/plain": [
       "('A', 65)"
      ]
     },
     "execution_count": 60,
     "metadata": {},
     "output_type": "execute_result"
    }
   ],
   "source": [
    "float(true)\n",
    "var_number = \"12\"\n",
    "float(var_number)\n",
    "var_str_a = \"A\"\n",
    "chr(ord(var_str_a)), ord(var_str_a)"
   ]
  },
  {
   "cell_type": "markdown",
   "metadata": {},
   "source": [
    "연산자"
   ]
  },
  {
   "cell_type": "code",
   "execution_count": 74,
   "metadata": {},
   "outputs": [
    {
     "data": {
      "text/plain": [
       "(85, 21, 48.0, 26.0, 26.5, 26)"
      ]
     },
     "execution_count": 74,
     "metadata": {},
     "output_type": "execute_result"
    }
   ],
   "source": [
    "var_a, var_b, var_c = 53, 32, 11\n",
    "var_a + var_b, var_b - var_c, var_a // (var_c*0.1), 53.1//2, var_a/2, var_a//2"
   ]
  },
  {
   "cell_type": "markdown",
   "metadata": {},
   "source": [
    "연산함수"
   ]
  },
  {
   "cell_type": "code",
   "execution_count": 2,
   "metadata": {},
   "outputs": [
    {
     "data": {
      "text/plain": [
       "(4.0, 5.0)"
      ]
     },
     "execution_count": 2,
     "metadata": {},
     "output_type": "execute_result"
    }
   ],
   "source": [
    "round(3.5,0), round(4.51,0)"
   ]
  },
  {
   "cell_type": "code",
   "execution_count": 5,
   "metadata": {},
   "outputs": [
    {
     "data": {
      "text/plain": [
       "(-9, 1, tuple)"
      ]
     },
     "execution_count": 5,
     "metadata": {},
     "output_type": "execute_result"
    }
   ],
   "source": [
    "var_a, var_b = -17, 2\n",
    "var_x, var_y = divmod(var_a, var_b)\n",
    "var_x, var_y, type(divmod(var_a, var_b))"
   ]
  },
  {
   "cell_type": "code",
   "execution_count": null,
   "metadata": {},
   "outputs": [],
   "source": []
  },
  {
   "cell_type": "code",
   "execution_count": 15,
   "metadata": {},
   "outputs": [
    {
     "data": {
      "text/plain": [
       "0.30000000000000004"
      ]
     },
     "execution_count": 15,
     "metadata": {},
     "output_type": "execute_result"
    }
   ],
   "source": [
    "import math\n",
    "math.pi\n",
    "math.trunc(math.pi)\n",
    "math.exp(5)\n",
    "pow(3,4), math.pow(3,4)\n",
    "0.1+0.2"
   ]
  },
  {
   "cell_type": "markdown",
   "metadata": {},
   "source": [
    "관계연산자"
   ]
  },
  {
   "cell_type": "code",
   "execution_count": 29,
   "metadata": {},
   "outputs": [
    {
     "data": {
      "text/plain": [
       "(1580835952048,\n",
       " 1580835954160,\n",
       " 140731906437920,\n",
       " 140731906437920,\n",
       " 1580835952432,\n",
       " 1580835952432,\n",
       " 140731906429728,\n",
       " 140731906429728)"
      ]
     },
     "execution_count": 29,
     "metadata": {},
     "output_type": "execute_result"
    }
   ],
   "source": [
    "w, x, y, z = -5, 256, -6, 257\n",
    "w ==-5, w is -5, x == 256, x is 256, y == -6, y is -6, z == 257, z is 257\n",
    "id(z), id(257), id(x), id(256), id(258),id(258),id(0), id(0)"
   ]
  },
  {
   "cell_type": "markdown",
   "metadata": {},
   "source": [
    "문자열"
   ]
  },
  {
   "cell_type": "code",
   "execution_count": 43,
   "metadata": {},
   "outputs": [
    {
     "name": "stdout",
     "output_type": "stream",
     "text": [
      "데이터 \t석분 터이\n"
     ]
    },
    {
     "data": {
      "text/plain": [
       "(['석', '분', ' ', '터', '이', '데', ' ', 'n', 'o', 'h', 't', 'y', 'P'],\n",
       " 'Python 데이터 분석')"
      ]
     },
     "execution_count": 43,
     "metadata": {},
     "output_type": "execute_result"
    }
   ],
   "source": [
    "s = \"Python 데이터 분석\"\n",
    "print(\"{0}\\t{1}\".format(s[7:11], s[13:7:-1]))\n",
    "#del s\n",
    "s\n",
    "list(reversed(s)), s"
   ]
  },
  {
   "cell_type": "code",
   "execution_count": 77,
   "metadata": {
    "scrolled": false
   },
   "outputs": [
    {
     "data": {
      "text/plain": [
       "(-1, 17, 17, 18, 19)"
      ]
     },
     "execution_count": 77,
     "metadata": {},
     "output_type": "execute_result"
    }
   ],
   "source": [
    "s = \"pyTHON은 쉬워서 PROgramming하기 편해요\"\n",
    "s.title(), type(s.title()), s\n",
    "s.find(\"b\"), s.rfind(\"a\"), s.find(\"a\"), s.index(\"m\"), s.rindex(\"m\")\n",
    "s.startswith(\"P\"), s.index(\"P\"), s.startswith(\"P\", 12,23), s.count(\"m\")\n",
    "n = \"이병훈\"\n",
    "a = \"27\"\n",
    "s2 = \"{}의 나이는 {}세 입니다\".format(n,a)\n",
    "s2\n",
    "s.split(\" \"), s.split(\" \", 2), s.split(\" \", 1)"
   ]
  }
 ],
 "metadata": {
  "kernelspec": {
   "display_name": "Py36",
   "language": "python",
   "name": "py36"
  },
  "language_info": {
   "codemirror_mode": {
    "name": "ipython",
    "version": 3
   },
   "file_extension": ".py",
   "mimetype": "text/x-python",
   "name": "python",
   "nbconvert_exporter": "python",
   "pygments_lexer": "ipython3",
   "version": "3.7.3"
  }
 },
 "nbformat": 4,
 "nbformat_minor": 2
}
