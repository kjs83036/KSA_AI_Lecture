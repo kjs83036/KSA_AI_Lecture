{
 "cells": [
  {
   "cell_type": "markdown",
   "metadata": {},
   "source": [
    "조건문"
   ]
  },
  {
   "cell_type": "code",
   "execution_count": 3,
   "metadata": {},
   "outputs": [
    {
     "name": "stdout",
     "output_type": "stream",
     "text": [
      "B\n",
      "81\n",
      "End\n"
     ]
    }
   ],
   "source": [
    "a = 81\n",
    "\n",
    "if a > 90:\n",
    "    print(\"A\")\n",
    "elif a>80:\n",
    "    print(\"B\")\n",
    "else:\n",
    "    print(\"F\")\n",
    "print(a)\n",
    "print(\"End\")"
   ]
  },
  {
   "cell_type": "markdown",
   "metadata": {},
   "source": [
    "삼항연산자"
   ]
  },
  {
   "cell_type": "code",
   "execution_count": 4,
   "metadata": {},
   "outputs": [
    {
     "name": "stdout",
     "output_type": "stream",
     "text": [
      "점수 = 55, 결과 = 불합격\n"
     ]
    }
   ],
   "source": [
    "a = 55\n",
    "res = \"합격\" if a>80 else \"재시험\" if a>60 else \"불합격\"\n",
    "print(\"점수 = {}, 결과 = {}\".format(a, res))\n"
   ]
  },
  {
   "cell_type": "markdown",
   "metadata": {},
   "source": [
    "반복문 for"
   ]
  },
  {
   "cell_type": "code",
   "execution_count": 9,
   "metadata": {},
   "outputs": [
    {
     "name": "stdout",
     "output_type": "stream",
     "text": [
      "1X1=1 1X2=2 1X3=3 1X4=4 1X5=5 1X6=6 1X7=7 1X8=8 1X9=9\n",
      "2X1=2 2X2=4 2X3=6 2X4=8 2X5=10 2X6=12 2X7=14 2X8=16 2X9=18\n",
      "3X1=3 3X2=6 3X3=9 3X4=12 3X5=15 3X6=18 3X7=21 3X8=24 3X9=27\n",
      "4X1=4 4X2=8 4X3=12 4X4=16 4X5=20 4X6=24 4X7=28 4X8=32 4X9=36\n",
      "5X1=5 5X2=10 5X3=15 5X4=20 5X5=25 5X6=30 5X7=35 5X8=40 5X9=45\n",
      "6X1=6 6X2=12 6X3=18 6X4=24 6X5=30 6X6=36 6X7=42 6X8=48 6X9=54\n",
      "7X1=7 7X2=14 7X3=21 7X4=28 7X5=35 7X6=42 7X7=49 7X8=56 7X9=63\n",
      "8X1=8 8X2=16 8X3=24 8X4=32 8X5=40 8X6=48 8X7=56 8X8=64 8X9=72\n",
      "9X1=9 9X2=18 9X3=27 9X4=36 9X5=45 9X6=54 9X7=63 9X8=72 9X9=81\n"
     ]
    }
   ],
   "source": [
    "for i in range(1, 10):\n",
    "    for j in range(1, 10):\n",
    "        if j == 9:\n",
    "            print(\"{}X{}={}\".format(i,j,i*j))\n",
    "        else:\n",
    "            print(\"{}X{}={}\".format(i,j,i*j), end = \" \")"
   ]
  },
  {
   "cell_type": "markdown",
   "metadata": {},
   "source": [
    "반복문 while"
   ]
  },
  {
   "cell_type": "code",
   "execution_count": 3,
   "metadata": {
    "scrolled": true
   },
   "outputs": [
    {
     "name": "stdout",
     "output_type": "stream",
     "text": [
      "1X2=2 1X4=4 1X6=6 1X8=8\n",
      "2X2=4 2X4=8 2X6=12 2X8=16\n",
      "3X2=6 3X4=12 3X6=18 3X8=24\n",
      "4X2=8 4X4=16 4X6=24 4X8=32\n",
      "5X2=10 5X4=20 5X6=30 5X8=40\n",
      "6X2=12 6X4=24 6X6=36 6X8=48\n",
      "7X2=14 7X4=28 7X6=42 7X8=56\n",
      "8X2=16 8X4=32 8X6=48 8X8=64\n",
      "9X2=18 9X4=36 9X6=54 9X8=72\n",
      "End2\n"
     ]
    }
   ],
   "source": [
    "i = 1\n",
    "\n",
    "while(i < 10):\n",
    "    j = 2\n",
    "    while(j <= 8):\n",
    "        if(j != 8):\n",
    "            print(\"{}X{}={}\".format(i,j,i*j), end=\" \")\n",
    "        else:\n",
    "             print(\"{}X{}={}\".format(i,j,i*j))\n",
    "        j += 2\n",
    "    i += 1\n",
    "\n",
    "print(\"End2\")\n",
    "        "
   ]
  },
  {
   "cell_type": "markdown",
   "metadata": {},
   "source": [
    "분기문"
   ]
  },
  {
   "cell_type": "code",
   "execution_count": 4,
   "metadata": {},
   "outputs": [
    {
     "name": "stdout",
     "output_type": "stream",
     "text": [
      "정수1값 : 1\n",
      "정수2값 : 2\n",
      "1+2=3\n",
      "정수1값 : 2.2\n",
      "정수2값 : 3.3\n",
      "redo\n",
      "정수1값 : 2.00000000000000000000000000000000001\n",
      "정수2값 : 3.000000000000000000000000000000000000000000000000000000000000000000000001\n",
      "2+3=5\n",
      "정수1값 : 2.0000000013213123\n",
      "정수2값 : 2.00000000004123123\n",
      "redo\n",
      "정수1값 : 2.0000000000000000000023123123\n",
      "정수2값 : 3.00000000000000000000123123123\n",
      "2+3=5\n",
      "End\n"
     ]
    }
   ],
   "source": [
    "for i in range(5):\n",
    "    a = float(input(\"정수1값 : \"))\n",
    "    b= float(input(\"정수2값 : \"))\n",
    "    if a.is_integer() and b.is_integer():\n",
    "        print(\"{}+{}={}\".format(int(a), int(b) ,int(a + b)))\n",
    "    else:\n",
    "        print(\"redo\")\n",
    "        continue\n",
    "print(\"End\")"
   ]
  },
  {
   "cell_type": "code",
   "execution_count": 40,
   "metadata": {
    "scrolled": true
   },
   "outputs": [
    {
     "name": "stdout",
     "output_type": "stream",
     "text": [
      "1.0000000000000002\n"
     ]
    },
    {
     "data": {
      "text/plain": [
       "(True, True, False, 1.0, 1.0, 1.0000000000000002, None)"
      ]
     },
     "execution_count": 40,
     "metadata": {},
     "output_type": "execute_result"
    }
   ],
   "source": [
    "a = 1.00000000000000001111111\n",
    "b = 1.00000000000000010223333\n",
    "c = 1.00000000000000011110111\n",
    "\n",
    "a.is_integer(), b.is_integer(), c.is_integer(), float(a), float(b), float(c), print(c)\n",
    "# 유효자리수 15"
   ]
  },
  {
   "cell_type": "markdown",
   "metadata": {},
   "source": [
    "리스트"
   ]
  },
  {
   "cell_type": "code",
   "execution_count": 48,
   "metadata": {},
   "outputs": [
    {
     "name": "stdout",
     "output_type": "stream",
     "text": [
      "<list_reverseiterator object at 0x000001A9DE7B78D0>\n",
      "[7, 4, 1]\n",
      "[7, 4, 1]\n"
     ]
    }
   ],
   "source": [
    "ran = range(1, 10, 3)\n",
    "ls5 = list(ran)\n",
    "ls55 = reversed(ls5)\n",
    "print(ls55)\n",
    "print(list(ls55))\n",
    "ls5.reverse()\n",
    "print(ls5)"
   ]
  },
  {
   "cell_type": "code",
   "execution_count": 55,
   "metadata": {},
   "outputs": [
    {
     "data": {
      "text/plain": [
       "(['a', 'T', 'e', 's', 't', 'e', 'd', 'd'], ['a', 'T', 'T', 'd'])"
      ]
     },
     "execution_count": 55,
     "metadata": {},
     "output_type": "execute_result"
    }
   ],
   "source": [
    "ls = [\"a\",\"b\",\"c\",\"d\"]\n",
    "ls2 = [\"a\",\"b\",\"c\",\"d\"]\n",
    "ls[1:3] = \"Tested\"\n",
    "ls2[1:3] = \"TT\"\n",
    "ls, ls2"
   ]
  },
  {
   "cell_type": "code",
   "execution_count": 3,
   "metadata": {},
   "outputs": [
    {
     "data": {
      "text/plain": [
       "(2103717183240, 2103717183240, 2103716319624, 2103716220552)"
      ]
     },
     "execution_count": 3,
     "metadata": {},
     "output_type": "execute_result"
    }
   ],
   "source": [
    "a = list(range(1, 5))\n",
    "b = a\n",
    "c = a.copy()\n",
    "d = a[:]\n",
    "id(a), id(b), id(c), id(d)"
   ]
  },
  {
   "cell_type": "markdown",
   "metadata": {},
   "source": [
    "튜플"
   ]
  },
  {
   "cell_type": "code",
   "execution_count": 3,
   "metadata": {},
   "outputs": [
    {
     "data": {
      "text/plain": [
       "(1, 2, 3, (1, 2, 3))"
      ]
     },
     "execution_count": 3,
     "metadata": {},
     "output_type": "execute_result"
    }
   ],
   "source": [
    "a, b, c = (a, b, c) = 1, 2, 3\n",
    "a, b, c, (a, b, c)"
   ]
  },
  {
   "cell_type": "code",
   "execution_count": 26,
   "metadata": {},
   "outputs": [
    {
     "name": "stdout",
     "output_type": "stream",
     "text": [
      "([1], [])\n",
      "([1], [(...)])\n",
      "0\n",
      "1\n",
      "0\n"
     ]
    }
   ],
   "source": [
    "a = ([1], [])\n",
    "print(a)\n",
    "a[1].append(a)\n",
    "print(a)\n",
    "print(a.count(a))\n",
    "print(a.count([1]))\n",
    "print(a.index([1]))\n",
    "a[1].clear()"
   ]
  },
  {
   "cell_type": "markdown",
   "metadata": {},
   "source": [
    "집합"
   ]
  },
  {
   "cell_type": "code",
   "execution_count": 73,
   "metadata": {},
   "outputs": [
    {
     "name": "stdout",
     "output_type": "stream",
     "text": [
      "{2, 4, 5, 6, 7, 8, 9}\n",
      "{1, 2, 3, 4, 5, 6, 7, 8, 9}\n",
      "[1, 3, 4, 7, 8, 9]\n",
      "{1, 3, 4, 7, 8, 9}\n",
      "1 {3, 4, 7, 8, 9}\n",
      "frozenset()\n"
     ]
    }
   ],
   "source": [
    "a = {1, 8, 3, 4 ,9, 7}\n",
    "b = {3, 5, 1, 2, 6}\n",
    "\n",
    "print(a ^ b)\n",
    "print(a.union(b))\n",
    "print(sorted(a))\n",
    "a.discard(999)\n",
    "#에러 a.remove(999)\n",
    "print(a)\n",
    "c = a.pop()\n",
    "\n",
    "print (c, a)\n",
    "d = frozenset()\n",
    "print(d)\n",
    "#dir(set()), dir(d)"
   ]
  },
  {
   "cell_type": "markdown",
   "metadata": {},
   "source": [
    "사전"
   ]
  }
 ],
 "metadata": {
  "kernelspec": {
   "display_name": "Py36",
   "language": "python",
   "name": "py36"
  },
  "language_info": {
   "codemirror_mode": {
    "name": "ipython",
    "version": 3
   },
   "file_extension": ".py",
   "mimetype": "text/x-python",
   "name": "python",
   "nbconvert_exporter": "python",
   "pygments_lexer": "ipython3",
   "version": "3.7.3"
  }
 },
 "nbformat": 4,
 "nbformat_minor": 2
}
