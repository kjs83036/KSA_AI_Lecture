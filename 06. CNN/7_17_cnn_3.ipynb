{
 "cells": [
  {
   "cell_type": "markdown",
   "metadata": {
    "colab_type": "text",
    "id": "GgpXP5IdUzBi"
   },
   "source": [
    "#훈련된 컨브넷 사용하기"
   ]
  },
  {
   "cell_type": "code",
   "execution_count": 8,
   "metadata": {
    "colab": {
     "base_uri": "https://localhost:8080/",
     "height": 325
    },
    "colab_type": "code",
    "executionInfo": {
     "elapsed": 3639,
     "status": "ok",
     "timestamp": 1563340070671,
     "user": {
      "displayName": "Jun Seok Ko",
      "photoUrl": "https://lh4.googleusercontent.com/-ocCe_en4JEg/AAAAAAAAAAI/AAAAAAAAAA0/3_y396F5GXw/s64/photo.jpg",
      "userId": "09316774114625797444"
     },
     "user_tz": -540
    },
    "id": "3EEYntqmUwbz",
    "outputId": "5619650f-8bc2-4b56-d4b0-4c3ae0c77499"
   },
   "outputs": [],
   "source": [
    "import keras\n",
    "\n",
    "from keras.applications import VGG16\n",
    "\n",
    "\n",
    "conv_base = VGG16(weights='imagenet',\n",
    "                 include_top=False,\n",
    "                 input_shape=(150, 150, 3))"
   ]
  },
  {
   "cell_type": "code",
   "execution_count": 10,
   "metadata": {},
   "outputs": [],
   "source": [
    "import tensorflow as tf\n",
    "\n",
    "\n",
    "gpu_options = tf.GPUOptions(per_process_gpu_memory_fraction=0.333)\n",
    "\n",
    "\n",
    "sess = tf.Session(config=tf.ConfigProto(gpu_options=gpu_options))\n"
   ]
  },
  {
   "cell_type": "code",
   "execution_count": 11,
   "metadata": {
    "colab": {},
    "colab_type": "code",
    "id": "I604Gcn8VD-x"
   },
   "outputs": [
    {
     "name": "stdout",
     "output_type": "stream",
     "text": [
      "_________________________________________________________________\n",
      "Layer (type)                 Output Shape              Param #   \n",
      "=================================================================\n",
      "input_3 (InputLayer)         (None, 150, 150, 3)       0         \n",
      "_________________________________________________________________\n",
      "block1_conv1 (Conv2D)        (None, 150, 150, 64)      1792      \n",
      "_________________________________________________________________\n",
      "block1_conv2 (Conv2D)        (None, 150, 150, 64)      36928     \n",
      "_________________________________________________________________\n",
      "block1_pool (MaxPooling2D)   (None, 75, 75, 64)        0         \n",
      "_________________________________________________________________\n",
      "block2_conv1 (Conv2D)        (None, 75, 75, 128)       73856     \n",
      "_________________________________________________________________\n",
      "block2_conv2 (Conv2D)        (None, 75, 75, 128)       147584    \n",
      "_________________________________________________________________\n",
      "block2_pool (MaxPooling2D)   (None, 37, 37, 128)       0         \n",
      "_________________________________________________________________\n",
      "block3_conv1 (Conv2D)        (None, 37, 37, 256)       295168    \n",
      "_________________________________________________________________\n",
      "block3_conv2 (Conv2D)        (None, 37, 37, 256)       590080    \n",
      "_________________________________________________________________\n",
      "block3_conv3 (Conv2D)        (None, 37, 37, 256)       590080    \n",
      "_________________________________________________________________\n",
      "block3_pool (MaxPooling2D)   (None, 18, 18, 256)       0         \n",
      "_________________________________________________________________\n",
      "block4_conv1 (Conv2D)        (None, 18, 18, 512)       1180160   \n",
      "_________________________________________________________________\n",
      "block4_conv2 (Conv2D)        (None, 18, 18, 512)       2359808   \n",
      "_________________________________________________________________\n",
      "block4_conv3 (Conv2D)        (None, 18, 18, 512)       2359808   \n",
      "_________________________________________________________________\n",
      "block4_pool (MaxPooling2D)   (None, 9, 9, 512)         0         \n",
      "_________________________________________________________________\n",
      "block5_conv1 (Conv2D)        (None, 9, 9, 512)         2359808   \n",
      "_________________________________________________________________\n",
      "block5_conv2 (Conv2D)        (None, 9, 9, 512)         2359808   \n",
      "_________________________________________________________________\n",
      "block5_conv3 (Conv2D)        (None, 9, 9, 512)         2359808   \n",
      "_________________________________________________________________\n",
      "block5_pool (MaxPooling2D)   (None, 4, 4, 512)         0         \n",
      "=================================================================\n",
      "Total params: 14,714,688\n",
      "Trainable params: 14,714,688\n",
      "Non-trainable params: 0\n",
      "_________________________________________________________________\n"
     ]
    }
   ],
   "source": [
    "conv_base.summary()"
   ]
  },
  {
   "cell_type": "code",
   "execution_count": 17,
   "metadata": {
    "colab": {},
    "colab_type": "code",
    "id": "dQAF_LMlWfmS"
   },
   "outputs": [
    {
     "name": "stdout",
     "output_type": "stream",
     "text": [
      "Found 2000 images belonging to 2 classes.\n",
      "Found 1000 images belonging to 2 classes.\n",
      "Found 1000 images belonging to 2 classes.\n"
     ]
    }
   ],
   "source": [
    "import os\n",
    "import numpy as np\n",
    "from keras.preprocessing.image import ImageDataGenerator\n",
    "\n",
    "\n",
    "base_dir = 'C:/Users/Affinity/Google 드라이브/lecture/l_d/p6/cats_and_dogs/small/'\n",
    "\n",
    "train_dir = os.path.join(base_dir, 'train')\n",
    "validation_dir = os.path.join(base_dir, 'validation')\n",
    "test_dir = os.path.join(base_dir, 'test')\n",
    "\n",
    "datagen = ImageDataGenerator(rescale=1./255)\n",
    "batch_size = 20\n",
    "\n",
    "def extract_features(directory, sample_count):\n",
    "    features = np.zeros(shape=(sample_count, 4, 4, 512))\n",
    "    labels = np.zeros(shape=(sample_count))\n",
    "    generator = datagen.flow_from_directory(\n",
    "        directory,\n",
    "        target_size=(150, 150),\n",
    "        batch_size=batch_size,\n",
    "        class_mode='binary')\n",
    "    i = 0\n",
    "    for inputs_batch, labels_batch in generator:\n",
    "        features_batch = conv_base.predict(inputs_batch)\n",
    "        features[i * batch_size : (i + 1) * batch_size] = features_batch\n",
    "        labels[i * batch_size : (i + 1) * batch_size] = labels_batch\n",
    "        i += 1\n",
    "        if i * batch_size >= sample_count:\n",
    "            break\n",
    "    return features, labels\n",
    "\n",
    "train_features, train_labels = extract_features(train_dir, 2000)\n",
    "validation_features, validation_labels = extract_features(validation_dir, 1000)\n",
    "test_features, test_labels = extract_features(test_dir, 1000)"
   ]
  },
  {
   "cell_type": "code",
   "execution_count": 18,
   "metadata": {
    "colab": {},
    "colab_type": "code",
    "id": "n7LgdXt_WhB0"
   },
   "outputs": [],
   "source": [
    "train_features = np.reshape(train_features, (2000, 4 * 4 * 512))\n",
    "validation_features = np.reshape(validation_features, (1000, 4 * 4 * 512))\n",
    "test_features = np.reshape(test_features, (1000, 4 * 4 * 512))"
   ]
  },
  {
   "cell_type": "code",
   "execution_count": 19,
   "metadata": {},
   "outputs": [
    {
     "name": "stdout",
     "output_type": "stream",
     "text": [
      "WARNING:tensorflow:From C:\\Users\\Affinity\\.conda\\envs\\keras\\lib\\site-packages\\tensorflow\\python\\ops\\math_ops.py:3066: to_int32 (from tensorflow.python.ops.math_ops) is deprecated and will be removed in a future version.\n",
      "Instructions for updating:\n",
      "Use tf.cast instead.\n",
      "Train on 2000 samples, validate on 1000 samples\n",
      "Epoch 1/30\n",
      "2000/2000 [==============================] - 2s 1ms/step - loss: 0.6064 - acc: 0.6620 - val_loss: 0.4312 - val_acc: 0.8340\n",
      "Epoch 2/30\n",
      "2000/2000 [==============================] - 1s 474us/step - loss: 0.4342 - acc: 0.8025 - val_loss: 0.3663 - val_acc: 0.8380\n",
      "Epoch 3/30\n",
      "2000/2000 [==============================] - 1s 468us/step - loss: 0.3555 - acc: 0.8475 - val_loss: 0.3228 - val_acc: 0.8680\n",
      "Epoch 4/30\n",
      "2000/2000 [==============================] - 1s 480us/step - loss: 0.3145 - acc: 0.8680 - val_loss: 0.3014 - val_acc: 0.8810\n",
      "Epoch 5/30\n",
      "2000/2000 [==============================] - 1s 468us/step - loss: 0.2858 - acc: 0.8840 - val_loss: 0.2825 - val_acc: 0.8880\n",
      "Epoch 6/30\n",
      "2000/2000 [==============================] - 1s 469us/step - loss: 0.2664 - acc: 0.8965 - val_loss: 0.2796 - val_acc: 0.8900\n",
      "Epoch 7/30\n",
      "2000/2000 [==============================] - 1s 473us/step - loss: 0.2384 - acc: 0.9100 - val_loss: 0.2621 - val_acc: 0.8900\n",
      "Epoch 8/30\n",
      "2000/2000 [==============================] - 1s 508us/step - loss: 0.2296 - acc: 0.9065 - val_loss: 0.2587 - val_acc: 0.8910\n",
      "Epoch 9/30\n",
      "2000/2000 [==============================] - 1s 468us/step - loss: 0.2166 - acc: 0.9175 - val_loss: 0.2501 - val_acc: 0.8980\n",
      "Epoch 10/30\n",
      "2000/2000 [==============================] - 1s 465us/step - loss: 0.2049 - acc: 0.9270 - val_loss: 0.2563 - val_acc: 0.9030\n",
      "Epoch 11/30\n",
      "2000/2000 [==============================] - 1s 467us/step - loss: 0.1985 - acc: 0.9235 - val_loss: 0.2436 - val_acc: 0.9030\n",
      "Epoch 12/30\n",
      "2000/2000 [==============================] - 1s 459us/step - loss: 0.1959 - acc: 0.9265 - val_loss: 0.2406 - val_acc: 0.9010\n",
      "Epoch 13/30\n",
      "2000/2000 [==============================] - 1s 474us/step - loss: 0.1759 - acc: 0.9345 - val_loss: 0.2399 - val_acc: 0.9000\n",
      "Epoch 14/30\n",
      "2000/2000 [==============================] - 1s 478us/step - loss: 0.1682 - acc: 0.9375 - val_loss: 0.2391 - val_acc: 0.9030\n",
      "Epoch 15/30\n",
      "2000/2000 [==============================] - 1s 465us/step - loss: 0.1635 - acc: 0.9380 - val_loss: 0.2449 - val_acc: 0.8950\n",
      "Epoch 16/30\n",
      "2000/2000 [==============================] - 1s 468us/step - loss: 0.1471 - acc: 0.9500 - val_loss: 0.2345 - val_acc: 0.9050\n",
      "Epoch 17/30\n",
      "2000/2000 [==============================] - 1s 474us/step - loss: 0.1532 - acc: 0.9450 - val_loss: 0.2340 - val_acc: 0.9040\n",
      "Epoch 18/30\n",
      "2000/2000 [==============================] - 1s 523us/step - loss: 0.1407 - acc: 0.9525 - val_loss: 0.2341 - val_acc: 0.9040\n",
      "Epoch 19/30\n",
      "2000/2000 [==============================] - 1s 484us/step - loss: 0.1390 - acc: 0.9510 - val_loss: 0.2335 - val_acc: 0.9080\n",
      "Epoch 20/30\n",
      "2000/2000 [==============================] - 1s 476us/step - loss: 0.1272 - acc: 0.9560 - val_loss: 0.2319 - val_acc: 0.9040\n",
      "Epoch 21/30\n",
      "2000/2000 [==============================] - 1s 474us/step - loss: 0.1244 - acc: 0.9605 - val_loss: 0.2328 - val_acc: 0.9050\n",
      "Epoch 22/30\n",
      "2000/2000 [==============================] - 1s 474us/step - loss: 0.1183 - acc: 0.9620 - val_loss: 0.2342 - val_acc: 0.9070\n",
      "Epoch 23/30\n",
      "2000/2000 [==============================] - 1s 492us/step - loss: 0.1199 - acc: 0.9625 - val_loss: 0.2345 - val_acc: 0.9060\n",
      "Epoch 24/30\n",
      "2000/2000 [==============================] - 1s 506us/step - loss: 0.1120 - acc: 0.9605 - val_loss: 0.2322 - val_acc: 0.9070\n",
      "Epoch 25/30\n",
      "2000/2000 [==============================] - 1s 517us/step - loss: 0.1062 - acc: 0.9665 - val_loss: 0.2337 - val_acc: 0.9050\n",
      "Epoch 26/30\n",
      "2000/2000 [==============================] - 1s 482us/step - loss: 0.1084 - acc: 0.9665 - val_loss: 0.2354 - val_acc: 0.9060\n",
      "Epoch 27/30\n",
      "2000/2000 [==============================] - 1s 501us/step - loss: 0.0974 - acc: 0.9710 - val_loss: 0.2331 - val_acc: 0.9060\n",
      "Epoch 28/30\n",
      "2000/2000 [==============================] - 1s 482us/step - loss: 0.0917 - acc: 0.9690 - val_loss: 0.2348 - val_acc: 0.9050\n",
      "Epoch 29/30\n",
      "2000/2000 [==============================] - 1s 480us/step - loss: 0.0902 - acc: 0.9750 - val_loss: 0.2375 - val_acc: 0.9070\n",
      "Epoch 30/30\n",
      "2000/2000 [==============================] - 1s 496us/step - loss: 0.0888 - acc: 0.9710 - val_loss: 0.2358 - val_acc: 0.9050\n"
     ]
    }
   ],
   "source": [
    "from keras import models\n",
    "from keras import layers\n",
    "from keras import optimizers\n",
    "\n",
    "\n",
    "model = models.Sequential()\n",
    "model.add(layers.Dense(256, activation='relu', input_dim=4 * 4 * 512))\n",
    "model.add(layers.Dropout(0.5))\n",
    "model.add(layers.Dense(1, activation='sigmoid'))\n",
    "\n",
    "model.compile(optimizer=optimizers.RMSprop(lr=2e-5),\n",
    "             loss='binary_crossentropy',\n",
    "             metrics=['acc'])\n",
    "\n",
    "history = model.fit(train_features, train_labels,\n",
    "                   epochs=30,\n",
    "                   batch_size=20,\n",
    "                   validation_data=(validation_features, validation_labels))"
   ]
  },
  {
   "cell_type": "code",
   "execution_count": 22,
   "metadata": {},
   "outputs": [
    {
     "name": "stdout",
     "output_type": "stream",
     "text": [
      "Train on 2000 samples, validate on 1000 samples\n",
      "Epoch 1/30\n",
      "2000/2000 [==============================] - 1s 702us/step - loss: 0.5920 - acc: 0.6760 - val_loss: 0.4177 - val_acc: 0.8400\n",
      "Epoch 2/30\n",
      "2000/2000 [==============================] - 1s 402us/step - loss: 0.4146 - acc: 0.8130 - val_loss: 0.3602 - val_acc: 0.8380\n",
      "Epoch 3/30\n",
      "2000/2000 [==============================] - 1s 398us/step - loss: 0.3399 - acc: 0.8540 - val_loss: 0.3104 - val_acc: 0.8830\n",
      "Epoch 4/30\n",
      "2000/2000 [==============================] - 1s 401us/step - loss: 0.2997 - acc: 0.8745 - val_loss: 0.2905 - val_acc: 0.8830\n",
      "Epoch 5/30\n",
      "2000/2000 [==============================] - 1s 415us/step - loss: 0.2776 - acc: 0.8855 - val_loss: 0.2763 - val_acc: 0.8840\n",
      "Epoch 6/30\n",
      "2000/2000 [==============================] - 1s 407us/step - loss: 0.2570 - acc: 0.9000 - val_loss: 0.2672 - val_acc: 0.8890\n",
      "Epoch 7/30\n",
      "2000/2000 [==============================] - 1s 402us/step - loss: 0.2397 - acc: 0.9095 - val_loss: 0.2605 - val_acc: 0.8950\n",
      "Epoch 8/30\n",
      "2000/2000 [==============================] - 1s 406us/step - loss: 0.2275 - acc: 0.9125 - val_loss: 0.2538 - val_acc: 0.8970\n",
      "Epoch 9/30\n",
      "2000/2000 [==============================] - 1s 407us/step - loss: 0.2075 - acc: 0.9230 - val_loss: 0.2501 - val_acc: 0.8990\n",
      "Epoch 10/30\n",
      "2000/2000 [==============================] - 1s 418us/step - loss: 0.2039 - acc: 0.9200 - val_loss: 0.2472 - val_acc: 0.8980\n",
      "Epoch 11/30\n",
      "2000/2000 [==============================] - 1s 415us/step - loss: 0.1844 - acc: 0.9270 - val_loss: 0.2462 - val_acc: 0.9000\n",
      "Epoch 12/30\n",
      "2000/2000 [==============================] - 1s 425us/step - loss: 0.1771 - acc: 0.9345 - val_loss: 0.2499 - val_acc: 0.8930\n",
      "Epoch 13/30\n",
      "2000/2000 [==============================] - 1s 407us/step - loss: 0.1772 - acc: 0.9360 - val_loss: 0.2393 - val_acc: 0.9010\n",
      "Epoch 14/30\n",
      "2000/2000 [==============================] - 1s 399us/step - loss: 0.1664 - acc: 0.9360 - val_loss: 0.2472 - val_acc: 0.8970\n",
      "Epoch 15/30\n",
      "2000/2000 [==============================] - 1s 412us/step - loss: 0.1604 - acc: 0.9405 - val_loss: 0.2364 - val_acc: 0.9010\n",
      "Epoch 16/30\n",
      "2000/2000 [==============================] - 1s 439us/step - loss: 0.1465 - acc: 0.9470 - val_loss: 0.2497 - val_acc: 0.8960\n",
      "Epoch 17/30\n",
      "2000/2000 [==============================] - 1s 420us/step - loss: 0.1436 - acc: 0.9460 - val_loss: 0.2362 - val_acc: 0.9010\n",
      "Epoch 18/30\n",
      "2000/2000 [==============================] - 1s 416us/step - loss: 0.1425 - acc: 0.9510 - val_loss: 0.2390 - val_acc: 0.9000\n",
      "Epoch 19/30\n",
      "2000/2000 [==============================] - 1s 424us/step - loss: 0.1323 - acc: 0.9550 - val_loss: 0.2339 - val_acc: 0.9030\n",
      "Epoch 20/30\n",
      "2000/2000 [==============================] - 1s 408us/step - loss: 0.1265 - acc: 0.9560 - val_loss: 0.2354 - val_acc: 0.9060\n",
      "Epoch 21/30\n",
      "2000/2000 [==============================] - 1s 416us/step - loss: 0.1173 - acc: 0.9630 - val_loss: 0.2395 - val_acc: 0.9020\n",
      "Epoch 22/30\n",
      "2000/2000 [==============================] - 1s 418us/step - loss: 0.1126 - acc: 0.9610 - val_loss: 0.2359 - val_acc: 0.9050\n",
      "Epoch 23/30\n",
      "2000/2000 [==============================] - 1s 437us/step - loss: 0.1118 - acc: 0.9645 - val_loss: 0.2340 - val_acc: 0.9060\n",
      "Epoch 24/30\n",
      "2000/2000 [==============================] - 1s 409us/step - loss: 0.1074 - acc: 0.9650 - val_loss: 0.2339 - val_acc: 0.9060\n",
      "Epoch 25/30\n",
      "2000/2000 [==============================] - 1s 427us/step - loss: 0.0997 - acc: 0.9690 - val_loss: 0.2352 - val_acc: 0.9070\n",
      "Epoch 26/30\n",
      "2000/2000 [==============================] - 1s 415us/step - loss: 0.0974 - acc: 0.9695 - val_loss: 0.2351 - val_acc: 0.9070\n",
      "Epoch 27/30\n",
      "2000/2000 [==============================] - 1s 431us/step - loss: 0.0967 - acc: 0.9690 - val_loss: 0.2362 - val_acc: 0.9050\n",
      "Epoch 28/30\n",
      "2000/2000 [==============================] - 1s 418us/step - loss: 0.0872 - acc: 0.9735 - val_loss: 0.2368 - val_acc: 0.9070\n",
      "Epoch 29/30\n",
      "2000/2000 [==============================] - 1s 442us/step - loss: 0.0861 - acc: 0.9755 - val_loss: 0.2386 - val_acc: 0.9070\n",
      "Epoch 30/30\n",
      "2000/2000 [==============================] - 1s 431us/step - loss: 0.0832 - acc: 0.9750 - val_loss: 0.2558 - val_acc: 0.8990\n"
     ]
    }
   ],
   "source": [
    "from keras import models\n",
    "from keras import layers\n",
    "from keras import optimizers\n",
    "\n",
    "\n",
    "model = models.Sequential()\n",
    "model.add(layers.Dense(256, activation='relu', input_dim=4 * 4 * 512))\n",
    "model.add(layers.Dropout(0.5))\n",
    "model.add(layers.Dense(1, activation='sigmoid'))\n",
    "\n",
    "model.compile(optimizer=optimizers.RMSprop(lr=2e-5),\n",
    "             loss='binary_crossentropy',\n",
    "             metrics=['acc'])\n",
    "history = model.fit(train_features, train_labels,\n",
    "                   epochs=30,\n",
    "                   batch_size=20,\n",
    "                   validation_data=(validation_features, validation_labels))"
   ]
  },
  {
   "cell_type": "code",
   "execution_count": 26,
   "metadata": {},
   "outputs": [
    {
     "data": {
      "image/png": "[encoded data removed]",
      "text/plain": [
       "<Figure size 432x288 with 1 Axes>"
      ]
     },
     "metadata": {
      "needs_background": "light"
     },
     "output_type": "display_data"
    },
    {
     "data": {
      "image/png": "[encoded data removed]",
      "text/plain": [
       "<Figure size 432x288 with 1 Axes>"
      ]
     },
     "metadata": {
      "needs_background": "light"
     },
     "output_type": "display_data"
    }
   ],
   "source": [
    "import matplotlib.pyplot as plt\n",
    "\n",
    "\n",
    "acc = history.history['acc']\n",
    "val_acc = history.history['val_acc']\n",
    "loss = history.history['loss']\n",
    "val_loss = history.history['val_loss']\n",
    "\n",
    "epochs = range(len(acc))\n",
    "\n",
    "plt.plot(epochs, acc, 'bo', label='Training acc')\n",
    "plt.plot(epochs, val_acc, 'b', label='Validation acc')\n",
    "plt.title('Training and validation accuracy')\n",
    "plt.legend()\n",
    "\n",
    "plt.figure()\n",
    "\n",
    "plt.plot(epochs, loss, 'ro', label='Training loss')\n",
    "plt.plot(epochs, val_loss, 'r', label='Validation loss')\n",
    "plt.title('Training and validation loss')\n",
    "plt.legend()\n",
    "plt.show()"
   ]
  },
  {
   "cell_type": "code",
   "execution_count": 28,
   "metadata": {},
   "outputs": [],
   "source": [
    "from keras import models\n",
    "from keras import layers\n",
    "\n",
    "\n",
    "model = models.Sequential()\n",
    "model.add(conv_base)\n",
    "model.add(layers.Flatten())\n",
    "model.add(layers.Dense(256, activation='relu'))\n",
    "model.add(layers.Dense(1, activation='sigmoid'))"
   ]
  },
  {
   "cell_type": "code",
   "execution_count": 30,
   "metadata": {},
   "outputs": [
    {
     "name": "stdout",
     "output_type": "stream",
     "text": [
      "_________________________________________________________________\n",
      "Layer (type)                 Output Shape              Param #   \n",
      "=================================================================\n",
      "vgg16 (Model)                (None, 4, 4, 512)         14714688  \n",
      "_________________________________________________________________\n",
      "flatten_1 (Flatten)          (None, 8192)              0         \n",
      "_________________________________________________________________\n",
      "dense_7 (Dense)              (None, 256)               2097408   \n",
      "_________________________________________________________________\n",
      "dense_8 (Dense)              (None, 1)                 257       \n",
      "=================================================================\n",
      "Total params: 16,812,353\n",
      "Trainable params: 16,812,353\n",
      "Non-trainable params: 0\n",
      "_________________________________________________________________\n"
     ]
    }
   ],
   "source": [
    "model.summary()"
   ]
  },
  {
   "cell_type": "code",
   "execution_count": 32,
   "metadata": {},
   "outputs": [
    {
     "name": "stdout",
     "output_type": "stream",
     "text": [
      "conv_base를 동결하기전 훈련되는 가중치의수 30\n"
     ]
    }
   ],
   "source": [
    "print('conv_base를 동결하기전 훈련되는 가중치의수',\n",
    "     len(model.trainable_weights))"
   ]
  },
  {
   "cell_type": "code",
   "execution_count": 33,
   "metadata": {},
   "outputs": [],
   "source": [
    "conv_base.trainable = False"
   ]
  },
  {
   "cell_type": "code",
   "execution_count": 34,
   "metadata": {},
   "outputs": [
    {
     "name": "stdout",
     "output_type": "stream",
     "text": [
      "conv_base를 동결한 후 훈련되는 가중치의수 4\n"
     ]
    }
   ],
   "source": [
    "print('conv_base를 동결한 후 훈련되는 가중치의수',\n",
    "     len(model.trainable_weights))"
   ]
  },
  {
   "cell_type": "code",
   "execution_count": 38,
   "metadata": {},
   "outputs": [
    {
     "name": "stdout",
     "output_type": "stream",
     "text": [
      "Found 2000 images belonging to 2 classes.\n",
      "Found 1000 images belonging to 2 classes.\n",
      "Epoch 1/30\n"
     ]
    },
    {
     "name": "stderr",
     "output_type": "stream",
     "text": [
      "C:\\Users\\Affinity\\.conda\\envs\\keras\\lib\\site-packages\\PIL\\TiffImagePlugin.py:763: UserWarning: Possibly corrupt EXIF data.  Expecting to read 80000 bytes but only got 0. Skipping tag 64640\n",
      "  \" Skipping tag %s\" % (size, len(data), tag))\n",
      "C:\\Users\\Affinity\\.conda\\envs\\keras\\lib\\site-packages\\PIL\\TiffImagePlugin.py:763: UserWarning: Possibly corrupt EXIF data.  Expecting to read 6553600 bytes but only got 0. Skipping tag 49\n",
      "  \" Skipping tag %s\" % (size, len(data), tag))\n",
      "C:\\Users\\Affinity\\.conda\\envs\\keras\\lib\\site-packages\\PIL\\TiffImagePlugin.py:763: UserWarning: Possibly corrupt EXIF data.  Expecting to read 1050744 bytes but only got 4951. Skipping tag 51\n",
      "  \" Skipping tag %s\" % (size, len(data), tag))\n",
      "C:\\Users\\Affinity\\.conda\\envs\\keras\\lib\\site-packages\\PIL\\TiffImagePlugin.py:763: UserWarning: Possibly corrupt EXIF data.  Expecting to read 293339136 bytes but only got 0. Skipping tag 5\n",
      "  \" Skipping tag %s\" % (size, len(data), tag))\n",
      "C:\\Users\\Affinity\\.conda\\envs\\keras\\lib\\site-packages\\PIL\\TiffImagePlugin.py:763: UserWarning: Possibly corrupt EXIF data.  Expecting to read 293863424 bytes but only got 0. Skipping tag 5\n",
      "  \" Skipping tag %s\" % (size, len(data), tag))\n",
      "C:\\Users\\Affinity\\.conda\\envs\\keras\\lib\\site-packages\\PIL\\TiffImagePlugin.py:763: UserWarning: Possibly corrupt EXIF data.  Expecting to read 3368026112 bytes but only got 0. Skipping tag 7\n",
      "  \" Skipping tag %s\" % (size, len(data), tag))\n",
      "C:\\Users\\Affinity\\.conda\\envs\\keras\\lib\\site-packages\\PIL\\TiffImagePlugin.py:763: UserWarning: Possibly corrupt EXIF data.  Expecting to read 134479872 bytes but only got 0. Skipping tag 7\n",
      "  \" Skipping tag %s\" % (size, len(data), tag))\n",
      "C:\\Users\\Affinity\\.conda\\envs\\keras\\lib\\site-packages\\PIL\\TiffImagePlugin.py:763: UserWarning: Possibly corrupt EXIF data.  Expecting to read 295698432 bytes but only got 0. Skipping tag 10\n",
      "  \" Skipping tag %s\" % (size, len(data), tag))\n",
      "C:\\Users\\Affinity\\.conda\\envs\\keras\\lib\\site-packages\\PIL\\TiffImagePlugin.py:763: UserWarning: Possibly corrupt EXIF data.  Expecting to read 296222720 bytes but only got 0. Skipping tag 5\n",
      "  \" Skipping tag %s\" % (size, len(data), tag))\n",
      "C:\\Users\\Affinity\\.conda\\envs\\keras\\lib\\site-packages\\PIL\\TiffImagePlugin.py:763: UserWarning: Possibly corrupt EXIF data.  Expecting to read 3300917248 bytes but only got 0. Skipping tag 7\n",
      "  \" Skipping tag %s\" % (size, len(data), tag))\n",
      "C:\\Users\\Affinity\\.conda\\envs\\keras\\lib\\site-packages\\PIL\\TiffImagePlugin.py:763: UserWarning: Possibly corrupt EXIF data.  Expecting to read 65536 bytes but only got 0. Skipping tag 3\n",
      "  \" Skipping tag %s\" % (size, len(data), tag))\n",
      "C:\\Users\\Affinity\\.conda\\envs\\keras\\lib\\site-packages\\PIL\\TiffImagePlugin.py:763: UserWarning: Possibly corrupt EXIF data.  Expecting to read 14745600 bytes but only got 0. Skipping tag 4\n",
      "  \" Skipping tag %s\" % (size, len(data), tag))\n",
      "C:\\Users\\Affinity\\.conda\\envs\\keras\\lib\\site-packages\\PIL\\TiffImagePlugin.py:763: UserWarning: Possibly corrupt EXIF data.  Expecting to read 25624576 bytes but only got 0. Skipping tag 4\n",
      "  \" Skipping tag %s\" % (size, len(data), tag))\n",
      "C:\\Users\\Affinity\\.conda\\envs\\keras\\lib\\site-packages\\PIL\\TiffImagePlugin.py:763: UserWarning: Possibly corrupt EXIF data.  Expecting to read 317718528 bytes but only got 4956. Skipping tag 4\n",
      "  \" Skipping tag %s\" % (size, len(data), tag))\n",
      "C:\\Users\\Affinity\\.conda\\envs\\keras\\lib\\site-packages\\PIL\\TiffImagePlugin.py:763: UserWarning: Possibly corrupt EXIF data.  Expecting to read 131073 bytes but only got 4952. Skipping tag 0\n",
      "  \" Skipping tag %s\" % (size, len(data), tag))\n",
      "C:\\Users\\Affinity\\.conda\\envs\\keras\\lib\\site-packages\\PIL\\TiffImagePlugin.py:763: UserWarning: Possibly corrupt EXIF data.  Expecting to read 393216 bytes but only got 0. Skipping tag 3\n",
      "  \" Skipping tag %s\" % (size, len(data), tag))\n",
      "C:\\Users\\Affinity\\.conda\\envs\\keras\\lib\\site-packages\\PIL\\TiffImagePlugin.py:763: UserWarning: Possibly corrupt EXIF data.  Expecting to read 287178752 bytes but only got 0. Skipping tag 5\n",
      "  \" Skipping tag %s\" % (size, len(data), tag))\n",
      "C:\\Users\\Affinity\\.conda\\envs\\keras\\lib\\site-packages\\PIL\\TiffImagePlugin.py:763: UserWarning: Possibly corrupt EXIF data.  Expecting to read 287703040 bytes but only got 0. Skipping tag 5\n",
      "  \" Skipping tag %s\" % (size, len(data), tag))\n",
      "C:\\Users\\Affinity\\.conda\\envs\\keras\\lib\\site-packages\\PIL\\TiffImagePlugin.py:763: UserWarning: Possibly corrupt EXIF data.  Expecting to read 131072 bytes but only got 0. Skipping tag 3\n",
      "  \" Skipping tag %s\" % (size, len(data), tag))\n",
      "C:\\Users\\Affinity\\.conda\\envs\\keras\\lib\\site-packages\\PIL\\TiffImagePlugin.py:763: UserWarning: Possibly corrupt EXIF data.  Expecting to read 524288 bytes but only got 0. Skipping tag 4\n",
      "  \" Skipping tag %s\" % (size, len(data), tag))\n",
      "C:\\Users\\Affinity\\.conda\\envs\\keras\\lib\\site-packages\\PIL\\TiffImagePlugin.py:763: UserWarning: Possibly corrupt EXIF data.  Expecting to read 286654464 bytes but only got 4956. Skipping tag 4\n",
      "  \" Skipping tag %s\" % (size, len(data), tag))\n",
      "C:\\Users\\Affinity\\.conda\\envs\\keras\\lib\\site-packages\\PIL\\TiffImagePlugin.py:780: UserWarning: Corrupt EXIF data.  Expecting to read 12 bytes but only got 2. \n",
      "  warnings.warn(str(msg))\n",
      "C:\\Users\\Affinity\\.conda\\envs\\keras\\lib\\site-packages\\PIL\\TiffImagePlugin.py:763: UserWarning: Possibly corrupt EXIF data.  Expecting to read 404094976 bytes but only got 0. Skipping tag 5\n",
      "  \" Skipping tag %s\" % (size, len(data), tag))\n",
      "C:\\Users\\Affinity\\.conda\\envs\\keras\\lib\\site-packages\\PIL\\TiffImagePlugin.py:763: UserWarning: Possibly corrupt EXIF data.  Expecting to read 404619264 bytes but only got 0. Skipping tag 5\n",
      "  \" Skipping tag %s\" % (size, len(data), tag))\n",
      "C:\\Users\\Affinity\\.conda\\envs\\keras\\lib\\site-packages\\PIL\\TiffImagePlugin.py:763: UserWarning: Possibly corrupt EXIF data.  Expecting to read 425459712 bytes but only got 0. Skipping tag 4\n",
      "  \" Skipping tag %s\" % (size, len(data), tag))\n",
      "C:\\Users\\Affinity\\.conda\\envs\\keras\\lib\\site-packages\\PIL\\TiffImagePlugin.py:763: UserWarning: Possibly corrupt EXIF data.  Expecting to read 1385474 bytes but only got 6833. Skipping tag 513\n",
      "  \" Skipping tag %s\" % (size, len(data), tag))\n",
      "C:\\Users\\Affinity\\.conda\\envs\\keras\\lib\\site-packages\\PIL\\TiffImagePlugin.py:763: UserWarning: Possibly corrupt EXIF data.  Expecting to read 3846701056 bytes but only got 0. Skipping tag 2\n",
      "  \" Skipping tag %s\" % (size, len(data), tag))\n",
      "C:\\Users\\Affinity\\.conda\\envs\\keras\\lib\\site-packages\\PIL\\TiffImagePlugin.py:763: UserWarning: Possibly corrupt EXIF data.  Expecting to read 196867 bytes but only got 6833. Skipping tag 0\n",
      "  \" Skipping tag %s\" % (size, len(data), tag))\n",
      "C:\\Users\\Affinity\\.conda\\envs\\keras\\lib\\site-packages\\PIL\\TiffImagePlugin.py:780: UserWarning: Corrupt EXIF data.  Expecting to read 12 bytes but only got 8. \n",
      "  warnings.warn(str(msg))\n"
     ]
    },
    {
     "name": "stdout",
     "output_type": "stream",
     "text": [
      " - 24s - loss: 0.5339 - acc: 0.7470 - val_loss: 0.4221 - val_acc: 0.8400\n",
      "Epoch 2/30\n",
      " - 28s - loss: 0.4044 - acc: 0.8290 - val_loss: 0.3458 - val_acc: 0.8560\n",
      "Epoch 3/30\n",
      " - 34s - loss: 0.3633 - acc: 0.8395 - val_loss: 0.3063 - val_acc: 0.8870\n",
      "Epoch 4/30\n",
      " - 36s - loss: 0.3224 - acc: 0.8680 - val_loss: 0.2854 - val_acc: 0.8850\n",
      "Epoch 5/30\n",
      " - 36s - loss: 0.3041 - acc: 0.8795 - val_loss: 0.2740 - val_acc: 0.8830\n",
      "Epoch 6/30\n",
      " - 37s - loss: 0.2859 - acc: 0.8780 - val_loss: 0.2678 - val_acc: 0.8940\n",
      "Epoch 7/30\n",
      " - 39s - loss: 0.2719 - acc: 0.8845 - val_loss: 0.2558 - val_acc: 0.8950\n",
      "Epoch 8/30\n",
      " - 42s - loss: 0.2643 - acc: 0.8915 - val_loss: 0.2569 - val_acc: 0.8950\n",
      "Epoch 9/30\n",
      " - 39s - loss: 0.2542 - acc: 0.9010 - val_loss: 0.2484 - val_acc: 0.8960\n",
      "Epoch 10/30\n",
      " - 39s - loss: 0.2480 - acc: 0.9010 - val_loss: 0.2443 - val_acc: 0.8930\n",
      "Epoch 11/30\n",
      " - 41s - loss: 0.2393 - acc: 0.9010 - val_loss: 0.2429 - val_acc: 0.9100\n",
      "Epoch 12/30\n",
      " - 40s - loss: 0.2350 - acc: 0.8995 - val_loss: 0.2396 - val_acc: 0.9010\n",
      "Epoch 13/30\n",
      " - 39s - loss: 0.2339 - acc: 0.9130 - val_loss: 0.2373 - val_acc: 0.9070\n",
      "Epoch 14/30\n",
      " - 39s - loss: 0.2270 - acc: 0.9015 - val_loss: 0.2367 - val_acc: 0.9040\n",
      "Epoch 15/30\n",
      " - 40s - loss: 0.2194 - acc: 0.9125 - val_loss: 0.2367 - val_acc: 0.9050\n",
      "Epoch 16/30\n",
      " - 40s - loss: 0.2221 - acc: 0.9115 - val_loss: 0.2362 - val_acc: 0.9080\n",
      "Epoch 17/30\n",
      " - 40s - loss: 0.2175 - acc: 0.9165 - val_loss: 0.2376 - val_acc: 0.9050\n",
      "Epoch 18/30\n",
      " - 39s - loss: 0.2075 - acc: 0.9185 - val_loss: 0.2417 - val_acc: 0.9050\n",
      "Epoch 19/30\n",
      " - 39s - loss: 0.2039 - acc: 0.9190 - val_loss: 0.2337 - val_acc: 0.9060\n",
      "Epoch 20/30\n",
      " - 39s - loss: 0.1994 - acc: 0.9200 - val_loss: 0.2373 - val_acc: 0.9070\n",
      "Epoch 21/30\n",
      " - 39s - loss: 0.2132 - acc: 0.9075 - val_loss: 0.2346 - val_acc: 0.9090\n",
      "Epoch 22/30\n",
      " - 40s - loss: 0.1997 - acc: 0.9215 - val_loss: 0.2300 - val_acc: 0.9090\n",
      "Epoch 23/30\n",
      " - 40s - loss: 0.2015 - acc: 0.9135 - val_loss: 0.2299 - val_acc: 0.9090\n",
      "Epoch 24/30\n",
      " - 42s - loss: 0.1964 - acc: 0.9230 - val_loss: 0.2438 - val_acc: 0.9060\n",
      "Epoch 25/30\n",
      " - 39s - loss: 0.1900 - acc: 0.9245 - val_loss: 0.2320 - val_acc: 0.9090\n",
      "Epoch 26/30\n",
      " - 40s - loss: 0.1887 - acc: 0.9225 - val_loss: 0.2300 - val_acc: 0.9040\n",
      "Epoch 27/30\n",
      " - 41s - loss: 0.2023 - acc: 0.9175 - val_loss: 0.2296 - val_acc: 0.9080\n",
      "Epoch 28/30\n",
      " - 41s - loss: 0.1922 - acc: 0.9270 - val_loss: 0.2321 - val_acc: 0.9100\n",
      "Epoch 29/30\n",
      " - 40s - loss: 0.1909 - acc: 0.9225 - val_loss: 0.2312 - val_acc: 0.9030\n",
      "Epoch 30/30\n",
      " - 45s - loss: 0.1842 - acc: 0.9285 - val_loss: 0.2400 - val_acc: 0.9020\n"
     ]
    }
   ],
   "source": [
    "from keras.preprocessing.image import ImageDataGenerator\n",
    "\n",
    "\n",
    "train_datagen = ImageDataGenerator(\n",
    "    rescale=1./255,\n",
    "    rotation_range=20,\n",
    "    width_shift_range=0.1,\n",
    "    height_shift_range=0.1,\n",
    "    shear_range=0.1,\n",
    "    zoom_range=0.1,\n",
    "    horizontal_flip=True,\n",
    "    fill_mode='nearest'\n",
    ")\n",
    "test_datagen = ImageDataGenerator(rescale=1./255)\n",
    "\n",
    "train_generator = train_datagen.flow_from_directory(\n",
    "    train_dir,\n",
    "    target_size=(150, 150),\n",
    "    batch_size=20,\n",
    "    class_mode='binary'\n",
    ")\n",
    "\n",
    "validation_generator = test_datagen.flow_from_directory(\n",
    "    validation_dir,\n",
    "    target_size=(150, 150),\n",
    "    batch_size=20,\n",
    "    class_mode='binary'\n",
    ")\n",
    "\n",
    "model.compile(loss='binary_crossentropy',\n",
    "             optimizer=optimizers.RMSprop(lr=2e-5),\n",
    "             metrics=['acc'])\n",
    "\n",
    "history = model.fit_generator(\n",
    "    train_generator,\n",
    "    steps_per_epoch=100,\n",
    "    epochs=30,\n",
    "    validation_data=validation_generator,\n",
    "    validation_steps=50,\n",
    "    verbose=2\n",
    ")"
   ]
  },
  {
   "cell_type": "code",
   "execution_count": 39,
   "metadata": {},
   "outputs": [],
   "source": [
    "model.save('cats_and_dogs_small_3.h5')"
   ]
  },
  {
   "cell_type": "code",
   "execution_count": 40,
   "metadata": {},
   "outputs": [
    {
     "data": {
      "image/png": "[encoded data removed]",
      "text/plain": [
       "<Figure size 432x288 with 1 Axes>"
      ]
     },
     "metadata": {
      "needs_background": "light"
     },
     "output_type": "display_data"
    },
    {
     "data": {
      "image/png": "[encoded data removed]",
      "text/plain": [
       "<Figure size 432x288 with 1 Axes>"
      ]
     },
     "metadata": {
      "needs_background": "light"
     },
     "output_type": "display_data"
    }
   ],
   "source": [
    "acc = history.history['acc']\n",
    "val_acc = history.history['val_acc']\n",
    "loss = history.history['loss']\n",
    "val_loss = history.history['val_loss']\n",
    "\n",
    "epochs = range(len(acc))\n",
    "\n",
    "plt.plot(epochs, acc, 'bo', label='Training acc')\n",
    "plt.plot(epochs, val_acc, 'b', label='Validation acc')\n",
    "plt.title('Training and validation accuracy')\n",
    "plt.legend()\n",
    "\n",
    "plt.figure()\n",
    "\n",
    "plt.plot(epochs, loss, 'bo', label='Training loss')\n",
    "plt.plot(epochs, val_loss, 'b', label='Validation loss')\n",
    "plt.title('Training and validation loss')\n",
    "plt.legend()\n",
    "\n",
    "plt.show()"
   ]
  },
  {
   "cell_type": "code",
   "execution_count": 41,
   "metadata": {},
   "outputs": [
    {
     "name": "stdout",
     "output_type": "stream",
     "text": [
      "_________________________________________________________________\n",
      "Layer (type)                 Output Shape              Param #   \n",
      "=================================================================\n",
      "input_3 (InputLayer)         (None, 150, 150, 3)       0         \n",
      "_________________________________________________________________\n",
      "block1_conv1 (Conv2D)        (None, 150, 150, 64)      1792      \n",
      "_________________________________________________________________\n",
      "block1_conv2 (Conv2D)        (None, 150, 150, 64)      36928     \n",
      "_________________________________________________________________\n",
      "block1_pool (MaxPooling2D)   (None, 75, 75, 64)        0         \n",
      "_________________________________________________________________\n",
      "block2_conv1 (Conv2D)        (None, 75, 75, 128)       73856     \n",
      "_________________________________________________________________\n",
      "block2_conv2 (Conv2D)        (None, 75, 75, 128)       147584    \n",
      "_________________________________________________________________\n",
      "block2_pool (MaxPooling2D)   (None, 37, 37, 128)       0         \n",
      "_________________________________________________________________\n",
      "block3_conv1 (Conv2D)        (None, 37, 37, 256)       295168    \n",
      "_________________________________________________________________\n",
      "block3_conv2 (Conv2D)        (None, 37, 37, 256)       590080    \n",
      "_________________________________________________________________\n",
      "block3_conv3 (Conv2D)        (None, 37, 37, 256)       590080    \n",
      "_________________________________________________________________\n",
      "block3_pool (MaxPooling2D)   (None, 18, 18, 256)       0         \n",
      "_________________________________________________________________\n",
      "block4_conv1 (Conv2D)        (None, 18, 18, 512)       1180160   \n",
      "_________________________________________________________________\n",
      "block4_conv2 (Conv2D)        (None, 18, 18, 512)       2359808   \n",
      "_________________________________________________________________\n",
      "block4_conv3 (Conv2D)        (None, 18, 18, 512)       2359808   \n",
      "_________________________________________________________________\n",
      "block4_pool (MaxPooling2D)   (None, 9, 9, 512)         0         \n",
      "_________________________________________________________________\n",
      "block5_conv1 (Conv2D)        (None, 9, 9, 512)         2359808   \n",
      "_________________________________________________________________\n",
      "block5_conv2 (Conv2D)        (None, 9, 9, 512)         2359808   \n",
      "_________________________________________________________________\n",
      "block5_conv3 (Conv2D)        (None, 9, 9, 512)         2359808   \n",
      "_________________________________________________________________\n",
      "block5_pool (MaxPooling2D)   (None, 4, 4, 512)         0         \n",
      "=================================================================\n",
      "Total params: 14,714,688\n",
      "Trainable params: 0\n",
      "Non-trainable params: 14,714,688\n",
      "_________________________________________________________________\n"
     ]
    }
   ],
   "source": [
    "conv_base.summary()"
   ]
  },
  {
   "cell_type": "code",
   "execution_count": 42,
   "metadata": {},
   "outputs": [],
   "source": [
    "conv_base.trainable = True\n",
    "\n",
    "set_trainable = False\n",
    "for layer in conv_base.layers:\n",
    "    if layer.name == 'block5_conv1':\n",
    "        set_trainable = True\n",
    "    if set_trainable:\n",
    "        layer.trainable = True\n",
    "    else:\n",
    "        layer.trainable = False"
   ]
  },
  {
   "cell_type": "code",
   "execution_count": 43,
   "metadata": {},
   "outputs": [
    {
     "name": "stdout",
     "output_type": "stream",
     "text": [
      "Epoch 1/100\n",
      "100/100 [==============================] - 28s 284ms/step - loss: 0.1828 - acc: 0.9275 - val_loss: 0.2077 - val_acc: 0.9160\n",
      "Epoch 2/100\n",
      "100/100 [==============================] - 36s 360ms/step - loss: 0.1684 - acc: 0.9245 - val_loss: 0.2474 - val_acc: 0.9080\n",
      "Epoch 3/100\n",
      "100/100 [==============================] - 38s 380ms/step - loss: 0.1365 - acc: 0.9435 - val_loss: 0.2198 - val_acc: 0.9130\n",
      "Epoch 4/100\n",
      "100/100 [==============================] - 38s 384ms/step - loss: 0.1194 - acc: 0.9565 - val_loss: 0.1990 - val_acc: 0.9280\n",
      "Epoch 5/100\n",
      "100/100 [==============================] - 39s 387ms/step - loss: 0.1062 - acc: 0.9580 - val_loss: 0.2060 - val_acc: 0.9120\n",
      "Epoch 6/100\n",
      "100/100 [==============================] - 39s 391ms/step - loss: 0.0911 - acc: 0.9650 - val_loss: 0.2216 - val_acc: 0.9200\n",
      "Epoch 7/100\n",
      "100/100 [==============================] - 41s 413ms/step - loss: 0.0862 - acc: 0.9635 - val_loss: 0.1905 - val_acc: 0.9290\n",
      "Epoch 8/100\n",
      "100/100 [==============================] - 41s 406ms/step - loss: 0.0725 - acc: 0.9775 - val_loss: 0.2296 - val_acc: 0.9200\n",
      "Epoch 9/100\n",
      "100/100 [==============================] - 40s 404ms/step - loss: 0.0644 - acc: 0.9785 - val_loss: 0.2046 - val_acc: 0.9330\n",
      "Epoch 10/100\n",
      "100/100 [==============================] - 41s 414ms/step - loss: 0.0582 - acc: 0.9790 - val_loss: 0.1875 - val_acc: 0.9390\n",
      "Epoch 11/100\n",
      "100/100 [==============================] - 42s 418ms/step - loss: 0.0651 - acc: 0.9750 - val_loss: 0.2352 - val_acc: 0.9350\n",
      "Epoch 12/100\n",
      "100/100 [==============================] - 42s 422ms/step - loss: 0.0389 - acc: 0.9895 - val_loss: 0.2222 - val_acc: 0.9290\n",
      "Epoch 13/100\n",
      "100/100 [==============================] - 41s 405ms/step - loss: 0.0404 - acc: 0.9840 - val_loss: 0.2206 - val_acc: 0.9250\n",
      "Epoch 14/100\n",
      "100/100 [==============================] - 41s 410ms/step - loss: 0.0395 - acc: 0.9865 - val_loss: 0.2232 - val_acc: 0.9300\n",
      "Epoch 15/100\n",
      "100/100 [==============================] - 41s 415ms/step - loss: 0.0322 - acc: 0.9900 - val_loss: 0.2653 - val_acc: 0.9280\n",
      "Epoch 16/100\n",
      "100/100 [==============================] - 41s 407ms/step - loss: 0.0299 - acc: 0.9905 - val_loss: 0.2164 - val_acc: 0.9330\n",
      "Epoch 17/100\n",
      "100/100 [==============================] - 41s 410ms/step - loss: 0.0289 - acc: 0.9885 - val_loss: 0.2317 - val_acc: 0.9330\n",
      "Epoch 18/100\n",
      "100/100 [==============================] - 41s 412ms/step - loss: 0.0279 - acc: 0.9905 - val_loss: 0.2139 - val_acc: 0.9350\n",
      "Epoch 19/100\n",
      "100/100 [==============================] - 44s 443ms/step - loss: 0.0295 - acc: 0.9905 - val_loss: 0.2510 - val_acc: 0.9270\n",
      "Epoch 20/100\n",
      "100/100 [==============================] - 43s 426ms/step - loss: 0.0167 - acc: 0.9950 - val_loss: 0.2266 - val_acc: 0.9340\n",
      "Epoch 21/100\n",
      "100/100 [==============================] - 41s 409ms/step - loss: 0.0286 - acc: 0.9880 - val_loss: 0.2435 - val_acc: 0.9400\n",
      "Epoch 22/100\n",
      "100/100 [==============================] - 42s 420ms/step - loss: 0.0193 - acc: 0.9930 - val_loss: 0.2727 - val_acc: 0.9320\n",
      "Epoch 23/100\n",
      "100/100 [==============================] - 41s 405ms/step - loss: 0.0144 - acc: 0.9960 - val_loss: 0.2721 - val_acc: 0.9280\n",
      "Epoch 24/100\n",
      "100/100 [==============================] - 41s 414ms/step - loss: 0.0175 - acc: 0.9945 - val_loss: 0.2566 - val_acc: 0.9290\n",
      "Epoch 25/100\n",
      "100/100 [==============================] - 41s 410ms/step - loss: 0.0166 - acc: 0.9945 - val_loss: 0.2686 - val_acc: 0.9280\n",
      "Epoch 26/100\n",
      "100/100 [==============================] - 41s 412ms/step - loss: 0.0132 - acc: 0.9965 - val_loss: 0.2271 - val_acc: 0.9310\n",
      "Epoch 27/100\n",
      "100/100 [==============================] - 43s 425ms/step - loss: 0.0098 - acc: 0.9980 - val_loss: 0.3351 - val_acc: 0.9170\n",
      "Epoch 28/100\n",
      "100/100 [==============================] - 42s 422ms/step - loss: 0.0158 - acc: 0.9955 - val_loss: 0.2550 - val_acc: 0.9330\n",
      "Epoch 29/100\n",
      "100/100 [==============================] - 41s 414ms/step - loss: 0.0120 - acc: 0.9955 - val_loss: 0.2814 - val_acc: 0.9310\n",
      "Epoch 30/100\n",
      "100/100 [==============================] - 42s 417ms/step - loss: 0.0101 - acc: 0.9960 - val_loss: 0.2687 - val_acc: 0.9220\n",
      "Epoch 31/100\n",
      "100/100 [==============================] - 43s 427ms/step - loss: 0.0086 - acc: 0.9980 - val_loss: 0.2690 - val_acc: 0.9330\n",
      "Epoch 32/100\n",
      "100/100 [==============================] - 50s 497ms/step - loss: 0.0098 - acc: 0.9975 - val_loss: 0.4229 - val_acc: 0.9120\n",
      "Epoch 33/100\n",
      "100/100 [==============================] - 43s 427ms/step - loss: 0.0083 - acc: 0.9980 - val_loss: 0.2860 - val_acc: 0.9310\n",
      "Epoch 34/100\n",
      "100/100 [==============================] - 45s 449ms/step - loss: 0.0083 - acc: 0.9970 - val_loss: 0.2757 - val_acc: 0.9290\n",
      "Epoch 35/100\n",
      "100/100 [==============================] - 43s 426ms/step - loss: 0.0036 - acc: 1.0000 - val_loss: 0.4019 - val_acc: 0.9230\n",
      "Epoch 36/100\n",
      "100/100 [==============================] - 42s 418ms/step - loss: 0.0081 - acc: 0.9965 - val_loss: 0.3458 - val_acc: 0.9180\n",
      "Epoch 37/100\n",
      "100/100 [==============================] - 41s 412ms/step - loss: 0.0118 - acc: 0.9960 - val_loss: 0.3110 - val_acc: 0.9230\n",
      "Epoch 38/100\n",
      "100/100 [==============================] - 42s 423ms/step - loss: 0.0115 - acc: 0.9965 - val_loss: 0.2545 - val_acc: 0.9410\n",
      "Epoch 39/100\n",
      "100/100 [==============================] - 41s 413ms/step - loss: 0.0067 - acc: 0.9960 - val_loss: 0.2946 - val_acc: 0.9330\n",
      "Epoch 40/100\n",
      "100/100 [==============================] - 41s 407ms/step - loss: 0.0071 - acc: 0.9975 - val_loss: 0.2779 - val_acc: 0.9320\n",
      "Epoch 41/100\n",
      "100/100 [==============================] - 42s 419ms/step - loss: 0.0095 - acc: 0.9980 - val_loss: 0.3222 - val_acc: 0.9270\n",
      "Epoch 42/100\n",
      "100/100 [==============================] - 40s 396ms/step - loss: 0.0084 - acc: 0.9985 - val_loss: 0.2947 - val_acc: 0.9270\n",
      "Epoch 43/100\n",
      "100/100 [==============================] - 43s 433ms/step - loss: 0.0060 - acc: 0.9975 - val_loss: 0.2895 - val_acc: 0.9380\n",
      "Epoch 44/100\n",
      "100/100 [==============================] - 43s 434ms/step - loss: 0.0049 - acc: 0.9985 - val_loss: 0.3373 - val_acc: 0.9330\n",
      "Epoch 45/100\n",
      "100/100 [==============================] - 43s 427ms/step - loss: 0.0153 - acc: 0.9965 - val_loss: 0.3163 - val_acc: 0.9260\n",
      "Epoch 46/100\n",
      "100/100 [==============================] - 38s 380ms/step - loss: 0.0047 - acc: 0.9980 - val_loss: 0.3374 - val_acc: 0.9400\n",
      "Epoch 47/100\n",
      "100/100 [==============================] - 40s 402ms/step - loss: 0.0098 - acc: 0.9965 - val_loss: 0.2717 - val_acc: 0.9350\n",
      "Epoch 48/100\n",
      "100/100 [==============================] - 41s 414ms/step - loss: 0.0072 - acc: 0.9980 - val_loss: 0.3245 - val_acc: 0.9310\n",
      "Epoch 49/100\n",
      "100/100 [==============================] - 42s 416ms/step - loss: 0.0025 - acc: 0.9995 - val_loss: 0.3329 - val_acc: 0.9320\n",
      "Epoch 50/100\n",
      "100/100 [==============================] - 40s 397ms/step - loss: 0.0063 - acc: 0.9980 - val_loss: 0.3107 - val_acc: 0.9350\n",
      "Epoch 51/100\n",
      "100/100 [==============================] - 39s 389ms/step - loss: 0.0087 - acc: 0.9965 - val_loss: 0.3423 - val_acc: 0.9290\n",
      "Epoch 52/100\n",
      "100/100 [==============================] - 40s 396ms/step - loss: 0.0039 - acc: 0.9990 - val_loss: 0.3293 - val_acc: 0.9260\n",
      "Epoch 53/100\n",
      "100/100 [==============================] - 39s 389ms/step - loss: 0.0061 - acc: 0.9985 - val_loss: 0.5001 - val_acc: 0.9140\n",
      "Epoch 54/100\n",
      "100/100 [==============================] - 39s 395ms/step - loss: 0.0025 - acc: 0.9995 - val_loss: 0.3141 - val_acc: 0.9310\n",
      "Epoch 55/100\n",
      "100/100 [==============================] - 42s 423ms/step - loss: 0.0053 - acc: 0.9980 - val_loss: 0.3294 - val_acc: 0.9340\n",
      "Epoch 56/100\n",
      "100/100 [==============================] - 45s 450ms/step - loss: 0.0034 - acc: 0.9990 - val_loss: 0.3323 - val_acc: 0.9290\n",
      "Epoch 57/100\n",
      "100/100 [==============================] - 45s 453ms/step - loss: 0.0047 - acc: 0.9990 - val_loss: 0.3215 - val_acc: 0.9340\n",
      "Epoch 58/100\n",
      "100/100 [==============================] - 48s 479ms/step - loss: 0.0023 - acc: 0.9995 - val_loss: 0.3445 - val_acc: 0.9300\n",
      "Epoch 59/100\n",
      "100/100 [==============================] - 45s 446ms/step - loss: 0.0104 - acc: 0.9965 - val_loss: 0.3628 - val_acc: 0.9240\n",
      "Epoch 60/100\n",
      "100/100 [==============================] - 39s 393ms/step - loss: 0.0045 - acc: 0.9985 - val_loss: 0.2833 - val_acc: 0.9320\n",
      "Epoch 61/100\n",
      "100/100 [==============================] - 44s 438ms/step - loss: 0.0041 - acc: 0.9990 - val_loss: 0.3759 - val_acc: 0.9330\n",
      "Epoch 62/100\n",
      "100/100 [==============================] - 45s 449ms/step - loss: 0.0037 - acc: 0.9985 - val_loss: 0.3295 - val_acc: 0.9400\n",
      "Epoch 63/100\n",
      "100/100 [==============================] - 41s 415ms/step - loss: 0.0053 - acc: 0.9990 - val_loss: 0.3992 - val_acc: 0.9240\n",
      "Epoch 64/100\n",
      "100/100 [==============================] - 41s 410ms/step - loss: 0.0041 - acc: 0.9990 - val_loss: 0.3510 - val_acc: 0.9280\n",
      "Epoch 65/100\n",
      "100/100 [==============================] - 43s 428ms/step - loss: 0.0016 - acc: 0.9995 - val_loss: 0.3651 - val_acc: 0.9330\n",
      "Epoch 66/100\n",
      "100/100 [==============================] - 42s 424ms/step - loss: 0.0030 - acc: 0.9985 - val_loss: 0.5315 - val_acc: 0.9190\n",
      "Epoch 67/100\n",
      "100/100 [==============================] - 44s 437ms/step - loss: 0.0034 - acc: 0.9990 - val_loss: 0.3521 - val_acc: 0.9330\n",
      "Epoch 68/100\n",
      "100/100 [==============================] - 42s 417ms/step - loss: 0.0094 - acc: 0.9975 - val_loss: 0.3516 - val_acc: 0.9320\n",
      "Epoch 69/100\n",
      "100/100 [==============================] - 41s 407ms/step - loss: 0.0014 - acc: 1.0000 - val_loss: 0.3493 - val_acc: 0.9250\n",
      "Epoch 70/100\n",
      "100/100 [==============================] - 41s 405ms/step - loss: 0.0048 - acc: 0.9975 - val_loss: 0.3519 - val_acc: 0.9300\n",
      "Epoch 71/100\n",
      "100/100 [==============================] - 43s 428ms/step - loss: 0.0026 - acc: 0.9990 - val_loss: 0.3513 - val_acc: 0.9310\n",
      "Epoch 72/100\n",
      "100/100 [==============================] - 49s 489ms/step - loss: 0.0034 - acc: 0.9985 - val_loss: 0.3706 - val_acc: 0.9270\n",
      "Epoch 73/100\n",
      "100/100 [==============================] - 48s 479ms/step - loss: 0.0029 - acc: 0.9990 - val_loss: 0.3938 - val_acc: 0.9280\n",
      "Epoch 74/100\n",
      "100/100 [==============================] - 44s 441ms/step - loss: 0.0014 - acc: 0.9995 - val_loss: 0.3700 - val_acc: 0.9340\n",
      "Epoch 75/100\n",
      "100/100 [==============================] - 44s 436ms/step - loss: 9.5454e-04 - acc: 0.9995 - val_loss: 0.4520 - val_acc: 0.9240\n",
      "Epoch 76/100\n",
      "100/100 [==============================] - 44s 436ms/step - loss: 0.0014 - acc: 0.9995 - val_loss: 0.3568 - val_acc: 0.9340\n",
      "Epoch 77/100\n",
      "100/100 [==============================] - 45s 453ms/step - loss: 0.0028 - acc: 0.9985 - val_loss: 0.4586 - val_acc: 0.9250\n",
      "Epoch 78/100\n",
      "100/100 [==============================] - 45s 451ms/step - loss: 0.0018 - acc: 0.9995 - val_loss: 0.3752 - val_acc: 0.9330\n",
      "Epoch 79/100\n",
      "100/100 [==============================] - 43s 427ms/step - loss: 0.0015 - acc: 0.9995 - val_loss: 0.3362 - val_acc: 0.9390\n",
      "Epoch 80/100\n",
      "100/100 [==============================] - 43s 434ms/step - loss: 0.0014 - acc: 0.9990 - val_loss: 0.3638 - val_acc: 0.9430\n",
      "Epoch 81/100\n",
      "100/100 [==============================] - 45s 454ms/step - loss: 0.0039 - acc: 0.9980 - val_loss: 0.4132 - val_acc: 0.9300\n",
      "Epoch 82/100\n",
      "100/100 [==============================] - 43s 426ms/step - loss: 0.0037 - acc: 0.9990 - val_loss: 0.3364 - val_acc: 0.9370\n",
      "Epoch 83/100\n",
      "100/100 [==============================] - 39s 390ms/step - loss: 0.0025 - acc: 0.9995 - val_loss: 0.3822 - val_acc: 0.9400\n",
      "Epoch 84/100\n",
      "100/100 [==============================] - 40s 402ms/step - loss: 0.0018 - acc: 0.9990 - val_loss: 0.3762 - val_acc: 0.9380\n",
      "Epoch 85/100\n",
      "100/100 [==============================] - 46s 464ms/step - loss: 0.0012 - acc: 1.0000 - val_loss: 0.3367 - val_acc: 0.9430\n",
      "Epoch 86/100\n",
      "100/100 [==============================] - 47s 468ms/step - loss: 0.0051 - acc: 0.9995 - val_loss: 0.3812 - val_acc: 0.9330\n",
      "Epoch 87/100\n",
      "100/100 [==============================] - 47s 473ms/step - loss: 0.0054 - acc: 0.9975 - val_loss: 0.3520 - val_acc: 0.9400\n",
      "Epoch 88/100\n",
      "100/100 [==============================] - 38s 384ms/step - loss: 0.0017 - acc: 0.9995 - val_loss: 0.3878 - val_acc: 0.9320\n",
      "Epoch 89/100\n",
      "100/100 [==============================] - 40s 398ms/step - loss: 0.0028 - acc: 0.9990 - val_loss: 0.4092 - val_acc: 0.9290\n",
      "Epoch 90/100\n",
      "100/100 [==============================] - 42s 419ms/step - loss: 0.0035 - acc: 0.9975 - val_loss: 0.3719 - val_acc: 0.9250\n",
      "Epoch 91/100\n",
      "100/100 [==============================] - 49s 492ms/step - loss: 0.0013 - acc: 0.9995 - val_loss: 0.3630 - val_acc: 0.9410\n",
      "Epoch 92/100\n",
      "100/100 [==============================] - 49s 492ms/step - loss: 9.4686e-04 - acc: 1.0000 - val_loss: 0.3549 - val_acc: 0.9340\n",
      "Epoch 93/100\n",
      "100/100 [==============================] - 47s 468ms/step - loss: 7.0864e-04 - acc: 1.0000 - val_loss: 0.4209 - val_acc: 0.9360\n",
      "Epoch 94/100\n",
      "100/100 [==============================] - 53s 526ms/step - loss: 0.0024 - acc: 0.9990 - val_loss: 0.3621 - val_acc: 0.9380\n",
      "Epoch 95/100\n",
      "100/100 [==============================] - 46s 460ms/step - loss: 0.0019 - acc: 0.9990 - val_loss: 0.3914 - val_acc: 0.9330\n",
      "Epoch 96/100\n",
      "100/100 [==============================] - 49s 494ms/step - loss: 6.0404e-04 - acc: 0.9995 - val_loss: 0.3664 - val_acc: 0.9340\n",
      "Epoch 97/100\n",
      "100/100 [==============================] - 52s 515ms/step - loss: 2.4342e-04 - acc: 1.0000 - val_loss: 0.4484 - val_acc: 0.9260\n",
      "Epoch 98/100\n",
      "100/100 [==============================] - 42s 417ms/step - loss: 0.0034 - acc: 0.9985 - val_loss: 0.5013 - val_acc: 0.9270\n",
      "Epoch 99/100\n",
      "100/100 [==============================] - 43s 432ms/step - loss: 0.0031 - acc: 0.9985 - val_loss: 0.3914 - val_acc: 0.9340\n",
      "Epoch 100/100\n",
      "100/100 [==============================] - 44s 442ms/step - loss: 1.4720e-04 - acc: 1.0000 - val_loss: 0.4220 - val_acc: 0.9240\n"
     ]
    }
   ],
   "source": [
    "model.compile(loss='binary_crossentropy',\n",
    "             optimizer=optimizers.RMSprop(lr=1e-5),\n",
    "             metrics=['acc'])\n",
    "\n",
    "history = model.fit_generator(\n",
    "    train_generator,\n",
    "    steps_per_epoch=100,\n",
    "    epochs=100,\n",
    "    validation_data=validation_generator,\n",
    "    validation_steps=50\n",
    ")"
   ]
  },
  {
   "cell_type": "code",
   "execution_count": 44,
   "metadata": {},
   "outputs": [],
   "source": [
    "model.save('cats_and_dogs_small_4.h5')"
   ]
  },
  {
   "cell_type": "code",
   "execution_count": 45,
   "metadata": {},
   "outputs": [
    {
     "data": {
      "image/png": "[encoded data removed]",
      "text/plain": [
       "<Figure size 432x288 with 1 Axes>"
      ]
     },
     "metadata": {
      "needs_background": "light"
     },
     "output_type": "display_data"
    },
    {
     "data": {
      "image/png": "[encoded data removed]",
      "text/plain": [
       "<Figure size 432x288 with 1 Axes>"
      ]
     },
     "metadata": {
      "needs_background": "light"
     },
     "output_type": "display_data"
    }
   ],
   "source": [
    "acc = history.history['acc']\n",
    "val_acc = history.history['val_acc']\n",
    "loss = history.history['loss']\n",
    "val_loss = history.history['val_loss']\n",
    "\n",
    "epochs = range(len(acc))\n",
    "\n",
    "plt.plot(epochs, acc, 'bo', label='Training acc')\n",
    "plt.plot(epochs, val_acc, 'b', label='Validation acc')\n",
    "plt.title('Training and validation accuracy')\n",
    "plt.legend()\n",
    "\n",
    "plt.figure()\n",
    "\n",
    "plt.plot(epochs, loss, 'bo', label='Training loss')\n",
    "plt.plot(epochs, val_loss, 'b', label='Validation loss')\n",
    "plt.title('Training and validation loss')\n",
    "plt.legend()\n",
    "\n",
    "plt.show()"
   ]
  },
  {
   "cell_type": "code",
   "execution_count": 46,
   "metadata": {},
   "outputs": [
    {
     "data": {
      "image/png": "[encoded data removed]",
      "text/plain": [
       "<Figure size 432x288 with 1 Axes>"
      ]
     },
     "metadata": {
      "needs_background": "light"
     },
     "output_type": "display_data"
    },
    {
     "data": {
      "image/png": "[encoded data removed]",
      "text/plain": [
       "<Figure size 432x288 with 1 Axes>"
      ]
     },
     "metadata": {
      "needs_background": "light"
     },
     "output_type": "display_data"
    }
   ],
   "source": [
    "def smooth_curve(points, factor=0.8):\n",
    "  smoothed_points = []\n",
    "  for point in points:\n",
    "    if smoothed_points:\n",
    "      previous = smoothed_points[-1]\n",
    "      smoothed_points.append(previous * factor + point * (1 - factor))\n",
    "    else:\n",
    "      smoothed_points.append(point)\n",
    "  return smoothed_points\n",
    "\n",
    "plt.plot(epochs,\n",
    "         smooth_curve(acc), 'bo', label='Smoothed training acc')\n",
    "plt.plot(epochs,\n",
    "         smooth_curve(val_acc), 'b', label='Smoothed validation acc')\n",
    "plt.title('Training and validation accuracy')\n",
    "plt.legend()\n",
    "\n",
    "plt.figure()\n",
    "\n",
    "plt.plot(epochs,\n",
    "         smooth_curve(loss), 'bo', label='Smoothed training loss')\n",
    "plt.plot(epochs,\n",
    "         smooth_curve(val_loss), 'b', label='Smoothed validation loss')\n",
    "plt.title('Training and validation loss')\n",
    "plt.legend()\n",
    "\n",
    "plt.show()"
   ]
  },
  {
   "cell_type": "code",
   "execution_count": 47,
   "metadata": {},
   "outputs": [
    {
     "name": "stdout",
     "output_type": "stream",
     "text": [
      "Found 1000 images belonging to 2 classes.\n",
      "test acc: 0.943999992609024\n"
     ]
    }
   ],
   "source": [
    "test_generator = test_datagen.flow_from_directory(\n",
    "        test_dir,\n",
    "        target_size=(150, 150),\n",
    "        batch_size=20,\n",
    "        class_mode='binary')\n",
    "\n",
    "test_loss, test_acc = model.evaluate_generator(test_generator, steps=50)\n",
    "print('test acc:', test_acc)"
   ]
  },
  {
   "cell_type": "code",
   "execution_count": null,
   "metadata": {},
   "outputs": [],
   "source": []
  }
 ],
 "metadata": {
  "accelerator": "GPU",
  "colab": {
   "name": "7_17_cnn_3.ipynb",
   "provenance": [],
   "toc_visible": true,
   "version": "0.3.2"
  },
  "kernelspec": {
   "display_name": "Python [conda env:.conda-keras] *",
   "language": "python",
   "name": "conda-env-.conda-keras-py"
  },
  "language_info": {
   "codemirror_mode": {
    "name": "ipython",
    "version": 3
   },
   "file_extension": ".py",
   "mimetype": "text/x-python",
   "name": "python",
   "nbconvert_exporter": "python",
   "pygments_lexer": "ipython3",
   "version": "3.6.8"
  }
 },
 "nbformat": 4,
 "nbformat_minor": 2
}
