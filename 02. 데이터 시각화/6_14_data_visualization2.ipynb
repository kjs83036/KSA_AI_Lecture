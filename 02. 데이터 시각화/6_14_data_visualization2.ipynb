{
 "cells": [
  {
   "cell_type": "markdown",
   "metadata": {},
   "source": [
    "Numpy"
   ]
  },
  {
   "cell_type": "code",
   "execution_count": 78,
   "metadata": {},
   "outputs": [
    {
     "data": {
      "text/plain": [
       "array([[  1., 195.,  57.],\n",
       "       [  1., 179.,  61.],\n",
       "       [  1., 205.,  60.],\n",
       "       [  1., 204.,  62.],\n",
       "       [  1., 201.,  61.],\n",
       "       [  1., 184.,  54.],\n",
       "       [  1., 210.,  58.],\n",
       "       [  1., 209.,  61.]])"
      ]
     },
     "execution_count": 78,
     "metadata": {},
     "output_type": "execute_result"
    }
   ],
   "source": [
    "import numpy as np\n",
    "\n",
    "steel_data1 = np.loadtxt(\"lecture_data/steel.txt\",\n",
    "                       skiprows=5,\n",
    "                       delimiter=\"\\t\",\n",
    "                       usecols=(1, 2),\n",
    "                       encoding=\"utf-8\")\n",
    "\n",
    "steel_data2 = np.loadtxt(\"lecture_data/steel.txt\",\n",
    "                       skiprows=5,\n",
    "                       delimiter=\"\\t\",\n",
    "                       usecols=0,\n",
    "                       encoding=\"utf-8\")\n",
    "steel_data1, steel_data2\n",
    "steel_data3 = np.ones((steel_data1.shape[0], steel_data1.shape[1]+1))\n",
    "steel_data3[:,1:] = steel_data1\n",
    "steel_data3"
   ]
  },
  {
   "cell_type": "code",
   "execution_count": 79,
   "metadata": {},
   "outputs": [
    {
     "name": "stderr",
     "output_type": "stream",
     "text": [
      "C:\\ProgramData\\Anaconda3\\lib\\site-packages\\ipykernel_launcher.py:1: FutureWarning: `rcond` parameter will change to the default of machine precision times ``max(M, N)`` where M and N are the input matrix dimensions.\n",
      "To use the future default and silence this warning we advise to pass `rcond=None`, to keep using the old, explicitly pass `rcond=-1`.\n",
      "  \"\"\"Entry point for launching an IPython kernel.\n"
     ]
    },
    {
     "data": {
      "text/plain": [
       "(array([-5.54311223e+02, -1.79739607e-01,  1.18599927e+01]),\n",
       " array([2340.88393765]),\n",
       " 3,\n",
       " array([5.86352311e+02, 8.94176555e+00, 1.09839713e-01]))"
      ]
     },
     "execution_count": 79,
     "metadata": {},
     "output_type": "execute_result"
    }
   ],
   "source": [
    "lstlq1 = np.linalg.lstsq(steel_data3, steel_data2)\n",
    "lstlq1"
   ]
  },
  {
   "cell_type": "code",
   "execution_count": 80,
   "metadata": {},
   "outputs": [
    {
     "data": {
      "text/plain": [
       "(array([ 0.76736874,  0.98491984,  0.27083585,  1.39198619,  0.07984231,\n",
       "        -0.39996458, -1.02785056, -0.58471821,  0.81659393, -0.08194705]),\n",
       " array([[ 9.31046797, 11.05657629,  7.86202243,  8.97623738],\n",
       "        [10.58241072, 11.13306739, 11.00718352, 10.57059137],\n",
       "        [10.96857623, 12.72696302,  8.43778943,  9.06396467],\n",
       "        [12.44914871,  7.43778345, 11.75095101,  6.57856935]]))"
      ]
     },
     "execution_count": 80,
     "metadata": {},
     "output_type": "execute_result"
    }
   ],
   "source": [
    "np.random.randn(10), np.random.normal(loc=10, scale=2, size=(4, 4))"
   ]
  },
  {
   "cell_type": "code",
   "execution_count": 81,
   "metadata": {},
   "outputs": [],
   "source": [
    "ls = [[x if x == 1 else y for x in range(1, 5)] for y in range(1, 5)]"
   ]
  },
  {
   "cell_type": "markdown",
   "metadata": {},
   "source": [
    "Pandas"
   ]
  },
  {
   "cell_type": "code",
   "execution_count": 82,
   "metadata": {},
   "outputs": [
    {
     "name": "stdout",
     "output_type": "stream",
     "text": [
      "Series : \n",
      "0    1\n",
      "1    3\n",
      "2    5\n",
      "3    7\n",
      "4    9\n",
      "dtype: int64\n",
      "value \n",
      "[1 3 5 7 9]\n",
      "index \n",
      "RangeIndex(start=0, stop=5, step=1)\n"
     ]
    }
   ],
   "source": [
    "from pandas import Series, DataFrame\n",
    "import pandas as pd\n",
    "import numpy as np\n",
    "\n",
    "obj = Series([x for x in range(1, 10, 2)])\n",
    "print(f\"Series : \\n{obj}\\nvalue \\n{obj.values}\\nindex \\n{obj.index}\")"
   ]
  },
  {
   "cell_type": "code",
   "execution_count": 83,
   "metadata": {},
   "outputs": [
    {
     "name": "stdout",
     "output_type": "stream",
     "text": [
      "a    1\n",
      "b    3\n",
      "c    5\n",
      "d    7\n",
      "e    9\n",
      "dtype: int64\n",
      "Series[['b', 'd']\n",
      "b    3\n",
      "d    7\n",
      "dtype: int64]\n"
     ]
    }
   ],
   "source": [
    "obj = Series([x for x in range(1, 10, 2)], index = [\"a\", \"b\", \"c\", \"d\", \"e\"])\n",
    "print(obj)\n",
    "print(f\"Series[['b', 'd']\\n{obj[['b', 'd']]}]\")"
   ]
  },
  {
   "cell_type": "code",
   "execution_count": 84,
   "metadata": {},
   "outputs": [
    {
     "data": {
      "text/plain": [
       "b    13\n",
       "c    15\n",
       "d    17\n",
       "dtype: int64"
      ]
     },
     "execution_count": 84,
     "metadata": {},
     "output_type": "execute_result"
    }
   ],
   "source": [
    "obj1 = obj[(obj >= 3) & (obj <= 7)] + 10\n",
    "obj1"
   ]
  },
  {
   "cell_type": "code",
   "execution_count": 85,
   "metadata": {},
   "outputs": [
    {
     "name": "stdout",
     "output_type": "stream",
     "text": [
      "a    1\n",
      "b    2\n",
      "c    3\n",
      "d    4\n",
      "dtype: int64\n"
     ]
    },
    {
     "data": {
      "text/plain": [
       "d     4.0\n",
       "c     3.0\n",
       "b     2.0\n",
       "aa    NaN\n",
       "dtype: float64"
      ]
     },
     "execution_count": 85,
     "metadata": {},
     "output_type": "execute_result"
    }
   ],
   "source": [
    "dic = {\"a\" : 1, \"b\": 2, \"c\" : 3, \"d\" : 4}\n",
    "obj2 = Series(dic)\n",
    "print(obj2)\n",
    "obj3 = Series(dic, index=[\"d\", \"c\", \"b\", \"aa\"])\n",
    "obj3"
   ]
  },
  {
   "cell_type": "code",
   "execution_count": 86,
   "metadata": {},
   "outputs": [
    {
     "name": "stdout",
     "output_type": "stream",
     "text": [
      "d     False\n",
      "c     False\n",
      "b     False\n",
      "aa     True\n",
      "dtype: bool\n"
     ]
    }
   ],
   "source": [
    "print(pd.isnull(obj3))"
   ]
  },
  {
   "cell_type": "code",
   "execution_count": 87,
   "metadata": {},
   "outputs": [
    {
     "name": "stdout",
     "output_type": "stream",
     "text": [
      "a     NaN\n",
      "b     7.0\n",
      "c     9.0\n",
      "d    12.0\n",
      "e     NaN\n",
      "f     NaN\n",
      "dtype: float64\n",
      "i\n",
      "a     NaN\n",
      "b     7.0\n",
      "c     9.0\n",
      "d    12.0\n",
      "e     NaN\n",
      "f     NaN\n",
      "Name: Total Score, dtype: float64\n"
     ]
    },
    {
     "data": {
      "text/plain": [
       "i\n",
       "a     True\n",
       "b    False\n",
       "c    False\n",
       "d    False\n",
       "e     True\n",
       "f     True\n",
       "Name: Total Score, dtype: bool"
      ]
     },
     "execution_count": 87,
     "metadata": {},
     "output_type": "execute_result"
    }
   ],
   "source": [
    "obj1 = Series([1, 2, 3, 4], index=[\"a\", \"b\", \"c\", \"d\"])\n",
    "obj2 = Series([5, 6, 7, 8, 9], index=[\"b\", \"c\", \"e\", \"d\", \"f\"])\n",
    "obj_sum = obj1 + obj2\n",
    "print(obj_sum)\n",
    "obj_sum.name = \"Total Score\"\n",
    "obj_sum.index.name = \"i\"\n",
    "print(obj_sum)\n",
    "pd.isnull(obj_sum)"
   ]
  },
  {
   "cell_type": "code",
   "execution_count": 88,
   "metadata": {},
   "outputs": [
    {
     "data": {
      "text/html": [
       "<div>\n",
       "<style scoped>\n",
       "    .dataframe tbody tr th:only-of-type {\n",
       "        vertical-align: middle;\n",
       "    }\n",
       "\n",
       "    .dataframe tbody tr th {\n",
       "        vertical-align: top;\n",
       "    }\n",
       "\n",
       "    .dataframe thead th {\n",
       "        text-align: right;\n",
       "    }\n",
       "</style>\n",
       "<table border=\"1\" class=\"dataframe\">\n",
       "  <thead>\n",
       "    <tr style=\"text-align: right;\">\n",
       "      <th></th>\n",
       "      <th>a</th>\n",
       "      <th>b</th>\n",
       "    </tr>\n",
       "  </thead>\n",
       "  <tbody>\n",
       "    <tr>\n",
       "      <th>0</th>\n",
       "      <td>1</td>\n",
       "      <td>3</td>\n",
       "    </tr>\n",
       "    <tr>\n",
       "      <th>1</th>\n",
       "      <td>2</td>\n",
       "      <td>4</td>\n",
       "    </tr>\n",
       "  </tbody>\n",
       "</table>\n",
       "</div>"
      ],
      "text/plain": [
       "   a  b\n",
       "0  1  3\n",
       "1  2  4"
      ]
     },
     "execution_count": 88,
     "metadata": {},
     "output_type": "execute_result"
    }
   ],
   "source": [
    "data = {\"a\" : [1, 2], \"b\" : [3, 4]}\n",
    "df = DataFrame(data)\n",
    "df"
   ]
  },
  {
   "cell_type": "code",
   "execution_count": 89,
   "metadata": {},
   "outputs": [
    {
     "data": {
      "text/html": [
       "<div>\n",
       "<style scoped>\n",
       "    .dataframe tbody tr th:only-of-type {\n",
       "        vertical-align: middle;\n",
       "    }\n",
       "\n",
       "    .dataframe tbody tr th {\n",
       "        vertical-align: top;\n",
       "    }\n",
       "\n",
       "    .dataframe thead th {\n",
       "        text-align: right;\n",
       "    }\n",
       "</style>\n",
       "<table border=\"1\" class=\"dataframe\">\n",
       "  <thead>\n",
       "    <tr style=\"text-align: right;\">\n",
       "      <th></th>\n",
       "      <th>b</th>\n",
       "      <th>a</th>\n",
       "      <th>c</th>\n",
       "    </tr>\n",
       "  </thead>\n",
       "  <tbody>\n",
       "    <tr>\n",
       "      <th>0</th>\n",
       "      <td>3</td>\n",
       "      <td>1</td>\n",
       "      <td>NaN</td>\n",
       "    </tr>\n",
       "    <tr>\n",
       "      <th>1</th>\n",
       "      <td>4</td>\n",
       "      <td>2</td>\n",
       "      <td>NaN</td>\n",
       "    </tr>\n",
       "  </tbody>\n",
       "</table>\n",
       "</div>"
      ],
      "text/plain": [
       "   b  a    c\n",
       "0  3  1  NaN\n",
       "1  4  2  NaN"
      ]
     },
     "execution_count": 89,
     "metadata": {},
     "output_type": "execute_result"
    }
   ],
   "source": [
    "df1 = DataFrame(data, columns=[\"b\", \"a\", \"c\"])\n",
    "df1"
   ]
  },
  {
   "cell_type": "code",
   "execution_count": 90,
   "metadata": {},
   "outputs": [
    {
     "name": "stdout",
     "output_type": "stream",
     "text": [
      "[[10 25 32 42]\n",
      " [85 75 96 45]\n",
      " [68 78 94 83]]\n",
      "    0   1   2   3\n",
      "0  10  25  32  42\n",
      "1  85  75  96  45\n",
      "2  68  78  94  83\n"
     ]
    },
    {
     "data": {
      "text/html": [
       "<div>\n",
       "<style scoped>\n",
       "    .dataframe tbody tr th:only-of-type {\n",
       "        vertical-align: middle;\n",
       "    }\n",
       "\n",
       "    .dataframe tbody tr th {\n",
       "        vertical-align: top;\n",
       "    }\n",
       "\n",
       "    .dataframe thead th {\n",
       "        text-align: right;\n",
       "    }\n",
       "</style>\n",
       "<table border=\"1\" class=\"dataframe\">\n",
       "  <thead>\n",
       "    <tr style=\"text-align: right;\">\n",
       "      <th></th>\n",
       "      <th>v1</th>\n",
       "      <th>v2</th>\n",
       "      <th>v3</th>\n",
       "      <th>v4</th>\n",
       "    </tr>\n",
       "  </thead>\n",
       "  <tbody>\n",
       "    <tr>\n",
       "      <th>a</th>\n",
       "      <td>10</td>\n",
       "      <td>25</td>\n",
       "      <td>32</td>\n",
       "      <td>42</td>\n",
       "    </tr>\n",
       "    <tr>\n",
       "      <th>b</th>\n",
       "      <td>85</td>\n",
       "      <td>75</td>\n",
       "      <td>96</td>\n",
       "      <td>45</td>\n",
       "    </tr>\n",
       "    <tr>\n",
       "      <th>c</th>\n",
       "      <td>68</td>\n",
       "      <td>78</td>\n",
       "      <td>94</td>\n",
       "      <td>83</td>\n",
       "    </tr>\n",
       "  </tbody>\n",
       "</table>\n",
       "</div>"
      ],
      "text/plain": [
       "   v1  v2  v3  v4\n",
       "a  10  25  32  42\n",
       "b  85  75  96  45\n",
       "c  68  78  94  83"
      ]
     },
     "execution_count": 90,
     "metadata": {},
     "output_type": "execute_result"
    }
   ],
   "source": [
    "arr = np.array([[10, 25, 32, 42],[85, 75, 96, 45],[68, 78, 94, 83]])\n",
    "print(arr)\n",
    "df = DataFrame(arr)\n",
    "print(df)\n",
    "df1 = DataFrame(arr, columns=[\"v1\", \"v2\", \"v3\", \"v4\"], index=[\"a\", \"b\", \"c\"])\n",
    "df1"
   ]
  },
  {
   "cell_type": "code",
   "execution_count": 91,
   "metadata": {},
   "outputs": [
    {
     "name": "stdout",
     "output_type": "stream",
     "text": [
      "행색인Index(['a', 'b', 'c'], dtype='object')\n",
      "열색인Index(['v1', 'v2', 'v3', 'v4'], dtype='object')\n",
      "행색인v1    10\n",
      "v2    25\n",
      "v3    32\n",
      "v4    42\n",
      "Name: a, dtype: int32\n",
      "행색인v1    85\n",
      "v2    75\n",
      "v3    96\n",
      "v4    45\n",
      "Name: b, dtype: int32\n",
      "행인덱스v1    10\n",
      "v2    25\n",
      "v3    32\n",
      "v4    42\n",
      "Name: a, dtype: int32\n",
      "행색인   v1  v2  v3  v4\n",
      "b  85  75  96  45\n",
      "a  10  25  32  42\n",
      "행인덱스   v1  v2  v3  v4\n",
      "b  85  75  96  45\n",
      "a  10  25  32  42\n",
      "열색인a    10\n",
      "b    85\n",
      "c    68\n",
      "Name: v1, dtype: int32\n",
      "열색인a    10\n",
      "b    85\n",
      "c    68\n",
      "Name: v1, dtype: int32\n"
     ]
    },
    {
     "name": "stderr",
     "output_type": "stream",
     "text": [
      "C:\\ProgramData\\Anaconda3\\lib\\site-packages\\ipykernel_launcher.py:3: DeprecationWarning: \n",
      ".ix is deprecated. Please use\n",
      ".loc for label based indexing or\n",
      ".iloc for positional indexing\n",
      "\n",
      "See the documentation here:\n",
      "http://pandas.pydata.org/pandas-docs/stable/indexing.html#ix-indexer-is-deprecated\n",
      "  This is separate from the ipykernel package so we can avoid doing imports until\n"
     ]
    }
   ],
   "source": [
    "print(f\"행색인{df1.index}\")\n",
    "print(f\"열색인{df1.columns}\")\n",
    "print(f\"행색인{df1.ix['a']}\")\n",
    "print(f\"행색인{df1.loc['b']}\")\n",
    "print(f\"행인덱스{df1.iloc[0]}\")\n",
    "print(f\"행색인{df1.loc[['b', 'a']]}\")\n",
    "print(f\"행인덱스{df1.iloc[[1, 0]]}\")\n",
    "print(f\"열색인{df1.v1}\")\n",
    "print(f\"열색인{df1['v1']}\")"
   ]
  },
  {
   "cell_type": "code",
   "execution_count": 92,
   "metadata": {},
   "outputs": [
    {
     "name": "stdout",
     "output_type": "stream",
     "text": [
      "   v1  v2  v3  v4\n",
      "a  10  25  32  42\n",
      "b  85  75  96  45\n",
      "c  68  78  94  83 b    10\n",
      "d     9\n",
      "dtype: int64\n",
      "   v1  v2  v3  v4    v5\n",
      "a  10  25  32  42   NaN\n",
      "b  85  75  96  45  10.0\n",
      "c  68  78  94  83   NaN\n",
      "열의 행색인a    10\n",
      "c    68\n",
      "Name: v1, dtype: int32\n"
     ]
    },
    {
     "data": {
      "text/plain": [
       "10.0"
      ]
     },
     "execution_count": 92,
     "metadata": {},
     "output_type": "execute_result"
    }
   ],
   "source": [
    "var = Series([10, 9], index=[\"b\", \"d\"])\n",
    "print(df1, var)\n",
    "df1[\"v5\"] = var\n",
    "print(df1)\n",
    "print(f\"열의 행색인{df1.iloc[[0, 2]].v1}\")\n",
    "df1.iloc[0].v1"
   ]
  },
  {
   "cell_type": "code",
   "execution_count": 93,
   "metadata": {},
   "outputs": [
    {
     "name": "stdout",
     "output_type": "stream",
     "text": [
      "a    2.5\n",
      "b    6.4\n",
      "c    7.8\n",
      "d    6.5\n",
      "dtype: float64\n"
     ]
    },
    {
     "data": {
      "text/plain": [
       "e    NaN\n",
       "d    6.5\n",
       "c    7.8\n",
       "b    6.4\n",
       "a    2.5\n",
       "dtype: float64"
      ]
     },
     "execution_count": 93,
     "metadata": {},
     "output_type": "execute_result"
    }
   ],
   "source": [
    "obj = Series([2.5, 6.4, 7.8, 6.5], index=[\"a\", \"b\", \"c\", \"d\"])\n",
    "print(obj)\n",
    "obj1 = obj.reindex([\"e\", \"d\", \"c\", \"b\", \"a\"])\n",
    "obj1"
   ]
  },
  {
   "cell_type": "code",
   "execution_count": 94,
   "metadata": {},
   "outputs": [
    {
     "name": "stdout",
     "output_type": "stream",
     "text": [
      "e    0.0\n",
      "d    6.5\n",
      "c    7.8\n",
      "b    6.4\n",
      "a    2.5\n",
      "dtype: float64\n"
     ]
    },
    {
     "data": {
      "text/plain": [
       "(e    0.0\n",
       " d    6.5\n",
       " c    7.8\n",
       " b    6.4\n",
       " a    2.5\n",
       " f    NaN\n",
       " a    2.5\n",
       " dtype: float64, e    0.0\n",
       " d    6.5\n",
       " c    7.8\n",
       " b    6.4\n",
       " a    2.5\n",
       " f    0.0\n",
       " a    2.5\n",
       " dtype: float64)"
      ]
     },
     "execution_count": 94,
     "metadata": {},
     "output_type": "execute_result"
    }
   ],
   "source": [
    "obj2 = obj.reindex([\"e\", \"d\", \"c\", \"b\", \"a\"], fill_value=0)\n",
    "print(obj2)\n",
    "obj3 = obj2.reindex([\"e\", \"d\", \"c\", \"b\", \"a\", \"f\", \"a\"], method=\"ffill\" )\n",
    "obj4 = obj2.reindex([\"e\", \"d\", \"c\", \"b\", \"a\", \"f\", \"a\"], method=\"bfill\" )\n",
    "obj3, obj4"
   ]
  },
  {
   "cell_type": "code",
   "execution_count": 95,
   "metadata": {},
   "outputs": [
    {
     "name": "stdout",
     "output_type": "stream",
     "text": [
      "   v1  v2  v3  v4    v5\n",
      "a  10  25  32  42   NaN\n",
      "b  85  75  96  45  10.0\n",
      "c  68  78  94  83   NaN\n"
     ]
    },
    {
     "data": {
      "text/html": [
       "<div>\n",
       "<style scoped>\n",
       "    .dataframe tbody tr th:only-of-type {\n",
       "        vertical-align: middle;\n",
       "    }\n",
       "\n",
       "    .dataframe tbody tr th {\n",
       "        vertical-align: top;\n",
       "    }\n",
       "\n",
       "    .dataframe thead th {\n",
       "        text-align: right;\n",
       "    }\n",
       "</style>\n",
       "<table border=\"1\" class=\"dataframe\">\n",
       "  <thead>\n",
       "    <tr style=\"text-align: right;\">\n",
       "      <th></th>\n",
       "      <th>v1</th>\n",
       "      <th>v2</th>\n",
       "      <th>v3</th>\n",
       "      <th>v4</th>\n",
       "      <th>v5</th>\n",
       "    </tr>\n",
       "  </thead>\n",
       "  <tbody>\n",
       "    <tr>\n",
       "      <th>B</th>\n",
       "      <td>10.0</td>\n",
       "      <td>25.0</td>\n",
       "      <td>32.0</td>\n",
       "      <td>42.0</td>\n",
       "      <td>NaN</td>\n",
       "    </tr>\n",
       "    <tr>\n",
       "      <th>c</th>\n",
       "      <td>68.0</td>\n",
       "      <td>78.0</td>\n",
       "      <td>94.0</td>\n",
       "      <td>83.0</td>\n",
       "      <td>NaN</td>\n",
       "    </tr>\n",
       "    <tr>\n",
       "      <th>gg</th>\n",
       "      <td>NaN</td>\n",
       "      <td>NaN</td>\n",
       "      <td>NaN</td>\n",
       "      <td>NaN</td>\n",
       "      <td>NaN</td>\n",
       "    </tr>\n",
       "    <tr>\n",
       "      <th>GG</th>\n",
       "      <td>10.0</td>\n",
       "      <td>25.0</td>\n",
       "      <td>32.0</td>\n",
       "      <td>42.0</td>\n",
       "      <td>NaN</td>\n",
       "    </tr>\n",
       "    <tr>\n",
       "      <th>aa</th>\n",
       "      <td>85.0</td>\n",
       "      <td>75.0</td>\n",
       "      <td>96.0</td>\n",
       "      <td>45.0</td>\n",
       "      <td>10.0</td>\n",
       "    </tr>\n",
       "    <tr>\n",
       "      <th>b</th>\n",
       "      <td>85.0</td>\n",
       "      <td>75.0</td>\n",
       "      <td>96.0</td>\n",
       "      <td>45.0</td>\n",
       "      <td>10.0</td>\n",
       "    </tr>\n",
       "    <tr>\n",
       "      <th>gg</th>\n",
       "      <td>NaN</td>\n",
       "      <td>NaN</td>\n",
       "      <td>NaN</td>\n",
       "      <td>NaN</td>\n",
       "      <td>NaN</td>\n",
       "    </tr>\n",
       "    <tr>\n",
       "      <th>a</th>\n",
       "      <td>10.0</td>\n",
       "      <td>25.0</td>\n",
       "      <td>32.0</td>\n",
       "      <td>42.0</td>\n",
       "      <td>NaN</td>\n",
       "    </tr>\n",
       "  </tbody>\n",
       "</table>\n",
       "</div>"
      ],
      "text/plain": [
       "      v1    v2    v3    v4    v5\n",
       "B   10.0  25.0  32.0  42.0   NaN\n",
       "c   68.0  78.0  94.0  83.0   NaN\n",
       "gg   NaN   NaN   NaN   NaN   NaN\n",
       "GG  10.0  25.0  32.0  42.0   NaN\n",
       "aa  85.0  75.0  96.0  45.0  10.0\n",
       "b   85.0  75.0  96.0  45.0  10.0\n",
       "gg   NaN   NaN   NaN   NaN   NaN\n",
       "a   10.0  25.0  32.0  42.0   NaN"
      ]
     },
     "execution_count": 95,
     "metadata": {},
     "output_type": "execute_result"
    }
   ],
   "source": [
    "print(df1)\n",
    "df2 = df1.reindex([\"B\", \"c\", \"gg\", \"GG\", \"aa\", \"b\", \"gg\", \"a\"], method=\"bfill\")\n",
    "df2"
   ]
  },
  {
   "cell_type": "code",
   "execution_count": 96,
   "metadata": {},
   "outputs": [],
   "source": [
    "x = np.random.rand(100)\n",
    "gender = np.where(x > 0.5, \"M\", \"F\")\n",
    "height = np.rint(np.random.normal(loc=175, scale=6, size=100))\n",
    "weight = np.rint(np.random.normal(loc=68, scale=3, size=100))\n",
    "s1 = Series(gender)\n",
    "s2 = Series(height, dtype=int)\n",
    "s3 = Series(weight, dtype=int)\n",
    "df = DataFrame({\"gender\" : s1, \"height\" : s2, \"weight\" : s3})\n",
    "np.random.seed(1234)\n",
    "rand_num = np.random.rand(100)\n",
    "select = rand_num < 0.9\n",
    "np.sum(select)\n",
    "train_df = df[select]\n",
    "test_df = df[~select]\n",
    "male_170_greater = df[(df.gender == \"M\") & (df.height >= 170)]\n"
   ]
  },
  {
   "cell_type": "code",
   "execution_count": 130,
   "metadata": {},
   "outputs": [
    {
     "name": "stdout",
     "output_type": "stream",
     "text": [
      "c1    2.5\n",
      "c2    7.6\n",
      "c3    9.1\n",
      "dtype: float64\n",
      "c1    3.1\n",
      "c2    2.8\n",
      "c3    7.5\n",
      "dtype: float64\n",
      "     att  hw  mid  fin\n",
      "st1    3   5   15   15\n",
      "st2    4   3   10   10\n",
      "st3    1   4   12    9\n",
      "st4    2   1   16   10\n",
      "c1      12.182494\n",
      "c2    1998.195895\n",
      "c3    8955.292703\n",
      "dtype: float64\n",
      "c1    2.5\n",
      "c2    2.8\n",
      "c3    7.5\n",
      "dtype: float64\n",
      "          att        hw       mid       fin\n",
      "st1  1.098612  1.609438  2.708050  2.708050\n",
      "st2  1.386294  1.098612  2.302585  2.302585\n",
      "st3  0.000000  1.386294  2.484907  2.197225\n",
      "st4  0.693147  0.000000  2.772589  2.302585\n"
     ]
    }
   ],
   "source": [
    "s1 = Series([2.5, 7.6, 9.1], index=[\"c1\", \"c2\", \"c3\"])\n",
    "s2 = Series([3.1, 2.8, 7.5], index=[\"c1\", \"c2\", \"c3\"])\n",
    "data = {\"att\" : [3, 4, 1, 2], \"hw\" : [5, 3, 4, 1],\"mid\" : [15, 10, 12, 16], \"fin\" : [15, 10, 9, 10]}\n",
    "df = DataFrame(data, index=[\"st1\", \"st2\", \"st3\", \"st4\"])\n",
    "print(s1)\n",
    "print(s2)\n",
    "print(df)\n",
    "print(np.exp(s1))\n",
    "print(np.minimum(s1,s2))\n",
    "print(np.log(df))"
   ]
  },
  {
   "cell_type": "code",
   "execution_count": 98,
   "metadata": {},
   "outputs": [
    {
     "name": "stdout",
     "output_type": "stream",
     "text": [
      "att    3\n",
      "hw     4\n",
      "mid    6\n",
      "fin    6\n",
      "dtype: int64\n",
      "st1    12\n",
      "st2    12\n",
      "st3    11\n",
      "st4    15\n",
      "dtype: int64\n"
     ]
    }
   ],
   "source": [
    "f = lambda x : x.max() - x.min()\n",
    "print(df.apply(f))\n",
    "print(df.apply(f, axis=1))"
   ]
  },
  {
   "cell_type": "code",
   "execution_count": 105,
   "metadata": {},
   "outputs": [
    {
     "data": {
      "text/html": [
       "<div>\n",
       "<style scoped>\n",
       "    .dataframe tbody tr th:only-of-type {\n",
       "        vertical-align: middle;\n",
       "    }\n",
       "\n",
       "    .dataframe tbody tr th {\n",
       "        vertical-align: top;\n",
       "    }\n",
       "\n",
       "    .dataframe thead th {\n",
       "        text-align: right;\n",
       "    }\n",
       "</style>\n",
       "<table border=\"1\" class=\"dataframe\">\n",
       "  <thead>\n",
       "    <tr style=\"text-align: right;\">\n",
       "      <th></th>\n",
       "      <th>att</th>\n",
       "      <th>hw</th>\n",
       "      <th>mid</th>\n",
       "      <th>fin</th>\n",
       "    </tr>\n",
       "  </thead>\n",
       "  <tbody>\n",
       "    <tr>\n",
       "      <th>최소</th>\n",
       "      <td>1</td>\n",
       "      <td>1</td>\n",
       "      <td>10</td>\n",
       "      <td>9</td>\n",
       "    </tr>\n",
       "    <tr>\n",
       "      <th>최대</th>\n",
       "      <td>4</td>\n",
       "      <td>5</td>\n",
       "      <td>16</td>\n",
       "      <td>15</td>\n",
       "    </tr>\n",
       "    <tr>\n",
       "      <th>범위</th>\n",
       "      <td>3</td>\n",
       "      <td>4</td>\n",
       "      <td>6</td>\n",
       "      <td>6</td>\n",
       "    </tr>\n",
       "  </tbody>\n",
       "</table>\n",
       "</div>"
      ],
      "text/plain": [
       "    att  hw  mid  fin\n",
       "최소    1   1   10    9\n",
       "최대    4   5   16   15\n",
       "범위    3   4    6    6"
      ]
     },
     "execution_count": 105,
     "metadata": {},
     "output_type": "execute_result"
    }
   ],
   "source": [
    "def f(x):\n",
    "    return Series([x.min(), x.max(), x.max() - x.min()], index=(\"최소\", \"최대\", \"범위\"))\n",
    "df_f = df.apply(f)\n",
    "df_f"
   ]
  },
  {
   "cell_type": "code",
   "execution_count": 126,
   "metadata": {},
   "outputs": [
    {
     "data": {
      "text/html": [
       "<div>\n",
       "<style scoped>\n",
       "    .dataframe tbody tr th:only-of-type {\n",
       "        vertical-align: middle;\n",
       "    }\n",
       "\n",
       "    .dataframe tbody tr th {\n",
       "        vertical-align: top;\n",
       "    }\n",
       "\n",
       "    .dataframe thead th {\n",
       "        text-align: right;\n",
       "    }\n",
       "</style>\n",
       "<table border=\"1\" class=\"dataframe\">\n",
       "  <thead>\n",
       "    <tr style=\"text-align: right;\">\n",
       "      <th></th>\n",
       "      <th>att</th>\n",
       "      <th>hw</th>\n",
       "      <th>mid</th>\n",
       "      <th>fin</th>\n",
       "    </tr>\n",
       "  </thead>\n",
       "  <tbody>\n",
       "    <tr>\n",
       "      <th>st1</th>\n",
       "      <td>6</td>\n",
       "      <td>120</td>\n",
       "      <td>1307674368000</td>\n",
       "      <td>1307674368000</td>\n",
       "    </tr>\n",
       "    <tr>\n",
       "      <th>st2</th>\n",
       "      <td>24</td>\n",
       "      <td>6</td>\n",
       "      <td>3628800</td>\n",
       "      <td>1307674368000</td>\n",
       "    </tr>\n",
       "    <tr>\n",
       "      <th>st3</th>\n",
       "      <td>1</td>\n",
       "      <td>24</td>\n",
       "      <td>479001600</td>\n",
       "      <td>362880</td>\n",
       "    </tr>\n",
       "    <tr>\n",
       "      <th>st4</th>\n",
       "      <td>2</td>\n",
       "      <td>1</td>\n",
       "      <td>20922789888000</td>\n",
       "      <td>3628800</td>\n",
       "    </tr>\n",
       "  </tbody>\n",
       "</table>\n",
       "</div>"
      ],
      "text/plain": [
       "     att   hw             mid            fin\n",
       "st1    6  120   1307674368000  1307674368000\n",
       "st2   24    6         3628800  1307674368000\n",
       "st3    1   24       479001600         362880\n",
       "st4    2    1  20922789888000        3628800"
      ]
     },
     "execution_count": 126,
     "metadata": {},
     "output_type": "execute_result"
    }
   ],
   "source": [
    "def f(x):\n",
    "    fa =1\n",
    "    for i in range(1, (x + 1)):\n",
    "        fa *= i\n",
    "    return fa\n",
    "df.applymap(f)\n",
    "df.applymap(np.math.factorial)"
   ]
  },
  {
   "cell_type": "code",
   "execution_count": 111,
   "metadata": {},
   "outputs": [
    {
     "data": {
      "text/plain": [
       "(c5    2.5\n",
       " c3    inf\n",
       " c2    3.1\n",
       " c3    NaN\n",
       " c1    7.5\n",
       " dtype: float64,      att  hw  mid  fin\n",
       " st3    3   5   15   12\n",
       " st2    4   3   10   15\n",
       " st4    1   4   12    9\n",
       " st1    2   1   16   10)"
      ]
     },
     "execution_count": 111,
     "metadata": {},
     "output_type": "execute_result"
    }
   ],
   "source": [
    "s = Series([2.5, np.inf, 3.1, np.nan, 7.5], index=[\"c5\", \"c3\", \"c2\", \"c3\", \"c1\"])\n",
    "df3 = DataFrame(data, index=[\"st3\", \"st2\", \"st4\", \"st1\"])\n",
    "s, df3"
   ]
  },
  {
   "cell_type": "code",
   "execution_count": 112,
   "metadata": {},
   "outputs": [
    {
     "name": "stdout",
     "output_type": "stream",
     "text": [
      "c5    2.5\n",
      "c3    inf\n",
      "c3    NaN\n",
      "c2    3.1\n",
      "c1    7.5\n",
      "dtype: float64\n",
      "c3    inf\n",
      "c1    7.5\n",
      "c2    3.1\n",
      "c5    2.5\n",
      "c3    NaN\n",
      "dtype: float64\n",
      "c5    2.5\n",
      "c2    3.1\n",
      "c1    7.5\n",
      "c3    inf\n",
      "c3    NaN\n",
      "dtype: float64\n"
     ]
    }
   ],
   "source": [
    "print(s.sort_index(ascending=False))\n",
    "print(s.sort_values(ascending=False))\n",
    "print(s.sort_values())"
   ]
  },
  {
   "cell_type": "code",
   "execution_count": 116,
   "metadata": {},
   "outputs": [
    {
     "data": {
      "text/plain": [
       "(     att  hw  mid  fin\n",
       " st4    2   1   16   10\n",
       " st3    1   4   12    9\n",
       " st2    4   3   10   15\n",
       " st1    3   5   15   12,      att  fin  hw  mid\n",
       " st1    3   12   5   15\n",
       " st2    4   15   3   10\n",
       " st3    1    9   4   12\n",
       " st4    2   10   1   16)"
      ]
     },
     "execution_count": 116,
     "metadata": {},
     "output_type": "execute_result"
    }
   ],
   "source": [
    "df.sort_index(ascending=False), df.sort_index(axis=1)"
   ]
  },
  {
   "cell_type": "code",
   "execution_count": 138,
   "metadata": {},
   "outputs": [
    {
     "data": {
      "text/plain": [
       "(     att  hw  mid  fin\n",
       " st2    1   4   12    9\n",
       " st1    4   3   10   10\n",
       " st1    2   1   16   10\n",
       " st3    3   5   15   15,      att  hw  mid  fin\n",
       " st2    1   4   12    9\n",
       " st1    4   3   10   10\n",
       " st1    2   1   16   10\n",
       " st3    3   5   15   15)"
      ]
     },
     "execution_count": 138,
     "metadata": {},
     "output_type": "execute_result"
    }
   ],
   "source": [
    "df.sort_values(by=\"fin\"), df.sort_values(by=[\"fin\", \"mid\"])"
   ]
  },
  {
   "cell_type": "code",
   "execution_count": 141,
   "metadata": {},
   "outputs": [
    {
     "name": "stdout",
     "output_type": "stream",
     "text": [
      "c5    4.0\n",
      "c3    1.0\n",
      "c2    3.0\n",
      "c3    NaN\n",
      "c1    2.0\n",
      "dtype: float64\n",
      "     att   hw  mid  fin\n",
      "st3  3.0  4.0  3.0  4.0\n",
      "st1  4.0  2.0  1.0  3.0\n",
      "st2  1.0  3.0  2.0  1.0\n",
      "st1  2.0  1.0  4.0  3.0\n",
      "     att   hw  mid  fin\n",
      "st3  1.0  2.0  3.5  3.5\n",
      "st1  2.0  1.0  3.5  3.5\n",
      "st2  1.0  2.0  4.0  3.0\n",
      "st1  2.0  1.0  4.0  3.0\n",
      "     att   hw  mid  fin\n",
      "st3  3.0  4.0  3.0  3.0\n",
      "st1  4.0  2.0  1.0  2.0\n",
      "st2  1.0  3.0  2.0  1.0\n",
      "st1  2.0  1.0  4.0  2.0\n"
     ]
    }
   ],
   "source": [
    "print(s.rank(ascending=False))\n",
    "print(df.rank(method=\"max\"))\n",
    "print(df.rank(method=\"average\", axis=1))\n",
    "print(df.rank(method=\"dense\"))"
   ]
  },
  {
   "cell_type": "code",
   "execution_count": 131,
   "metadata": {},
   "outputs": [
    {
     "data": {
      "text/plain": [
       "(c2    2.5\n",
       " c4    inf\n",
       " c2    3.1\n",
       " c3    NaN\n",
       " c1    7.5\n",
       " dtype: float64,      att  hw  mid  fin\n",
       " st3    3   5   15   15\n",
       " st1    4   3   10   10\n",
       " st2    1   4   12    9\n",
       " st1    2   1   16   10)"
      ]
     },
     "execution_count": 131,
     "metadata": {},
     "output_type": "execute_result"
    }
   ],
   "source": [
    "s2 = Series([2.5, np.inf, 3.1, np.nan, 7.5], index=[\"c2\", \"c4\", \"c2\", \"c3\", \"c1\"])\n",
    "df = DataFrame(data, index=[\"st3\",\"st1\" ,\"st2\" ,\"st1\"])\n",
    "s2, df"
   ]
  },
  {
   "cell_type": "code",
   "execution_count": 189,
   "metadata": {},
   "outputs": [
    {
     "name": "stdout",
     "output_type": "stream",
     "text": [
      "False\n",
      "c2    2.5\n",
      "c2    3.1\n",
      "dtype: float64\n",
      "False\n",
      "                                             att  hw  mid  fin\n",
      "st1  <function to_numeric at 0x000001F6F3F11C80>   3   10   10\n",
      "st1  <function to_numeric at 0x000001F6F3F11C80>   1   16   10\n"
     ]
    }
   ],
   "source": [
    "print(s2.index.is_unique)\n",
    "print(s2[[\"c2\"]])\n",
    "print(df.index.is_unique)\n",
    "print(df.loc[\"st1\"])"
   ]
  },
  {
   "cell_type": "code",
   "execution_count": 145,
   "metadata": {},
   "outputs": [
    {
     "name": "stdout",
     "output_type": "stream",
     "text": [
      "inf\n",
      "nan\n",
      "att     2.50\n",
      "hw      3.25\n",
      "mid    13.25\n",
      "fin    11.00\n",
      "dtype: float64\n"
     ]
    },
    {
     "data": {
      "text/plain": [
       "att     2.50\n",
       "hw      3.25\n",
       "mid    13.25\n",
       "fin    11.00\n",
       "dtype: float64"
      ]
     },
     "execution_count": 145,
     "metadata": {},
     "output_type": "execute_result"
    }
   ],
   "source": [
    "print(s.mean())\n",
    "print(s.mean(skipna=False))\n",
    "print(df.mean())\n",
    "df.mean(skipna=False)"
   ]
  },
  {
   "cell_type": "code",
   "execution_count": 170,
   "metadata": {},
   "outputs": [
    {
     "data": {
      "text/html": [
       "<div>\n",
       "<style scoped>\n",
       "    .dataframe tbody tr th:only-of-type {\n",
       "        vertical-align: middle;\n",
       "    }\n",
       "\n",
       "    .dataframe tbody tr th {\n",
       "        vertical-align: top;\n",
       "    }\n",
       "\n",
       "    .dataframe thead th {\n",
       "        text-align: right;\n",
       "    }\n",
       "</style>\n",
       "<table border=\"1\" class=\"dataframe\">\n",
       "  <thead>\n",
       "    <tr style=\"text-align: right;\">\n",
       "      <th></th>\n",
       "      <th>att</th>\n",
       "      <th>hw</th>\n",
       "      <th>mid</th>\n",
       "      <th>fin</th>\n",
       "    </tr>\n",
       "  </thead>\n",
       "  <tbody>\n",
       "    <tr>\n",
       "      <th>0.1</th>\n",
       "      <td>2.0</td>\n",
       "      <td>1.6</td>\n",
       "      <td>10.6</td>\n",
       "      <td>9.3</td>\n",
       "    </tr>\n",
       "    <tr>\n",
       "      <th>0.5</th>\n",
       "      <td>2.5</td>\n",
       "      <td>3.5</td>\n",
       "      <td>13.5</td>\n",
       "      <td>10.0</td>\n",
       "    </tr>\n",
       "  </tbody>\n",
       "</table>\n",
       "</div>"
      ],
      "text/plain": [
       "     att   hw   mid   fin\n",
       "0.1  2.0  1.6  10.6   9.3\n",
       "0.5  2.5  3.5  13.5  10.0"
      ]
     },
     "execution_count": 170,
     "metadata": {},
     "output_type": "execute_result"
    }
   ],
   "source": [
    "df.sum(axis=1)\n",
    "df.cumsum(axis=1, skipna=False)\n",
    "df.quantile(q=[0.1, 0.5])"
   ]
  },
  {
   "cell_type": "code",
   "execution_count": 151,
   "metadata": {},
   "outputs": [
    {
     "name": "stdout",
     "output_type": "stream",
     "text": [
      "att    1.290994\n",
      "hw     1.707825\n",
      "mid    2.753785\n",
      "fin    2.708013\n",
      "dtype: float64\n",
      "     att  hw  mid  fin\n",
      "st3    3   5   15   15\n",
      "st1    3   3   10   10\n",
      "st2    1   3   10    9\n",
      "st1    1   1   10    9\n",
      "     att   hw  mid  fin\n",
      "st3  NaN  NaN  NaN  NaN\n",
      "st1  1.0 -2.0 -5.0 -5.0\n",
      "st2 -3.0  1.0  2.0 -1.0\n",
      "st1  1.0 -3.0  4.0  1.0\n"
     ]
    }
   ],
   "source": [
    "print(df.std())\n",
    "print(df.cummin())\n",
    "print(df.diff())"
   ]
  },
  {
   "cell_type": "code",
   "execution_count": 155,
   "metadata": {},
   "outputs": [
    {
     "name": "stdout",
     "output_type": "stream",
     "text": [
      "            att        hw        mid        fin\n",
      "count  4.000000  4.000000   4.000000   4.000000\n",
      "mean   2.500000  3.250000  13.250000  11.000000\n",
      "std    1.290994  1.707825   2.753785   2.708013\n",
      "min    1.000000  1.000000  10.000000   9.000000\n",
      "25%    1.750000  2.500000  11.500000   9.750000\n",
      "50%    2.500000  3.500000  13.500000  10.000000\n",
      "75%    3.250000  4.250000  15.250000  11.250000\n",
      "max    4.000000  5.000000  16.000000  15.000000\n",
      "count     6\n",
      "unique    3\n",
      "top       B\n",
      "freq      3\n",
      "dtype: object\n"
     ]
    }
   ],
   "source": [
    "print(df.describe())\n",
    "s4 = Series([\"A\", \"B\", \"A\", \"C\", \"B\", \"B\",np.nan ], index=[\"case\" + str(x) for x in range(1,8)])\n",
    "print(s4.describe())"
   ]
  }
 ],
 "metadata": {
  "kernelspec": {
   "display_name": "Py36",
   "language": "python",
   "name": "py36"
  },
  "language_info": {
   "codemirror_mode": {
    "name": "ipython",
    "version": 3
   },
   "file_extension": ".py",
   "mimetype": "text/x-python",
   "name": "python",
   "nbconvert_exporter": "python",
   "pygments_lexer": "ipython3",
   "version": "3.7.3"
  }
 },
 "nbformat": 4,
 "nbformat_minor": 2
}
