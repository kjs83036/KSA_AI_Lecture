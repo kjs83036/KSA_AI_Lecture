{
 "cells": [
  {
   "cell_type": "markdown",
   "metadata": {},
   "source": [
    "dictionary(사전)"
   ]
  },
  {
   "cell_type": "code",
   "execution_count": 43,
   "metadata": {},
   "outputs": [
    {
     "name": "stdout",
     "output_type": "stream",
     "text": [
      "{1: 'a', 2: 'b', 3: 'c'}\n",
      "True\n",
      "False\n",
      "a\n",
      "{11: 'aa', 22: 'bb', 33: 'cc'}\n",
      "{'a': 'a', 'b': 'b', 'c': 'c', 'd': 'd'}\n",
      "{'a': 'a', 'b': 'b', 'c': 'c', 'd': 'd'}\n",
      "{'a': 'A', 'b': 'B', 'c': 'C', 'd': 'D', 'e': 'E'}\n",
      "{'A': 0, 'B': 0, 'C': 0, 'D': 0, 'E': 0}\n",
      "{'A': 0, 'B': 0, 'C': 0, 'D': 0}\n",
      "{'A': 0, 'B': 0, 'C': 0, 'D': 0, 'a': 0}\n",
      "{1: 'a', 2: 'b', 3: 'c', 11: 'aa', 22: 'bb', 33: 'cc'}\n",
      "dict_values(['a', 'b', 'c', 'aa', 'bb', 'cc'])\n",
      "dict_keys([1, 2, 3, 11, 22, 33])\n",
      "{1: 'a', 2: 'b', 3: 'c', 11: 'aa', 22: 'bb', 33: 'cc', 'AA': 'BB'}\n"
     ]
    }
   ],
   "source": [
    "dic1, dic2 = {}, dict()\n",
    "dic1, dic2\n",
    "dic1 = {\n",
    "    1 : \"a\",\n",
    "    2 : \"b\",\n",
    "    3 : \"c\"\n",
    "}\n",
    "print(dic1)\n",
    "dic2 = dic1.copy()\n",
    "print(dic1 == dic2)\n",
    "print(dic1 is dic2)\n",
    "print(dic1[1])\n",
    "ls = [(11, \"aa\"), (22, \"bb\"), (33, \"cc\")]\n",
    "dic3 = dict(ls)\n",
    "print(dic3)\n",
    "sls = [\"aa\", \"bb\", \"cc\", \"dd\"]\n",
    "dic4 = dict(sls)\n",
    "print(dic4)\n",
    "sls3 = [\"aaa\", \"bbb\", \"ccc\", \"ddd\"]\n",
    "dic5 = dict(sls)\n",
    "print(dic5)\n",
    "s1 = \"abcde\"\n",
    "s2 = \"ABCDE\"\n",
    "dic6 = dict(zip(s1, s2))\n",
    "print(dic6)\n",
    "dic7 = dict.fromkeys(s2,0)\n",
    "print(dic7)\n",
    "dic7.popitem()\n",
    "print(dic7)\n",
    "dic7.setdefault(\"a\", 0)\n",
    "print(dic7)\n",
    "dic2.update(dic3)\n",
    "print(dic2)\n",
    "print(dic2.values())\n",
    "print(dic2.keys())\n",
    "dic2.update(AA=\"BB\")\n",
    "print(dic2)"
   ]
  },
  {
   "cell_type": "markdown",
   "metadata": {},
   "source": [
    "function(함수)"
   ]
  },
  {
   "cell_type": "code",
   "execution_count": 10,
   "metadata": {},
   "outputs": [
    {
     "name": "stdout",
     "output_type": "stream",
     "text": [
      "입력자료 : (3, 1, 4, 4, 4, 4, 4, 4, 4, 2)\n",
      "자료합계 : 34\n",
      "입력자료 : {'name': '콩진호', 'age': 1, 'area': 'seoul'}\n",
      "9\n"
     ]
    }
   ],
   "source": [
    "def func(*args):\n",
    "    v = args\n",
    "    print(f\"입력자료 : {v}\\n자료합계 : {sum(v)}\")\n",
    "func(3,1,4,4,4,4,4,4,4,2)\n",
    "def func2(**kwargs):\n",
    "    v = kwargs\n",
    "    print(f\"입력자료 : {v}\")\n",
    "\n",
    "func2(name = \"콩진호\", age = 1, area = \"seoul\")\n",
    "print((lambda x : x ** 2)(3))"
   ]
  },
  {
   "cell_type": "code",
   "execution_count": 16,
   "metadata": {},
   "outputs": [
    {
     "name": "stdout",
     "output_type": "stream",
     "text": [
      "6\n",
      "6C3 = 20.0\n",
      "Help on function g in module __main__:\n",
      "\n",
      "g(n, x)\n",
      "    조합\n",
      "\n"
     ]
    }
   ],
   "source": [
    "def f(n):\n",
    "    re = 1\n",
    "    for x in range(1, n+1):\n",
    "        re *= x\n",
    "    return re\n",
    "\n",
    "print(f(3))\n",
    "\n",
    "def g(n, x):\n",
    "    \"\"\"\n",
    "    조합\n",
    "    \"\"\"\n",
    "    nf = f(n)\n",
    "    xf = f(x)\n",
    "    nxf = f(n-x)\n",
    "    return f\"{n}C{x} = {nf/(xf*nxf)}\"\n",
    "\n",
    "print(g(6,3))\n",
    "help(g)"
   ]
  },
  {
   "cell_type": "markdown",
   "metadata": {},
   "source": [
    "module(모듈)\n"
   ]
  },
  {
   "cell_type": "code",
   "execution_count": 18,
   "metadata": {},
   "outputs": [
    {
     "name": "stdout",
     "output_type": "stream",
     "text": [
      "3.141592653589793 2.718281828459045\n",
      "<built-in function factorial> 2.718281828459045\n"
     ]
    }
   ],
   "source": [
    "import math\n",
    "from math import e, pi, factorial\n",
    "\n",
    "print(math.pi, math.e)\n",
    "print(factorial, e)"
   ]
  },
  {
   "cell_type": "code",
   "execution_count": 19,
   "metadata": {},
   "outputs": [
    {
     "name": "stdout",
     "output_type": "stream",
     "text": [
      "C:\\Users\\Affinity\\Google 드라이브\n",
      "C:\\ProgramData\\Anaconda3\\python37.zip\n",
      "C:\\ProgramData\\Anaconda3\\DLLs\n",
      "C:\\ProgramData\\Anaconda3\\lib\n",
      "C:\\ProgramData\\Anaconda3\n",
      "\n",
      "C:\\ProgramData\\Anaconda3\\lib\\site-packages\n",
      "C:\\ProgramData\\Anaconda3\\lib\\site-packages\\win32\n",
      "C:\\ProgramData\\Anaconda3\\lib\\site-packages\\win32\\lib\n",
      "C:\\ProgramData\\Anaconda3\\lib\\site-packages\\Pythonwin\n",
      "C:\\ProgramData\\Anaconda3\\lib\\site-packages\\IPython\\extensions\n",
      "C:\\Users\\Affinity\\.ipython\n"
     ]
    }
   ],
   "source": [
    "import sys\n",
    "for path in sys.path:\n",
    "    print(path)"
   ]
  },
  {
   "cell_type": "markdown",
   "metadata": {},
   "source": [
    "module : random"
   ]
  },
  {
   "cell_type": "code",
   "execution_count": 45,
   "metadata": {},
   "outputs": [
    {
     "name": "stdout",
     "output_type": "stream",
     "text": [
      "58\n",
      "0.6085926278808715\n",
      "0.9083150633072725\n",
      "2.856887166313963\n",
      "3\n",
      "[5]\n",
      "[5]\n",
      "[0, 1, 2, 3, 4, 5, 6, 7, 8, 9], None\n",
      "[0, 3, 7, 5, 6, 1, 2, 8, 4, 9]\n"
     ]
    }
   ],
   "source": [
    "import random\n",
    "import numpy\n",
    "\n",
    "print(random.randrange(1, 100, 3))\n",
    "print(random.random())\n",
    "print(numpy.random.rand())\n",
    "print(random.uniform(2,3))\n",
    "ls = [x for x in range (0,10)]\n",
    "print(random.choice(ls))\n",
    "print(random.choices(ls))\n",
    "print(random.sample(ls,1))\n",
    "print(f\"{ls}, {random.shuffle(ls)}\")\n",
    "print(ls)"
   ]
  },
  {
   "cell_type": "markdown",
   "metadata": {},
   "source": [
    "module : itertools"
   ]
  },
  {
   "cell_type": "code",
   "execution_count": 76,
   "metadata": {},
   "outputs": [
    {
     "name": "stdout",
     "output_type": "stream",
     "text": [
      "[1, 1, 1, 2, 3, 4, 5, 6, 'a', 'b', 'c', 'd', 'e', 'f', 'g']\n",
      "30 33 36 39 42 45 48 51 54 57 60 63 66 69 72 75 78 81 84 87 90 93 96 99 [(1, 1), (3, 1), (5, 1), (7, 2), (9, 3), (11, 4), (13, 5), (15, 6)]\n",
      "[5, 6]\n",
      "[1, 1, 1, 2, 3, 4]\n",
      "----\n",
      "<itertools.groupby object at 0x00000299C89D8888>\n",
      "v:True, [1, 1, 1, 2]\n",
      "v:False, [3, 4, 5, 6]\n"
     ]
    }
   ],
   "source": [
    "import itertools\n",
    "\n",
    "ls = [1,1,1,2,3,4,5,6]\n",
    "\n",
    "str = \"abcdefg\"\n",
    "\n",
    "print(list(itertools.chain(ls,str)))\n",
    "#error : print(ls + str)\n",
    "for x in itertools.count(30, 3):\n",
    "    if x > 100:\n",
    "        break\n",
    "    print(x, end = \" \")\n",
    "print(list(zip(itertools.count(1,2), ls)))\n",
    "\n",
    "print([x for x in itertools.dropwhile(lambda x : x < 5, ls)])\n",
    "print([x for x in itertools.takewhile(lambda x : x < 5, ls)])\n",
    "print(\"----\")\n",
    "var2= itertools.groupby(ls, lambda x : x < 3)\n",
    "#print(dict(var2))\n",
    "print(var2)\n",
    "for v, k in var2:\n",
    "    print(f\"v:{v}, {list(k)}\")"
   ]
  },
  {
   "cell_type": "code",
   "execution_count": null,
   "metadata": {},
   "outputs": [],
   "source": [
    "module : calendar"
   ]
  },
  {
   "cell_type": "code",
   "execution_count": 79,
   "metadata": {},
   "outputs": [
    {
     "name": "stdout",
     "output_type": "stream",
     "text": [
      "     June 2019\n",
      "Mo Tu We Th Fr Sa Su\n",
      "                1  2\n",
      " 3  4  5  6  7  8  9\n",
      "10 11 12 13 14 15 16\n",
      "17 18 19 20 21 22 23\n",
      "24 25 26 27 28 29 30\n",
      "\n"
     ]
    }
   ],
   "source": [
    "import calendar\n",
    "\n",
    "print(calendar.month(2019, 6))"
   ]
  },
  {
   "cell_type": "raw",
   "metadata": {},
   "source": [
    "module : file (write, read)"
   ]
  },
  {
   "cell_type": "code",
   "execution_count": 11,
   "metadata": {},
   "outputs": [
    {
     "name": "stdout",
     "output_type": "stream",
     "text": [
      "['기간', '자치구', '세대', '인구', '인구', '인구', '인구', '인구', '인구', '인구', '인구', '인구', '세대당인구', '65세이상고령자\\n기간', '자치구', '세대', '합계', '합계', '합계', '한국인', '한국인', '한국인', '등록외국인', '등록외국인', '등록외국인', '세대당인구', '65세이상고령자\\n기간', '자치구', '세대', '계', '남자', '여자', '계', '남자', '여자', '계', '남자', '여자', '세대당인구', '65세이상고령자\\n2019.1/4', '합계', '4,290,922', '10,054,979', '4,909,387', '5,145,592', '9,770,216', '4,772,134', '4,998,082', '284,763', '137,253', '147,510', '2.28', '1,436,125\\n2019.1/4', '종로구', '73,914', '162,913', '78,963', '83,950', '152,778', '74,536', '78,242', '10,135', '4,427', '5,708', '2.07', '26,981\\n2019.1/4', '중구', '61,800', '135,836', '66,720', '69,116', '125,942', '61,992', '63,950', '9,894', '4,728', '5,166', '2.04', '22,421\\n2019.1/4', '용산구', '109,413', '245,139', '119,597', '125,542', '229,168', '110,626', '118,542', '15,971', '8,971', '7,000', '2.09', '38,049\\n2019.1/4', '성동구', '137,247', '314,608', '154,011', '160,597', '306,404', '150,287', '156,117', '8,204', '3,724', '4,480', '2.23', '43,076\\n2019.1/4', '광진구', '163,460', '370,658', '179,162', '191,496', '354,873', '172,361', '182,512', '15,785', '6,801', '8,984', '2.17', '46,288\\n2019.1/4', '동대문구', '162,228', '363,262', '179,100', '184,162', '346,750', '172,784', '173,966', '16,512', '6,316', '10,196', '2.14', '57,570\\n2019.1/4', '중랑구', '181,182', '407,211', '201,808', '205,403', '402,203', '199,730', '202,473', '5,008', '2,078', '2,930', '2.22', '62,789\\n2019.1/4', '성북구', '188,670', '450,021', '217,400', '232,621', '438,245', '212,830', '225,415', '11,776', '4,570', '7,206', '2.32', '68,612\\n2019.1/4', '강북구', '143,663', '321,151', '156,525', '164,626', '317,386', '155,075', '162,311', '3,765', '1,450', '2,315', '2.21', '58,858\\n2019.1/4', '도봉구', '138,175', '340,089', '166,218', '173,871', '337,820', '165,314', '172,506', '2,269', '904', '1,365', '2.44', '56,742\\n2019.1/4', '노원구', '217,748', '545,486', '264,460', '281,026', '541,174', '262,593', '278,581', '4,312', '1,867', '2,445', '2.49', '78,170\\n2019.1/4', '은평구', '206,527', '488,713', '235,925', '252,788', '484,274', '234,064', '250,210', '4,439', '1,861', '2,578', '2.34', '78,406\\n2019.1/4', '서대문구', '139,811', '324,604', '154,410', '170,194', '311,771', '150,103', '161,668', '12,833', '4,307', '8,526', '2.23', '51,085\\n2019.1/4', '마포구', '173,517', '386,571', '182,249', '204,322', '375,106', '177,872', '197,234', '11,465', '4,377', '7,088', '2.16', '51,293\\n2019.1/4', '양천구', '176,680', '466,622', '229,486', '237,136', '462,599', '227,678', '234,921', '4,023', '1,808', '2,215', '2.62', '58,930\\n2019.1/4', '강서구', '260,152', '602,886', '292,646', '310,240', '596,287', '289,454', '306,833', '6,599', '3,192', '3,407', '2.29', '80,903\\n2019.1/4', '구로구', '173,585', '438,889', '220,013', '218,876', '404,726', '200,367', '204,359', '34,163', '19,646', '14,517', '2.33', '63,017\\n2019.1/4', '금천구', '108,823', '254,244', '130,503', '123,741', '233,981', '118,913', '115,068', '20,263', '11,590', '8,673', '2.15', '36,301\\n2019.1/4', '영등포구', '172,828', '404,556', '203,579', '200,977', '368,824', '183,493', '185,331', '35,732', '20,086', '15,646', '2.13', '56,463\\n2019.1/4', '동작구', '179,709', '412,031', '199,526', '212,505', '398,886', '193,622', '205,264', '13,145', '5,904', '7,241', '2.22', '60,462\\n2019.1/4', '관악구', '265,360', '520,645', '260,919', '259,726', '502,615', '252,307', '250,308', '18,030', '8,612', '9,418', '1.89', '73,005\\n2019.1/4', '서초구', '172,929', '437,007', '209,329', '227,678', '432,762', '207,206', '225,556', '4,245', '2,123', '2,122', '2.5', '55,366\\n2019.1/4', '강남구', '229,546', '546,875', '262,082', '284,793', '541,854', '259,510', '282,344', '5,021', '2,572', '2,449', '2.36', '68,104\\n2019.1/4', '송파구', '276,815', '685,361', '332,367', '352,994', '678,521', '329,046', '349,475', '6,840', '3,321', '3,519', '2.45', '83,492\\n2019.1/4', '강동구', '177,140', '429,601', '212,389', '217,212', '425,267', '210,371', '214,896', '4,334', '2,018', '2,316', '2.4', '59,742']\n"
     ]
    }
   ],
   "source": [
    "fobj = open(\"../data/population1.txt\", encoding=\"utf-8\")\n",
    "#robj1 = fobj.read()\n",
    "#robj2 = fobj.readline()\n",
    "robj3 = fobj.readlines()\n",
    "#print(robj3)\n",
    "s_robj3 = \"\".join(robj3).strip()\n",
    "data=s_robj3.split(\"\\t\")\n",
    "print(data)\n",
    "fobj.close()"
   ]
  },
  {
   "cell_type": "code",
   "execution_count": 9,
   "metadata": {},
   "outputs": [
    {
     "name": "stdout",
     "output_type": "stream",
     "text": [
      "1:height\n",
      "2: weight\n",
      "\n",
      "3:174.10 71.85\n"
     ]
    }
   ],
   "source": [
    "fobj=open(\"data_space.txt\")\n",
    "robj=fobj.readline(6)\n",
    "print(f\"1:{robj}\")\n",
    "robj=fobj.readline(12)\n",
    "print(f\"2:{robj}\")\n",
    "robj=fobj.readline(12)\n",
    "print(f\"3:{robj}\")\n",
    "fobj.close()"
   ]
  },
  {
   "cell_type": "code",
   "execution_count": 8,
   "metadata": {},
   "outputs": [
    {
     "name": "stdout",
     "output_type": "stream",
     "text": [
      "height weight\n",
      "174.10 71.85\n",
      "171.17 65.46\n",
      "175.73 72.29\n",
      "178.83 72.49\n",
      "178.60 73.38\n",
      "180.20 75.40\n",
      "168.45 66.62\n",
      "174.30 70.84\n",
      "178.29 72.12\n",
      "171.74 69.66\n"
     ]
    }
   ],
   "source": [
    "fobj = open(\"data_space.txt\")\n",
    "robj = fobj.readline()\n",
    "while robj:\n",
    "    print(robj, end=\"\")\n",
    "    robj=fobj.readline()\n",
    "fobj.close()"
   ]
  },
  {
   "cell_type": "code",
   "execution_count": 7,
   "metadata": {},
   "outputs": [
    {
     "name": "stdout",
     "output_type": "stream",
     "text": [
      "['heigh', '174.1', '171.1', '175.7', '178.8', '178.6', '180.2', '168.4', '174.3', '178.2', '171.7']\n",
      "['weigh', '71.85', '65.46', '72.29', '72.49', '73.38', '75.40', '66.62', '70.84', '72.12', '69.66']\n"
     ]
    }
   ],
   "source": [
    "fobj = open(\"data_space.txt\")\n",
    "robj = fobj.readline()\n",
    "h = []\n",
    "w = []\n",
    "while robj:\n",
    "    h.append(robj[0:5])\n",
    "    w.append(robj[7:12])\n",
    "    robj=fobj.readline()\n",
    "fobj.close()\n",
    "print(h)\n",
    "print(w)\n"
   ]
  },
  {
   "cell_type": "code",
   "execution_count": 13,
   "metadata": {},
   "outputs": [
    {
     "name": "stdout",
     "output_type": "stream",
     "text": [
      "['height weight\\n', '174.10 71.85\\n', '171.17 65.46\\n', '175.73 72.29\\n', '178.83 72.49\\n', '178.60 73.38\\n', '180.20 75.40\\n', '168.45 66.62\\n', '174.30 70.84\\n', '178.29 72.12\\n', '171.74 69.66\\n']\n"
     ]
    }
   ],
   "source": [
    "fobj = open(\"data_space.txt\")\n",
    "robj = fobj.readlines()\n",
    "print(robj)\n",
    "fobj.close()"
   ]
  },
  {
   "cell_type": "code",
   "execution_count": 15,
   "metadata": {},
   "outputs": [],
   "source": [
    "f = open(\"test1.txt\", \"a\")\n",
    "f.write(\"abcdefg\")\n",
    "f.close()\n"
   ]
  }
 ],
 "metadata": {
  "kernelspec": {
   "display_name": "Py36",
   "language": "python",
   "name": "py36"
  },
  "language_info": {
   "codemirror_mode": {
    "name": "ipython",
    "version": 3
   },
   "file_extension": ".py",
   "mimetype": "text/x-python",
   "name": "python",
   "nbconvert_exporter": "python",
   "pygments_lexer": "ipython3",
   "version": "3.7.3"
  }
 },
 "nbformat": 4,
 "nbformat_minor": 2
}
