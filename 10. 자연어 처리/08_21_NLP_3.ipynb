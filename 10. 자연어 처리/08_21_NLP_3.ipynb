{
 "cells": [
  {
   "cell_type": "markdown",
   "metadata": {
    "colab_type": "text",
    "id": "E3I64ZrgnExh"
   },
   "source": [
    "# RNN\n"
   ]
  },
  {
   "cell_type": "markdown",
   "metadata": {
    "colab_type": "text",
    "id": "edobZ3MLnHeC"
   },
   "source": [
    "## RNN with keras"
   ]
  },
  {
   "cell_type": "code",
   "execution_count": 1,
   "metadata": {
    "colab": {
     "base_uri": "https://localhost:8080/",
     "height": 318
    },
    "colab_type": "code",
    "executionInfo": {
     "elapsed": 2042,
     "status": "ok",
     "timestamp": 1566346958747,
     "user": {
      "displayName": "Jun Seok Ko",
      "photoUrl": "https://lh3.googleusercontent.com/a-/AAuE7mCcLVl_JJcU1MhehlvMYuvwSAckQT715hKkXuE4=s64",
      "userId": "09316774114625797444"
     },
     "user_tz": -540
    },
    "id": "kmivy4zsfpFd",
    "outputId": "099881e4-7975-463c-ab3b-0304b99eab1d"
   },
   "outputs": [
    {
     "name": "stderr",
     "output_type": "stream",
     "text": [
      "Using TensorFlow backend.\n",
      "WARNING: Logging before flag parsing goes to stderr.\n",
      "W0821 00:22:39.203564 140212972648320 deprecation_wrapper.py:119] From /usr/local/lib/python3.6/dist-packages/keras/backend/tensorflow_backend.py:74: The name tf.get_default_graph is deprecated. Please use tf.compat.v1.get_default_graph instead.\n",
      "\n",
      "W0821 00:22:39.238295 140212972648320 deprecation_wrapper.py:119] From /usr/local/lib/python3.6/dist-packages/keras/backend/tensorflow_backend.py:517: The name tf.placeholder is deprecated. Please use tf.compat.v1.placeholder instead.\n",
      "\n",
      "W0821 00:22:39.244916 140212972648320 deprecation_wrapper.py:119] From /usr/local/lib/python3.6/dist-packages/keras/backend/tensorflow_backend.py:4138: The name tf.random_uniform is deprecated. Please use tf.random.uniform instead.\n",
      "\n"
     ]
    },
    {
     "name": "stdout",
     "output_type": "stream",
     "text": [
      "_________________________________________________________________\n",
      "Layer (type)                 Output Shape              Param #   \n",
      "=================================================================\n",
      "simple_rnn_1 (SimpleRNN)     (None, 3)                 42        \n",
      "=================================================================\n",
      "Total params: 42\n",
      "Trainable params: 42\n",
      "Non-trainable params: 0\n",
      "_________________________________________________________________\n"
     ]
    }
   ],
   "source": [
    "from keras.models import Sequential\n",
    "from keras.layers import SimpleRNN\n",
    "\n",
    "\n",
    "model = Sequential()\n",
    "model.add(SimpleRNN(3, input_shape=(2, 10)))\n",
    "model.summary()"
   ]
  },
  {
   "cell_type": "code",
   "execution_count": 3,
   "metadata": {
    "colab": {
     "base_uri": "https://localhost:8080/",
     "height": 176
    },
    "colab_type": "code",
    "executionInfo": {
     "elapsed": 696,
     "status": "ok",
     "timestamp": 1566347168127,
     "user": {
      "displayName": "Jun Seok Ko",
      "photoUrl": "https://lh3.googleusercontent.com/a-/AAuE7mCcLVl_JJcU1MhehlvMYuvwSAckQT715hKkXuE4=s64",
      "userId": "09316774114625797444"
     },
     "user_tz": -540
    },
    "id": "L-WQeOK6jYxe",
    "outputId": "de6ad7de-407b-4d60-fb29-8c8edea681ba"
   },
   "outputs": [
    {
     "name": "stdout",
     "output_type": "stream",
     "text": [
      "_________________________________________________________________\n",
      "Layer (type)                 Output Shape              Param #   \n",
      "=================================================================\n",
      "simple_rnn_2 (SimpleRNN)     (8, 2, 3)                 42        \n",
      "=================================================================\n",
      "Total params: 42\n",
      "Trainable params: 42\n",
      "Non-trainable params: 0\n",
      "_________________________________________________________________\n"
     ]
    }
   ],
   "source": [
    "model = Sequential()\n",
    "model.add(SimpleRNN(3, batch_input_shape=(8, 2, 10), return_sequences=True))\n",
    "model.summary()"
   ]
  },
  {
   "cell_type": "markdown",
   "metadata": {
    "colab_type": "text",
    "id": "hW11VJPznKAp"
   },
   "source": [
    "## RNN with keras_2"
   ]
  },
  {
   "cell_type": "code",
   "execution_count": null,
   "metadata": {
    "colab": {},
    "colab_type": "code",
    "id": "YCfQfAp-kMpl"
   },
   "outputs": [],
   "source": [
    "import numpy as np\n",
    "import tensorflow as tf\n",
    "from tensorflow import keras\n",
    "from tensorflow.keras.layers import SimpleRNN"
   ]
  },
  {
   "cell_type": "code",
   "execution_count": null,
   "metadata": {
    "colab": {},
    "colab_type": "code",
    "id": "63JoLm-wnZs-"
   },
   "outputs": [],
   "source": [
    "tf.enable_eager_execution()"
   ]
  },
  {
   "cell_type": "code",
   "execution_count": null,
   "metadata": {
    "colab": {},
    "colab_type": "code",
    "id": "tik3wc7fnpEg"
   },
   "outputs": [],
   "source": [
    "# beter way : np.random.uniform(5,10)\n",
    "train_x = [[np.random.randint(1, 5) for x in range(5)], [np.random.randint(1, 5) for x in range(5)], [np.random.randint(1, 5) for x in range(5)], [np.random.randint(1, 5) for x in range(5)]]\n",
    "train_x = np.array(train_x)\n"
   ]
  },
  {
   "cell_type": "code",
   "execution_count": 29,
   "metadata": {
    "colab": {
     "base_uri": "https://localhost:8080/",
     "height": 34
    },
    "colab_type": "code",
    "executionInfo": {
     "elapsed": 2135,
     "status": "ok",
     "timestamp": 1566349176840,
     "user": {
      "displayName": "Jun Seok Ko",
      "photoUrl": "https://lh3.googleusercontent.com/a-/AAuE7mCcLVl_JJcU1MhehlvMYuvwSAckQT715hKkXuE4=s64",
      "userId": "09316774114625797444"
     },
     "user_tz": -540
    },
    "id": "PchbX_y4qV8e",
    "outputId": "893c1c42-33da-4633-e3bc-b807426d09d5"
   },
   "outputs": [
    {
     "data": {
      "text/plain": [
       "(1, 4, 5)"
      ]
     },
     "execution_count": 29,
     "metadata": {
      "tags": []
     },
     "output_type": "execute_result"
    }
   ],
   "source": [
    "train_x = np.expand_dims(train_x, axis=0)\n",
    "train_x.shape"
   ]
  },
  {
   "cell_type": "code",
   "execution_count": 32,
   "metadata": {
    "colab": {
     "base_uri": "https://localhost:8080/",
     "height": 87
    },
    "colab_type": "code",
    "executionInfo": {
     "elapsed": 2588,
     "status": "ok",
     "timestamp": 1566350905759,
     "user": {
      "displayName": "Jun Seok Ko",
      "photoUrl": "https://lh3.googleusercontent.com/a-/AAuE7mCcLVl_JJcU1MhehlvMYuvwSAckQT715hKkXuE4=s64",
      "userId": "09316774114625797444"
     },
     "user_tz": -540
    },
    "id": "froVv4i9yfZo",
    "outputId": "1efdb7aa-6a60-482d-e8b8-229f96743de5"
   },
   "outputs": [
    {
     "data": {
      "text/plain": [
       "array([[[3., 3., 3., 1., 2.],\n",
       "        [3., 3., 2., 4., 2.],\n",
       "        [1., 3., 4., 3., 1.],\n",
       "        [2., 3., 2., 3., 2.]]], dtype=float32)"
      ]
     },
     "execution_count": 32,
     "metadata": {
      "tags": []
     },
     "output_type": "execute_result"
    }
   ],
   "source": [
    "train_x"
   ]
  },
  {
   "cell_type": "code",
   "execution_count": null,
   "metadata": {
    "colab": {},
    "colab_type": "code",
    "id": "t5fazMCZrUb6"
   },
   "outputs": [],
   "source": [
    "train_x = train_x.astype(\"float32\")"
   ]
  },
  {
   "cell_type": "code",
   "execution_count": 31,
   "metadata": {
    "colab": {
     "base_uri": "https://localhost:8080/",
     "height": 176
    },
    "colab_type": "code",
    "executionInfo": {
     "elapsed": 1625,
     "status": "ok",
     "timestamp": 1566349176842,
     "user": {
      "displayName": "Jun Seok Ko",
      "photoUrl": "https://lh3.googleusercontent.com/a-/AAuE7mCcLVl_JJcU1MhehlvMYuvwSAckQT715hKkXuE4=s64",
      "userId": "09316774114625797444"
     },
     "user_tz": -540
    },
    "id": "BGs_wuvvn_1O",
    "outputId": "1adf4420-18d9-4cdd-bc9b-3a9c757e1167"
   },
   "outputs": [
    {
     "name": "stdout",
     "output_type": "stream",
     "text": [
      "train_x : [[[3. 3. 3. 1. 2.]\n",
      "  [3. 3. 2. 4. 2.]\n",
      "  [1. 3. 4. 3. 1.]\n",
      "  [2. 3. 2. 3. 2.]]], shape : (1, 4, 5)\n",
      "hidden states : [[[-0.99975735 -0.9814386   0.99880105]\n",
      "  [-0.99997437 -0.69413745  0.9849645 ]\n",
      "  [-0.9962417  -0.54182446  0.7175381 ]\n",
      "  [-0.99988306 -0.83928055  0.938873  ]]], shape : (1, 4, 3)\n",
      "last hidden state : [[-0.99988306 -0.83928055  0.938873  ]], shape : (1, 3)\n"
     ]
    }
   ],
   "source": [
    "rnn = SimpleRNN(3, return_sequences=True, return_state=True)\n",
    "\n",
    "hidden_states, last_states = rnn(train_x)\n",
    "\n",
    "print(f\"train_x : {train_x}, shape : {train_x.shape}\")\n",
    "print(f\"hidden states : {hidden_states}, shape : {hidden_states.shape}\")\n",
    "print(f\"last hidden state : {last_states}, shape : {last_states.shape}\")"
   ]
  },
  {
   "cell_type": "code",
   "execution_count": null,
   "metadata": {
    "colab": {},
    "colab_type": "code",
    "id": "xl5hnMP_pXlf"
   },
   "outputs": [],
   "source": [
    "from keras_preprocessing.text import Tokenizer\n",
    "\n",
    "\n",
    "text = \"나랑 점심 먹으러 갈래 메뉴는 햄버거 점심 메뉴 좋지\"\n",
    "t = Tokenizer()\n",
    "t.fit_on_texts([text])\n",
    "encoded = t.texts_to_sequences([text])[0]\n"
   ]
  },
  {
   "cell_type": "code",
   "execution_count": 41,
   "metadata": {
    "colab": {
     "base_uri": "https://localhost:8080/",
     "height": 34
    },
    "colab_type": "code",
    "executionInfo": {
     "elapsed": 1716,
     "status": "ok",
     "timestamp": 1566353352622,
     "user": {
      "displayName": "Jun Seok Ko",
      "photoUrl": "https://lh3.googleusercontent.com/a-/AAuE7mCcLVl_JJcU1MhehlvMYuvwSAckQT715hKkXuE4=s64",
      "userId": "09316774114625797444"
     },
     "user_tz": -540
    },
    "id": "xPs_iMLY70AK",
    "outputId": "f65fd29f-5a1a-4a98-8b62-6bd07f40ddb8"
   },
   "outputs": [
    {
     "data": {
      "text/plain": [
       "[[2, 1, 3, 4, 5, 6, 1, 7, 8]]"
      ]
     },
     "execution_count": 41,
     "metadata": {
      "tags": []
     },
     "output_type": "execute_result"
    }
   ],
   "source": [
    " t.texts_to_sequences([text])"
   ]
  },
  {
   "cell_type": "code",
   "execution_count": 36,
   "metadata": {
    "colab": {
     "base_uri": "https://localhost:8080/",
     "height": 34
    },
    "colab_type": "code",
    "executionInfo": {
     "elapsed": 1829,
     "status": "ok",
     "timestamp": 1566353219210,
     "user": {
      "displayName": "Jun Seok Ko",
      "photoUrl": "https://lh3.googleusercontent.com/a-/AAuE7mCcLVl_JJcU1MhehlvMYuvwSAckQT715hKkXuE4=s64",
      "userId": "09316774114625797444"
     },
     "user_tz": -540
    },
    "id": "iKSe5Hjx7FfR",
    "outputId": "7c9e8a17-7d77-4b53-9d76-5c08e6257075"
   },
   "outputs": [
    {
     "name": "stdout",
     "output_type": "stream",
     "text": [
      "단어 집합 크기 : 9\n"
     ]
    }
   ],
   "source": [
    "vocab_size = len(t.word_index) + 1\n",
    "\n",
    "print(f\"단어 집합 크기 : {vocab_size}\")"
   ]
  },
  {
   "cell_type": "code",
   "execution_count": 37,
   "metadata": {
    "colab": {
     "base_uri": "https://localhost:8080/",
     "height": 34
    },
    "colab_type": "code",
    "executionInfo": {
     "elapsed": 1729,
     "status": "ok",
     "timestamp": 1566353230585,
     "user": {
      "displayName": "Jun Seok Ko",
      "photoUrl": "https://lh3.googleusercontent.com/a-/AAuE7mCcLVl_JJcU1MhehlvMYuvwSAckQT715hKkXuE4=s64",
      "userId": "09316774114625797444"
     },
     "user_tz": -540
    },
    "id": "klLEDdx07QJA",
    "outputId": "69bfd5a0-f29b-4764-e3ad-891f88b76c42"
   },
   "outputs": [
    {
     "name": "stdout",
     "output_type": "stream",
     "text": [
      "{'점심': 1, '나랑': 2, '먹으러': 3, '갈래': 4, '메뉴는': 5, '햄버거': 6, '메뉴': 7, '좋지': 8}\n"
     ]
    }
   ],
   "source": [
    "print(t.word_index)"
   ]
  },
  {
   "cell_type": "code",
   "execution_count": 44,
   "metadata": {
    "colab": {
     "base_uri": "https://localhost:8080/",
     "height": 34
    },
    "colab_type": "code",
    "executionInfo": {
     "elapsed": 1742,
     "status": "ok",
     "timestamp": 1566353432164,
     "user": {
      "displayName": "Jun Seok Ko",
      "photoUrl": "https://lh3.googleusercontent.com/a-/AAuE7mCcLVl_JJcU1MhehlvMYuvwSAckQT715hKkXuE4=s64",
      "userId": "09316774114625797444"
     },
     "user_tz": -540
    },
    "id": "42EwES5M7XmO",
    "outputId": "d9a22059-0b5b-42c6-a4c7-5c11e2efd104"
   },
   "outputs": [
    {
     "name": "stdout",
     "output_type": "stream",
     "text": [
      "단어 묶음의 개수: 8\n"
     ]
    }
   ],
   "source": [
    "sequences = list()\n",
    "for c in range(1, len(encoded)):\n",
    "    sequence = encoded[c - 1:c + 1]\n",
    "    sequences.append(sequence)\n",
    "print(f\"단어 묶음의 개수: {len(sequences)}\")"
   ]
  },
  {
   "cell_type": "code",
   "execution_count": 42,
   "metadata": {
    "colab": {
     "base_uri": "https://localhost:8080/",
     "height": 34
    },
    "colab_type": "code",
    "executionInfo": {
     "elapsed": 1703,
     "status": "ok",
     "timestamp": 1566353399080,
     "user": {
      "displayName": "Jun Seok Ko",
      "photoUrl": "https://lh3.googleusercontent.com/a-/AAuE7mCcLVl_JJcU1MhehlvMYuvwSAckQT715hKkXuE4=s64",
      "userId": "09316774114625797444"
     },
     "user_tz": -540
    },
    "id": "u1OdMbiC7sFK",
    "outputId": "2639caa1-5bc9-4685-aec8-f1d2bfe5be01"
   },
   "outputs": [
    {
     "data": {
      "text/plain": [
       "[[2, 1], [1, 3], [3, 4], [4, 5], [5, 6], [6, 1], [1, 7], [7, 8]]"
      ]
     },
     "execution_count": 42,
     "metadata": {
      "tags": []
     },
     "output_type": "execute_result"
    }
   ],
   "source": [
    "sequences"
   ]
  },
  {
   "cell_type": "code",
   "execution_count": 48,
   "metadata": {
    "colab": {
     "base_uri": "https://localhost:8080/",
     "height": 34
    },
    "colab_type": "code",
    "executionInfo": {
     "elapsed": 2574,
     "status": "ok",
     "timestamp": 1566353530434,
     "user": {
      "displayName": "Jun Seok Ko",
      "photoUrl": "https://lh3.googleusercontent.com/a-/AAuE7mCcLVl_JJcU1MhehlvMYuvwSAckQT715hKkXuE4=s64",
      "userId": "09316774114625797444"
     },
     "user_tz": -540
    },
    "id": "cd8UayRv8BZF",
    "outputId": "4ec89c2e-03dc-4c76-e523-17ea002310c9"
   },
   "outputs": [
    {
     "data": {
      "text/plain": [
       "array([1, 3, 4, 5, 6, 1, 7, 8])"
      ]
     },
     "execution_count": 48,
     "metadata": {
      "tags": []
     },
     "output_type": "execute_result"
    }
   ],
   "source": [
    "import numpy as np\n",
    "\n",
    "\n",
    "x ,y = zip(*sequences)\n",
    "x = np.array(x)\n",
    "y = np.array(y)\n",
    "y"
   ]
  },
  {
   "cell_type": "code",
   "execution_count": 80,
   "metadata": {
    "colab": {
     "base_uri": "https://localhost:8080/",
     "height": 1000
    },
    "colab_type": "code",
    "executionInfo": {
     "elapsed": 1757,
     "status": "ok",
     "timestamp": 1566355967326,
     "user": {
      "displayName": "Jun Seok Ko",
      "photoUrl": "https://lh3.googleusercontent.com/a-/AAuE7mCcLVl_JJcU1MhehlvMYuvwSAckQT715hKkXuE4=s64",
      "userId": "09316774114625797444"
     },
     "user_tz": -540
    },
    "id": "Ht7Ds0M48Rlk",
    "outputId": "06358956-ab68-430a-c6bc-e4800593a8df"
   },
   "outputs": [
    {
     "data": {
      "text/plain": [
       "array([[[1., 0., 0., 0., 0., 0., 0., 0., 0.],\n",
       "        [0., 1., 0., 0., 0., 0., 0., 0., 0.],\n",
       "        [1., 0., 0., 0., 0., 0., 0., 0., 0.],\n",
       "        [1., 0., 0., 0., 0., 0., 0., 0., 0.],\n",
       "        [1., 0., 0., 0., 0., 0., 0., 0., 0.],\n",
       "        [1., 0., 0., 0., 0., 0., 0., 0., 0.],\n",
       "        [1., 0., 0., 0., 0., 0., 0., 0., 0.],\n",
       "        [1., 0., 0., 0., 0., 0., 0., 0., 0.],\n",
       "        [1., 0., 0., 0., 0., 0., 0., 0., 0.]],\n",
       "\n",
       "       [[1., 0., 0., 0., 0., 0., 0., 0., 0.],\n",
       "        [1., 0., 0., 0., 0., 0., 0., 0., 0.],\n",
       "        [1., 0., 0., 0., 0., 0., 0., 0., 0.],\n",
       "        [0., 1., 0., 0., 0., 0., 0., 0., 0.],\n",
       "        [1., 0., 0., 0., 0., 0., 0., 0., 0.],\n",
       "        [1., 0., 0., 0., 0., 0., 0., 0., 0.],\n",
       "        [1., 0., 0., 0., 0., 0., 0., 0., 0.],\n",
       "        [1., 0., 0., 0., 0., 0., 0., 0., 0.],\n",
       "        [1., 0., 0., 0., 0., 0., 0., 0., 0.]],\n",
       "\n",
       "       [[1., 0., 0., 0., 0., 0., 0., 0., 0.],\n",
       "        [1., 0., 0., 0., 0., 0., 0., 0., 0.],\n",
       "        [1., 0., 0., 0., 0., 0., 0., 0., 0.],\n",
       "        [1., 0., 0., 0., 0., 0., 0., 0., 0.],\n",
       "        [0., 1., 0., 0., 0., 0., 0., 0., 0.],\n",
       "        [1., 0., 0., 0., 0., 0., 0., 0., 0.],\n",
       "        [1., 0., 0., 0., 0., 0., 0., 0., 0.],\n",
       "        [1., 0., 0., 0., 0., 0., 0., 0., 0.],\n",
       "        [1., 0., 0., 0., 0., 0., 0., 0., 0.]],\n",
       "\n",
       "       [[1., 0., 0., 0., 0., 0., 0., 0., 0.],\n",
       "        [1., 0., 0., 0., 0., 0., 0., 0., 0.],\n",
       "        [1., 0., 0., 0., 0., 0., 0., 0., 0.],\n",
       "        [1., 0., 0., 0., 0., 0., 0., 0., 0.],\n",
       "        [1., 0., 0., 0., 0., 0., 0., 0., 0.],\n",
       "        [0., 1., 0., 0., 0., 0., 0., 0., 0.],\n",
       "        [1., 0., 0., 0., 0., 0., 0., 0., 0.],\n",
       "        [1., 0., 0., 0., 0., 0., 0., 0., 0.],\n",
       "        [1., 0., 0., 0., 0., 0., 0., 0., 0.]],\n",
       "\n",
       "       [[1., 0., 0., 0., 0., 0., 0., 0., 0.],\n",
       "        [1., 0., 0., 0., 0., 0., 0., 0., 0.],\n",
       "        [1., 0., 0., 0., 0., 0., 0., 0., 0.],\n",
       "        [1., 0., 0., 0., 0., 0., 0., 0., 0.],\n",
       "        [1., 0., 0., 0., 0., 0., 0., 0., 0.],\n",
       "        [1., 0., 0., 0., 0., 0., 0., 0., 0.],\n",
       "        [0., 1., 0., 0., 0., 0., 0., 0., 0.],\n",
       "        [1., 0., 0., 0., 0., 0., 0., 0., 0.],\n",
       "        [1., 0., 0., 0., 0., 0., 0., 0., 0.]],\n",
       "\n",
       "       [[1., 0., 0., 0., 0., 0., 0., 0., 0.],\n",
       "        [0., 1., 0., 0., 0., 0., 0., 0., 0.],\n",
       "        [1., 0., 0., 0., 0., 0., 0., 0., 0.],\n",
       "        [1., 0., 0., 0., 0., 0., 0., 0., 0.],\n",
       "        [1., 0., 0., 0., 0., 0., 0., 0., 0.],\n",
       "        [1., 0., 0., 0., 0., 0., 0., 0., 0.],\n",
       "        [1., 0., 0., 0., 0., 0., 0., 0., 0.],\n",
       "        [1., 0., 0., 0., 0., 0., 0., 0., 0.],\n",
       "        [1., 0., 0., 0., 0., 0., 0., 0., 0.]],\n",
       "\n",
       "       [[1., 0., 0., 0., 0., 0., 0., 0., 0.],\n",
       "        [1., 0., 0., 0., 0., 0., 0., 0., 0.],\n",
       "        [1., 0., 0., 0., 0., 0., 0., 0., 0.],\n",
       "        [1., 0., 0., 0., 0., 0., 0., 0., 0.],\n",
       "        [1., 0., 0., 0., 0., 0., 0., 0., 0.],\n",
       "        [1., 0., 0., 0., 0., 0., 0., 0., 0.],\n",
       "        [1., 0., 0., 0., 0., 0., 0., 0., 0.],\n",
       "        [0., 1., 0., 0., 0., 0., 0., 0., 0.],\n",
       "        [1., 0., 0., 0., 0., 0., 0., 0., 0.]],\n",
       "\n",
       "       [[1., 0., 0., 0., 0., 0., 0., 0., 0.],\n",
       "        [1., 0., 0., 0., 0., 0., 0., 0., 0.],\n",
       "        [1., 0., 0., 0., 0., 0., 0., 0., 0.],\n",
       "        [1., 0., 0., 0., 0., 0., 0., 0., 0.],\n",
       "        [1., 0., 0., 0., 0., 0., 0., 0., 0.],\n",
       "        [1., 0., 0., 0., 0., 0., 0., 0., 0.],\n",
       "        [1., 0., 0., 0., 0., 0., 0., 0., 0.],\n",
       "        [1., 0., 0., 0., 0., 0., 0., 0., 0.],\n",
       "        [0., 1., 0., 0., 0., 0., 0., 0., 0.]]], dtype=float32)"
      ]
     },
     "execution_count": 80,
     "metadata": {
      "tags": []
     },
     "output_type": "execute_result"
    }
   ],
   "source": [
    "from keras.utils import to_categorical\n",
    "\n",
    "\n",
    "y = to_categorical(y, num_classes=vocab_size)\n",
    "y"
   ]
  },
  {
   "cell_type": "code",
   "execution_count": 54,
   "metadata": {
    "colab": {
     "base_uri": "https://localhost:8080/",
     "height": 34
    },
    "colab_type": "code",
    "executionInfo": {
     "elapsed": 1698,
     "status": "ok",
     "timestamp": 1566354069403,
     "user": {
      "displayName": "Jun Seok Ko",
      "photoUrl": "https://lh3.googleusercontent.com/a-/AAuE7mCcLVl_JJcU1MhehlvMYuvwSAckQT715hKkXuE4=s64",
      "userId": "09316774114625797444"
     },
     "user_tz": -540
    },
    "id": "esEPGXQd8Yn2",
    "outputId": "5492943c-3295-48b0-c770-b90c91945538"
   },
   "outputs": [
    {
     "data": {
      "text/plain": [
       "array([2, 1, 3, 4, 5, 6, 1, 7])"
      ]
     },
     "execution_count": 54,
     "metadata": {
      "tags": []
     },
     "output_type": "execute_result"
    }
   ],
   "source": [
    "x"
   ]
  },
  {
   "cell_type": "code",
   "execution_count": null,
   "metadata": {
    "colab": {},
    "colab_type": "code",
    "id": "C_9todHe8d8I"
   },
   "outputs": [],
   "source": [
    "from keras.layers import Embedding, Dense, SimpleRNN\n",
    "from keras.models import Sequential\n",
    "tf.compat.v1.disable_eager_execution()\n",
    "\n",
    "\n",
    "model = Sequential()\n",
    "model.add(Embedding(vocab_size, 9, input_length=1))\n",
    "model.add(SimpleRNN(9))\n",
    "model.add(Dense(vocab_size, activation=\"softmax\"))\n"
   ]
  },
  {
   "cell_type": "code",
   "execution_count": 77,
   "metadata": {
    "colab": {
     "base_uri": "https://localhost:8080/",
     "height": 1000
    },
    "colab_type": "code",
    "executionInfo": {
     "elapsed": 6071,
     "status": "ok",
     "timestamp": 1566354620940,
     "user": {
      "displayName": "Jun Seok Ko",
      "photoUrl": "https://lh3.googleusercontent.com/a-/AAuE7mCcLVl_JJcU1MhehlvMYuvwSAckQT715hKkXuE4=s64",
      "userId": "09316774114625797444"
     },
     "user_tz": -540
    },
    "id": "agPkHCAJ818B",
    "outputId": "855d2f0b-28e3-48fd-b517-be94d5c01781"
   },
   "outputs": [
    {
     "name": "stdout",
     "output_type": "stream",
     "text": [
      "Epoch 1/500\n",
      " - 0s - loss: 2.2097 - acc: 0.0000e+00\n",
      "Epoch 2/500\n",
      " - 0s - loss: 2.2066 - acc: 0.0000e+00\n",
      "Epoch 3/500\n",
      " - 0s - loss: 2.2036 - acc: 0.0000e+00\n",
      "Epoch 4/500\n",
      " - 0s - loss: 2.2006 - acc: 0.1250\n",
      "Epoch 5/500\n",
      " - 0s - loss: 2.1976 - acc: 0.1250\n",
      "Epoch 6/500\n",
      " - 0s - loss: 2.1946 - acc: 0.1250\n",
      "Epoch 7/500\n",
      " - 0s - loss: 2.1916 - acc: 0.1250\n",
      "Epoch 8/500\n",
      " - 0s - loss: 2.1887 - acc: 0.1250\n",
      "Epoch 9/500\n",
      " - 0s - loss: 2.1857 - acc: 0.1250\n",
      "Epoch 10/500\n",
      " - 0s - loss: 2.1827 - acc: 0.1250\n",
      "Epoch 11/500\n",
      " - 0s - loss: 2.1797 - acc: 0.1250\n",
      "Epoch 12/500\n",
      " - 0s - loss: 2.1767 - acc: 0.1250\n",
      "Epoch 13/500\n",
      " - 0s - loss: 2.1737 - acc: 0.1250\n",
      "Epoch 14/500\n",
      " - 0s - loss: 2.1707 - acc: 0.1250\n",
      "Epoch 15/500\n",
      " - 0s - loss: 2.1677 - acc: 0.1250\n",
      "Epoch 16/500\n",
      " - 0s - loss: 2.1646 - acc: 0.1250\n",
      "Epoch 17/500\n",
      " - 0s - loss: 2.1616 - acc: 0.3750\n",
      "Epoch 18/500\n",
      " - 0s - loss: 2.1585 - acc: 0.3750\n",
      "Epoch 19/500\n",
      " - 0s - loss: 2.1553 - acc: 0.3750\n",
      "Epoch 20/500\n",
      " - 0s - loss: 2.1522 - acc: 0.3750\n",
      "Epoch 21/500\n",
      " - 0s - loss: 2.1490 - acc: 0.3750\n",
      "Epoch 22/500\n",
      " - 0s - loss: 2.1458 - acc: 0.3750\n",
      "Epoch 23/500\n",
      " - 0s - loss: 2.1426 - acc: 0.3750\n",
      "Epoch 24/500\n",
      " - 0s - loss: 2.1393 - acc: 0.3750\n",
      "Epoch 25/500\n",
      " - 0s - loss: 2.1360 - acc: 0.3750\n",
      "Epoch 26/500\n",
      " - 0s - loss: 2.1326 - acc: 0.5000\n",
      "Epoch 27/500\n",
      " - 0s - loss: 2.1292 - acc: 0.5000\n",
      "Epoch 28/500\n",
      " - 0s - loss: 2.1258 - acc: 0.5000\n",
      "Epoch 29/500\n",
      " - 0s - loss: 2.1223 - acc: 0.5000\n",
      "Epoch 30/500\n",
      " - 0s - loss: 2.1187 - acc: 0.5000\n",
      "Epoch 31/500\n",
      " - 0s - loss: 2.1152 - acc: 0.5000\n",
      "Epoch 32/500\n",
      " - 0s - loss: 2.1115 - acc: 0.5000\n",
      "Epoch 33/500\n",
      " - 0s - loss: 2.1078 - acc: 0.5000\n",
      "Epoch 34/500\n",
      " - 0s - loss: 2.1041 - acc: 0.5000\n",
      "Epoch 35/500\n",
      " - 0s - loss: 2.1003 - acc: 0.5000\n",
      "Epoch 36/500\n",
      " - 0s - loss: 2.0964 - acc: 0.5000\n",
      "Epoch 37/500\n",
      " - 0s - loss: 2.0925 - acc: 0.5000\n",
      "Epoch 38/500\n",
      " - 0s - loss: 2.0886 - acc: 0.5000\n",
      "Epoch 39/500\n",
      " - 0s - loss: 2.0845 - acc: 0.5000\n",
      "Epoch 40/500\n",
      " - 0s - loss: 2.0804 - acc: 0.5000\n",
      "Epoch 41/500\n",
      " - 0s - loss: 2.0763 - acc: 0.5000\n",
      "Epoch 42/500\n",
      " - 0s - loss: 2.0721 - acc: 0.5000\n",
      "Epoch 43/500\n",
      " - 0s - loss: 2.0678 - acc: 0.5000\n",
      "Epoch 44/500\n",
      " - 0s - loss: 2.0634 - acc: 0.5000\n",
      "Epoch 45/500\n",
      " - 0s - loss: 2.0590 - acc: 0.5000\n",
      "Epoch 46/500\n",
      " - 0s - loss: 2.0545 - acc: 0.5000\n",
      "Epoch 47/500\n",
      " - 0s - loss: 2.0500 - acc: 0.5000\n",
      "Epoch 48/500\n",
      " - 0s - loss: 2.0453 - acc: 0.5000\n",
      "Epoch 49/500\n",
      " - 0s - loss: 2.0406 - acc: 0.5000\n",
      "Epoch 50/500\n",
      " - 0s - loss: 2.0359 - acc: 0.5000\n",
      "Epoch 51/500\n",
      " - 0s - loss: 2.0310 - acc: 0.5000\n",
      "Epoch 52/500\n",
      " - 0s - loss: 2.0261 - acc: 0.5000\n",
      "Epoch 53/500\n",
      " - 0s - loss: 2.0211 - acc: 0.5000\n",
      "Epoch 54/500\n",
      " - 0s - loss: 2.0161 - acc: 0.5000\n",
      "Epoch 55/500\n",
      " - 0s - loss: 2.0109 - acc: 0.5000\n",
      "Epoch 56/500\n",
      " - 0s - loss: 2.0057 - acc: 0.5000\n",
      "Epoch 57/500\n",
      " - 0s - loss: 2.0005 - acc: 0.5000\n",
      "Epoch 58/500\n",
      " - 0s - loss: 1.9951 - acc: 0.5000\n",
      "Epoch 59/500\n",
      " - 0s - loss: 1.9897 - acc: 0.5000\n",
      "Epoch 60/500\n",
      " - 0s - loss: 1.9842 - acc: 0.5000\n",
      "Epoch 61/500\n",
      " - 0s - loss: 1.9786 - acc: 0.5000\n",
      "Epoch 62/500\n",
      " - 0s - loss: 1.9729 - acc: 0.5000\n",
      "Epoch 63/500\n",
      " - 0s - loss: 1.9672 - acc: 0.5000\n",
      "Epoch 64/500\n",
      " - 0s - loss: 1.9614 - acc: 0.5000\n",
      "Epoch 65/500\n",
      " - 0s - loss: 1.9555 - acc: 0.5000\n",
      "Epoch 66/500\n",
      " - 0s - loss: 1.9496 - acc: 0.5000\n",
      "Epoch 67/500\n",
      " - 0s - loss: 1.9435 - acc: 0.5000\n",
      "Epoch 68/500\n",
      " - 0s - loss: 1.9374 - acc: 0.5000\n",
      "Epoch 69/500\n",
      " - 0s - loss: 1.9313 - acc: 0.5000\n",
      "Epoch 70/500\n",
      " - 0s - loss: 1.9250 - acc: 0.5000\n",
      "Epoch 71/500\n",
      " - 0s - loss: 1.9187 - acc: 0.5000\n",
      "Epoch 72/500\n",
      " - 0s - loss: 1.9123 - acc: 0.5000\n",
      "Epoch 73/500\n",
      " - 0s - loss: 1.9059 - acc: 0.6250\n",
      "Epoch 74/500\n",
      " - 0s - loss: 1.8993 - acc: 0.6250\n",
      "Epoch 75/500\n",
      " - 0s - loss: 1.8927 - acc: 0.6250\n",
      "Epoch 76/500\n",
      " - 0s - loss: 1.8860 - acc: 0.6250\n",
      "Epoch 77/500\n",
      " - 0s - loss: 1.8793 - acc: 0.6250\n",
      "Epoch 78/500\n",
      " - 0s - loss: 1.8725 - acc: 0.6250\n",
      "Epoch 79/500\n",
      " - 0s - loss: 1.8656 - acc: 0.6250\n",
      "Epoch 80/500\n",
      " - 0s - loss: 1.8587 - acc: 0.6250\n",
      "Epoch 81/500\n",
      " - 0s - loss: 1.8517 - acc: 0.6250\n",
      "Epoch 82/500\n",
      " - 0s - loss: 1.8446 - acc: 0.6250\n",
      "Epoch 83/500\n",
      " - 0s - loss: 1.8375 - acc: 0.6250\n",
      "Epoch 84/500\n",
      " - 0s - loss: 1.8303 - acc: 0.6250\n",
      "Epoch 85/500\n",
      " - 0s - loss: 1.8231 - acc: 0.6250\n",
      "Epoch 86/500\n",
      " - 0s - loss: 1.8157 - acc: 0.6250\n",
      "Epoch 87/500\n",
      " - 0s - loss: 1.8084 - acc: 0.6250\n",
      "Epoch 88/500\n",
      " - 0s - loss: 1.8010 - acc: 0.6250\n",
      "Epoch 89/500\n",
      " - 0s - loss: 1.7935 - acc: 0.6250\n",
      "Epoch 90/500\n",
      " - 0s - loss: 1.7860 - acc: 0.6250\n",
      "Epoch 91/500\n",
      " - 0s - loss: 1.7784 - acc: 0.6250\n",
      "Epoch 92/500\n",
      " - 0s - loss: 1.7708 - acc: 0.6250\n",
      "Epoch 93/500\n",
      " - 0s - loss: 1.7631 - acc: 0.6250\n",
      "Epoch 94/500\n",
      " - 0s - loss: 1.7554 - acc: 0.6250\n",
      "Epoch 95/500\n",
      " - 0s - loss: 1.7476 - acc: 0.6250\n",
      "Epoch 96/500\n",
      " - 0s - loss: 1.7398 - acc: 0.6250\n",
      "Epoch 97/500\n",
      " - 0s - loss: 1.7320 - acc: 0.6250\n",
      "Epoch 98/500\n",
      " - 0s - loss: 1.7241 - acc: 0.6250\n",
      "Epoch 99/500\n",
      " - 0s - loss: 1.7162 - acc: 0.6250\n",
      "Epoch 100/500\n",
      " - 0s - loss: 1.7083 - acc: 0.6250\n",
      "Epoch 101/500\n",
      " - 0s - loss: 1.7003 - acc: 0.6250\n",
      "Epoch 102/500\n",
      " - 0s - loss: 1.6923 - acc: 0.7500\n",
      "Epoch 103/500\n",
      " - 0s - loss: 1.6842 - acc: 0.7500\n",
      "Epoch 104/500\n",
      " - 0s - loss: 1.6761 - acc: 0.7500\n",
      "Epoch 105/500\n",
      " - 0s - loss: 1.6680 - acc: 0.7500\n",
      "Epoch 106/500\n",
      " - 0s - loss: 1.6599 - acc: 0.7500\n",
      "Epoch 107/500\n",
      " - 0s - loss: 1.6518 - acc: 0.7500\n",
      "Epoch 108/500\n",
      " - 0s - loss: 1.6436 - acc: 0.7500\n",
      "Epoch 109/500\n",
      " - 0s - loss: 1.6354 - acc: 0.7500\n",
      "Epoch 110/500\n",
      " - 0s - loss: 1.6272 - acc: 0.7500\n",
      "Epoch 111/500\n",
      " - 0s - loss: 1.6190 - acc: 0.7500\n",
      "Epoch 112/500\n",
      " - 0s - loss: 1.6107 - acc: 0.7500\n",
      "Epoch 113/500\n",
      " - 0s - loss: 1.6025 - acc: 0.7500\n",
      "Epoch 114/500\n",
      " - 0s - loss: 1.5942 - acc: 0.7500\n",
      "Epoch 115/500\n",
      " - 0s - loss: 1.5860 - acc: 0.7500\n",
      "Epoch 116/500\n",
      " - 0s - loss: 1.5777 - acc: 0.7500\n",
      "Epoch 117/500\n",
      " - 0s - loss: 1.5694 - acc: 0.7500\n",
      "Epoch 118/500\n",
      " - 0s - loss: 1.5611 - acc: 0.7500\n",
      "Epoch 119/500\n",
      " - 0s - loss: 1.5528 - acc: 0.7500\n",
      "Epoch 120/500\n",
      " - 0s - loss: 1.5445 - acc: 0.7500\n",
      "Epoch 121/500\n",
      " - 0s - loss: 1.5363 - acc: 0.7500\n",
      "Epoch 122/500\n",
      " - 0s - loss: 1.5280 - acc: 0.7500\n",
      "Epoch 123/500\n",
      " - 0s - loss: 1.5197 - acc: 0.7500\n",
      "Epoch 124/500\n",
      " - 0s - loss: 1.5114 - acc: 0.7500\n",
      "Epoch 125/500\n",
      " - 0s - loss: 1.5031 - acc: 0.7500\n",
      "Epoch 126/500\n",
      " - 0s - loss: 1.4948 - acc: 0.7500\n",
      "Epoch 127/500\n",
      " - 0s - loss: 1.4865 - acc: 0.7500\n",
      "Epoch 128/500\n",
      " - 0s - loss: 1.4783 - acc: 0.7500\n",
      "Epoch 129/500\n",
      " - 0s - loss: 1.4700 - acc: 0.7500\n",
      "Epoch 130/500\n",
      " - 0s - loss: 1.4618 - acc: 0.7500\n",
      "Epoch 131/500\n",
      " - 0s - loss: 1.4535 - acc: 0.7500\n",
      "Epoch 132/500\n",
      " - 0s - loss: 1.4453 - acc: 0.7500\n",
      "Epoch 133/500\n",
      " - 0s - loss: 1.4371 - acc: 0.7500\n",
      "Epoch 134/500\n",
      " - 0s - loss: 1.4289 - acc: 0.7500\n",
      "Epoch 135/500\n",
      " - 0s - loss: 1.4207 - acc: 0.7500\n",
      "Epoch 136/500\n",
      " - 0s - loss: 1.4125 - acc: 0.7500\n",
      "Epoch 137/500\n",
      " - 0s - loss: 1.4043 - acc: 0.7500\n",
      "Epoch 138/500\n",
      " - 0s - loss: 1.3962 - acc: 0.7500\n",
      "Epoch 139/500\n",
      " - 0s - loss: 1.3881 - acc: 0.7500\n",
      "Epoch 140/500\n",
      " - 0s - loss: 1.3799 - acc: 0.7500\n",
      "Epoch 141/500\n",
      " - 0s - loss: 1.3718 - acc: 0.7500\n",
      "Epoch 142/500\n",
      " - 0s - loss: 1.3638 - acc: 0.7500\n",
      "Epoch 143/500\n",
      " - 0s - loss: 1.3557 - acc: 0.7500\n",
      "Epoch 144/500\n",
      " - 0s - loss: 1.3477 - acc: 0.7500\n",
      "Epoch 145/500\n",
      " - 0s - loss: 1.3396 - acc: 0.7500\n",
      "Epoch 146/500\n",
      " - 0s - loss: 1.3316 - acc: 0.7500\n",
      "Epoch 147/500\n",
      " - 0s - loss: 1.3237 - acc: 0.7500\n",
      "Epoch 148/500\n",
      " - 0s - loss: 1.3157 - acc: 0.7500\n",
      "Epoch 149/500\n",
      " - 0s - loss: 1.3078 - acc: 0.7500\n",
      "Epoch 150/500\n",
      " - 0s - loss: 1.2998 - acc: 0.7500\n",
      "Epoch 151/500\n",
      " - 0s - loss: 1.2919 - acc: 0.7500\n",
      "Epoch 152/500\n",
      " - 0s - loss: 1.2841 - acc: 0.7500\n",
      "Epoch 153/500\n",
      " - 0s - loss: 1.2762 - acc: 0.7500\n",
      "Epoch 154/500\n",
      " - 0s - loss: 1.2684 - acc: 0.7500\n",
      "Epoch 155/500\n",
      " - 0s - loss: 1.2606 - acc: 0.7500\n",
      "Epoch 156/500\n",
      " - 0s - loss: 1.2528 - acc: 0.7500\n",
      "Epoch 157/500\n",
      " - 0s - loss: 1.2451 - acc: 0.7500\n",
      "Epoch 158/500\n",
      " - 0s - loss: 1.2373 - acc: 0.7500\n",
      "Epoch 159/500\n",
      " - 0s - loss: 1.2296 - acc: 0.7500\n",
      "Epoch 160/500\n",
      " - 0s - loss: 1.2220 - acc: 0.7500\n",
      "Epoch 161/500\n",
      " - 0s - loss: 1.2143 - acc: 0.7500\n",
      "Epoch 162/500\n",
      " - 0s - loss: 1.2067 - acc: 0.7500\n",
      "Epoch 163/500\n",
      " - 0s - loss: 1.1991 - acc: 0.7500\n",
      "Epoch 164/500\n",
      " - 0s - loss: 1.1915 - acc: 0.7500\n",
      "Epoch 165/500\n",
      " - 0s - loss: 1.1840 - acc: 0.7500\n",
      "Epoch 166/500\n",
      " - 0s - loss: 1.1765 - acc: 0.7500\n",
      "Epoch 167/500\n",
      " - 0s - loss: 1.1690 - acc: 0.7500\n",
      "Epoch 168/500\n",
      " - 0s - loss: 1.1616 - acc: 0.7500\n",
      "Epoch 169/500\n",
      " - 0s - loss: 1.1541 - acc: 0.7500\n",
      "Epoch 170/500\n",
      " - 0s - loss: 1.1467 - acc: 0.7500\n",
      "Epoch 171/500\n",
      " - 0s - loss: 1.1394 - acc: 0.7500\n",
      "Epoch 172/500\n",
      " - 0s - loss: 1.1321 - acc: 0.7500\n",
      "Epoch 173/500\n",
      " - 0s - loss: 1.1248 - acc: 0.7500\n",
      "Epoch 174/500\n",
      " - 0s - loss: 1.1175 - acc: 0.7500\n",
      "Epoch 175/500\n",
      " - 0s - loss: 1.1103 - acc: 0.7500\n",
      "Epoch 176/500\n",
      " - 0s - loss: 1.1031 - acc: 0.7500\n",
      "Epoch 177/500\n",
      " - 0s - loss: 1.0959 - acc: 0.7500\n",
      "Epoch 178/500\n",
      " - 0s - loss: 1.0888 - acc: 0.7500\n",
      "Epoch 179/500\n",
      " - 0s - loss: 1.0817 - acc: 0.7500\n",
      "Epoch 180/500\n",
      " - 0s - loss: 1.0746 - acc: 0.7500\n",
      "Epoch 181/500\n",
      " - 0s - loss: 1.0676 - acc: 0.7500\n",
      "Epoch 182/500\n",
      " - 0s - loss: 1.0606 - acc: 0.7500\n",
      "Epoch 183/500\n",
      " - 0s - loss: 1.0536 - acc: 0.7500\n",
      "Epoch 184/500\n",
      " - 0s - loss: 1.0467 - acc: 0.8750\n",
      "Epoch 185/500\n",
      " - 0s - loss: 1.0398 - acc: 0.8750\n",
      "Epoch 186/500\n",
      " - 0s - loss: 1.0330 - acc: 0.8750\n",
      "Epoch 187/500\n",
      " - 0s - loss: 1.0262 - acc: 0.8750\n",
      "Epoch 188/500\n",
      " - 0s - loss: 1.0194 - acc: 0.8750\n",
      "Epoch 189/500\n",
      " - 0s - loss: 1.0126 - acc: 0.8750\n",
      "Epoch 190/500\n",
      " - 0s - loss: 1.0059 - acc: 0.8750\n",
      "Epoch 191/500\n",
      " - 0s - loss: 0.9993 - acc: 0.8750\n",
      "Epoch 192/500\n",
      " - 0s - loss: 0.9926 - acc: 0.8750\n",
      "Epoch 193/500\n",
      " - 0s - loss: 0.9861 - acc: 0.8750\n",
      "Epoch 194/500\n",
      " - 0s - loss: 0.9795 - acc: 0.8750\n",
      "Epoch 195/500\n",
      " - 0s - loss: 0.9730 - acc: 0.8750\n",
      "Epoch 196/500\n",
      " - 0s - loss: 0.9665 - acc: 0.8750\n",
      "Epoch 197/500\n",
      " - 0s - loss: 0.9601 - acc: 0.8750\n",
      "Epoch 198/500\n",
      " - 0s - loss: 0.9537 - acc: 0.8750\n",
      "Epoch 199/500\n",
      " - 0s - loss: 0.9474 - acc: 0.8750\n",
      "Epoch 200/500\n",
      " - 0s - loss: 0.9411 - acc: 0.8750\n",
      "Epoch 201/500\n",
      " - 0s - loss: 0.9348 - acc: 0.8750\n",
      "Epoch 202/500\n",
      " - 0s - loss: 0.9286 - acc: 0.8750\n",
      "Epoch 203/500\n",
      " - 0s - loss: 0.9224 - acc: 0.8750\n",
      "Epoch 204/500\n",
      " - 0s - loss: 0.9162 - acc: 0.8750\n",
      "Epoch 205/500\n",
      " - 0s - loss: 0.9101 - acc: 0.8750\n",
      "Epoch 206/500\n",
      " - 0s - loss: 0.9040 - acc: 0.8750\n",
      "Epoch 207/500\n",
      " - 0s - loss: 0.8980 - acc: 0.8750\n",
      "Epoch 208/500\n",
      " - 0s - loss: 0.8920 - acc: 0.8750\n",
      "Epoch 209/500\n",
      " - 0s - loss: 0.8861 - acc: 0.8750\n",
      "Epoch 210/500\n",
      " - 0s - loss: 0.8802 - acc: 0.8750\n",
      "Epoch 211/500\n",
      " - 0s - loss: 0.8743 - acc: 0.8750\n",
      "Epoch 212/500\n",
      " - 0s - loss: 0.8685 - acc: 0.8750\n",
      "Epoch 213/500\n",
      " - 0s - loss: 0.8627 - acc: 0.8750\n",
      "Epoch 214/500\n",
      " - 0s - loss: 0.8570 - acc: 0.8750\n",
      "Epoch 215/500\n",
      " - 0s - loss: 0.8513 - acc: 0.8750\n",
      "Epoch 216/500\n",
      " - 0s - loss: 0.8456 - acc: 0.8750\n",
      "Epoch 217/500\n",
      " - 0s - loss: 0.8400 - acc: 0.8750\n",
      "Epoch 218/500\n",
      " - 0s - loss: 0.8345 - acc: 0.8750\n",
      "Epoch 219/500\n",
      " - 0s - loss: 0.8289 - acc: 0.8750\n",
      "Epoch 220/500\n",
      " - 0s - loss: 0.8234 - acc: 0.8750\n",
      "Epoch 221/500\n",
      " - 0s - loss: 0.8180 - acc: 0.8750\n",
      "Epoch 222/500\n",
      " - 0s - loss: 0.8126 - acc: 0.8750\n",
      "Epoch 223/500\n",
      " - 0s - loss: 0.8072 - acc: 0.8750\n",
      "Epoch 224/500\n",
      " - 0s - loss: 0.8019 - acc: 0.8750\n",
      "Epoch 225/500\n",
      " - 0s - loss: 0.7966 - acc: 0.8750\n",
      "Epoch 226/500\n",
      " - 0s - loss: 0.7914 - acc: 0.8750\n",
      "Epoch 227/500\n",
      " - 0s - loss: 0.7862 - acc: 0.8750\n",
      "Epoch 228/500\n",
      " - 0s - loss: 0.7810 - acc: 0.8750\n",
      "Epoch 229/500\n",
      " - 0s - loss: 0.7759 - acc: 0.8750\n",
      "Epoch 230/500\n",
      " - 0s - loss: 0.7708 - acc: 0.8750\n",
      "Epoch 231/500\n",
      " - 0s - loss: 0.7657 - acc: 0.8750\n",
      "Epoch 232/500\n",
      " - 0s - loss: 0.7607 - acc: 0.8750\n",
      "Epoch 233/500\n",
      " - 0s - loss: 0.7558 - acc: 0.8750\n",
      "Epoch 234/500\n",
      " - 0s - loss: 0.7508 - acc: 0.8750\n",
      "Epoch 235/500\n",
      " - 0s - loss: 0.7460 - acc: 0.8750\n",
      "Epoch 236/500\n",
      " - 0s - loss: 0.7411 - acc: 0.8750\n",
      "Epoch 237/500\n",
      " - 0s - loss: 0.7363 - acc: 0.8750\n",
      "Epoch 238/500\n",
      " - 0s - loss: 0.7315 - acc: 0.8750\n",
      "Epoch 239/500\n",
      " - 0s - loss: 0.7268 - acc: 0.8750\n",
      "Epoch 240/500\n",
      " - 0s - loss: 0.7221 - acc: 0.8750\n",
      "Epoch 241/500\n",
      " - 0s - loss: 0.7174 - acc: 0.8750\n",
      "Epoch 242/500\n",
      " - 0s - loss: 0.7128 - acc: 0.8750\n",
      "Epoch 243/500\n",
      " - 0s - loss: 0.7083 - acc: 0.8750\n",
      "Epoch 244/500\n",
      " - 0s - loss: 0.7037 - acc: 0.8750\n",
      "Epoch 245/500\n",
      " - 0s - loss: 0.6992 - acc: 0.8750\n",
      "Epoch 246/500\n",
      " - 0s - loss: 0.6947 - acc: 0.8750\n",
      "Epoch 247/500\n",
      " - 0s - loss: 0.6903 - acc: 0.8750\n",
      "Epoch 248/500\n",
      " - 0s - loss: 0.6859 - acc: 0.8750\n",
      "Epoch 249/500\n",
      " - 0s - loss: 0.6816 - acc: 0.8750\n",
      "Epoch 250/500\n",
      " - 0s - loss: 0.6772 - acc: 0.8750\n",
      "Epoch 251/500\n",
      " - 0s - loss: 0.6729 - acc: 0.8750\n",
      "Epoch 252/500\n",
      " - 0s - loss: 0.6687 - acc: 0.8750\n",
      "Epoch 253/500\n",
      " - 0s - loss: 0.6645 - acc: 0.8750\n",
      "Epoch 254/500\n",
      " - 0s - loss: 0.6603 - acc: 0.8750\n",
      "Epoch 255/500\n",
      " - 0s - loss: 0.6562 - acc: 0.8750\n",
      "Epoch 256/500\n",
      " - 0s - loss: 0.6520 - acc: 0.8750\n",
      "Epoch 257/500\n",
      " - 0s - loss: 0.6480 - acc: 0.8750\n",
      "Epoch 258/500\n",
      " - 0s - loss: 0.6439 - acc: 0.8750\n",
      "Epoch 259/500\n",
      " - 0s - loss: 0.6399 - acc: 0.8750\n",
      "Epoch 260/500\n",
      " - 0s - loss: 0.6360 - acc: 0.8750\n",
      "Epoch 261/500\n",
      " - 0s - loss: 0.6320 - acc: 0.8750\n",
      "Epoch 262/500\n",
      " - 0s - loss: 0.6281 - acc: 0.8750\n",
      "Epoch 263/500\n",
      " - 0s - loss: 0.6242 - acc: 0.8750\n",
      "Epoch 264/500\n",
      " - 0s - loss: 0.6204 - acc: 0.8750\n",
      "Epoch 265/500\n",
      " - 0s - loss: 0.6166 - acc: 0.8750\n",
      "Epoch 266/500\n",
      " - 0s - loss: 0.6128 - acc: 0.8750\n",
      "Epoch 267/500\n",
      " - 0s - loss: 0.6091 - acc: 0.8750\n",
      "Epoch 268/500\n",
      " - 0s - loss: 0.6054 - acc: 0.8750\n",
      "Epoch 269/500\n",
      " - 0s - loss: 0.6017 - acc: 0.8750\n",
      "Epoch 270/500\n",
      " - 0s - loss: 0.5981 - acc: 0.8750\n",
      "Epoch 271/500\n",
      " - 0s - loss: 0.5945 - acc: 0.8750\n",
      "Epoch 272/500\n",
      " - 0s - loss: 0.5909 - acc: 0.8750\n",
      "Epoch 273/500\n",
      " - 0s - loss: 0.5873 - acc: 0.8750\n",
      "Epoch 274/500\n",
      " - 0s - loss: 0.5838 - acc: 0.8750\n",
      "Epoch 275/500\n",
      " - 0s - loss: 0.5803 - acc: 0.8750\n",
      "Epoch 276/500\n",
      " - 0s - loss: 0.5769 - acc: 0.8750\n",
      "Epoch 277/500\n",
      " - 0s - loss: 0.5734 - acc: 0.8750\n",
      "Epoch 278/500\n",
      " - 0s - loss: 0.5701 - acc: 0.8750\n",
      "Epoch 279/500\n",
      " - 0s - loss: 0.5667 - acc: 0.8750\n",
      "Epoch 280/500\n",
      " - 0s - loss: 0.5634 - acc: 0.8750\n",
      "Epoch 281/500\n",
      " - 0s - loss: 0.5601 - acc: 0.8750\n",
      "Epoch 282/500\n",
      " - 0s - loss: 0.5568 - acc: 0.8750\n",
      "Epoch 283/500\n",
      " - 0s - loss: 0.5535 - acc: 0.8750\n",
      "Epoch 284/500\n",
      " - 0s - loss: 0.5503 - acc: 0.8750\n",
      "Epoch 285/500\n",
      " - 0s - loss: 0.5471 - acc: 0.8750\n",
      "Epoch 286/500\n",
      " - 0s - loss: 0.5440 - acc: 0.8750\n",
      "Epoch 287/500\n",
      " - 0s - loss: 0.5409 - acc: 0.8750\n",
      "Epoch 288/500\n",
      " - 0s - loss: 0.5378 - acc: 0.8750\n",
      "Epoch 289/500\n",
      " - 0s - loss: 0.5347 - acc: 0.8750\n",
      "Epoch 290/500\n",
      " - 0s - loss: 0.5316 - acc: 0.8750\n",
      "Epoch 291/500\n",
      " - 0s - loss: 0.5286 - acc: 0.8750\n",
      "Epoch 292/500\n",
      " - 0s - loss: 0.5256 - acc: 0.8750\n",
      "Epoch 293/500\n",
      " - 0s - loss: 0.5227 - acc: 0.8750\n",
      "Epoch 294/500\n",
      " - 0s - loss: 0.5197 - acc: 0.8750\n",
      "Epoch 295/500\n",
      " - 0s - loss: 0.5168 - acc: 0.8750\n",
      "Epoch 296/500\n",
      " - 0s - loss: 0.5140 - acc: 0.8750\n",
      "Epoch 297/500\n",
      " - 0s - loss: 0.5111 - acc: 0.8750\n",
      "Epoch 298/500\n",
      " - 0s - loss: 0.5083 - acc: 0.8750\n",
      "Epoch 299/500\n",
      " - 0s - loss: 0.5055 - acc: 0.8750\n",
      "Epoch 300/500\n",
      " - 0s - loss: 0.5027 - acc: 0.8750\n",
      "Epoch 301/500\n",
      " - 0s - loss: 0.5000 - acc: 0.8750\n",
      "Epoch 302/500\n",
      " - 0s - loss: 0.4972 - acc: 0.8750\n",
      "Epoch 303/500\n",
      " - 0s - loss: 0.4945 - acc: 0.8750\n",
      "Epoch 304/500\n",
      " - 0s - loss: 0.4919 - acc: 0.8750\n",
      "Epoch 305/500\n",
      " - 0s - loss: 0.4892 - acc: 0.8750\n",
      "Epoch 306/500\n",
      " - 0s - loss: 0.4866 - acc: 0.8750\n",
      "Epoch 307/500\n",
      " - 0s - loss: 0.4840 - acc: 0.8750\n",
      "Epoch 308/500\n",
      " - 0s - loss: 0.4815 - acc: 0.8750\n",
      "Epoch 309/500\n",
      " - 0s - loss: 0.4789 - acc: 0.8750\n",
      "Epoch 310/500\n",
      " - 0s - loss: 0.4764 - acc: 0.8750\n",
      "Epoch 311/500\n",
      " - 0s - loss: 0.4739 - acc: 0.8750\n",
      "Epoch 312/500\n",
      " - 0s - loss: 0.4714 - acc: 0.8750\n",
      "Epoch 313/500\n",
      " - 0s - loss: 0.4690 - acc: 0.8750\n",
      "Epoch 314/500\n",
      " - 0s - loss: 0.4665 - acc: 0.8750\n",
      "Epoch 315/500\n",
      " - 0s - loss: 0.4641 - acc: 0.8750\n",
      "Epoch 316/500\n",
      " - 0s - loss: 0.4618 - acc: 0.8750\n",
      "Epoch 317/500\n",
      " - 0s - loss: 0.4594 - acc: 0.8750\n",
      "Epoch 318/500\n",
      " - 0s - loss: 0.4571 - acc: 0.8750\n",
      "Epoch 319/500\n",
      " - 0s - loss: 0.4548 - acc: 0.8750\n",
      "Epoch 320/500\n",
      " - 0s - loss: 0.4525 - acc: 0.8750\n",
      "Epoch 321/500\n",
      " - 0s - loss: 0.4502 - acc: 0.8750\n",
      "Epoch 322/500\n",
      " - 0s - loss: 0.4480 - acc: 0.8750\n",
      "Epoch 323/500\n",
      " - 0s - loss: 0.4458 - acc: 0.8750\n",
      "Epoch 324/500\n",
      " - 0s - loss: 0.4436 - acc: 0.8750\n",
      "Epoch 325/500\n",
      " - 0s - loss: 0.4414 - acc: 0.8750\n",
      "Epoch 326/500\n",
      " - 0s - loss: 0.4392 - acc: 0.8750\n",
      "Epoch 327/500\n",
      " - 0s - loss: 0.4371 - acc: 0.8750\n",
      "Epoch 328/500\n",
      " - 0s - loss: 0.4350 - acc: 0.8750\n",
      "Epoch 329/500\n",
      " - 0s - loss: 0.4329 - acc: 0.8750\n",
      "Epoch 330/500\n",
      " - 0s - loss: 0.4308 - acc: 0.8750\n",
      "Epoch 331/500\n",
      " - 0s - loss: 0.4288 - acc: 0.8750\n",
      "Epoch 332/500\n",
      " - 0s - loss: 0.4267 - acc: 0.8750\n",
      "Epoch 333/500\n",
      " - 0s - loss: 0.4247 - acc: 0.8750\n",
      "Epoch 334/500\n",
      " - 0s - loss: 0.4227 - acc: 0.8750\n",
      "Epoch 335/500\n",
      " - 0s - loss: 0.4208 - acc: 0.8750\n",
      "Epoch 336/500\n",
      " - 0s - loss: 0.4188 - acc: 0.8750\n",
      "Epoch 337/500\n",
      " - 0s - loss: 0.4169 - acc: 0.8750\n",
      "Epoch 338/500\n",
      " - 0s - loss: 0.4150 - acc: 0.8750\n",
      "Epoch 339/500\n",
      " - 0s - loss: 0.4131 - acc: 0.8750\n",
      "Epoch 340/500\n",
      " - 0s - loss: 0.4112 - acc: 0.8750\n",
      "Epoch 341/500\n",
      " - 0s - loss: 0.4094 - acc: 0.8750\n",
      "Epoch 342/500\n",
      " - 0s - loss: 0.4075 - acc: 0.8750\n",
      "Epoch 343/500\n",
      " - 0s - loss: 0.4057 - acc: 0.8750\n",
      "Epoch 344/500\n",
      " - 0s - loss: 0.4039 - acc: 0.8750\n",
      "Epoch 345/500\n",
      " - 0s - loss: 0.4021 - acc: 0.8750\n",
      "Epoch 346/500\n",
      " - 0s - loss: 0.4004 - acc: 0.8750\n",
      "Epoch 347/500\n",
      " - 0s - loss: 0.3986 - acc: 0.8750\n",
      "Epoch 348/500\n",
      " - 0s - loss: 0.3969 - acc: 0.8750\n",
      "Epoch 349/500\n",
      " - 0s - loss: 0.3952 - acc: 0.8750\n",
      "Epoch 350/500\n",
      " - 0s - loss: 0.3935 - acc: 0.8750\n",
      "Epoch 351/500\n",
      " - 0s - loss: 0.3918 - acc: 0.8750\n",
      "Epoch 352/500\n",
      " - 0s - loss: 0.3901 - acc: 0.8750\n",
      "Epoch 353/500\n",
      " - 0s - loss: 0.3885 - acc: 0.8750\n",
      "Epoch 354/500\n",
      " - 0s - loss: 0.3869 - acc: 0.8750\n",
      "Epoch 355/500\n",
      " - 0s - loss: 0.3853 - acc: 0.8750\n",
      "Epoch 356/500\n",
      " - 0s - loss: 0.3837 - acc: 0.8750\n",
      "Epoch 357/500\n",
      " - 0s - loss: 0.3821 - acc: 0.8750\n",
      "Epoch 358/500\n",
      " - 0s - loss: 0.3805 - acc: 0.8750\n",
      "Epoch 359/500\n",
      " - 0s - loss: 0.3790 - acc: 0.8750\n",
      "Epoch 360/500\n",
      " - 0s - loss: 0.3775 - acc: 0.8750\n",
      "Epoch 361/500\n",
      " - 0s - loss: 0.3759 - acc: 0.8750\n",
      "Epoch 362/500\n",
      " - 0s - loss: 0.3744 - acc: 0.8750\n",
      "Epoch 363/500\n",
      " - 0s - loss: 0.3729 - acc: 0.8750\n",
      "Epoch 364/500\n",
      " - 0s - loss: 0.3715 - acc: 0.8750\n",
      "Epoch 365/500\n",
      " - 0s - loss: 0.3700 - acc: 0.8750\n",
      "Epoch 366/500\n",
      " - 0s - loss: 0.3686 - acc: 0.8750\n",
      "Epoch 367/500\n",
      " - 0s - loss: 0.3671 - acc: 0.8750\n",
      "Epoch 368/500\n",
      " - 0s - loss: 0.3657 - acc: 0.8750\n",
      "Epoch 369/500\n",
      " - 0s - loss: 0.3643 - acc: 0.8750\n",
      "Epoch 370/500\n",
      " - 0s - loss: 0.3629 - acc: 0.8750\n",
      "Epoch 371/500\n",
      " - 0s - loss: 0.3616 - acc: 0.8750\n",
      "Epoch 372/500\n",
      " - 0s - loss: 0.3602 - acc: 0.8750\n",
      "Epoch 373/500\n",
      " - 0s - loss: 0.3589 - acc: 0.8750\n",
      "Epoch 374/500\n",
      " - 0s - loss: 0.3575 - acc: 0.8750\n",
      "Epoch 375/500\n",
      " - 0s - loss: 0.3562 - acc: 0.8750\n",
      "Epoch 376/500\n",
      " - 0s - loss: 0.3549 - acc: 0.8750\n",
      "Epoch 377/500\n",
      " - 0s - loss: 0.3536 - acc: 0.8750\n",
      "Epoch 378/500\n",
      " - 0s - loss: 0.3523 - acc: 0.8750\n",
      "Epoch 379/500\n",
      " - 0s - loss: 0.3511 - acc: 0.8750\n",
      "Epoch 380/500\n",
      " - 0s - loss: 0.3498 - acc: 0.8750\n",
      "Epoch 381/500\n",
      " - 0s - loss: 0.3486 - acc: 0.8750\n",
      "Epoch 382/500\n",
      " - 0s - loss: 0.3474 - acc: 0.8750\n",
      "Epoch 383/500\n",
      " - 0s - loss: 0.3461 - acc: 0.8750\n",
      "Epoch 384/500\n",
      " - 0s - loss: 0.3449 - acc: 0.8750\n",
      "Epoch 385/500\n",
      " - 0s - loss: 0.3437 - acc: 0.8750\n",
      "Epoch 386/500\n",
      " - 0s - loss: 0.3425 - acc: 0.8750\n",
      "Epoch 387/500\n",
      " - 0s - loss: 0.3414 - acc: 0.8750\n",
      "Epoch 388/500\n",
      " - 0s - loss: 0.3402 - acc: 0.8750\n",
      "Epoch 389/500\n",
      " - 0s - loss: 0.3391 - acc: 0.8750\n",
      "Epoch 390/500\n",
      " - 0s - loss: 0.3379 - acc: 0.8750\n",
      "Epoch 391/500\n",
      " - 0s - loss: 0.3368 - acc: 0.8750\n",
      "Epoch 392/500\n",
      " - 0s - loss: 0.3357 - acc: 0.8750\n",
      "Epoch 393/500\n",
      " - 0s - loss: 0.3346 - acc: 0.8750\n",
      "Epoch 394/500\n",
      " - 0s - loss: 0.3335 - acc: 0.8750\n",
      "Epoch 395/500\n",
      " - 0s - loss: 0.3324 - acc: 0.8750\n",
      "Epoch 396/500\n",
      " - 0s - loss: 0.3313 - acc: 0.8750\n",
      "Epoch 397/500\n",
      " - 0s - loss: 0.3303 - acc: 0.8750\n",
      "Epoch 398/500\n",
      " - 0s - loss: 0.3292 - acc: 0.8750\n",
      "Epoch 399/500\n",
      " - 0s - loss: 0.3282 - acc: 0.8750\n",
      "Epoch 400/500\n",
      " - 0s - loss: 0.3271 - acc: 0.8750\n",
      "Epoch 401/500\n",
      " - 0s - loss: 0.3261 - acc: 0.8750\n",
      "Epoch 402/500\n",
      " - 0s - loss: 0.3251 - acc: 0.8750\n",
      "Epoch 403/500\n",
      " - 0s - loss: 0.3241 - acc: 0.8750\n",
      "Epoch 404/500\n",
      " - 0s - loss: 0.3231 - acc: 0.8750\n",
      "Epoch 405/500\n",
      " - 0s - loss: 0.3221 - acc: 0.8750\n",
      "Epoch 406/500\n",
      " - 0s - loss: 0.3211 - acc: 0.8750\n",
      "Epoch 407/500\n",
      " - 0s - loss: 0.3202 - acc: 0.8750\n",
      "Epoch 408/500\n",
      " - 0s - loss: 0.3192 - acc: 0.8750\n",
      "Epoch 409/500\n",
      " - 0s - loss: 0.3183 - acc: 0.8750\n",
      "Epoch 410/500\n",
      " - 0s - loss: 0.3173 - acc: 0.8750\n",
      "Epoch 411/500\n",
      " - 0s - loss: 0.3164 - acc: 0.8750\n",
      "Epoch 412/500\n",
      " - 0s - loss: 0.3155 - acc: 0.8750\n",
      "Epoch 413/500\n",
      " - 0s - loss: 0.3146 - acc: 0.8750\n",
      "Epoch 414/500\n",
      " - 0s - loss: 0.3137 - acc: 0.8750\n",
      "Epoch 415/500\n",
      " - 0s - loss: 0.3128 - acc: 0.8750\n",
      "Epoch 416/500\n",
      " - 0s - loss: 0.3119 - acc: 0.8750\n",
      "Epoch 417/500\n",
      " - 0s - loss: 0.3110 - acc: 0.8750\n",
      "Epoch 418/500\n",
      " - 0s - loss: 0.3101 - acc: 0.8750\n",
      "Epoch 419/500\n",
      " - 0s - loss: 0.3092 - acc: 0.8750\n",
      "Epoch 420/500\n",
      " - 0s - loss: 0.3084 - acc: 0.8750\n",
      "Epoch 421/500\n",
      " - 0s - loss: 0.3075 - acc: 0.8750\n",
      "Epoch 422/500\n",
      " - 0s - loss: 0.3067 - acc: 0.8750\n",
      "Epoch 423/500\n",
      " - 0s - loss: 0.3059 - acc: 0.8750\n",
      "Epoch 424/500\n",
      " - 0s - loss: 0.3050 - acc: 0.8750\n",
      "Epoch 425/500\n",
      " - 0s - loss: 0.3042 - acc: 0.8750\n",
      "Epoch 426/500\n",
      " - 0s - loss: 0.3034 - acc: 0.8750\n",
      "Epoch 427/500\n",
      " - 0s - loss: 0.3026 - acc: 0.8750\n",
      "Epoch 428/500\n",
      " - 0s - loss: 0.3018 - acc: 0.8750\n",
      "Epoch 429/500\n",
      " - 0s - loss: 0.3010 - acc: 0.8750\n",
      "Epoch 430/500\n",
      " - 0s - loss: 0.3002 - acc: 0.8750\n",
      "Epoch 431/500\n",
      " - 0s - loss: 0.2995 - acc: 0.8750\n",
      "Epoch 432/500\n",
      " - 0s - loss: 0.2987 - acc: 0.8750\n",
      "Epoch 433/500\n",
      " - 0s - loss: 0.2979 - acc: 0.8750\n",
      "Epoch 434/500\n",
      " - 0s - loss: 0.2972 - acc: 0.8750\n",
      "Epoch 435/500\n",
      " - 0s - loss: 0.2964 - acc: 0.8750\n",
      "Epoch 436/500\n",
      " - 0s - loss: 0.2957 - acc: 0.8750\n",
      "Epoch 437/500\n",
      " - 0s - loss: 0.2949 - acc: 0.8750\n",
      "Epoch 438/500\n",
      " - 0s - loss: 0.2942 - acc: 0.8750\n",
      "Epoch 439/500\n",
      " - 0s - loss: 0.2935 - acc: 0.8750\n",
      "Epoch 440/500\n",
      " - 0s - loss: 0.2928 - acc: 0.8750\n",
      "Epoch 441/500\n",
      " - 0s - loss: 0.2921 - acc: 0.8750\n",
      "Epoch 442/500\n",
      " - 0s - loss: 0.2914 - acc: 0.8750\n",
      "Epoch 443/500\n",
      " - 0s - loss: 0.2907 - acc: 0.8750\n",
      "Epoch 444/500\n",
      " - 0s - loss: 0.2900 - acc: 0.8750\n",
      "Epoch 445/500\n",
      " - 0s - loss: 0.2893 - acc: 0.8750\n",
      "Epoch 446/500\n",
      " - 0s - loss: 0.2886 - acc: 0.8750\n",
      "Epoch 447/500\n",
      " - 0s - loss: 0.2879 - acc: 0.8750\n",
      "Epoch 448/500\n",
      " - 0s - loss: 0.2873 - acc: 0.8750\n",
      "Epoch 449/500\n",
      " - 0s - loss: 0.2866 - acc: 0.8750\n",
      "Epoch 450/500\n",
      " - 0s - loss: 0.2859 - acc: 0.8750\n",
      "Epoch 451/500\n",
      " - 0s - loss: 0.2853 - acc: 0.8750\n",
      "Epoch 452/500\n",
      " - 0s - loss: 0.2846 - acc: 0.8750\n",
      "Epoch 453/500\n",
      " - 0s - loss: 0.2840 - acc: 0.8750\n",
      "Epoch 454/500\n",
      " - 0s - loss: 0.2834 - acc: 0.8750\n",
      "Epoch 455/500\n",
      " - 0s - loss: 0.2827 - acc: 0.8750\n",
      "Epoch 456/500\n",
      " - 0s - loss: 0.2821 - acc: 0.8750\n",
      "Epoch 457/500\n",
      " - 0s - loss: 0.2815 - acc: 0.8750\n",
      "Epoch 458/500\n",
      " - 0s - loss: 0.2809 - acc: 0.8750\n",
      "Epoch 459/500\n",
      " - 0s - loss: 0.2803 - acc: 0.8750\n",
      "Epoch 460/500\n",
      " - 0s - loss: 0.2797 - acc: 0.8750\n",
      "Epoch 461/500\n",
      " - 0s - loss: 0.2791 - acc: 0.8750\n",
      "Epoch 462/500\n",
      " - 0s - loss: 0.2785 - acc: 0.8750\n",
      "Epoch 463/500\n",
      " - 0s - loss: 0.2779 - acc: 0.8750\n",
      "Epoch 464/500\n",
      " - 0s - loss: 0.2773 - acc: 0.8750\n",
      "Epoch 465/500\n",
      " - 0s - loss: 0.2767 - acc: 0.8750\n",
      "Epoch 466/500\n",
      " - 0s - loss: 0.2762 - acc: 0.8750\n",
      "Epoch 467/500\n",
      " - 0s - loss: 0.2756 - acc: 0.8750\n",
      "Epoch 468/500\n",
      " - 0s - loss: 0.2750 - acc: 0.8750\n",
      "Epoch 469/500\n",
      " - 0s - loss: 0.2745 - acc: 0.8750\n",
      "Epoch 470/500\n",
      " - 0s - loss: 0.2739 - acc: 0.8750\n",
      "Epoch 471/500\n",
      " - 0s - loss: 0.2734 - acc: 0.8750\n",
      "Epoch 472/500\n",
      " - 0s - loss: 0.2728 - acc: 0.8750\n",
      "Epoch 473/500\n",
      " - 0s - loss: 0.2723 - acc: 0.8750\n",
      "Epoch 474/500\n",
      " - 0s - loss: 0.2717 - acc: 0.8750\n",
      "Epoch 475/500\n",
      " - 0s - loss: 0.2712 - acc: 0.8750\n",
      "Epoch 476/500\n",
      " - 0s - loss: 0.2707 - acc: 0.8750\n",
      "Epoch 477/500\n",
      " - 0s - loss: 0.2701 - acc: 0.8750\n",
      "Epoch 478/500\n",
      " - 0s - loss: 0.2696 - acc: 0.8750\n",
      "Epoch 479/500\n",
      " - 0s - loss: 0.2691 - acc: 0.8750\n",
      "Epoch 480/500\n",
      " - 0s - loss: 0.2686 - acc: 0.8750\n",
      "Epoch 481/500\n",
      " - 0s - loss: 0.2681 - acc: 0.8750\n",
      "Epoch 482/500\n",
      " - 0s - loss: 0.2676 - acc: 0.8750\n",
      "Epoch 483/500\n",
      " - 0s - loss: 0.2671 - acc: 0.8750\n",
      "Epoch 484/500\n",
      " - 0s - loss: 0.2666 - acc: 0.8750\n",
      "Epoch 485/500\n",
      " - 0s - loss: 0.2661 - acc: 0.8750\n",
      "Epoch 486/500\n",
      " - 0s - loss: 0.2656 - acc: 0.8750\n",
      "Epoch 487/500\n",
      " - 0s - loss: 0.2651 - acc: 0.8750\n",
      "Epoch 488/500\n",
      " - 0s - loss: 0.2646 - acc: 0.8750\n",
      "Epoch 489/500\n",
      " - 0s - loss: 0.2642 - acc: 0.8750\n",
      "Epoch 490/500\n",
      " - 0s - loss: 0.2637 - acc: 0.8750\n",
      "Epoch 491/500\n",
      " - 0s - loss: 0.2632 - acc: 0.8750\n",
      "Epoch 492/500\n",
      " - 0s - loss: 0.2627 - acc: 0.8750\n",
      "Epoch 493/500\n",
      " - 0s - loss: 0.2623 - acc: 0.8750\n",
      "Epoch 494/500\n",
      " - 0s - loss: 0.2618 - acc: 0.8750\n",
      "Epoch 495/500\n",
      " - 0s - loss: 0.2614 - acc: 0.8750\n",
      "Epoch 496/500\n",
      " - 0s - loss: 0.2609 - acc: 0.8750\n",
      "Epoch 497/500\n",
      " - 0s - loss: 0.2605 - acc: 0.8750\n",
      "Epoch 498/500\n",
      " - 0s - loss: 0.2600 - acc: 0.8750\n",
      "Epoch 499/500\n",
      " - 0s - loss: 0.2596 - acc: 0.8750\n",
      "Epoch 500/500\n",
      " - 0s - loss: 0.2591 - acc: 0.8750\n"
     ]
    },
    {
     "data": {
      "text/plain": [
       "<keras.callbacks.History at 0x7f0fc475c080>"
      ]
     },
     "execution_count": 77,
     "metadata": {
      "tags": []
     },
     "output_type": "execute_result"
    }
   ],
   "source": [
    "model.compile(loss=\"categorical_crossentropy\", optimizer=\"adam\", metrics=[\"accuracy\"])\n",
    "model.fit(x, y, epochs=500, verbose=2)"
   ]
  },
  {
   "cell_type": "code",
   "execution_count": 56,
   "metadata": {
    "colab": {
     "base_uri": "https://localhost:8080/",
     "height": 34
    },
    "colab_type": "code",
    "executionInfo": {
     "elapsed": 1343,
     "status": "ok",
     "timestamp": 1566354106020,
     "user": {
      "displayName": "Jun Seok Ko",
      "photoUrl": "https://lh3.googleusercontent.com/a-/AAuE7mCcLVl_JJcU1MhehlvMYuvwSAckQT715hKkXuE4=s64",
      "userId": "09316774114625797444"
     },
     "user_tz": -540
    },
    "id": "9tKkpG7V9Bcp",
    "outputId": "fb94126d-2534-43d5-c7ce-8d328857f27c"
   },
   "outputs": [
    {
     "name": "stdout",
     "output_type": "stream",
     "text": [
      "dict_items([('점심', 1), ('나랑', 2), ('먹으러', 3), ('갈래', 4), ('메뉴는', 5), ('햄버거', 6), ('메뉴', 7), ('좋지', 8)])\n"
     ]
    }
   ],
   "source": [
    "print(t.word_index.items())"
   ]
  },
  {
   "cell_type": "code",
   "execution_count": null,
   "metadata": {
    "colab": {},
    "colab_type": "code",
    "id": "XVVMyH4w9ewS"
   },
   "outputs": [],
   "source": [
    "def predict_next_word(model, t, current_word):\n",
    "    encoded = t.texts_to_sequences([current_word])[0]\n",
    "    encoded = np.array(encoded)\n",
    "    result = model.predict_classes(encoded, verbose=0)\n",
    "    for word, index in t.word_index.items():\n",
    "        if index == result:\n",
    "            return word"
   ]
  },
  {
   "cell_type": "code",
   "execution_count": 70,
   "metadata": {
    "colab": {
     "base_uri": "https://localhost:8080/",
     "height": 34
    },
    "colab_type": "code",
    "executionInfo": {
     "elapsed": 2045,
     "status": "ok",
     "timestamp": 1566354417144,
     "user": {
      "displayName": "Jun Seok Ko",
      "photoUrl": "https://lh3.googleusercontent.com/a-/AAuE7mCcLVl_JJcU1MhehlvMYuvwSAckQT715hKkXuE4=s64",
      "userId": "09316774114625797444"
     },
     "user_tz": -540
    },
    "id": "RJ0arl1U9zy_",
    "outputId": "b4fd7c23-fc15-4bb1-b2d6-a9d91dae11ab"
   },
   "outputs": [
    {
     "name": "stdout",
     "output_type": "stream",
     "text": [
      "갈래\n"
     ]
    }
   ],
   "source": [
    "print(predict_next_word(model, t, \"먹으러\"))"
   ]
  },
  {
   "cell_type": "code",
   "execution_count": null,
   "metadata": {
    "colab": {},
    "colab_type": "code",
    "id": "3C7QFghD-uPn"
   },
   "outputs": [],
   "source": [
    "def sentence_generation(model, t, current_word, n):\n",
    "    init_word = current_word\n",
    "    sentence = \"\"\n",
    "    for _ in range(n):\n",
    "        encoded = t.texts_to_sequences([current_word])[0]\n",
    "        encoded = np.array(encoded)\n",
    "        result = model.predict_classes(encoded, verbose=0)\n",
    "        for word, index in t.word_index.items():\n",
    "            if index == result:\n",
    "                break\n",
    "        current_word = word\n",
    "        sentence = sentence + \" \" + word\n",
    "    \n",
    "    sentence = init_word + sentence\n",
    "    return sentence"
   ]
  },
  {
   "cell_type": "code",
   "execution_count": 79,
   "metadata": {
    "colab": {
     "base_uri": "https://localhost:8080/",
     "height": 34
    },
    "colab_type": "code",
    "executionInfo": {
     "elapsed": 4605,
     "status": "ok",
     "timestamp": 1566354621468,
     "user": {
      "displayName": "Jun Seok Ko",
      "photoUrl": "https://lh3.googleusercontent.com/a-/AAuE7mCcLVl_JJcU1MhehlvMYuvwSAckQT715hKkXuE4=s64",
      "userId": "09316774114625797444"
     },
     "user_tz": -540
    },
    "id": "diGcYMqv_WLN",
    "outputId": "274b92cb-844b-4fce-af13-f3a62dcae0ec"
   },
   "outputs": [
    {
     "name": "stdout",
     "output_type": "stream",
     "text": [
      "먹으러 갈래 메뉴는 햄버거 점심 먹으러 갈래\n"
     ]
    }
   ],
   "source": [
    "print(sentence_generation(model, t, \"먹으러\", 6))"
   ]
  },
  {
   "cell_type": "markdown",
   "metadata": {
    "colab_type": "text",
    "id": "Hn_IgfGzmvoE"
   },
   "source": [
    "## rnn_3"
   ]
  },
  {
   "cell_type": "code",
   "execution_count": null,
   "metadata": {
    "colab": {},
    "colab_type": "code",
    "id": "IWD79xhC_ZVM"
   },
   "outputs": [],
   "source": [
    "text = \"\"\"경마장에 있는 말이 뛰고 있다\\n\n",
    "그의 말이 법이다\\n\n",
    "가는 말이 고와야 오는 말이 곱다\\n\"\"\""
   ]
  },
  {
   "cell_type": "code",
   "execution_count": null,
   "metadata": {
    "colab": {},
    "colab_type": "code",
    "id": "qdbJq3CDm9d2"
   },
   "outputs": [],
   "source": [
    "from keras_preprocessing.text import Tokenizer\n",
    "\n",
    "\n",
    "t = Tokenizer()\n",
    "t.fit_on_texts([text])\n",
    "encoded = t.texts_to_sequences([text])[0]"
   ]
  },
  {
   "cell_type": "code",
   "execution_count": 140,
   "metadata": {
    "colab": {
     "base_uri": "https://localhost:8080/",
     "height": 34
    },
    "colab_type": "code",
    "executionInfo": {
     "elapsed": 2661,
     "status": "ok",
     "timestamp": 1566365899590,
     "user": {
      "displayName": "Jun Seok Ko",
      "photoUrl": "https://lh3.googleusercontent.com/a-/AAuE7mCcLVl_JJcU1MhehlvMYuvwSAckQT715hKkXuE4=s64",
      "userId": "09316774114625797444"
     },
     "user_tz": -540
    },
    "id": "6rVFbHAinIgN",
    "outputId": "d9d015d1-88d6-4013-af79-174b1b108df9"
   },
   "outputs": [
    {
     "data": {
      "text/plain": [
       "12"
      ]
     },
     "execution_count": 140,
     "metadata": {
      "tags": []
     },
     "output_type": "execute_result"
    }
   ],
   "source": [
    "vocab_size = len(t.word_index) +1\n",
    "vocab_size"
   ]
  },
  {
   "cell_type": "code",
   "execution_count": 117,
   "metadata": {
    "colab": {
     "base_uri": "https://localhost:8080/",
     "height": 34
    },
    "colab_type": "code",
    "executionInfo": {
     "elapsed": 2167,
     "status": "ok",
     "timestamp": 1566365601445,
     "user": {
      "displayName": "Jun Seok Ko",
      "photoUrl": "https://lh3.googleusercontent.com/a-/AAuE7mCcLVl_JJcU1MhehlvMYuvwSAckQT715hKkXuE4=s64",
      "userId": "09316774114625797444"
     },
     "user_tz": -540
    },
    "id": "o4NhGBmVnowA",
    "outputId": "f94b0b47-28f5-415f-85af-7037a2da51a5"
   },
   "outputs": [
    {
     "name": "stdout",
     "output_type": "stream",
     "text": [
      "{'말이': 1, '경마장에': 2, '있는': 3, '뛰고': 4, '있다': 5, '그의': 6, '법이다': 7, '가는': 8, '고와야': 9, '오는': 10, '곱다': 11}\n"
     ]
    }
   ],
   "source": [
    "print(t.word_index)"
   ]
  },
  {
   "cell_type": "code",
   "execution_count": 118,
   "metadata": {
    "colab": {
     "base_uri": "https://localhost:8080/",
     "height": 34
    },
    "colab_type": "code",
    "executionInfo": {
     "elapsed": 1758,
     "status": "ok",
     "timestamp": 1566365601445,
     "user": {
      "displayName": "Jun Seok Ko",
      "photoUrl": "https://lh3.googleusercontent.com/a-/AAuE7mCcLVl_JJcU1MhehlvMYuvwSAckQT715hKkXuE4=s64",
      "userId": "09316774114625797444"
     },
     "user_tz": -540
    },
    "id": "xKGBJTUwnqGq",
    "outputId": "55ba9b00-0240-4d47-9ea9-2257be98e3d1"
   },
   "outputs": [
    {
     "data": {
      "text/plain": [
       "11"
      ]
     },
     "execution_count": 118,
     "metadata": {
      "tags": []
     },
     "output_type": "execute_result"
    }
   ],
   "source": [
    "sequences = list()\n",
    "for line in text.split(\"\\n\"):\n",
    "    encoded = t.texts_to_sequences([line])[0]\n",
    "    for i in range(1, len(encoded)):\n",
    "        sequence = encoded[:i + 1]\n",
    "        sequences.append(sequence)\n",
    "\n",
    "len(sequences)"
   ]
  },
  {
   "cell_type": "code",
   "execution_count": 119,
   "metadata": {
    "colab": {
     "base_uri": "https://localhost:8080/",
     "height": 34
    },
    "colab_type": "code",
    "executionInfo": {
     "elapsed": 2411,
     "status": "ok",
     "timestamp": 1566365603160,
     "user": {
      "displayName": "Jun Seok Ko",
      "photoUrl": "https://lh3.googleusercontent.com/a-/AAuE7mCcLVl_JJcU1MhehlvMYuvwSAckQT715hKkXuE4=s64",
      "userId": "09316774114625797444"
     },
     "user_tz": -540
    },
    "id": "fIFHPT38oC1L",
    "outputId": "80dda16f-6c22-47b7-dd62-40b36cc823c9"
   },
   "outputs": [
    {
     "name": "stdout",
     "output_type": "stream",
     "text": [
      "[[2, 3], [2, 3, 1], [2, 3, 1, 4], [2, 3, 1, 4, 5], [6, 1], [6, 1, 7], [8, 1], [8, 1, 9], [8, 1, 9, 10], [8, 1, 9, 10, 1], [8, 1, 9, 10, 1, 11]]\n"
     ]
    }
   ],
   "source": [
    "print(sequences)"
   ]
  },
  {
   "cell_type": "code",
   "execution_count": 120,
   "metadata": {
    "colab": {
     "base_uri": "https://localhost:8080/",
     "height": 34
    },
    "colab_type": "code",
    "executionInfo": {
     "elapsed": 2151,
     "status": "ok",
     "timestamp": 1566365603161,
     "user": {
      "displayName": "Jun Seok Ko",
      "photoUrl": "https://lh3.googleusercontent.com/a-/AAuE7mCcLVl_JJcU1MhehlvMYuvwSAckQT715hKkXuE4=s64",
      "userId": "09316774114625797444"
     },
     "user_tz": -540
    },
    "id": "G1ZrXzkqoV8G",
    "outputId": "f5d768ed-4581-4998-ed4c-c1ad98fdd1fa"
   },
   "outputs": [
    {
     "name": "stdout",
     "output_type": "stream",
     "text": [
      "6\n"
     ]
    }
   ],
   "source": [
    "print(max(len(i) for i in sequences))\n"
   ]
  },
  {
   "cell_type": "code",
   "execution_count": null,
   "metadata": {
    "colab": {},
    "colab_type": "code",
    "id": "XN6s5qpJoY6V"
   },
   "outputs": [],
   "source": [
    "from keras.preprocessing.sequence import pad_sequences\n",
    "\n",
    "\n",
    "sequences = pad_sequences(sequences, maxlen=6, padding=\"pre\")"
   ]
  },
  {
   "cell_type": "code",
   "execution_count": 122,
   "metadata": {
    "colab": {
     "base_uri": "https://localhost:8080/",
     "height": 212
    },
    "colab_type": "code",
    "executionInfo": {
     "elapsed": 1598,
     "status": "ok",
     "timestamp": 1566365603826,
     "user": {
      "displayName": "Jun Seok Ko",
      "photoUrl": "https://lh3.googleusercontent.com/a-/AAuE7mCcLVl_JJcU1MhehlvMYuvwSAckQT715hKkXuE4=s64",
      "userId": "09316774114625797444"
     },
     "user_tz": -540
    },
    "id": "D8a7eCYoojHK",
    "outputId": "309d312b-1b90-4dd9-b446-41fa5d1bf1a7"
   },
   "outputs": [
    {
     "name": "stdout",
     "output_type": "stream",
     "text": [
      "[[ 0  0  0  0  2  3]\n",
      " [ 0  0  0  2  3  1]\n",
      " [ 0  0  2  3  1  4]\n",
      " [ 0  2  3  1  4  5]\n",
      " [ 0  0  0  0  6  1]\n",
      " [ 0  0  0  6  1  7]\n",
      " [ 0  0  0  0  8  1]\n",
      " [ 0  0  0  8  1  9]\n",
      " [ 0  0  8  1  9 10]\n",
      " [ 0  8  1  9 10  1]\n",
      " [ 8  1  9 10  1 11]]\n"
     ]
    }
   ],
   "source": [
    "print(sequences)"
   ]
  },
  {
   "cell_type": "code",
   "execution_count": null,
   "metadata": {
    "colab": {},
    "colab_type": "code",
    "id": "HgIlEpWFolwY"
   },
   "outputs": [],
   "source": [
    "import numpy as np\n",
    "\n",
    "\n",
    "\n",
    "sequences = np.array(sequences)\n",
    "x = sequences[:, :-1]\n",
    "y = sequences[:, -1]"
   ]
  },
  {
   "cell_type": "code",
   "execution_count": 124,
   "metadata": {
    "colab": {
     "base_uri": "https://localhost:8080/",
     "height": 212
    },
    "colab_type": "code",
    "executionInfo": {
     "elapsed": 3248,
     "status": "ok",
     "timestamp": 1566365606077,
     "user": {
      "displayName": "Jun Seok Ko",
      "photoUrl": "https://lh3.googleusercontent.com/a-/AAuE7mCcLVl_JJcU1MhehlvMYuvwSAckQT715hKkXuE4=s64",
      "userId": "09316774114625797444"
     },
     "user_tz": -540
    },
    "id": "yJE1lbZSoyif",
    "outputId": "810f3f40-30e1-4ded-8315-5e3f2c382696"
   },
   "outputs": [
    {
     "data": {
      "text/plain": [
       "array([[ 0,  0,  0,  0,  2],\n",
       "       [ 0,  0,  0,  2,  3],\n",
       "       [ 0,  0,  2,  3,  1],\n",
       "       [ 0,  2,  3,  1,  4],\n",
       "       [ 0,  0,  0,  0,  6],\n",
       "       [ 0,  0,  0,  6,  1],\n",
       "       [ 0,  0,  0,  0,  8],\n",
       "       [ 0,  0,  0,  8,  1],\n",
       "       [ 0,  0,  8,  1,  9],\n",
       "       [ 0,  8,  1,  9, 10],\n",
       "       [ 8,  1,  9, 10,  1]], dtype=int32)"
      ]
     },
     "execution_count": 124,
     "metadata": {
      "tags": []
     },
     "output_type": "execute_result"
    }
   ],
   "source": [
    "x"
   ]
  },
  {
   "cell_type": "code",
   "execution_count": 125,
   "metadata": {
    "colab": {
     "base_uri": "https://localhost:8080/",
     "height": 34
    },
    "colab_type": "code",
    "executionInfo": {
     "elapsed": 2534,
     "status": "ok",
     "timestamp": 1566365606078,
     "user": {
      "displayName": "Jun Seok Ko",
      "photoUrl": "https://lh3.googleusercontent.com/a-/AAuE7mCcLVl_JJcU1MhehlvMYuvwSAckQT715hKkXuE4=s64",
      "userId": "09316774114625797444"
     },
     "user_tz": -540
    },
    "id": "4WeayayIozY5",
    "outputId": "d2152f6e-dfb1-4f64-d226-ba3326a61d0f"
   },
   "outputs": [
    {
     "data": {
      "text/plain": [
       "array([ 3,  1,  4,  5,  1,  7,  1,  9, 10,  1, 11], dtype=int32)"
      ]
     },
     "execution_count": 125,
     "metadata": {
      "tags": []
     },
     "output_type": "execute_result"
    }
   ],
   "source": [
    "y"
   ]
  },
  {
   "cell_type": "code",
   "execution_count": null,
   "metadata": {
    "colab": {},
    "colab_type": "code",
    "id": "Qod04ZZQoz6v"
   },
   "outputs": [],
   "source": [
    "from keras.utils import to_categorical\n",
    "\n",
    "\n",
    "y = to_categorical(y, num_classes=vocab_size)"
   ]
  },
  {
   "cell_type": "code",
   "execution_count": 127,
   "metadata": {
    "colab": {
     "base_uri": "https://localhost:8080/",
     "height": 212
    },
    "colab_type": "code",
    "executionInfo": {
     "elapsed": 1838,
     "status": "ok",
     "timestamp": 1566365606079,
     "user": {
      "displayName": "Jun Seok Ko",
      "photoUrl": "https://lh3.googleusercontent.com/a-/AAuE7mCcLVl_JJcU1MhehlvMYuvwSAckQT715hKkXuE4=s64",
      "userId": "09316774114625797444"
     },
     "user_tz": -540
    },
    "id": "9YsB9hV4o8lN",
    "outputId": "9503926a-1103-4090-c4d6-bdacf5340c90"
   },
   "outputs": [
    {
     "data": {
      "text/plain": [
       "array([[0., 0., 0., 1., 0., 0., 0., 0., 0., 0., 0., 0.],\n",
       "       [0., 1., 0., 0., 0., 0., 0., 0., 0., 0., 0., 0.],\n",
       "       [0., 0., 0., 0., 1., 0., 0., 0., 0., 0., 0., 0.],\n",
       "       [0., 0., 0., 0., 0., 1., 0., 0., 0., 0., 0., 0.],\n",
       "       [0., 1., 0., 0., 0., 0., 0., 0., 0., 0., 0., 0.],\n",
       "       [0., 0., 0., 0., 0., 0., 0., 1., 0., 0., 0., 0.],\n",
       "       [0., 1., 0., 0., 0., 0., 0., 0., 0., 0., 0., 0.],\n",
       "       [0., 0., 0., 0., 0., 0., 0., 0., 0., 1., 0., 0.],\n",
       "       [0., 0., 0., 0., 0., 0., 0., 0., 0., 0., 1., 0.],\n",
       "       [0., 1., 0., 0., 0., 0., 0., 0., 0., 0., 0., 0.],\n",
       "       [0., 0., 0., 0., 0., 0., 0., 0., 0., 0., 0., 1.]], dtype=float32)"
      ]
     },
     "execution_count": 127,
     "metadata": {
      "tags": []
     },
     "output_type": "execute_result"
    }
   ],
   "source": [
    "y"
   ]
  },
  {
   "cell_type": "code",
   "execution_count": 128,
   "metadata": {
    "colab": {
     "base_uri": "https://localhost:8080/",
     "height": 1000
    },
    "colab_type": "code",
    "executionInfo": {
     "elapsed": 4022,
     "status": "ok",
     "timestamp": 1566365608983,
     "user": {
      "displayName": "Jun Seok Ko",
      "photoUrl": "https://lh3.googleusercontent.com/a-/AAuE7mCcLVl_JJcU1MhehlvMYuvwSAckQT715hKkXuE4=s64",
      "userId": "09316774114625797444"
     },
     "user_tz": -540
    },
    "id": "fPTiF_Hxo9Fw",
    "outputId": "82c8b467-32c4-43e0-bab9-3af5581b912f"
   },
   "outputs": [
    {
     "name": "stdout",
     "output_type": "stream",
     "text": [
      "Epoch 1/200\n",
      " - 1s - loss: 2.4737 - acc: 0.2727\n",
      "Epoch 2/200\n",
      " - 0s - loss: 2.4621 - acc: 0.1818\n",
      "Epoch 3/200\n",
      " - 0s - loss: 2.4504 - acc: 0.3636\n",
      "Epoch 4/200\n",
      " - 0s - loss: 2.4385 - acc: 0.3636\n",
      "Epoch 5/200\n",
      " - 0s - loss: 2.4262 - acc: 0.3636\n",
      "Epoch 6/200\n",
      " - 0s - loss: 2.4137 - acc: 0.3636\n",
      "Epoch 7/200\n",
      " - 0s - loss: 2.4007 - acc: 0.3636\n",
      "Epoch 8/200\n",
      " - 0s - loss: 2.3872 - acc: 0.4545\n",
      "Epoch 9/200\n",
      " - 0s - loss: 2.3732 - acc: 0.3636\n",
      "Epoch 10/200\n",
      " - 0s - loss: 2.3586 - acc: 0.3636\n",
      "Epoch 11/200\n",
      " - 0s - loss: 2.3433 - acc: 0.3636\n",
      "Epoch 12/200\n",
      " - 0s - loss: 2.3272 - acc: 0.3636\n",
      "Epoch 13/200\n",
      " - 0s - loss: 2.3104 - acc: 0.3636\n",
      "Epoch 14/200\n",
      " - 0s - loss: 2.2926 - acc: 0.3636\n",
      "Epoch 15/200\n",
      " - 0s - loss: 2.2738 - acc: 0.3636\n",
      "Epoch 16/200\n",
      " - 0s - loss: 2.2541 - acc: 0.3636\n",
      "Epoch 17/200\n",
      " - 0s - loss: 2.2333 - acc: 0.3636\n",
      "Epoch 18/200\n",
      " - 0s - loss: 2.2115 - acc: 0.3636\n",
      "Epoch 19/200\n",
      " - 0s - loss: 2.1887 - acc: 0.3636\n",
      "Epoch 20/200\n",
      " - 0s - loss: 2.1649 - acc: 0.3636\n",
      "Epoch 21/200\n",
      " - 0s - loss: 2.1401 - acc: 0.3636\n",
      "Epoch 22/200\n",
      " - 0s - loss: 2.1146 - acc: 0.3636\n",
      "Epoch 23/200\n",
      " - 0s - loss: 2.0885 - acc: 0.3636\n",
      "Epoch 24/200\n",
      " - 0s - loss: 2.0620 - acc: 0.3636\n",
      "Epoch 25/200\n",
      " - 0s - loss: 2.0354 - acc: 0.3636\n",
      "Epoch 26/200\n",
      " - 0s - loss: 2.0090 - acc: 0.3636\n",
      "Epoch 27/200\n",
      " - 0s - loss: 1.9833 - acc: 0.3636\n",
      "Epoch 28/200\n",
      " - 0s - loss: 1.9586 - acc: 0.3636\n",
      "Epoch 29/200\n",
      " - 0s - loss: 1.9352 - acc: 0.3636\n",
      "Epoch 30/200\n",
      " - 0s - loss: 1.9135 - acc: 0.3636\n",
      "Epoch 31/200\n",
      " - 0s - loss: 1.8936 - acc: 0.3636\n",
      "Epoch 32/200\n",
      " - 0s - loss: 1.8755 - acc: 0.3636\n",
      "Epoch 33/200\n",
      " - 0s - loss: 1.8590 - acc: 0.3636\n",
      "Epoch 34/200\n",
      " - 0s - loss: 1.8437 - acc: 0.3636\n",
      "Epoch 35/200\n",
      " - 0s - loss: 1.8291 - acc: 0.3636\n",
      "Epoch 36/200\n",
      " - 0s - loss: 1.8148 - acc: 0.3636\n",
      "Epoch 37/200\n",
      " - 0s - loss: 1.8003 - acc: 0.3636\n",
      "Epoch 38/200\n",
      " - 0s - loss: 1.7852 - acc: 0.3636\n",
      "Epoch 39/200\n",
      " - 0s - loss: 1.7695 - acc: 0.3636\n",
      "Epoch 40/200\n",
      " - 0s - loss: 1.7532 - acc: 0.3636\n",
      "Epoch 41/200\n",
      " - 0s - loss: 1.7362 - acc: 0.3636\n",
      "Epoch 42/200\n",
      " - 0s - loss: 1.7187 - acc: 0.3636\n",
      "Epoch 43/200\n",
      " - 0s - loss: 1.7010 - acc: 0.3636\n",
      "Epoch 44/200\n",
      " - 0s - loss: 1.6831 - acc: 0.3636\n",
      "Epoch 45/200\n",
      " - 0s - loss: 1.6652 - acc: 0.3636\n",
      "Epoch 46/200\n",
      " - 0s - loss: 1.6472 - acc: 0.3636\n",
      "Epoch 47/200\n",
      " - 0s - loss: 1.6291 - acc: 0.3636\n",
      "Epoch 48/200\n",
      " - 0s - loss: 1.6109 - acc: 0.3636\n",
      "Epoch 49/200\n",
      " - 0s - loss: 1.5924 - acc: 0.4545\n",
      "Epoch 50/200\n",
      " - 0s - loss: 1.5736 - acc: 0.4545\n",
      "Epoch 51/200\n",
      " - 0s - loss: 1.5543 - acc: 0.5455\n",
      "Epoch 52/200\n",
      " - 0s - loss: 1.5346 - acc: 0.5455\n",
      "Epoch 53/200\n",
      " - 0s - loss: 1.5144 - acc: 0.5455\n",
      "Epoch 54/200\n",
      " - 0s - loss: 1.4937 - acc: 0.5455\n",
      "Epoch 55/200\n",
      " - 0s - loss: 1.4726 - acc: 0.5455\n",
      "Epoch 56/200\n",
      " - 0s - loss: 1.4512 - acc: 0.5455\n",
      "Epoch 57/200\n",
      " - 0s - loss: 1.4295 - acc: 0.5455\n",
      "Epoch 58/200\n",
      " - 0s - loss: 1.4076 - acc: 0.5455\n",
      "Epoch 59/200\n",
      " - 0s - loss: 1.3855 - acc: 0.5455\n",
      "Epoch 60/200\n",
      " - 0s - loss: 1.3633 - acc: 0.5455\n",
      "Epoch 61/200\n",
      " - 0s - loss: 1.3410 - acc: 0.5455\n",
      "Epoch 62/200\n",
      " - 0s - loss: 1.3186 - acc: 0.5455\n",
      "Epoch 63/200\n",
      " - 0s - loss: 1.2962 - acc: 0.5455\n",
      "Epoch 64/200\n",
      " - 0s - loss: 1.2737 - acc: 0.5455\n",
      "Epoch 65/200\n",
      " - 0s - loss: 1.2513 - acc: 0.5455\n",
      "Epoch 66/200\n",
      " - 0s - loss: 1.2290 - acc: 0.5455\n",
      "Epoch 67/200\n",
      " - 0s - loss: 1.2067 - acc: 0.5455\n",
      "Epoch 68/200\n",
      " - 0s - loss: 1.1846 - acc: 0.5455\n",
      "Epoch 69/200\n",
      " - 0s - loss: 1.1627 - acc: 0.5455\n",
      "Epoch 70/200\n",
      " - 0s - loss: 1.1411 - acc: 0.5455\n",
      "Epoch 71/200\n",
      " - 0s - loss: 1.1197 - acc: 0.7273\n",
      "Epoch 72/200\n",
      " - 0s - loss: 1.0986 - acc: 0.7273\n",
      "Epoch 73/200\n",
      " - 0s - loss: 1.0778 - acc: 0.7273\n",
      "Epoch 74/200\n",
      " - 0s - loss: 1.0574 - acc: 0.7273\n",
      "Epoch 75/200\n",
      " - 0s - loss: 1.0374 - acc: 0.7273\n",
      "Epoch 76/200\n",
      " - 0s - loss: 1.0176 - acc: 0.7273\n",
      "Epoch 77/200\n",
      " - 0s - loss: 0.9982 - acc: 0.7273\n",
      "Epoch 78/200\n",
      " - 0s - loss: 0.9792 - acc: 0.7273\n",
      "Epoch 79/200\n",
      " - 0s - loss: 0.9604 - acc: 0.7273\n",
      "Epoch 80/200\n",
      " - 0s - loss: 0.9420 - acc: 0.7273\n",
      "Epoch 81/200\n",
      " - 0s - loss: 0.9240 - acc: 0.7273\n",
      "Epoch 82/200\n",
      " - 0s - loss: 0.9063 - acc: 0.8182\n",
      "Epoch 83/200\n",
      " - 0s - loss: 0.8889 - acc: 0.8182\n",
      "Epoch 84/200\n",
      " - 0s - loss: 0.8718 - acc: 0.8182\n",
      "Epoch 85/200\n",
      " - 0s - loss: 0.8551 - acc: 0.8182\n",
      "Epoch 86/200\n",
      " - 0s - loss: 0.8387 - acc: 0.8182\n",
      "Epoch 87/200\n",
      " - 0s - loss: 0.8226 - acc: 0.8182\n",
      "Epoch 88/200\n",
      " - 0s - loss: 0.8067 - acc: 0.8182\n",
      "Epoch 89/200\n",
      " - 0s - loss: 0.7912 - acc: 0.8182\n",
      "Epoch 90/200\n",
      " - 0s - loss: 0.7759 - acc: 0.8182\n",
      "Epoch 91/200\n",
      " - 0s - loss: 0.7609 - acc: 0.8182\n",
      "Epoch 92/200\n",
      " - 0s - loss: 0.7462 - acc: 0.8182\n",
      "Epoch 93/200\n",
      " - 0s - loss: 0.7317 - acc: 0.8182\n",
      "Epoch 94/200\n",
      " - 0s - loss: 0.7175 - acc: 0.8182\n",
      "Epoch 95/200\n",
      " - 0s - loss: 0.7036 - acc: 0.8182\n",
      "Epoch 96/200\n",
      " - 0s - loss: 0.6899 - acc: 0.8182\n",
      "Epoch 97/200\n",
      " - 0s - loss: 0.6765 - acc: 0.8182\n",
      "Epoch 98/200\n",
      " - 0s - loss: 0.6634 - acc: 0.8182\n",
      "Epoch 99/200\n",
      " - 0s - loss: 0.6505 - acc: 0.8182\n",
      "Epoch 100/200\n",
      " - 0s - loss: 0.6378 - acc: 0.8182\n",
      "Epoch 101/200\n",
      " - 0s - loss: 0.6254 - acc: 0.8182\n",
      "Epoch 102/200\n",
      " - 0s - loss: 0.6133 - acc: 0.8182\n",
      "Epoch 103/200\n",
      " - 0s - loss: 0.6014 - acc: 0.8182\n",
      "Epoch 104/200\n",
      " - 0s - loss: 0.5898 - acc: 0.8182\n",
      "Epoch 105/200\n",
      " - 0s - loss: 0.5784 - acc: 0.8182\n",
      "Epoch 106/200\n",
      " - 0s - loss: 0.5672 - acc: 0.8182\n",
      "Epoch 107/200\n",
      " - 0s - loss: 0.5563 - acc: 0.8182\n",
      "Epoch 108/200\n",
      " - 0s - loss: 0.5456 - acc: 0.8182\n",
      "Epoch 109/200\n",
      " - 0s - loss: 0.5351 - acc: 0.9091\n",
      "Epoch 110/200\n",
      " - 0s - loss: 0.5249 - acc: 0.9091\n",
      "Epoch 111/200\n",
      " - 0s - loss: 0.5149 - acc: 0.9091\n",
      "Epoch 112/200\n",
      " - 0s - loss: 0.5051 - acc: 0.9091\n",
      "Epoch 113/200\n",
      " - 0s - loss: 0.4955 - acc: 0.9091\n",
      "Epoch 114/200\n",
      " - 0s - loss: 0.4861 - acc: 0.9091\n",
      "Epoch 115/200\n",
      " - 0s - loss: 0.4769 - acc: 0.9091\n",
      "Epoch 116/200\n",
      " - 0s - loss: 0.4680 - acc: 0.9091\n",
      "Epoch 117/200\n",
      " - 0s - loss: 0.4592 - acc: 0.9091\n",
      "Epoch 118/200\n",
      " - 0s - loss: 0.4506 - acc: 0.9091\n",
      "Epoch 119/200\n",
      " - 0s - loss: 0.4422 - acc: 0.9091\n",
      "Epoch 120/200\n",
      " - 0s - loss: 0.4340 - acc: 0.9091\n",
      "Epoch 121/200\n",
      " - 0s - loss: 0.4260 - acc: 0.9091\n",
      "Epoch 122/200\n",
      " - 0s - loss: 0.4182 - acc: 0.9091\n",
      "Epoch 123/200\n",
      " - 0s - loss: 0.4105 - acc: 0.9091\n",
      "Epoch 124/200\n",
      " - 0s - loss: 0.4030 - acc: 0.9091\n",
      "Epoch 125/200\n",
      " - 0s - loss: 0.3956 - acc: 0.9091\n",
      "Epoch 126/200\n",
      " - 0s - loss: 0.3884 - acc: 0.9091\n",
      "Epoch 127/200\n",
      " - 0s - loss: 0.3814 - acc: 0.9091\n",
      "Epoch 128/200\n",
      " - 0s - loss: 0.3744 - acc: 0.9091\n",
      "Epoch 129/200\n",
      " - 0s - loss: 0.3677 - acc: 0.9091\n",
      "Epoch 130/200\n",
      " - 0s - loss: 0.3611 - acc: 0.9091\n",
      "Epoch 131/200\n",
      " - 0s - loss: 0.3546 - acc: 0.9091\n",
      "Epoch 132/200\n",
      " - 0s - loss: 0.3482 - acc: 0.9091\n",
      "Epoch 133/200\n",
      " - 0s - loss: 0.3420 - acc: 0.9091\n",
      "Epoch 134/200\n",
      " - 0s - loss: 0.3358 - acc: 0.9091\n",
      "Epoch 135/200\n",
      " - 0s - loss: 0.3298 - acc: 0.9091\n",
      "Epoch 136/200\n",
      " - 0s - loss: 0.3239 - acc: 0.9091\n",
      "Epoch 137/200\n",
      " - 0s - loss: 0.3182 - acc: 0.9091\n",
      "Epoch 138/200\n",
      " - 0s - loss: 0.3125 - acc: 0.9091\n",
      "Epoch 139/200\n",
      " - 0s - loss: 0.3069 - acc: 0.9091\n",
      "Epoch 140/200\n",
      " - 0s - loss: 0.3014 - acc: 0.9091\n",
      "Epoch 141/200\n",
      " - 0s - loss: 0.2961 - acc: 0.9091\n",
      "Epoch 142/200\n",
      " - 0s - loss: 0.2908 - acc: 0.9091\n",
      "Epoch 143/200\n",
      " - 0s - loss: 0.2856 - acc: 1.0000\n",
      "Epoch 144/200\n",
      " - 0s - loss: 0.2805 - acc: 1.0000\n",
      "Epoch 145/200\n",
      " - 0s - loss: 0.2754 - acc: 1.0000\n",
      "Epoch 146/200\n",
      " - 0s - loss: 0.2705 - acc: 1.0000\n",
      "Epoch 147/200\n",
      " - 0s - loss: 0.2656 - acc: 1.0000\n",
      "Epoch 148/200\n",
      " - 0s - loss: 0.2608 - acc: 1.0000\n",
      "Epoch 149/200\n",
      " - 0s - loss: 0.2561 - acc: 1.0000\n",
      "Epoch 150/200\n",
      " - 0s - loss: 0.2515 - acc: 1.0000\n",
      "Epoch 151/200\n",
      " - 0s - loss: 0.2469 - acc: 1.0000\n",
      "Epoch 152/200\n",
      " - 0s - loss: 0.2424 - acc: 1.0000\n",
      "Epoch 153/200\n",
      " - 0s - loss: 0.2380 - acc: 1.0000\n",
      "Epoch 154/200\n",
      " - 0s - loss: 0.2336 - acc: 1.0000\n",
      "Epoch 155/200\n",
      " - 0s - loss: 0.2293 - acc: 1.0000\n",
      "Epoch 156/200\n",
      " - 0s - loss: 0.2251 - acc: 1.0000\n",
      "Epoch 157/200\n",
      " - 0s - loss: 0.2210 - acc: 1.0000\n",
      "Epoch 158/200\n",
      " - 0s - loss: 0.2169 - acc: 1.0000\n",
      "Epoch 159/200\n",
      " - 0s - loss: 0.2128 - acc: 1.0000\n",
      "Epoch 160/200\n",
      " - 0s - loss: 0.2088 - acc: 1.0000\n",
      "Epoch 161/200\n",
      " - 0s - loss: 0.2049 - acc: 1.0000\n",
      "Epoch 162/200\n",
      " - 0s - loss: 0.2011 - acc: 1.0000\n",
      "Epoch 163/200\n",
      " - 0s - loss: 0.1973 - acc: 1.0000\n",
      "Epoch 164/200\n",
      " - 0s - loss: 0.1935 - acc: 1.0000\n",
      "Epoch 165/200\n",
      " - 0s - loss: 0.1898 - acc: 1.0000\n",
      "Epoch 166/200\n",
      " - 0s - loss: 0.1862 - acc: 1.0000\n",
      "Epoch 167/200\n",
      " - 0s - loss: 0.1826 - acc: 1.0000\n",
      "Epoch 168/200\n",
      " - 0s - loss: 0.1791 - acc: 1.0000\n",
      "Epoch 169/200\n",
      " - 0s - loss: 0.1757 - acc: 1.0000\n",
      "Epoch 170/200\n",
      " - 0s - loss: 0.1723 - acc: 1.0000\n",
      "Epoch 171/200\n",
      " - 0s - loss: 0.1690 - acc: 1.0000\n",
      "Epoch 172/200\n",
      " - 0s - loss: 0.1657 - acc: 1.0000\n",
      "Epoch 173/200\n",
      " - 0s - loss: 0.1624 - acc: 1.0000\n",
      "Epoch 174/200\n",
      " - 0s - loss: 0.1593 - acc: 1.0000\n",
      "Epoch 175/200\n",
      " - 0s - loss: 0.1562 - acc: 1.0000\n",
      "Epoch 176/200\n",
      " - 0s - loss: 0.1531 - acc: 1.0000\n",
      "Epoch 177/200\n",
      " - 0s - loss: 0.1501 - acc: 1.0000\n",
      "Epoch 178/200\n",
      " - 0s - loss: 0.1472 - acc: 1.0000\n",
      "Epoch 179/200\n",
      " - 0s - loss: 0.1443 - acc: 1.0000\n",
      "Epoch 180/200\n",
      " - 0s - loss: 0.1415 - acc: 1.0000\n",
      "Epoch 181/200\n",
      " - 0s - loss: 0.1387 - acc: 1.0000\n",
      "Epoch 182/200\n",
      " - 0s - loss: 0.1360 - acc: 1.0000\n",
      "Epoch 183/200\n",
      " - 0s - loss: 0.1333 - acc: 1.0000\n",
      "Epoch 184/200\n",
      " - 0s - loss: 0.1307 - acc: 1.0000\n",
      "Epoch 185/200\n",
      " - 0s - loss: 0.1281 - acc: 1.0000\n",
      "Epoch 186/200\n",
      " - 0s - loss: 0.1256 - acc: 1.0000\n",
      "Epoch 187/200\n",
      " - 0s - loss: 0.1232 - acc: 1.0000\n",
      "Epoch 188/200\n",
      " - 0s - loss: 0.1208 - acc: 1.0000\n",
      "Epoch 189/200\n",
      " - 0s - loss: 0.1184 - acc: 1.0000\n",
      "Epoch 190/200\n",
      " - 0s - loss: 0.1161 - acc: 1.0000\n",
      "Epoch 191/200\n",
      " - 0s - loss: 0.1139 - acc: 1.0000\n",
      "Epoch 192/200\n",
      " - 0s - loss: 0.1117 - acc: 1.0000\n",
      "Epoch 193/200\n",
      " - 0s - loss: 0.1096 - acc: 1.0000\n",
      "Epoch 194/200\n",
      " - 0s - loss: 0.1075 - acc: 1.0000\n",
      "Epoch 195/200\n",
      " - 0s - loss: 0.1054 - acc: 1.0000\n",
      "Epoch 196/200\n",
      " - 0s - loss: 0.1034 - acc: 1.0000\n",
      "Epoch 197/200\n",
      " - 0s - loss: 0.1015 - acc: 1.0000\n",
      "Epoch 198/200\n",
      " - 0s - loss: 0.0995 - acc: 1.0000\n",
      "Epoch 199/200\n",
      " - 0s - loss: 0.0977 - acc: 1.0000\n",
      "Epoch 200/200\n",
      " - 0s - loss: 0.0959 - acc: 1.0000\n"
     ]
    },
    {
     "data": {
      "text/plain": [
       "<keras.callbacks.History at 0x7f0fc3ade7b8>"
      ]
     },
     "execution_count": 128,
     "metadata": {
      "tags": []
     },
     "output_type": "execute_result"
    }
   ],
   "source": [
    "from keras.layers import Embedding, Dense, SimpleRNN\n",
    "from keras.models import Sequential\n",
    "\n",
    "\n",
    "model = Sequential()\n",
    "model.add(Embedding(vocab_size, 10, input_length=5))\n",
    "model.add(SimpleRNN(32))\n",
    "model.add(Dense(vocab_size, activation=\"softmax\"))\n",
    "model.compile(loss=\"categorical_crossentropy\", optimizer=\"adam\", metrics=[\"accuracy\"])\n",
    "model.fit(x, y, epochs=200, verbose=2)\n"
   ]
  },
  {
   "cell_type": "code",
   "execution_count": null,
   "metadata": {
    "colab": {},
    "colab_type": "code",
    "id": "b8K10Li_pbzh"
   },
   "outputs": [],
   "source": [
    "def sentence_generation(model, t, current_word, n):\n",
    "    init_word = current_word\n",
    "    sentence = \"\"\n",
    "    for _ in range(n):\n",
    "        encoded = t.texts_to_sequences([current_word])[0]\n",
    "        encoded = pad_sequences([encoded], maxlen=5, padding=\"pre\")\n",
    "        result = model.predict_classes(encoded, verbose=0)\n",
    "        \n",
    "        for word, index in t.word_index.items():\n",
    "            if index == result:\n",
    "                break\n",
    "        current_word = current_word + \" \" + word\n",
    "        sentence = sentence + \" \" + word\n",
    "    sentence = init_word + sentence\n",
    "    return sentence"
   ]
  },
  {
   "cell_type": "code",
   "execution_count": 144,
   "metadata": {
    "colab": {
     "base_uri": "https://localhost:8080/",
     "height": 34
    },
    "colab_type": "code",
    "executionInfo": {
     "elapsed": 1792,
     "status": "ok",
     "timestamp": 1566366040809,
     "user": {
      "displayName": "Jun Seok Ko",
      "photoUrl": "https://lh3.googleusercontent.com/a-/AAuE7mCcLVl_JJcU1MhehlvMYuvwSAckQT715hKkXuE4=s64",
      "userId": "09316774114625797444"
     },
     "user_tz": -540
    },
    "id": "zsNrraOJqCgO",
    "outputId": "0d81ea33-cf9a-4ad5-dd69-4bf88d226f91"
   },
   "outputs": [
    {
     "data": {
      "text/plain": [
       "'경마장에 있는 말이 뛰고 있다'"
      ]
     },
     "execution_count": 144,
     "metadata": {
      "tags": []
     },
     "output_type": "execute_result"
    }
   ],
   "source": [
    "sentence_generation(model, t, \"경마장에\", 4)"
   ]
  },
  {
   "cell_type": "code",
   "execution_count": 145,
   "metadata": {
    "colab": {
     "base_uri": "https://localhost:8080/",
     "height": 34
    },
    "colab_type": "code",
    "executionInfo": {
     "elapsed": 2627,
     "status": "ok",
     "timestamp": 1566366042012,
     "user": {
      "displayName": "Jun Seok Ko",
      "photoUrl": "https://lh3.googleusercontent.com/a-/AAuE7mCcLVl_JJcU1MhehlvMYuvwSAckQT715hKkXuE4=s64",
      "userId": "09316774114625797444"
     },
     "user_tz": -540
    },
    "id": "0LDr0P6-qG97",
    "outputId": "c92b4039-76c1-4bb2-cfa9-866410a75550"
   },
   "outputs": [
    {
     "data": {
      "text/plain": [
       "'그의 말이 법이다'"
      ]
     },
     "execution_count": 145,
     "metadata": {
      "tags": []
     },
     "output_type": "execute_result"
    }
   ],
   "source": [
    "sentence_generation(model, t, \"그의\", 2)"
   ]
  },
  {
   "cell_type": "code",
   "execution_count": 146,
   "metadata": {
    "colab": {
     "base_uri": "https://localhost:8080/",
     "height": 34
    },
    "colab_type": "code",
    "executionInfo": {
     "elapsed": 2330,
     "status": "ok",
     "timestamp": 1566366042012,
     "user": {
      "displayName": "Jun Seok Ko",
      "photoUrl": "https://lh3.googleusercontent.com/a-/AAuE7mCcLVl_JJcU1MhehlvMYuvwSAckQT715hKkXuE4=s64",
      "userId": "09316774114625797444"
     },
     "user_tz": -540
    },
    "id": "_hyQIGADrAnn",
    "outputId": "654548cd-4839-42d5-80c8-35ed4556d12d"
   },
   "outputs": [
    {
     "data": {
      "text/plain": [
       "'가는 말이 고와야 오는 말이 곱다'"
      ]
     },
     "execution_count": 146,
     "metadata": {
      "tags": []
     },
     "output_type": "execute_result"
    }
   ],
   "source": [
    "sentence_generation(model, t, \"가는\", 5)"
   ]
  },
  {
   "cell_type": "code",
   "execution_count": 147,
   "metadata": {
    "colab": {
     "base_uri": "https://localhost:8080/",
     "height": 34
    },
    "colab_type": "code",
    "executionInfo": {
     "elapsed": 2033,
     "status": "ok",
     "timestamp": 1566366042013,
     "user": {
      "displayName": "Jun Seok Ko",
      "photoUrl": "https://lh3.googleusercontent.com/a-/AAuE7mCcLVl_JJcU1MhehlvMYuvwSAckQT715hKkXuE4=s64",
      "userId": "09316774114625797444"
     },
     "user_tz": -540
    },
    "id": "m1K8WE1irD2D",
    "outputId": "79bc971d-fe70-46a7-c5a8-30e6fdbc965a"
   },
   "outputs": [
    {
     "data": {
      "text/plain": [
       "'오는 말이 말이 오는 말이 곱다'"
      ]
     },
     "execution_count": 147,
     "metadata": {
      "tags": []
     },
     "output_type": "execute_result"
    }
   ],
   "source": [
    "sentence_generation(model, t, \"오는\", 5)"
   ]
  },
  {
   "cell_type": "code",
   "execution_count": 148,
   "metadata": {
    "colab": {
     "base_uri": "https://localhost:8080/",
     "height": 34
    },
    "colab_type": "code",
    "executionInfo": {
     "elapsed": 1926,
     "status": "ok",
     "timestamp": 1566366045442,
     "user": {
      "displayName": "Jun Seok Ko",
      "photoUrl": "https://lh3.googleusercontent.com/a-/AAuE7mCcLVl_JJcU1MhehlvMYuvwSAckQT715hKkXuE4=s64",
      "userId": "09316774114625797444"
     },
     "user_tz": -540
    },
    "id": "1XguVCbQrJCf",
    "outputId": "b9c01ed2-6286-4b87-d652-e10ca671462e"
   },
   "outputs": [
    {
     "data": {
      "text/plain": [
       "'말이 말이 말이 말이 말이 있다'"
      ]
     },
     "execution_count": 148,
     "metadata": {
      "tags": []
     },
     "output_type": "execute_result"
    }
   ],
   "source": [
    "sentence_generation(model, t, \"말이\", 5)"
   ]
  },
  {
   "cell_type": "code",
   "execution_count": 153,
   "metadata": {
    "colab": {
     "base_uri": "https://localhost:8080/",
     "height": 194
    },
    "colab_type": "code",
    "executionInfo": {
     "elapsed": 1762,
     "status": "ok",
     "timestamp": 1566366411359,
     "user": {
      "displayName": "Jun Seok Ko",
      "photoUrl": "https://lh3.googleusercontent.com/a-/AAuE7mCcLVl_JJcU1MhehlvMYuvwSAckQT715hKkXuE4=s64",
      "userId": "09316774114625797444"
     },
     "user_tz": -540
    },
    "id": "YdWT9N2JsBBC",
    "outputId": "cbc5a2b3-0f84-420f-da28-5f4b8340c860"
   },
   "outputs": [
    {
     "name": "stdout",
     "output_type": "stream",
     "text": [
      " 말이 \n",
      " 말이  말이\n",
      " 말이  말이 말이\n",
      " 말이  말이 말이 말이\n",
      " 말이  말이 말이 말이 말이\n",
      " 말이  말이 말이 말이 말이 있다\n",
      " 말이  말이 말이 말이 말이 있다 있다\n",
      " 말이  말이 말이 말이 말이 있다 있다 있다\n",
      " 말이  말이 말이 말이 말이 있다 있다 있다 있다\n",
      " 말이  말이 말이 말이 말이 있다 있다 있다 있다 있다\n"
     ]
    }
   ],
   "source": [
    "for i in range(10):\n",
    "    print(sentence_generation(model, t, \" 말이 \", i))"
   ]
  },
  {
   "cell_type": "markdown",
   "metadata": {
    "colab_type": "text",
    "id": "LPvydPFrtRRO"
   },
   "source": [
    "## LSTM"
   ]
  },
  {
   "cell_type": "code",
   "execution_count": null,
   "metadata": {
    "colab": {},
    "colab_type": "code",
    "id": "KWAffdpasMQc"
   },
   "outputs": [],
   "source": [
    "path = \"/content/drive/My Drive/lecture/l_d/p8/\"\n"
   ]
  },
  {
   "cell_type": "code",
   "execution_count": 156,
   "metadata": {
    "colab": {
     "base_uri": "https://localhost:8080/",
     "height": 481
    },
    "colab_type": "code",
    "executionInfo": {
     "elapsed": 1886,
     "status": "ok",
     "timestamp": 1566370589299,
     "user": {
      "displayName": "Jun Seok Ko",
      "photoUrl": "https://lh3.googleusercontent.com/a-/AAuE7mCcLVl_JJcU1MhehlvMYuvwSAckQT715hKkXuE4=s64",
      "userId": "09316774114625797444"
     },
     "user_tz": -540
    },
    "id": "lw4Wb5xk9d1d",
    "outputId": "a86f4c17-e976-40dc-9472-cd7bb5395be0"
   },
   "outputs": [
    {
     "data": {
      "text/html": [
       "<div>\n",
       "<style scoped>\n",
       "    .dataframe tbody tr th:only-of-type {\n",
       "        vertical-align: middle;\n",
       "    }\n",
       "\n",
       "    .dataframe tbody tr th {\n",
       "        vertical-align: top;\n",
       "    }\n",
       "\n",
       "    .dataframe thead th {\n",
       "        text-align: right;\n",
       "    }\n",
       "</style>\n",
       "<table border=\"1\" class=\"dataframe\">\n",
       "  <thead>\n",
       "    <tr style=\"text-align: right;\">\n",
       "      <th></th>\n",
       "      <th>articleID</th>\n",
       "      <th>articleWordCount</th>\n",
       "      <th>byline</th>\n",
       "      <th>documentType</th>\n",
       "      <th>headline</th>\n",
       "      <th>keywords</th>\n",
       "      <th>multimedia</th>\n",
       "      <th>newDesk</th>\n",
       "      <th>printPage</th>\n",
       "      <th>pubDate</th>\n",
       "      <th>sectionName</th>\n",
       "      <th>snippet</th>\n",
       "      <th>source</th>\n",
       "      <th>typeOfMaterial</th>\n",
       "      <th>webURL</th>\n",
       "    </tr>\n",
       "  </thead>\n",
       "  <tbody>\n",
       "    <tr>\n",
       "      <th>0</th>\n",
       "      <td>5adf6684068401528a2aa69b</td>\n",
       "      <td>781</td>\n",
       "      <td>By JOHN BRANCH</td>\n",
       "      <td>article</td>\n",
       "      <td>Former N.F.L. Cheerleaders’ Settlement Offer: ...</td>\n",
       "      <td>['Workplace Hazards and Violations', 'Football...</td>\n",
       "      <td>68</td>\n",
       "      <td>Sports</td>\n",
       "      <td>0</td>\n",
       "      <td>2018-04-24 17:16:49</td>\n",
       "      <td>Pro Football</td>\n",
       "      <td>“I understand that they could meet with us, pa...</td>\n",
       "      <td>The New York Times</td>\n",
       "      <td>News</td>\n",
       "      <td>https://www.nytimes.com/2018/04/24/sports/foot...</td>\n",
       "    </tr>\n",
       "    <tr>\n",
       "      <th>1</th>\n",
       "      <td>5adf653f068401528a2aa697</td>\n",
       "      <td>656</td>\n",
       "      <td>By LISA FRIEDMAN</td>\n",
       "      <td>article</td>\n",
       "      <td>E.P.A. to Unveil a New Rule. Its Effect: Less ...</td>\n",
       "      <td>['Environmental Protection Agency', 'Pruitt, S...</td>\n",
       "      <td>68</td>\n",
       "      <td>Climate</td>\n",
       "      <td>0</td>\n",
       "      <td>2018-04-24 17:11:21</td>\n",
       "      <td>Unknown</td>\n",
       "      <td>The agency plans to publish a new regulation T...</td>\n",
       "      <td>The New York Times</td>\n",
       "      <td>News</td>\n",
       "      <td>https://www.nytimes.com/2018/04/24/climate/epa...</td>\n",
       "    </tr>\n",
       "    <tr>\n",
       "      <th>2</th>\n",
       "      <td>5adf4626068401528a2aa628</td>\n",
       "      <td>2427</td>\n",
       "      <td>By PETE WELLS</td>\n",
       "      <td>article</td>\n",
       "      <td>The New Noma, Explained</td>\n",
       "      <td>['Restaurants', 'Noma (Copenhagen, Restaurant)...</td>\n",
       "      <td>66</td>\n",
       "      <td>Dining</td>\n",
       "      <td>0</td>\n",
       "      <td>2018-04-24 14:58:44</td>\n",
       "      <td>Unknown</td>\n",
       "      <td>What’s it like to eat at the second incarnatio...</td>\n",
       "      <td>The New York Times</td>\n",
       "      <td>News</td>\n",
       "      <td>https://www.nytimes.com/2018/04/24/dining/noma...</td>\n",
       "    </tr>\n",
       "    <tr>\n",
       "      <th>3</th>\n",
       "      <td>5adf40d2068401528a2aa619</td>\n",
       "      <td>626</td>\n",
       "      <td>By JULIE HIRSCHFELD DAVIS and PETER BAKER</td>\n",
       "      <td>article</td>\n",
       "      <td>Unknown</td>\n",
       "      <td>['Macron, Emmanuel (1977- )', 'Trump, Donald J...</td>\n",
       "      <td>68</td>\n",
       "      <td>Washington</td>\n",
       "      <td>0</td>\n",
       "      <td>2018-04-24 14:35:57</td>\n",
       "      <td>Europe</td>\n",
       "      <td>President Trump welcomed President Emmanuel Ma...</td>\n",
       "      <td>The New York Times</td>\n",
       "      <td>News</td>\n",
       "      <td>https://www.nytimes.com/2018/04/24/world/europ...</td>\n",
       "    </tr>\n",
       "    <tr>\n",
       "      <th>4</th>\n",
       "      <td>5adf3d64068401528a2aa60f</td>\n",
       "      <td>815</td>\n",
       "      <td>By IAN AUSTEN and DAN BILEFSKY</td>\n",
       "      <td>article</td>\n",
       "      <td>Unknown</td>\n",
       "      <td>['Toronto, Ontario, Attack (April, 2018)', 'Mu...</td>\n",
       "      <td>68</td>\n",
       "      <td>Foreign</td>\n",
       "      <td>0</td>\n",
       "      <td>2018-04-24 14:21:21</td>\n",
       "      <td>Canada</td>\n",
       "      <td>Alek Minassian, 25, a resident of Toronto’s Ri...</td>\n",
       "      <td>The New York Times</td>\n",
       "      <td>News</td>\n",
       "      <td>https://www.nytimes.com/2018/04/24/world/canad...</td>\n",
       "    </tr>\n",
       "  </tbody>\n",
       "</table>\n",
       "</div>"
      ],
      "text/plain": [
       "                  articleID  ...                                             webURL\n",
       "0  5adf6684068401528a2aa69b  ...  https://www.nytimes.com/2018/04/24/sports/foot...\n",
       "1  5adf653f068401528a2aa697  ...  https://www.nytimes.com/2018/04/24/climate/epa...\n",
       "2  5adf4626068401528a2aa628  ...  https://www.nytimes.com/2018/04/24/dining/noma...\n",
       "3  5adf40d2068401528a2aa619  ...  https://www.nytimes.com/2018/04/24/world/europ...\n",
       "4  5adf3d64068401528a2aa60f  ...  https://www.nytimes.com/2018/04/24/world/canad...\n",
       "\n",
       "[5 rows x 15 columns]"
      ]
     },
     "execution_count": 156,
     "metadata": {
      "tags": []
     },
     "output_type": "execute_result"
    }
   ],
   "source": [
    "import pandas as pd\n",
    "df = pd.read_csv(path + \"ArticlesApril2018.csv\")\n",
    "df.head()"
   ]
  },
  {
   "cell_type": "code",
   "execution_count": 157,
   "metadata": {
    "colab": {
     "base_uri": "https://localhost:8080/",
     "height": 87
    },
    "colab_type": "code",
    "executionInfo": {
     "elapsed": 1282,
     "status": "ok",
     "timestamp": 1566370620050,
     "user": {
      "displayName": "Jun Seok Ko",
      "photoUrl": "https://lh3.googleusercontent.com/a-/AAuE7mCcLVl_JJcU1MhehlvMYuvwSAckQT715hKkXuE4=s64",
      "userId": "09316774114625797444"
     },
     "user_tz": -540
    },
    "id": "HE5wEAhC9kGD",
    "outputId": "4109e2da-d3c8-46b5-faf7-1dc020b727d4"
   },
   "outputs": [
    {
     "data": {
      "text/plain": [
       "Index(['articleID', 'articleWordCount', 'byline', 'documentType', 'headline',\n",
       "       'keywords', 'multimedia', 'newDesk', 'printPage', 'pubDate',\n",
       "       'sectionName', 'snippet', 'source', 'typeOfMaterial', 'webURL'],\n",
       "      dtype='object')"
      ]
     },
     "execution_count": 157,
     "metadata": {
      "tags": []
     },
     "output_type": "execute_result"
    }
   ],
   "source": [
    "df.columns"
   ]
  },
  {
   "cell_type": "code",
   "execution_count": 158,
   "metadata": {
    "colab": {
     "base_uri": "https://localhost:8080/",
     "height": 34
    },
    "colab_type": "code",
    "executionInfo": {
     "elapsed": 1134,
     "status": "ok",
     "timestamp": 1566370628047,
     "user": {
      "displayName": "Jun Seok Ko",
      "photoUrl": "https://lh3.googleusercontent.com/a-/AAuE7mCcLVl_JJcU1MhehlvMYuvwSAckQT715hKkXuE4=s64",
      "userId": "09316774114625797444"
     },
     "user_tz": -540
    },
    "id": "5ZVWtZpU9tgX",
    "outputId": "49572da6-51ab-4ea4-821c-14ebe3af648d"
   },
   "outputs": [
    {
     "data": {
      "text/plain": [
       "15"
      ]
     },
     "execution_count": 158,
     "metadata": {
      "tags": []
     },
     "output_type": "execute_result"
    }
   ],
   "source": [
    "len(df.columns)"
   ]
  },
  {
   "cell_type": "code",
   "execution_count": 160,
   "metadata": {
    "colab": {
     "base_uri": "https://localhost:8080/",
     "height": 34
    },
    "colab_type": "code",
    "executionInfo": {
     "elapsed": 1839,
     "status": "ok",
     "timestamp": 1566370651321,
     "user": {
      "displayName": "Jun Seok Ko",
      "photoUrl": "https://lh3.googleusercontent.com/a-/AAuE7mCcLVl_JJcU1MhehlvMYuvwSAckQT715hKkXuE4=s64",
      "userId": "09316774114625797444"
     },
     "user_tz": -540
    },
    "id": "I6qt1gW69vof",
    "outputId": "b02d9e1f-8f6b-4d30-8021-2edee322ab0a"
   },
   "outputs": [
    {
     "data": {
      "text/plain": [
       "False"
      ]
     },
     "execution_count": 160,
     "metadata": {
      "tags": []
     },
     "output_type": "execute_result"
    }
   ],
   "source": [
    "df[\"headline\"].isnull().values.any()"
   ]
  },
  {
   "cell_type": "code",
   "execution_count": 161,
   "metadata": {
    "colab": {
     "base_uri": "https://localhost:8080/",
     "height": 105
    },
    "colab_type": "code",
    "executionInfo": {
     "elapsed": 1215,
     "status": "ok",
     "timestamp": 1566370674693,
     "user": {
      "displayName": "Jun Seok Ko",
      "photoUrl": "https://lh3.googleusercontent.com/a-/AAuE7mCcLVl_JJcU1MhehlvMYuvwSAckQT715hKkXuE4=s64",
      "userId": "09316774114625797444"
     },
     "user_tz": -540
    },
    "id": "6-Vze-iz9zYA",
    "outputId": "26fe6c8c-d88b-4118-f411-b7fb5a8c089c"
   },
   "outputs": [
    {
     "data": {
      "text/plain": [
       "['Former N.F.L. Cheerleaders’ Settlement Offer: $1 and a Meeting With Goodell',\n",
       " 'E.P.A. to Unveil a New Rule. Its Effect: Less Science in Policymaking.',\n",
       " 'The New Noma, Explained',\n",
       " 'Unknown',\n",
       " 'Unknown']"
      ]
     },
     "execution_count": 161,
     "metadata": {
      "tags": []
     },
     "output_type": "execute_result"
    }
   ],
   "source": [
    "headline = []\n",
    "headline.extend(list(df.headline.values))\n",
    "headline[:5]"
   ]
  },
  {
   "cell_type": "code",
   "execution_count": 162,
   "metadata": {
    "colab": {
     "base_uri": "https://localhost:8080/",
     "height": 34
    },
    "colab_type": "code",
    "executionInfo": {
     "elapsed": 1743,
     "status": "ok",
     "timestamp": 1566370689070,
     "user": {
      "displayName": "Jun Seok Ko",
      "photoUrl": "https://lh3.googleusercontent.com/a-/AAuE7mCcLVl_JJcU1MhehlvMYuvwSAckQT715hKkXuE4=s64",
      "userId": "09316774114625797444"
     },
     "user_tz": -540
    },
    "id": "e3X_2aTc97IX",
    "outputId": "3357a094-deec-4106-dc39-df6a6aa87b35"
   },
   "outputs": [
    {
     "data": {
      "text/plain": [
       "1324"
      ]
     },
     "execution_count": 162,
     "metadata": {
      "tags": []
     },
     "output_type": "execute_result"
    }
   ],
   "source": [
    "len(headline)"
   ]
  },
  {
   "cell_type": "code",
   "execution_count": 164,
   "metadata": {
    "colab": {
     "base_uri": "https://localhost:8080/",
     "height": 34
    },
    "colab_type": "code",
    "executionInfo": {
     "elapsed": 714,
     "status": "ok",
     "timestamp": 1566370727868,
     "user": {
      "displayName": "Jun Seok Ko",
      "photoUrl": "https://lh3.googleusercontent.com/a-/AAuE7mCcLVl_JJcU1MhehlvMYuvwSAckQT715hKkXuE4=s64",
      "userId": "09316774114625797444"
     },
     "user_tz": -540
    },
    "id": "TeZ21bI99-KW",
    "outputId": "8cfee6e3-a98b-4ebc-e597-56e325a24855"
   },
   "outputs": [
    {
     "data": {
      "text/plain": [
       "1214"
      ]
     },
     "execution_count": 164,
     "metadata": {
      "tags": []
     },
     "output_type": "execute_result"
    }
   ],
   "source": [
    "headline = [n for n in headline if n != \"Unknown\"]\n",
    "len(headline)"
   ]
  },
  {
   "cell_type": "code",
   "execution_count": 165,
   "metadata": {
    "colab": {
     "base_uri": "https://localhost:8080/",
     "height": 105
    },
    "colab_type": "code",
    "executionInfo": {
     "elapsed": 2009,
     "status": "ok",
     "timestamp": 1566370730134,
     "user": {
      "displayName": "Jun Seok Ko",
      "photoUrl": "https://lh3.googleusercontent.com/a-/AAuE7mCcLVl_JJcU1MhehlvMYuvwSAckQT715hKkXuE4=s64",
      "userId": "09316774114625797444"
     },
     "user_tz": -540
    },
    "id": "XaA0q157-E1-",
    "outputId": "3ec34bfb-bae6-4022-93bd-c7d89dfcdc30"
   },
   "outputs": [
    {
     "data": {
      "text/plain": [
       "['Former N.F.L. Cheerleaders’ Settlement Offer: $1 and a Meeting With Goodell',\n",
       " 'E.P.A. to Unveil a New Rule. Its Effect: Less Science in Policymaking.',\n",
       " 'The New Noma, Explained',\n",
       " 'How a Bag of Texas Dirt  Became a Times Tradition',\n",
       " 'Is School a Place for Self-Expression?']"
      ]
     },
     "execution_count": 165,
     "metadata": {
      "tags": []
     },
     "output_type": "execute_result"
    }
   ],
   "source": [
    "headline[:5]"
   ]
  },
  {
   "cell_type": "code",
   "execution_count": 166,
   "metadata": {
    "colab": {
     "base_uri": "https://localhost:8080/",
     "height": 105
    },
    "colab_type": "code",
    "executionInfo": {
     "elapsed": 1782,
     "status": "ok",
     "timestamp": 1566370806884,
     "user": {
      "displayName": "Jun Seok Ko",
      "photoUrl": "https://lh3.googleusercontent.com/a-/AAuE7mCcLVl_JJcU1MhehlvMYuvwSAckQT715hKkXuE4=s64",
      "userId": "09316774114625797444"
     },
     "user_tz": -540
    },
    "id": "9V7oXFH0-Ih6",
    "outputId": "31d3d59b-f18e-4538-ab81-8c8d7c0c0f8a"
   },
   "outputs": [
    {
     "data": {
      "text/plain": [
       "['former nfl cheerleaders settlement offer 1 and a meeting with goodell',\n",
       " 'epa to unveil a new rule its effect less science in policymaking',\n",
       " 'the new noma explained',\n",
       " 'how a bag of texas dirt  became a times tradition',\n",
       " 'is school a place for selfexpression']"
      ]
     },
     "execution_count": 166,
     "metadata": {
      "tags": []
     },
     "output_type": "execute_result"
    }
   ],
   "source": [
    "from string import punctuation\n",
    "\n",
    "\n",
    "def repreprocessing(s):\n",
    "    s = s.encode(\"utf8\").decode(\"ascii\", \"ignore\")\n",
    "    return \"\".join(c for c in s if c not in punctuation).lower()\n",
    "\n",
    "text = [repreprocessing(x) for x in headline]\n",
    "text[:5]"
   ]
  },
  {
   "cell_type": "code",
   "execution_count": 167,
   "metadata": {
    "colab": {
     "base_uri": "https://localhost:8080/",
     "height": 34
    },
    "colab_type": "code",
    "executionInfo": {
     "elapsed": 1999,
     "status": "ok",
     "timestamp": 1566370846997,
     "user": {
      "displayName": "Jun Seok Ko",
      "photoUrl": "https://lh3.googleusercontent.com/a-/AAuE7mCcLVl_JJcU1MhehlvMYuvwSAckQT715hKkXuE4=s64",
      "userId": "09316774114625797444"
     },
     "user_tz": -540
    },
    "id": "w_BwaY58-a77",
    "outputId": "1880f0d8-e760-4181-b59f-438d0b9ed7a5"
   },
   "outputs": [
    {
     "data": {
      "text/plain": [
       "3494"
      ]
     },
     "execution_count": 167,
     "metadata": {
      "tags": []
     },
     "output_type": "execute_result"
    }
   ],
   "source": [
    "from keras_preprocessing.text import Tokenizer\n",
    "\n",
    "\n",
    "t = Tokenizer()\n",
    "t.fit_on_texts(text)\n",
    "vocab_size = len(t.word_index) + 1\n",
    "vocab_size"
   ]
  },
  {
   "cell_type": "code",
   "execution_count": 169,
   "metadata": {
    "colab": {
     "base_uri": "https://localhost:8080/",
     "height": 212
    },
    "colab_type": "code",
    "executionInfo": {
     "elapsed": 1789,
     "status": "ok",
     "timestamp": 1566370927945,
     "user": {
      "displayName": "Jun Seok Ko",
      "photoUrl": "https://lh3.googleusercontent.com/a-/AAuE7mCcLVl_JJcU1MhehlvMYuvwSAckQT715hKkXuE4=s64",
      "userId": "09316774114625797444"
     },
     "user_tz": -540
    },
    "id": "XJDSYvio-lEC",
    "outputId": "901db2f7-1e19-43e0-fe56-0ddac54fc64f"
   },
   "outputs": [
    {
     "data": {
      "text/plain": [
       "[[99, 269],\n",
       " [99, 269, 371],\n",
       " [99, 269, 371, 1115],\n",
       " [99, 269, 371, 1115, 582],\n",
       " [99, 269, 371, 1115, 582, 52],\n",
       " [99, 269, 371, 1115, 582, 52, 7],\n",
       " [99, 269, 371, 1115, 582, 52, 7, 2],\n",
       " [99, 269, 371, 1115, 582, 52, 7, 2, 372],\n",
       " [99, 269, 371, 1115, 582, 52, 7, 2, 372, 10],\n",
       " [99, 269, 371, 1115, 582, 52, 7, 2, 372, 10, 1116],\n",
       " [100, 3]]"
      ]
     },
     "execution_count": 169,
     "metadata": {
      "tags": []
     },
     "output_type": "execute_result"
    }
   ],
   "source": [
    "sequences = list()\n",
    "\n",
    "for line in text:\n",
    "    encoded = t.texts_to_sequences([line])[0]\n",
    "    for i in range(1, len(encoded)):\n",
    "        sequence = encoded[:i + 1]\n",
    "        sequences.append(sequence)\n",
    "\n",
    "sequences[:11]"
   ]
  },
  {
   "cell_type": "code",
   "execution_count": 170,
   "metadata": {
    "colab": {
     "base_uri": "https://localhost:8080/",
     "height": 34
    },
    "colab_type": "code",
    "executionInfo": {
     "elapsed": 1711,
     "status": "ok",
     "timestamp": 1566370983254,
     "user": {
      "displayName": "Jun Seok Ko",
      "photoUrl": "https://lh3.googleusercontent.com/a-/AAuE7mCcLVl_JJcU1MhehlvMYuvwSAckQT715hKkXuE4=s64",
      "userId": "09316774114625797444"
     },
     "user_tz": -540
    },
    "id": "54CpYDU1-1-5",
    "outputId": "ad2a3965-2a16-41a6-96d0-b88335e4a716"
   },
   "outputs": [
    {
     "data": {
      "text/plain": [
       "'offer'"
      ]
     },
     "execution_count": 170,
     "metadata": {
      "tags": []
     },
     "output_type": "execute_result"
    }
   ],
   "source": [
    "index_to_word = {}\n",
    "for key, value in t.word_index.items():\n",
    "    index_to_word[value] = key\n",
    "\n",
    "index_to_word[582]"
   ]
  },
  {
   "cell_type": "code",
   "execution_count": 171,
   "metadata": {
    "colab": {
     "base_uri": "https://localhost:8080/",
     "height": 34
    },
    "colab_type": "code",
    "executionInfo": {
     "elapsed": 1754,
     "status": "ok",
     "timestamp": 1566371004043,
     "user": {
      "displayName": "Jun Seok Ko",
      "photoUrl": "https://lh3.googleusercontent.com/a-/AAuE7mCcLVl_JJcU1MhehlvMYuvwSAckQT715hKkXuE4=s64",
      "userId": "09316774114625797444"
     },
     "user_tz": -540
    },
    "id": "VohE_TCT_GGe",
    "outputId": "113efda9-019a-4d54-d6dd-9cb6d152ba61"
   },
   "outputs": [
    {
     "data": {
      "text/plain": [
       "24"
      ]
     },
     "execution_count": 171,
     "metadata": {
      "tags": []
     },
     "output_type": "execute_result"
    }
   ],
   "source": [
    "max_len = max(len(i) for i in sequences)\n",
    "max_len"
   ]
  },
  {
   "cell_type": "code",
   "execution_count": 174,
   "metadata": {
    "colab": {
     "base_uri": "https://localhost:8080/",
     "height": 176
    },
    "colab_type": "code",
    "executionInfo": {
     "elapsed": 1752,
     "status": "ok",
     "timestamp": 1566371060200,
     "user": {
      "displayName": "Jun Seok Ko",
      "photoUrl": "https://lh3.googleusercontent.com/a-/AAuE7mCcLVl_JJcU1MhehlvMYuvwSAckQT715hKkXuE4=s64",
      "userId": "09316774114625797444"
     },
     "user_tz": -540
    },
    "id": "_6aT4V8T_Lab",
    "outputId": "70c3db98-b48b-4c58-f785-bebf74a1db1c"
   },
   "outputs": [
    {
     "data": {
      "text/plain": [
       "array([[   0,    0,    0,    0,    0,    0,    0,    0,    0,    0,    0,\n",
       "           0,    0,    0,    0,    0,    0,    0,    0,    0,    0,    0,\n",
       "          99,  269],\n",
       "       [   0,    0,    0,    0,    0,    0,    0,    0,    0,    0,    0,\n",
       "           0,    0,    0,    0,    0,    0,    0,    0,    0,    0,   99,\n",
       "         269,  371],\n",
       "       [   0,    0,    0,    0,    0,    0,    0,    0,    0,    0,    0,\n",
       "           0,    0,    0,    0,    0,    0,    0,    0,    0,   99,  269,\n",
       "         371, 1115]], dtype=int32)"
      ]
     },
     "execution_count": 174,
     "metadata": {
      "tags": []
     },
     "output_type": "execute_result"
    }
   ],
   "source": [
    "from keras.preprocessing.sequence import pad_sequences\n",
    "\n",
    "\n",
    "sequences = pad_sequences(sequences, maxlen=max_len, padding=\"pre\")\n",
    "sequences[:3]"
   ]
  },
  {
   "cell_type": "code",
   "execution_count": null,
   "metadata": {
    "colab": {},
    "colab_type": "code",
    "id": "Oxy2Ta12_UPu"
   },
   "outputs": [],
   "source": [
    "import numpy as np\n",
    "\n",
    "\n",
    "sequences = np.array(sequences)\n",
    "x = sequences[:, :-1]\n",
    "y = sequences[:, -1]"
   ]
  },
  {
   "cell_type": "code",
   "execution_count": 176,
   "metadata": {
    "colab": {
     "base_uri": "https://localhost:8080/",
     "height": 123
    },
    "colab_type": "code",
    "executionInfo": {
     "elapsed": 1757,
     "status": "ok",
     "timestamp": 1566371106422,
     "user": {
      "displayName": "Jun Seok Ko",
      "photoUrl": "https://lh3.googleusercontent.com/a-/AAuE7mCcLVl_JJcU1MhehlvMYuvwSAckQT715hKkXuE4=s64",
      "userId": "09316774114625797444"
     },
     "user_tz": -540
    },
    "id": "DNsvPqal_jl4",
    "outputId": "353cee58-4dff-4afe-87ab-54e6ae557f75"
   },
   "outputs": [
    {
     "data": {
      "text/plain": [
       "array([[  0,   0,   0,   0,   0,   0,   0,   0,   0,   0,   0,   0,   0,\n",
       "          0,   0,   0,   0,   0,   0,   0,   0,   0,  99],\n",
       "       [  0,   0,   0,   0,   0,   0,   0,   0,   0,   0,   0,   0,   0,\n",
       "          0,   0,   0,   0,   0,   0,   0,   0,  99, 269],\n",
       "       [  0,   0,   0,   0,   0,   0,   0,   0,   0,   0,   0,   0,   0,\n",
       "          0,   0,   0,   0,   0,   0,   0,  99, 269, 371]], dtype=int32)"
      ]
     },
     "execution_count": 176,
     "metadata": {
      "tags": []
     },
     "output_type": "execute_result"
    }
   ],
   "source": [
    "x[:3]"
   ]
  },
  {
   "cell_type": "code",
   "execution_count": 177,
   "metadata": {
    "colab": {
     "base_uri": "https://localhost:8080/",
     "height": 34
    },
    "colab_type": "code",
    "executionInfo": {
     "elapsed": 2282,
     "status": "ok",
     "timestamp": 1566371117009,
     "user": {
      "displayName": "Jun Seok Ko",
      "photoUrl": "https://lh3.googleusercontent.com/a-/AAuE7mCcLVl_JJcU1MhehlvMYuvwSAckQT715hKkXuE4=s64",
      "userId": "09316774114625797444"
     },
     "user_tz": -540
    },
    "id": "rUAqnV0I_kTr",
    "outputId": "a3cc05e5-0087-4c36-add1-763408a3c6c8"
   },
   "outputs": [
    {
     "data": {
      "text/plain": [
       "array([ 269,  371, 1115], dtype=int32)"
      ]
     },
     "execution_count": 177,
     "metadata": {
      "tags": []
     },
     "output_type": "execute_result"
    }
   ],
   "source": [
    "y[:3]"
   ]
  },
  {
   "cell_type": "code",
   "execution_count": null,
   "metadata": {
    "colab": {},
    "colab_type": "code",
    "id": "UDL6fkHF_md6"
   },
   "outputs": [],
   "source": [
    "from keras.utils import to_categorical\n",
    "\n",
    "\n",
    "y = to_categorical(y, num_classes=vocab_size)"
   ]
  },
  {
   "cell_type": "code",
   "execution_count": 180,
   "metadata": {
    "colab": {
     "base_uri": "https://localhost:8080/",
     "height": 1000
    },
    "colab_type": "code",
    "executionInfo": {
     "elapsed": 1694730,
     "status": "ok",
     "timestamp": 1566372959677,
     "user": {
      "displayName": "Jun Seok Ko",
      "photoUrl": "https://lh3.googleusercontent.com/a-/AAuE7mCcLVl_JJcU1MhehlvMYuvwSAckQT715hKkXuE4=s64",
      "userId": "09316774114625797444"
     },
     "user_tz": -540
    },
    "id": "SJwx2kR5_tUx",
    "outputId": "fddeee30-329f-42d2-8afd-9e2cbc4666d6"
   },
   "outputs": [
    {
     "name": "stdout",
     "output_type": "stream",
     "text": [
      "Epoch 1/200\n",
      " - 10s - loss: 7.6390 - acc: 0.0291\n",
      "Epoch 2/200\n",
      " - 9s - loss: 7.1170 - acc: 0.0315\n",
      "Epoch 3/200\n",
      " - 9s - loss: 6.9772 - acc: 0.0370\n",
      "Epoch 4/200\n",
      " - 9s - loss: 6.8395 - acc: 0.0425\n",
      "Epoch 5/200\n",
      " - 9s - loss: 6.6701 - acc: 0.0450\n",
      "Epoch 6/200\n",
      " - 9s - loss: 6.4780 - acc: 0.0493\n",
      "Epoch 7/200\n",
      " - 9s - loss: 6.2776 - acc: 0.0538\n",
      "Epoch 8/200\n",
      " - 9s - loss: 6.0765 - acc: 0.0568\n",
      "Epoch 9/200\n",
      " - 9s - loss: 5.8806 - acc: 0.0655\n",
      "Epoch 10/200\n",
      " - 9s - loss: 5.6932 - acc: 0.0695\n",
      "Epoch 11/200\n",
      " - 9s - loss: 5.5141 - acc: 0.0723\n",
      "Epoch 12/200\n",
      " - 9s - loss: 5.3461 - acc: 0.0792\n",
      "Epoch 13/200\n",
      " - 9s - loss: 5.1818 - acc: 0.0836\n",
      "Epoch 14/200\n",
      " - 9s - loss: 5.0253 - acc: 0.0907\n",
      "Epoch 15/200\n",
      " - 9s - loss: 4.8752 - acc: 0.1034\n",
      "Epoch 16/200\n",
      " - 9s - loss: 4.7319 - acc: 0.1132\n",
      "Epoch 17/200\n",
      " - 9s - loss: 4.5916 - acc: 0.1291\n",
      "Epoch 18/200\n",
      " - 9s - loss: 4.4576 - acc: 0.1433\n",
      "Epoch 19/200\n",
      " - 9s - loss: 4.3285 - acc: 0.1624\n",
      "Epoch 20/200\n",
      " - 9s - loss: 4.2049 - acc: 0.1842\n",
      "Epoch 21/200\n",
      " - 9s - loss: 4.0836 - acc: 0.2053\n",
      "Epoch 22/200\n",
      " - 9s - loss: 3.9690 - acc: 0.2168\n",
      "Epoch 23/200\n",
      " - 9s - loss: 3.8564 - acc: 0.2358\n",
      "Epoch 24/200\n",
      " - 8s - loss: 3.7463 - acc: 0.2549\n",
      "Epoch 25/200\n",
      " - 9s - loss: 3.6434 - acc: 0.2786\n",
      "Epoch 26/200\n",
      " - 8s - loss: 3.5393 - acc: 0.2990\n",
      "Epoch 27/200\n",
      " - 9s - loss: 3.4439 - acc: 0.3118\n",
      "Epoch 28/200\n",
      " - 8s - loss: 3.3506 - acc: 0.3265\n",
      "Epoch 29/200\n",
      " - 8s - loss: 3.2605 - acc: 0.3399\n",
      "Epoch 30/200\n",
      " - 8s - loss: 3.1747 - acc: 0.3608\n",
      "Epoch 31/200\n",
      " - 8s - loss: 3.0935 - acc: 0.3705\n",
      "Epoch 32/200\n",
      " - 9s - loss: 3.0133 - acc: 0.3873\n",
      "Epoch 33/200\n",
      " - 8s - loss: 2.9394 - acc: 0.3968\n",
      "Epoch 34/200\n",
      " - 8s - loss: 2.8648 - acc: 0.4114\n",
      "Epoch 35/200\n",
      " - 8s - loss: 2.7983 - acc: 0.4219\n",
      "Epoch 36/200\n",
      " - 8s - loss: 2.7263 - acc: 0.4362\n",
      "Epoch 37/200\n",
      " - 8s - loss: 2.6602 - acc: 0.4485\n",
      "Epoch 38/200\n",
      " - 8s - loss: 2.5992 - acc: 0.4612\n",
      "Epoch 39/200\n",
      " - 8s - loss: 2.5385 - acc: 0.4770\n",
      "Epoch 40/200\n",
      " - 9s - loss: 2.4806 - acc: 0.4837\n",
      "Epoch 41/200\n",
      " - 9s - loss: 2.4210 - acc: 0.4921\n",
      "Epoch 42/200\n",
      " - 8s - loss: 2.3643 - acc: 0.5083\n",
      "Epoch 43/200\n",
      " - 8s - loss: 2.3093 - acc: 0.5158\n",
      "Epoch 44/200\n",
      " - 8s - loss: 2.2567 - acc: 0.5267\n",
      "Epoch 45/200\n",
      " - 8s - loss: 2.2052 - acc: 0.5392\n",
      "Epoch 46/200\n",
      " - 8s - loss: 2.1586 - acc: 0.5479\n",
      "Epoch 47/200\n",
      " - 9s - loss: 2.1091 - acc: 0.5594\n",
      "Epoch 48/200\n",
      " - 8s - loss: 2.0608 - acc: 0.5697\n",
      "Epoch 49/200\n",
      " - 8s - loss: 2.0125 - acc: 0.5823\n",
      "Epoch 50/200\n",
      " - 8s - loss: 1.9671 - acc: 0.5879\n",
      "Epoch 51/200\n",
      " - 8s - loss: 1.9209 - acc: 0.5994\n",
      "Epoch 52/200\n",
      " - 8s - loss: 1.8757 - acc: 0.6132\n",
      "Epoch 53/200\n",
      " - 8s - loss: 1.8352 - acc: 0.6217\n",
      "Epoch 54/200\n",
      " - 8s - loss: 1.7963 - acc: 0.6285\n",
      "Epoch 55/200\n",
      " - 8s - loss: 1.7516 - acc: 0.6405\n",
      "Epoch 56/200\n",
      " - 9s - loss: 1.7123 - acc: 0.6433\n",
      "Epoch 57/200\n",
      " - 8s - loss: 1.6715 - acc: 0.6592\n",
      "Epoch 58/200\n",
      " - 8s - loss: 1.6320 - acc: 0.6663\n",
      "Epoch 59/200\n",
      " - 8s - loss: 1.5925 - acc: 0.6777\n",
      "Epoch 60/200\n",
      " - 9s - loss: 1.5628 - acc: 0.6794\n",
      "Epoch 61/200\n",
      " - 8s - loss: 1.5233 - acc: 0.6887\n",
      "Epoch 62/200\n",
      " - 8s - loss: 1.4868 - acc: 0.6983\n",
      "Epoch 63/200\n",
      " - 8s - loss: 1.4507 - acc: 0.7027\n",
      "Epoch 64/200\n",
      " - 8s - loss: 1.4194 - acc: 0.7154\n",
      "Epoch 65/200\n",
      " - 8s - loss: 1.3840 - acc: 0.7232\n",
      "Epoch 66/200\n",
      " - 8s - loss: 1.3529 - acc: 0.7328\n",
      "Epoch 67/200\n",
      " - 8s - loss: 1.3229 - acc: 0.7370\n",
      "Epoch 68/200\n",
      " - 8s - loss: 1.2917 - acc: 0.7401\n",
      "Epoch 69/200\n",
      " - 8s - loss: 1.2621 - acc: 0.7486\n",
      "Epoch 70/200\n",
      " - 8s - loss: 1.2300 - acc: 0.7575\n",
      "Epoch 71/200\n",
      " - 8s - loss: 1.2051 - acc: 0.7628\n",
      "Epoch 72/200\n",
      " - 8s - loss: 1.1726 - acc: 0.7664\n",
      "Epoch 73/200\n",
      " - 8s - loss: 1.1449 - acc: 0.7729\n",
      "Epoch 74/200\n",
      " - 8s - loss: 1.1245 - acc: 0.7770\n",
      "Epoch 75/200\n",
      " - 9s - loss: 1.0942 - acc: 0.7847\n",
      "Epoch 76/200\n",
      " - 8s - loss: 1.0678 - acc: 0.7887\n",
      "Epoch 77/200\n",
      " - 9s - loss: 1.0437 - acc: 0.7926\n",
      "Epoch 78/200\n",
      " - 8s - loss: 1.0181 - acc: 0.7991\n",
      "Epoch 79/200\n",
      " - 8s - loss: 0.9955 - acc: 0.8052\n",
      "Epoch 80/200\n",
      " - 8s - loss: 0.9741 - acc: 0.8046\n",
      "Epoch 81/200\n",
      " - 8s - loss: 0.9517 - acc: 0.8110\n",
      "Epoch 82/200\n",
      " - 8s - loss: 0.9318 - acc: 0.8179\n",
      "Epoch 83/200\n",
      " - 8s - loss: 0.9103 - acc: 0.8215\n",
      "Epoch 84/200\n",
      " - 8s - loss: 0.8860 - acc: 0.8262\n",
      "Epoch 85/200\n",
      " - 8s - loss: 0.8634 - acc: 0.8296\n",
      "Epoch 86/200\n",
      " - 8s - loss: 0.8467 - acc: 0.8328\n",
      "Epoch 87/200\n",
      " - 8s - loss: 0.8286 - acc: 0.8358\n",
      "Epoch 88/200\n",
      " - 8s - loss: 0.8148 - acc: 0.8372\n",
      "Epoch 89/200\n",
      " - 8s - loss: 0.7938 - acc: 0.8440\n",
      "Epoch 90/200\n",
      " - 8s - loss: 0.7739 - acc: 0.8475\n",
      "Epoch 91/200\n",
      " - 8s - loss: 0.7588 - acc: 0.8489\n",
      "Epoch 92/200\n",
      " - 8s - loss: 0.7436 - acc: 0.8536\n",
      "Epoch 93/200\n",
      " - 8s - loss: 0.7313 - acc: 0.8563\n",
      "Epoch 94/200\n",
      " - 8s - loss: 0.7107 - acc: 0.8620\n",
      "Epoch 95/200\n",
      " - 8s - loss: 0.6982 - acc: 0.8607\n",
      "Epoch 96/200\n",
      " - 8s - loss: 0.6812 - acc: 0.8642\n",
      "Epoch 97/200\n",
      " - 8s - loss: 0.6672 - acc: 0.8695\n",
      "Epoch 98/200\n",
      " - 8s - loss: 0.6548 - acc: 0.8708\n",
      "Epoch 99/200\n",
      " - 8s - loss: 0.6376 - acc: 0.8725\n",
      "Epoch 100/200\n",
      " - 9s - loss: 0.6277 - acc: 0.8734\n",
      "Epoch 101/200\n",
      " - 8s - loss: 0.6130 - acc: 0.8783\n",
      "Epoch 102/200\n",
      " - 9s - loss: 0.6064 - acc: 0.8770\n",
      "Epoch 103/200\n",
      " - 9s - loss: 0.5885 - acc: 0.8820\n",
      "Epoch 104/200\n",
      " - 9s - loss: 0.5780 - acc: 0.8824\n",
      "Epoch 105/200\n",
      " - 9s - loss: 0.5703 - acc: 0.8844\n",
      "Epoch 106/200\n",
      " - 9s - loss: 0.5687 - acc: 0.8848\n",
      "Epoch 107/200\n",
      " - 9s - loss: 0.5514 - acc: 0.8850\n",
      "Epoch 108/200\n",
      " - 8s - loss: 0.5332 - acc: 0.8913\n",
      "Epoch 109/200\n",
      " - 8s - loss: 0.5254 - acc: 0.8907\n",
      "Epoch 110/200\n",
      " - 8s - loss: 0.5180 - acc: 0.8925\n",
      "Epoch 111/200\n",
      " - 8s - loss: 0.5059 - acc: 0.8941\n",
      "Epoch 112/200\n",
      " - 8s - loss: 0.4973 - acc: 0.8968\n",
      "Epoch 113/200\n",
      " - 8s - loss: 0.4928 - acc: 0.8973\n",
      "Epoch 114/200\n",
      " - 9s - loss: 0.4853 - acc: 0.8998\n",
      "Epoch 115/200\n",
      " - 9s - loss: 0.4775 - acc: 0.9002\n",
      "Epoch 116/200\n",
      " - 9s - loss: 0.4667 - acc: 0.9017\n",
      "Epoch 117/200\n",
      " - 9s - loss: 0.4546 - acc: 0.9050\n",
      "Epoch 118/200\n",
      " - 9s - loss: 0.4503 - acc: 0.9017\n",
      "Epoch 119/200\n",
      " - 9s - loss: 0.4421 - acc: 0.9047\n",
      "Epoch 120/200\n",
      " - 8s - loss: 0.4400 - acc: 0.9029\n",
      "Epoch 121/200\n",
      " - 8s - loss: 0.4359 - acc: 0.9059\n",
      "Epoch 122/200\n",
      " - 8s - loss: 0.4247 - acc: 0.9079\n",
      "Epoch 123/200\n",
      " - 8s - loss: 0.4175 - acc: 0.9066\n",
      "Epoch 124/200\n",
      " - 8s - loss: 0.4149 - acc: 0.9089\n",
      "Epoch 125/200\n",
      " - 8s - loss: 0.4270 - acc: 0.9061\n",
      "Epoch 126/200\n",
      " - 8s - loss: 0.4064 - acc: 0.9113\n",
      "Epoch 127/200\n",
      " - 8s - loss: 0.3950 - acc: 0.9108\n",
      "Epoch 128/200\n",
      " - 8s - loss: 0.3895 - acc: 0.9100\n",
      "Epoch 129/200\n",
      " - 8s - loss: 0.3843 - acc: 0.9120\n",
      "Epoch 130/200\n",
      " - 8s - loss: 0.3823 - acc: 0.9111\n",
      "Epoch 131/200\n",
      " - 8s - loss: 0.3744 - acc: 0.9126\n",
      "Epoch 132/200\n",
      " - 8s - loss: 0.3724 - acc: 0.9129\n",
      "Epoch 133/200\n",
      " - 9s - loss: 0.3679 - acc: 0.9136\n",
      "Epoch 134/200\n",
      " - 8s - loss: 0.3631 - acc: 0.9127\n",
      "Epoch 135/200\n",
      " - 8s - loss: 0.3603 - acc: 0.9144\n",
      "Epoch 136/200\n",
      " - 8s - loss: 0.3667 - acc: 0.9121\n",
      "Epoch 137/200\n",
      " - 8s - loss: 0.3680 - acc: 0.9102\n",
      "Epoch 138/200\n",
      " - 8s - loss: 0.3542 - acc: 0.9131\n",
      "Epoch 139/200\n",
      " - 8s - loss: 0.3463 - acc: 0.9155\n",
      "Epoch 140/200\n",
      " - 8s - loss: 0.3424 - acc: 0.9144\n",
      "Epoch 141/200\n",
      " - 8s - loss: 0.3382 - acc: 0.9146\n",
      "Epoch 142/200\n",
      " - 8s - loss: 0.3350 - acc: 0.9155\n",
      "Epoch 143/200\n",
      " - 8s - loss: 0.3324 - acc: 0.9150\n",
      "Epoch 144/200\n",
      " - 8s - loss: 0.3310 - acc: 0.9158\n",
      "Epoch 145/200\n",
      " - 8s - loss: 0.3303 - acc: 0.9180\n",
      "Epoch 146/200\n",
      " - 8s - loss: 0.3290 - acc: 0.9144\n",
      "Epoch 147/200\n",
      " - 8s - loss: 0.3327 - acc: 0.9146\n",
      "Epoch 148/200\n",
      " - 8s - loss: 0.3299 - acc: 0.9161\n",
      "Epoch 149/200\n",
      " - 8s - loss: 0.3319 - acc: 0.9145\n",
      "Epoch 150/200\n",
      " - 8s - loss: 0.3184 - acc: 0.9164\n",
      "Epoch 151/200\n",
      " - 9s - loss: 0.3156 - acc: 0.9152\n",
      "Epoch 152/200\n",
      " - 8s - loss: 0.3114 - acc: 0.9144\n",
      "Epoch 153/200\n",
      " - 8s - loss: 0.3089 - acc: 0.9148\n",
      "Epoch 154/200\n",
      " - 8s - loss: 0.3156 - acc: 0.9143\n",
      "Epoch 155/200\n",
      " - 8s - loss: 0.3060 - acc: 0.9164\n",
      "Epoch 156/200\n",
      " - 9s - loss: 0.3094 - acc: 0.9145\n",
      "Epoch 157/200\n",
      " - 8s - loss: 0.3046 - acc: 0.9171\n",
      "Epoch 158/200\n",
      " - 8s - loss: 0.3037 - acc: 0.9154\n",
      "Epoch 159/200\n",
      " - 8s - loss: 0.2991 - acc: 0.9154\n",
      "Epoch 160/200\n",
      " - 8s - loss: 0.2986 - acc: 0.9167\n",
      "Epoch 161/200\n",
      " - 8s - loss: 0.2980 - acc: 0.9153\n",
      "Epoch 162/200\n",
      " - 8s - loss: 0.2976 - acc: 0.9161\n",
      "Epoch 163/200\n",
      " - 8s - loss: 0.2958 - acc: 0.9158\n",
      "Epoch 164/200\n",
      " - 8s - loss: 0.2982 - acc: 0.9164\n",
      "Epoch 165/200\n",
      " - 8s - loss: 0.2930 - acc: 0.9167\n",
      "Epoch 166/200\n",
      " - 8s - loss: 0.2899 - acc: 0.9175\n",
      "Epoch 167/200\n",
      " - 8s - loss: 0.2917 - acc: 0.9166\n",
      "Epoch 168/200\n",
      " - 8s - loss: 0.2878 - acc: 0.9167\n",
      "Epoch 169/200\n",
      " - 8s - loss: 0.2987 - acc: 0.9136\n",
      "Epoch 170/200\n",
      " - 8s - loss: 0.3320 - acc: 0.9109\n",
      "Epoch 171/200\n",
      " - 8s - loss: 0.3104 - acc: 0.9132\n",
      "Epoch 172/200\n",
      " - 8s - loss: 0.2925 - acc: 0.9153\n",
      "Epoch 173/200\n",
      " - 8s - loss: 0.2857 - acc: 0.9168\n",
      "Epoch 174/200\n",
      " - 8s - loss: 0.2913 - acc: 0.9161\n",
      "Epoch 175/200\n",
      " - 8s - loss: 0.2832 - acc: 0.9159\n",
      "Epoch 176/200\n",
      " - 8s - loss: 0.2813 - acc: 0.9172\n",
      "Epoch 177/200\n",
      " - 8s - loss: 0.2824 - acc: 0.9157\n",
      "Epoch 178/200\n",
      " - 8s - loss: 0.2807 - acc: 0.9153\n",
      "Epoch 179/200\n",
      " - 8s - loss: 0.2803 - acc: 0.9170\n",
      "Epoch 180/200\n",
      " - 8s - loss: 0.2783 - acc: 0.9170\n",
      "Epoch 181/200\n",
      " - 8s - loss: 0.2827 - acc: 0.9148\n",
      "Epoch 182/200\n",
      " - 8s - loss: 0.2820 - acc: 0.9163\n",
      "Epoch 183/200\n",
      " - 8s - loss: 0.2784 - acc: 0.9161\n",
      "Epoch 184/200\n",
      " - 8s - loss: 0.2790 - acc: 0.9154\n",
      "Epoch 185/200\n",
      " - 8s - loss: 0.2785 - acc: 0.9161\n",
      "Epoch 186/200\n",
      " - 8s - loss: 0.2773 - acc: 0.9161\n",
      "Epoch 187/200\n",
      " - 8s - loss: 0.2892 - acc: 0.9135\n",
      "Epoch 188/200\n",
      " - 9s - loss: 0.2865 - acc: 0.9164\n",
      "Epoch 189/200\n",
      " - 8s - loss: 0.2833 - acc: 0.9148\n",
      "Epoch 190/200\n",
      " - 8s - loss: 0.2798 - acc: 0.9162\n",
      "Epoch 191/200\n",
      " - 8s - loss: 0.2743 - acc: 0.9182\n",
      "Epoch 192/200\n",
      " - 9s - loss: 0.2714 - acc: 0.9181\n",
      "Epoch 193/200\n",
      " - 8s - loss: 0.2731 - acc: 0.9154\n",
      "Epoch 194/200\n",
      " - 8s - loss: 0.2734 - acc: 0.9171\n",
      "Epoch 195/200\n",
      " - 8s - loss: 0.2722 - acc: 0.9170\n",
      "Epoch 196/200\n",
      " - 8s - loss: 0.2721 - acc: 0.9159\n",
      "Epoch 197/200\n",
      " - 8s - loss: 0.2712 - acc: 0.9162\n",
      "Epoch 198/200\n",
      " - 9s - loss: 0.2728 - acc: 0.9171\n",
      "Epoch 199/200\n",
      " - 8s - loss: 0.2708 - acc: 0.9170\n",
      "Epoch 200/200\n",
      " - 9s - loss: 0.2968 - acc: 0.9121\n"
     ]
    },
    {
     "data": {
      "text/plain": [
       "<keras.callbacks.History at 0x7f0fc04d7208>"
      ]
     },
     "execution_count": 180,
     "metadata": {
      "tags": []
     },
     "output_type": "execute_result"
    }
   ],
   "source": [
    "from keras.layers import Embedding, Dense, LSTM\n",
    "from keras.models import Sequential\n",
    "\n",
    "\n",
    "model = Sequential()\n",
    "model.add(Embedding(vocab_size, 10, input_length=max_len - 1))\n",
    "model.add(LSTM(128))\n",
    "model.add(Dense(vocab_size, activation=\"softmax\"))\n",
    "model.compile(loss=\"categorical_crossentropy\", optimizer=\"adam\",\n",
    "              metrics=[\"accuracy\"])\n",
    "model.fit(x, y, epochs=200, verbose=2)\n"
   ]
  },
  {
   "cell_type": "code",
   "execution_count": null,
   "metadata": {
    "colab": {},
    "colab_type": "code",
    "id": "TP4iN57zACns"
   },
   "outputs": [],
   "source": [
    "def sentence_generation(model, t, current_word, n):\n",
    "    init_word = current_word\n",
    "    sentence = \"\"\n",
    "    for _ in range(n):\n",
    "        encoded = t.texts_to_sequences([current_word])[0]\n",
    "        encoded = pad_sequences([encoded], maxlen=23, padding=\"pre\")\n",
    "        result = model.predict_classes(encoded, verbose=0)\n",
    "        for word, index in t.word_index.items():\n",
    "            if index == result:\n",
    "                break\n",
    "        current_word = current_word + \" \" + word\n",
    "        sentence = sentence + \" \" + word\n",
    "    sentence = init_word + sentence\n",
    "    return sentence"
   ]
  },
  {
   "cell_type": "code",
   "execution_count": 187,
   "metadata": {
    "colab": {
     "base_uri": "https://localhost:8080/",
     "height": 34
    },
    "colab_type": "code",
    "executionInfo": {
     "elapsed": 1728,
     "status": "ok",
     "timestamp": 1566373658041,
     "user": {
      "displayName": "Jun Seok Ko",
      "photoUrl": "https://lh3.googleusercontent.com/a-/AAuE7mCcLVl_JJcU1MhehlvMYuvwSAckQT715hKkXuE4=s64",
      "userId": "09316774114625797444"
     },
     "user_tz": -540
    },
    "id": "5H_MGAsKA13_",
    "outputId": "4678fdfe-aece-4bc9-d042-94e7803f6d51"
   },
   "outputs": [
    {
     "data": {
      "text/plain": [
       "'i cant jump ship from facebook yet the crash one one'"
      ]
     },
     "execution_count": 187,
     "metadata": {
      "tags": []
     },
     "output_type": "execute_result"
    }
   ],
   "source": [
    "sentence_generation(model, t, \"i\", 10)"
   ]
  },
  {
   "cell_type": "code",
   "execution_count": 185,
   "metadata": {
    "colab": {
     "base_uri": "https://localhost:8080/",
     "height": 34
    },
    "colab_type": "code",
    "executionInfo": {
     "elapsed": 1713,
     "status": "ok",
     "timestamp": 1566373628821,
     "user": {
      "displayName": "Jun Seok Ko",
      "photoUrl": "https://lh3.googleusercontent.com/a-/AAuE7mCcLVl_JJcU1MhehlvMYuvwSAckQT715hKkXuE4=s64",
      "userId": "09316774114625797444"
     },
     "user_tz": -540
    },
    "id": "HxvYEiTOA2J6",
    "outputId": "aa0f295c-71aa-4374-96b8-34122617c092"
   },
   "outputs": [
    {
     "data": {
      "text/plain": [
       "'how to win an argument about guns we top we officials'"
      ]
     },
     "execution_count": 185,
     "metadata": {
      "tags": []
     },
     "output_type": "execute_result"
    }
   ],
   "source": [
    "sentence_generation(model, t, \"how\", 10)"
   ]
  },
  {
   "cell_type": "markdown",
   "metadata": {
    "colab_type": "text",
    "id": "zqaupfpcK6si"
   },
   "source": [
    "## 토지"
   ]
  },
  {
   "cell_type": "code",
   "execution_count": null,
   "metadata": {
    "colab": {},
    "colab_type": "code",
    "id": "3ByoonF8GTXw"
   },
   "outputs": [],
   "source": [
    "path = \"/content/drive/My Drive/lecture/l_d/p8/\""
   ]
  },
  {
   "cell_type": "code",
   "execution_count": 2,
   "metadata": {
    "colab": {
     "base_uri": "https://localhost:8080/",
     "height": 52
    },
    "colab_type": "code",
    "executionInfo": {
     "elapsed": 1364,
     "status": "ok",
     "timestamp": 1566377174804,
     "user": {
      "displayName": "Jun Seok Ko",
      "photoUrl": "https://lh3.googleusercontent.com/a-/AAuE7mCcLVl_JJcU1MhehlvMYuvwSAckQT715hKkXuE4=s64",
      "userId": "09316774114625797444"
     },
     "user_tz": -540
    },
    "id": "q2E7QfdbLCLX",
    "outputId": "21fe7e6f-bb04-45f4-f7d4-446edfdd76dc"
   },
   "outputs": [
    {
     "name": "stdout",
     "output_type": "stream",
     "text": [
      "코퍼스의 길이 :  323265\n",
      "사용되고있는 문자의 수: 1692\n"
     ]
    }
   ],
   "source": [
    "import codecs\n",
    "from bs4 import BeautifulSoup\n",
    "\n",
    "\n",
    "fp = codecs.open(path + 'BEXX0003.txt',\n",
    "                 encoding='utf-16')\n",
    "soup = BeautifulSoup(fp, 'html.parser')\n",
    "body = soup.select_one('body')\n",
    "text = body.getText(separator=' ')\n",
    "print('코퍼스의 길이 : ', len(text))\n",
    "chars = sorted(list(set(text)))\n",
    "print('사용되고있는 문자의 수:', len(chars))\n",
    "char_indices = dict((c, i) for i, c in enumerate(chars))\n",
    "indices_char = dict((i, c) for i ,c in enumerate(chars))"
   ]
  },
  {
   "cell_type": "code",
   "execution_count": null,
   "metadata": {
    "colab": {},
    "colab_type": "code",
    "id": "cLLJAIVAMU47"
   },
   "outputs": [],
   "source": [
    "#text = text.splitlines()"
   ]
  },
  {
   "cell_type": "code",
   "execution_count": 4,
   "metadata": {
    "colab": {
     "base_uri": "https://localhost:8080/",
     "height": 52
    },
    "colab_type": "code",
    "executionInfo": {
     "elapsed": 4739,
     "status": "ok",
     "timestamp": 1566377178921,
     "user": {
      "displayName": "Jun Seok Ko",
      "photoUrl": "https://lh3.googleusercontent.com/a-/AAuE7mCcLVl_JJcU1MhehlvMYuvwSAckQT715hKkXuE4=s64",
      "userId": "09316774114625797444"
     },
     "user_tz": -540
    },
    "id": "_OaZC_8rUmJT",
    "outputId": "09b971fa-30bb-464e-ed4c-fc5090ae90ab"
   },
   "outputs": [
    {
     "name": "stdout",
     "output_type": "stream",
     "text": [
      "Requirement already satisfied: konlpy in /usr/local/lib/python3.6/dist-packages (0.5.1)\n",
      "Requirement already satisfied: JPype1>=0.5.7 in /usr/local/lib/python3.6/dist-packages (from konlpy) (0.7.0)\n"
     ]
    }
   ],
   "source": [
    "!pip install konlpy"
   ]
  },
  {
   "cell_type": "code",
   "execution_count": 5,
   "metadata": {
    "colab": {
     "base_uri": "https://localhost:8080/",
     "height": 194
    },
    "colab_type": "code",
    "executionInfo": {
     "elapsed": 41185,
     "status": "ok",
     "timestamp": 1566377215829,
     "user": {
      "displayName": "Jun Seok Ko",
      "photoUrl": "https://lh3.googleusercontent.com/a-/AAuE7mCcLVl_JJcU1MhehlvMYuvwSAckQT715hKkXuE4=s64",
      "userId": "09316774114625797444"
     },
     "user_tz": -540
    },
    "id": "Pa4kEW9CSoLY",
    "outputId": "925f501f-674e-4492-ac13-44c09dbb9206"
   },
   "outputs": [
    {
     "name": "stderr",
     "output_type": "stream",
     "text": [
      "/usr/local/lib/python3.6/dist-packages/jpype/_core.py:210: UserWarning: \n",
      "-------------------------------------------------------------------------------\n",
      "Deprecated: convertStrings was not specified when starting the JVM. The default\n",
      "behavior in JPype will be False starting in JPype 0.8. The recommended setting\n",
      "for new code is convertStrings=False.  The legacy value of True was assumed for\n",
      "this session. If you are a user of an application that reported this warning,\n",
      "please file a ticket with the developer.\n",
      "-------------------------------------------------------------------------------\n",
      "\n",
      "  \"\"\")\n"
     ]
    }
   ],
   "source": [
    "from konlpy.tag import Okt \n",
    "\n",
    "text = text.replace(\"…\", \"\") # 현재 koNLPy가 …을 구두점으로 잡지 못하는 문제 임시 해결\n",
    "    # 형태소 분석\n",
    "twitter = Okt()\n",
    "malist = twitter.pos(text, norm=True)\n",
    "words = []\n",
    "for word in malist:\n",
    "    # 구두점 등은 대상에서 제외(단 마침표는 포함)\n",
    "    if not word[1] in [\"Punctuation\"]:\n",
    "        words.append(word[0])\n",
    "    if word[0] == \".\":\n",
    "        words.append(word[0])\n",
    "\n"
   ]
  },
  {
   "cell_type": "code",
   "execution_count": null,
   "metadata": {
    "colab": {},
    "colab_type": "code",
    "id": "J00UK7HTWWNL"
   },
   "outputs": [],
   "source": [
    "words\n",
    "s = \"\"\n",
    "l = []\n",
    "for i in words:\n",
    "   \n",
    "    if i != \".\":\n",
    "        s += i\n",
    "    else:\n",
    "        l.append(s)\n",
    "\n"
   ]
  },
  {
   "cell_type": "code",
   "execution_count": null,
   "metadata": {
    "colab": {},
    "colab_type": "code",
    "id": "NzduGrJPWjnQ"
   },
   "outputs": [],
   "source": [
    "l"
   ]
  },
  {
   "cell_type": "code",
   "execution_count": 11,
   "metadata": {
    "colab": {
     "base_uri": "https://localhost:8080/",
     "height": 34
    },
    "colab_type": "code",
    "executionInfo": {
     "elapsed": 1150,
     "status": "ok",
     "timestamp": 1566375676125,
     "user": {
      "displayName": "Jun Seok Ko",
      "photoUrl": "https://lh3.googleusercontent.com/a-/AAuE7mCcLVl_JJcU1MhehlvMYuvwSAckQT715hKkXuE4=s64",
      "userId": "09316774114625797444"
     },
     "user_tz": -540
    },
    "id": "32yRktRXNYKf",
    "outputId": "0751e4ff-788f-468b-ac2f-174876cb529f"
   },
   "outputs": [
    {
     "data": {
      "text/plain": [
       "29881"
      ]
     },
     "execution_count": 11,
     "metadata": {
      "tags": []
     },
     "output_type": "execute_result"
    }
   ],
   "source": [
    "from keras_preprocessing.text import Tokenizer\n",
    "\n",
    "\n",
    "t = Tokenizer()\n",
    "t.fit_on_texts(text)\n",
    "vocab_size = len(t.word_index) + 1\n",
    "vocab_size"
   ]
  },
  {
   "cell_type": "code",
   "execution_count": 12,
   "metadata": {
    "colab": {
     "base_uri": "https://localhost:8080/",
     "height": 212
    },
    "colab_type": "code",
    "executionInfo": {
     "elapsed": 1367,
     "status": "ok",
     "timestamp": 1566375677169,
     "user": {
      "displayName": "Jun Seok Ko",
      "photoUrl": "https://lh3.googleusercontent.com/a-/AAuE7mCcLVl_JJcU1MhehlvMYuvwSAckQT715hKkXuE4=s64",
      "userId": "09316774114625797444"
     },
     "user_tz": -540
    },
    "id": "NMdYLfnRPFaI",
    "outputId": "61f692db-9d3e-4f0a-9a16-b9d856ad7e02"
   },
   "outputs": [
    {
     "data": {
      "text/plain": [
       "[[8946, 3311],\n",
       " [8946, 3311, 4907],\n",
       " [117, 8947],\n",
       " [8948, 8949],\n",
       " [8950, 337],\n",
       " [8950, 337, 2],\n",
       " [8950, 337, 2, 8951],\n",
       " [8950, 337, 2, 8951, 148],\n",
       " [8950, 337, 2, 8951, 148, 1189],\n",
       " [8950, 337, 2, 8951, 148, 1189, 484],\n",
       " [8950, 337, 2, 8951, 148, 1189, 484, 8952]]"
      ]
     },
     "execution_count": 12,
     "metadata": {
      "tags": []
     },
     "output_type": "execute_result"
    }
   ],
   "source": [
    "sequences = list()\n",
    "\n",
    "for line in text:\n",
    "    encoded = t.texts_to_sequences([line])[0]\n",
    "    for i in range(1, len(encoded)):\n",
    "        sequence = encoded[:i + 1]\n",
    "        sequences.append(sequence)\n",
    "\n",
    "sequences[:11]"
   ]
  },
  {
   "cell_type": "code",
   "execution_count": 13,
   "metadata": {
    "colab": {
     "base_uri": "https://localhost:8080/",
     "height": 34
    },
    "colab_type": "code",
    "executionInfo": {
     "elapsed": 985,
     "status": "ok",
     "timestamp": 1566375677601,
     "user": {
      "displayName": "Jun Seok Ko",
      "photoUrl": "https://lh3.googleusercontent.com/a-/AAuE7mCcLVl_JJcU1MhehlvMYuvwSAckQT715hKkXuE4=s64",
      "userId": "09316774114625797444"
     },
     "user_tz": -540
    },
    "id": "MRIbcD8NPJUA",
    "outputId": "64f0d7d5-988d-4878-fc8b-8ca9dd4936e0"
   },
   "outputs": [
    {
     "data": {
      "text/plain": [
       "383"
      ]
     },
     "execution_count": 13,
     "metadata": {
      "tags": []
     },
     "output_type": "execute_result"
    }
   ],
   "source": [
    "max_len = max(len(i) for i in sequences)\n",
    "max_len"
   ]
  },
  {
   "cell_type": "code",
   "execution_count": 14,
   "metadata": {
    "colab": {
     "base_uri": "https://localhost:8080/",
     "height": 87
    },
    "colab_type": "code",
    "executionInfo": {
     "elapsed": 3396,
     "status": "ok",
     "timestamp": 1566375680458,
     "user": {
      "displayName": "Jun Seok Ko",
      "photoUrl": "https://lh3.googleusercontent.com/a-/AAuE7mCcLVl_JJcU1MhehlvMYuvwSAckQT715hKkXuE4=s64",
      "userId": "09316774114625797444"
     },
     "user_tz": -540
    },
    "id": "rQnUyiawPYDm",
    "outputId": "9a4f2962-4b21-48d9-df9d-509aa346694c"
   },
   "outputs": [
    {
     "name": "stderr",
     "output_type": "stream",
     "text": [
      "Using TensorFlow backend.\n"
     ]
    },
    {
     "data": {
      "text/plain": [
       "array([[   0,    0,    0, ...,    0, 8946, 3311],\n",
       "       [   0,    0,    0, ..., 8946, 3311, 4907],\n",
       "       [   0,    0,    0, ...,    0,  117, 8947]], dtype=int32)"
      ]
     },
     "execution_count": 14,
     "metadata": {
      "tags": []
     },
     "output_type": "execute_result"
    }
   ],
   "source": [
    "from keras.preprocessing.sequence import pad_sequences\n",
    "\n",
    "\n",
    "sequences = pad_sequences(sequences, maxlen=max_len, padding=\"pre\")\n",
    "sequences[:3]"
   ]
  },
  {
   "cell_type": "code",
   "execution_count": null,
   "metadata": {
    "colab": {},
    "colab_type": "code",
    "id": "yWdtmIlJPazd"
   },
   "outputs": [],
   "source": [
    "import numpy as np\n",
    "\n",
    "\n",
    "sequences = np.array(sequences)\n",
    "x = sequences[:, :-1]\n",
    "y = sequences[:, -1]"
   ]
  },
  {
   "cell_type": "code",
   "execution_count": null,
   "metadata": {
    "colab": {},
    "colab_type": "code",
    "id": "l31QGTVSPdn8"
   },
   "outputs": [],
   "source": [
    "from keras.utils import to_categorical\n",
    "\n",
    "\n",
    "y = to_categorical(y, num_classes=vocab_size)"
   ]
  },
  {
   "cell_type": "code",
   "execution_count": null,
   "metadata": {
    "colab": {},
    "colab_type": "code",
    "id": "A1ffNDxvPfkN"
   },
   "outputs": [],
   "source": [
    "from keras.layers import Embedding, Dense, LSTM\n",
    "from keras.models import Sequential\n",
    "\n",
    "\n",
    "model = Sequential()\n",
    "model.add(Embedding(vocab_size, 10, input_length=max_len - 1))\n",
    "model.add(LSTM(128))\n",
    "model.add(Dense(vocab_size, activation=\"softmax\"))\n",
    "model.compile(loss=\"categorical_crossentropy\", optimizer=\"adam\",\n",
    "              metrics=[\"accuracy\"])\n",
    "model.fit(x, y, epochs=200, verbose=2)\n"
   ]
  },
  {
   "cell_type": "code",
   "execution_count": null,
   "metadata": {
    "colab": {},
    "colab_type": "code",
    "id": "ujHakfkDPhm6"
   },
   "outputs": [],
   "source": []
  }
 ],
 "metadata": {
  "accelerator": "GPU",
  "colab": {
   "collapsed_sections": [],
   "name": "08_21_NLP_3.ipynb",
   "provenance": [],
   "version": "0.3.2"
  },
  "kernelspec": {
   "display_name": "Python 3",
   "language": "python",
   "name": "python3"
  },
  "language_info": {
   "codemirror_mode": {
    "name": "ipython",
    "version": 3
   },
   "file_extension": ".py",
   "mimetype": "text/x-python",
   "name": "python",
   "nbconvert_exporter": "python",
   "pygments_lexer": "ipython3",
   "version": "3.6.8"
  }
 },
 "nbformat": 4,
 "nbformat_minor": 2
}
