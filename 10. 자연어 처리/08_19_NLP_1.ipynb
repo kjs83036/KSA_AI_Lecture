{
 "cells": [
  {
   "cell_type": "code",
   "execution_count": 2,
   "metadata": {
    "colab": {
     "base_uri": "https://localhost:8080/",
     "height": 70
    },
    "colab_type": "code",
    "executionInfo": {
     "elapsed": 1338,
     "status": "ok",
     "timestamp": 1566177474602,
     "user": {
      "displayName": "Jun Seok Ko",
      "photoUrl": "https://lh4.googleusercontent.com/-ocCe_en4JEg/AAAAAAAAAAI/AAAAAAAAAA0/3_y396F5GXw/s64/photo.jpg",
      "userId": "09316774114625797444"
     },
     "user_tz": -540
    },
    "id": "PVEXzGd4c4ps",
    "outputId": "5a7fa399-b50d-41e7-e16a-8f5c0b47b417"
   },
   "outputs": [
    {
     "name": "stdout",
     "output_type": "stream",
     "text": [
      "[nltk_data] Downloading package punkt to /root/nltk_data...\n",
      "[nltk_data]   Unzipping tokenizers/punkt.zip.\n"
     ]
    },
    {
     "data": {
      "text/plain": [
       "True"
      ]
     },
     "execution_count": 2,
     "metadata": {
      "tags": []
     },
     "output_type": "execute_result"
    }
   ],
   "source": [
    "nltk.download(\"punkt\")"
   ]
  },
  {
   "cell_type": "code",
   "execution_count": 4,
   "metadata": {
    "colab": {
     "base_uri": "https://localhost:8080/",
     "height": 34
    },
    "colab_type": "code",
    "executionInfo": {
     "elapsed": 730,
     "status": "ok",
     "timestamp": 1566177534845,
     "user": {
      "displayName": "Jun Seok Ko",
      "photoUrl": "https://lh4.googleusercontent.com/-ocCe_en4JEg/AAAAAAAAAAI/AAAAAAAAAA0/3_y396F5GXw/s64/photo.jpg",
      "userId": "09316774114625797444"
     },
     "user_tz": -540
    },
    "id": "0TPyZRxMasWZ",
    "outputId": "a3ffcba2-83f0-4575-b3c4-19782fc9456d"
   },
   "outputs": [
    {
     "name": "stdout",
     "output_type": "stream",
     "text": [
      "['Do', \"n't\", 'be', 'fooled', 'by', 'the', 'dark', 'sounding', 'name', ',', 'Mr', 'Kone', \"'s\", 'Orphanage', 'is', 'as', 'cheery', 'as', 'cheery', 'goes', 'for', 'a', 'pastry', 'shop']\n"
     ]
    }
   ],
   "source": [
    "import nltk\n",
    "from nltk.tokenize import word_tokenize\n",
    "\n",
    "s = \"Don't be fooled by the dark sounding name, Mr Kone's \\\n",
    "    Orphanage is as cheery as cheery goes for a pastry shop\"\n",
    "print(word_tokenize(s))\n"
   ]
  },
  {
   "cell_type": "code",
   "execution_count": 5,
   "metadata": {
    "colab": {
     "base_uri": "https://localhost:8080/",
     "height": 478
    },
    "colab_type": "code",
    "executionInfo": {
     "elapsed": 650,
     "status": "ok",
     "timestamp": 1566177538052,
     "user": {
      "displayName": "Jun Seok Ko",
      "photoUrl": "https://lh4.googleusercontent.com/-ocCe_en4JEg/AAAAAAAAAAI/AAAAAAAAAA0/3_y396F5GXw/s64/photo.jpg",
      "userId": "09316774114625797444"
     },
     "user_tz": -540
    },
    "id": "YOdZQ7FqctO8",
    "outputId": "7146f0e4-ce08-44a5-eb5c-2646c0637803"
   },
   "outputs": [
    {
     "data": {
      "text/plain": [
       "['Don',\n",
       " \"'\",\n",
       " 't',\n",
       " 'be',\n",
       " 'fooled',\n",
       " 'by',\n",
       " 'the',\n",
       " 'dark',\n",
       " 'sounding',\n",
       " 'name',\n",
       " ',',\n",
       " 'Mr',\n",
       " 'Kone',\n",
       " \"'\",\n",
       " 's',\n",
       " 'Orphanage',\n",
       " 'is',\n",
       " 'as',\n",
       " 'cheery',\n",
       " 'as',\n",
       " 'cheery',\n",
       " 'goes',\n",
       " 'for',\n",
       " 'a',\n",
       " 'pastry',\n",
       " 'shop']"
      ]
     },
     "execution_count": 5,
     "metadata": {
      "tags": []
     },
     "output_type": "execute_result"
    }
   ],
   "source": [
    "import nltk\n",
    "from nltk.tokenize import WordPunctTokenizer\n",
    "WordPunctTokenizer().tokenize(s)"
   ]
  },
  {
   "cell_type": "code",
   "execution_count": 8,
   "metadata": {
    "colab": {
     "base_uri": "https://localhost:8080/",
     "height": 372
    },
    "colab_type": "code",
    "executionInfo": {
     "elapsed": 806,
     "status": "ok",
     "timestamp": 1566178185135,
     "user": {
      "displayName": "Jun Seok Ko",
      "photoUrl": "https://lh4.googleusercontent.com/-ocCe_en4JEg/AAAAAAAAAAI/AAAAAAAAAA0/3_y396F5GXw/s64/photo.jpg",
      "userId": "09316774114625797444"
     },
     "user_tz": -540
    },
    "id": "WoPJCxKQdKur",
    "outputId": "cd2afafd-3c90-4cba-9949-b930975fedb3"
   },
   "outputs": [
    {
     "data": {
      "text/plain": [
       "['Starting',\n",
       " 'a',\n",
       " 'home-based',\n",
       " 'restaurant',\n",
       " 'may',\n",
       " 'be',\n",
       " 'an',\n",
       " 'ideal.',\n",
       " 'it',\n",
       " 'does',\n",
       " \"n't\",\n",
       " 'have',\n",
       " 'a',\n",
       " 'food',\n",
       " 'chain',\n",
       " 'or',\n",
       " 'restaurant',\n",
       " 'of',\n",
       " 'their',\n",
       " 'own']"
      ]
     },
     "execution_count": 8,
     "metadata": {
      "tags": []
     },
     "output_type": "execute_result"
    }
   ],
   "source": [
    "import nltk\n",
    "from nltk.tokenize import TreebankWordTokenizer\n",
    "\n",
    "\n",
    "tokenizer = TreebankWordTokenizer()\n",
    "text = \"Starting a home-based restaurant may be an ideal.\\\n",
    "        it doesn't have a food chain or restaurant of their own\"\n",
    "tokenizer.tokenize(text)"
   ]
  },
  {
   "cell_type": "code",
   "execution_count": 9,
   "metadata": {
    "colab": {
     "base_uri": "https://localhost:8080/",
     "height": 34
    },
    "colab_type": "code",
    "executionInfo": {
     "elapsed": 757,
     "status": "ok",
     "timestamp": 1566178734321,
     "user": {
      "displayName": "Jun Seok Ko",
      "photoUrl": "https://lh4.googleusercontent.com/-ocCe_en4JEg/AAAAAAAAAAI/AAAAAAAAAA0/3_y396F5GXw/s64/photo.jpg",
      "userId": "09316774114625797444"
     },
     "user_tz": -540
    },
    "id": "w9oc_NlXd0Ms",
    "outputId": "cc569342-d15a-4768-d820-a42ae583b2df"
   },
   "outputs": [
    {
     "name": "stdout",
     "output_type": "stream",
     "text": [
      "['I', 'am', 'actively', 'looking', 'for', 'Ph.D.', 'students', '.', 'and', 'you', 'are', 'a', 'Ph.D.', 'student', '.']\n"
     ]
    }
   ],
   "source": [
    "import nltk\n",
    "from nltk.tokenize import word_tokenize\n",
    "\n",
    "\n",
    "text = \"I am actively looking for Ph.D. students. and you are a Ph.D. student.\"\n",
    "print(word_tokenize(text))"
   ]
  },
  {
   "cell_type": "code",
   "execution_count": 11,
   "metadata": {
    "colab": {
     "base_uri": "https://localhost:8080/",
     "height": 336
    },
    "colab_type": "code",
    "executionInfo": {
     "elapsed": 1022,
     "status": "ok",
     "timestamp": 1566178785281,
     "user": {
      "displayName": "Jun Seok Ko",
      "photoUrl": "https://lh4.googleusercontent.com/-ocCe_en4JEg/AAAAAAAAAAI/AAAAAAAAAA0/3_y396F5GXw/s64/photo.jpg",
      "userId": "09316774114625797444"
     },
     "user_tz": -540
    },
    "id": "FOLUr0DJhuxJ",
    "outputId": "150bfe56-b496-44d3-fcf6-7c7c99c522fe"
   },
   "outputs": [
    {
     "name": "stdout",
     "output_type": "stream",
     "text": [
      "[nltk_data] Downloading package averaged_perceptron_tagger to\n",
      "[nltk_data]     /root/nltk_data...\n",
      "[nltk_data]   Unzipping taggers/averaged_perceptron_tagger.zip.\n"
     ]
    },
    {
     "data": {
      "text/plain": [
       "[('I', 'PRP'),\n",
       " ('am', 'VBP'),\n",
       " ('actively', 'RB'),\n",
       " ('looking', 'VBG'),\n",
       " ('for', 'IN'),\n",
       " ('Ph.D.', 'NNP'),\n",
       " ('students', 'NNS'),\n",
       " ('.', '.'),\n",
       " ('and', 'CC'),\n",
       " ('you', 'PRP'),\n",
       " ('are', 'VBP'),\n",
       " ('a', 'DT'),\n",
       " ('Ph.D.', 'NNP'),\n",
       " ('student', 'NN'),\n",
       " ('.', '.')]"
      ]
     },
     "execution_count": 11,
     "metadata": {
      "tags": []
     },
     "output_type": "execute_result"
    }
   ],
   "source": [
    "from nltk.tag import pos_tag\n",
    "\n",
    "\n",
    "nltk.download('averaged_perceptron_tagger')\n",
    "\n",
    "x = word_tokenize(text)\n",
    "pos_tag(x)"
   ]
  },
  {
   "cell_type": "code",
   "execution_count": 3,
   "metadata": {
    "colab": {
     "base_uri": "https://localhost:8080/",
     "height": 158
    },
    "colab_type": "code",
    "executionInfo": {
     "elapsed": 12048,
     "status": "ok",
     "timestamp": 1566179091141,
     "user": {
      "displayName": "Jun Seok Ko",
      "photoUrl": "https://lh4.googleusercontent.com/-ocCe_en4JEg/AAAAAAAAAAI/AAAAAAAAAA0/3_y396F5GXw/s64/photo.jpg",
      "userId": "09316774114625797444"
     },
     "user_tz": -540
    },
    "id": "J9UsKmqviNF7",
    "outputId": "64f18ddd-edb9-4163-a5db-0f1dcfab3993"
   },
   "outputs": [
    {
     "name": "stdout",
     "output_type": "stream",
     "text": [
      "Collecting konlpy\n",
      "\u001b[?25l  Downloading https://files.pythonhosted.org/packages/e5/3d/4e983cd98d87b50b2ab0387d73fa946f745aa8164e8888a714d5129f9765/konlpy-0.5.1-py2.py3-none-any.whl (19.4MB)\n",
      "\u001b[K     |████████████████████████████████| 19.4MB 4.9MB/s \n",
      "\u001b[?25hCollecting JPype1>=0.5.7 (from konlpy)\n",
      "\u001b[?25l  Downloading https://files.pythonhosted.org/packages/07/09/e19ce27d41d4f66d73ac5b6c6a188c51b506f56c7bfbe6c1491db2d15995/JPype1-0.7.0-cp36-cp36m-manylinux2010_x86_64.whl (2.7MB)\n",
      "\u001b[K     |████████████████████████████████| 2.7MB 31.7MB/s \n",
      "\u001b[?25hInstalling collected packages: JPype1, konlpy\n",
      "Successfully installed JPype1-0.7.0 konlpy-0.5.1\n"
     ]
    }
   ],
   "source": [
    "!pip install konlpy"
   ]
  },
  {
   "cell_type": "code",
   "execution_count": 4,
   "metadata": {
    "colab": {
     "base_uri": "https://localhost:8080/",
     "height": 212
    },
    "colab_type": "code",
    "executionInfo": {
     "elapsed": 18595,
     "status": "ok",
     "timestamp": 1566179098170,
     "user": {
      "displayName": "Jun Seok Ko",
      "photoUrl": "https://lh4.googleusercontent.com/-ocCe_en4JEg/AAAAAAAAAAI/AAAAAAAAAA0/3_y396F5GXw/s64/photo.jpg",
      "userId": "09316774114625797444"
     },
     "user_tz": -540
    },
    "id": "y0AqpMPOh2YG",
    "outputId": "e86c15fc-4743-495e-fd8a-3f325fb335ae"
   },
   "outputs": [
    {
     "name": "stderr",
     "output_type": "stream",
     "text": [
      "/usr/local/lib/python3.6/dist-packages/jpype/_core.py:210: UserWarning: \n",
      "-------------------------------------------------------------------------------\n",
      "Deprecated: convertStrings was not specified when starting the JVM. The default\n",
      "behavior in JPype will be False starting in JPype 0.8. The recommended setting\n",
      "for new code is convertStrings=False.  The legacy value of True was assumed for\n",
      "this session. If you are a user of an application that reported this warning,\n",
      "please file a ticket with the developer.\n",
      "-------------------------------------------------------------------------------\n",
      "\n",
      "  \"\"\")\n"
     ]
    },
    {
     "name": "stdout",
     "output_type": "stream",
     "text": [
      "['열심히', '코딩', '한', '당신', ',', '연휴', '에는', '여행', '을', '가봐요']\n"
     ]
    }
   ],
   "source": [
    "from konlpy.tag import Okt\n",
    "\n",
    "\n",
    "okt = Okt()\n",
    "print(okt.morphs(\"열심히 코딩한 당신, 연휴에는 여행을 가봐요\"))"
   ]
  },
  {
   "cell_type": "code",
   "execution_count": 12,
   "metadata": {
    "colab": {
     "base_uri": "https://localhost:8080/",
     "height": 34
    },
    "colab_type": "code",
    "executionInfo": {
     "elapsed": 736,
     "status": "ok",
     "timestamp": 1566184488585,
     "user": {
      "displayName": "Jun Seok Ko",
      "photoUrl": "https://lh4.googleusercontent.com/-ocCe_en4JEg/AAAAAAAAAAI/AAAAAAAAAA0/3_y396F5GXw/s64/photo.jpg",
      "userId": "09316774114625797444"
     },
     "user_tz": -540
    },
    "id": "7NpSfD0siL--",
    "outputId": "a03bb9b8-1ace-49c0-b6e9-b5c6119612ba"
   },
   "outputs": [
    {
     "name": "stdout",
     "output_type": "stream",
     "text": [
      "[('열심히', 'Adverb'), ('코딩', 'Noun'), ('한', 'Josa'), ('당신', 'Noun'), (',', 'Punctuation'), ('연휴', 'Noun'), ('에는', 'Josa'), ('여행', 'Noun'), ('을', 'Josa'), ('가봐요', 'Verb')]\n"
     ]
    }
   ],
   "source": [
    "print(okt.pos(\"열심히 코딩한 당신, 연휴에는 여행을 가봐요\"))"
   ]
  },
  {
   "cell_type": "code",
   "execution_count": 14,
   "metadata": {
    "colab": {
     "base_uri": "https://localhost:8080/",
     "height": 34
    },
    "colab_type": "code",
    "executionInfo": {
     "elapsed": 745,
     "status": "ok",
     "timestamp": 1566184493238,
     "user": {
      "displayName": "Jun Seok Ko",
      "photoUrl": "https://lh4.googleusercontent.com/-ocCe_en4JEg/AAAAAAAAAAI/AAAAAAAAAA0/3_y396F5GXw/s64/photo.jpg",
      "userId": "09316774114625797444"
     },
     "user_tz": -540
    },
    "id": "eOgt1I3O3cO3",
    "outputId": "72b6f1ac-a2bc-416c-8316-28cb3855613e"
   },
   "outputs": [
    {
     "name": "stdout",
     "output_type": "stream",
     "text": [
      "Pretty printing has been turned ON\n"
     ]
    }
   ],
   "source": [
    "%pprint"
   ]
  },
  {
   "cell_type": "code",
   "execution_count": 6,
   "metadata": {
    "colab": {
     "base_uri": "https://localhost:8080/",
     "height": 34
    },
    "colab_type": "code",
    "executionInfo": {
     "elapsed": 4720,
     "status": "ok",
     "timestamp": 1566179098172,
     "user": {
      "displayName": "Jun Seok Ko",
      "photoUrl": "https://lh4.googleusercontent.com/-ocCe_en4JEg/AAAAAAAAAAI/AAAAAAAAAA0/3_y396F5GXw/s64/photo.jpg",
      "userId": "09316774114625797444"
     },
     "user_tz": -540
    },
    "id": "Yzswm5Y4i-bB",
    "outputId": "d86a1b02-0e4b-4492-899a-152f2fc19ea6"
   },
   "outputs": [
    {
     "name": "stdout",
     "output_type": "stream",
     "text": [
      "['코딩', '당신', '연휴', '여행']\n"
     ]
    }
   ],
   "source": [
    "print(okt.nouns(\"열심히 코딩한 당신, 연휴에는 여행을 가봐요\"))  "
   ]
  },
  {
   "cell_type": "code",
   "execution_count": 16,
   "metadata": {
    "colab": {
     "base_uri": "https://localhost:8080/",
     "height": 34
    },
    "colab_type": "code",
    "executionInfo": {
     "elapsed": 2683,
     "status": "ok",
     "timestamp": 1566184770659,
     "user": {
      "displayName": "Jun Seok Ko",
      "photoUrl": "https://lh4.googleusercontent.com/-ocCe_en4JEg/AAAAAAAAAAI/AAAAAAAAAA0/3_y396F5GXw/s64/photo.jpg",
      "userId": "09316774114625797444"
     },
     "user_tz": -540
    },
    "id": "5z04haJpjGuT",
    "outputId": "da0e4e9c-a434-4f48-df98-f7e7f68fb658"
   },
   "outputs": [
    {
     "name": "stdout",
     "output_type": "stream",
     "text": [
      "['형태소', '분석']\n"
     ]
    }
   ],
   "source": [
    "from konlpy.tag import Hannanum\n",
    "\n",
    "\n",
    "han = Hannanum()\n",
    "\n",
    "s = \"형태소 분석을 해봅시다. 어렵지 않아요\"\n",
    "print(han.nouns(s))\n"
   ]
  },
  {
   "cell_type": "code",
   "execution_count": 17,
   "metadata": {
    "colab": {
     "base_uri": "https://localhost:8080/",
     "height": 34
    },
    "colab_type": "code",
    "executionInfo": {
     "elapsed": 674,
     "status": "ok",
     "timestamp": 1566184772119,
     "user": {
      "displayName": "Jun Seok Ko",
      "photoUrl": "https://lh4.googleusercontent.com/-ocCe_en4JEg/AAAAAAAAAAI/AAAAAAAAAA0/3_y396F5GXw/s64/photo.jpg",
      "userId": "09316774114625797444"
     },
     "user_tz": -540
    },
    "id": "wxltDbuD4ok3",
    "outputId": "df09e713-dc8f-4189-9150-9fac923c81ac"
   },
   "outputs": [
    {
     "name": "stdout",
     "output_type": "stream",
     "text": [
      "['형태소', '분석', '을', '하', '어', '보', 'ㅂ시다', '.', '어렵', '지', '않', '아요']\n"
     ]
    }
   ],
   "source": [
    "print(han.morphs(s))"
   ]
  },
  {
   "cell_type": "code",
   "execution_count": 18,
   "metadata": {
    "colab": {
     "base_uri": "https://localhost:8080/",
     "height": 34
    },
    "colab_type": "code",
    "executionInfo": {
     "elapsed": 712,
     "status": "ok",
     "timestamp": 1566184790035,
     "user": {
      "displayName": "Jun Seok Ko",
      "photoUrl": "https://lh4.googleusercontent.com/-ocCe_en4JEg/AAAAAAAAAAI/AAAAAAAAAA0/3_y396F5GXw/s64/photo.jpg",
      "userId": "09316774114625797444"
     },
     "user_tz": -540
    },
    "id": "NY79gej-4w1f",
    "outputId": "17e18cc3-201f-4df3-c474-fbd3bd875afc"
   },
   "outputs": [
    {
     "name": "stdout",
     "output_type": "stream",
     "text": [
      "[('형태소', 'N'), ('분석', 'N'), ('을', 'J'), ('하', 'P'), ('어', 'E'), ('보', 'P'), ('ㅂ시다', 'E'), ('.', 'S'), ('어렵', 'P'), ('지', 'E'), ('않', 'P'), ('아요', 'E')]\n"
     ]
    }
   ],
   "source": [
    "print(han.pos(s))"
   ]
  },
  {
   "cell_type": "code",
   "execution_count": 24,
   "metadata": {
    "colab": {
     "base_uri": "https://localhost:8080/",
     "height": 123
    },
    "colab_type": "code",
    "executionInfo": {
     "elapsed": 11979,
     "status": "ok",
     "timestamp": 1566185410805,
     "user": {
      "displayName": "Jun Seok Ko",
      "photoUrl": "https://lh4.googleusercontent.com/-ocCe_en4JEg/AAAAAAAAAAI/AAAAAAAAAA0/3_y396F5GXw/s64/photo.jpg",
      "userId": "09316774114625797444"
     },
     "user_tz": -540
    },
    "id": "n6MX0XMj41UZ",
    "outputId": "6a8d2dad-cc05-4d13-9fdc-7c92e16801a2"
   },
   "outputs": [
    {
     "name": "stdout",
     "output_type": "stream",
     "text": [
      "분석할 텍스트를 입력하세요수고 gg ㅋㅋ\n",
      "수\tN\n",
      "이\tJ\n",
      "고\tE\n",
      "gg\tF\n",
      "ㅋㅋ\tN\n"
     ]
    }
   ],
   "source": [
    "from konlpy.tag import Hannanum\n",
    "\n",
    "\n",
    "han = Hannanum()\n",
    "text = input(\"분석할 텍스트를 입력하세요\")\n",
    "result = han.pos(text)\n",
    "\n",
    "for lex, pos in result:\n",
    "    print(f'{lex}\\t{pos}')"
   ]
  },
  {
   "cell_type": "code",
   "execution_count": 25,
   "metadata": {
    "colab": {
     "base_uri": "https://localhost:8080/",
     "height": 70
    },
    "colab_type": "code",
    "executionInfo": {
     "elapsed": 3762,
     "status": "ok",
     "timestamp": 1566185415397,
     "user": {
      "displayName": "Jun Seok Ko",
      "photoUrl": "https://lh4.googleusercontent.com/-ocCe_en4JEg/AAAAAAAAAAI/AAAAAAAAAA0/3_y396F5GXw/s64/photo.jpg",
      "userId": "09316774114625797444"
     },
     "user_tz": -540
    },
    "id": "AioRtFxy697M",
    "outputId": "9ef38b45-23c2-4b6e-c0dd-417500fce181"
   },
   "outputs": [
    {
     "name": "stdout",
     "output_type": "stream",
     "text": [
      "분석할 텍스트를 입력하세요배고파 뒤지겠다\n",
      "배고파\tAdjective\n",
      "뒤지겠다\tVerb\n"
     ]
    }
   ],
   "source": [
    "from konlpy.tag import Okt\n",
    "\n",
    "\n",
    "okt = Okt()\n",
    "text = input(\"분석할 텍스트를 입력하세요\")\n",
    "result = okt.pos(text)\n",
    "\n",
    "for lex, pos in result:\n",
    "    print(f'{lex}\\t{pos}')"
   ]
  },
  {
   "cell_type": "code",
   "execution_count": 26,
   "metadata": {
    "colab": {
     "base_uri": "https://localhost:8080/",
     "height": 372
    },
    "colab_type": "code",
    "executionInfo": {
     "elapsed": 735,
     "status": "error",
     "timestamp": 1566185477504,
     "user": {
      "displayName": "Jun Seok Ko",
      "photoUrl": "https://lh4.googleusercontent.com/-ocCe_en4JEg/AAAAAAAAAAI/AAAAAAAAAA0/3_y396F5GXw/s64/photo.jpg",
      "userId": "09316774114625797444"
     },
     "user_tz": -540
    },
    "id": "bEVeH00x5MoK",
    "outputId": "2b39eb8d-c903-440a-add7-f5ec8f637018"
   },
   "outputs": [
    {
     "ename": "FileNotFoundError",
     "evalue": "ignored",
     "output_type": "error",
     "traceback": [
      "\u001b[0;31m---------------------------------------------------------------------------\u001b[0m",
      "\u001b[0;31mFileNotFoundError\u001b[0m                         Traceback (most recent call last)",
      "\u001b[0;32m<ipython-input-26-188f1a6f1b50>\u001b[0m in \u001b[0;36m<module>\u001b[0;34m()\u001b[0m\n\u001b[1;32m      5\u001b[0m \u001b[0mokt\u001b[0m \u001b[0;34m=\u001b[0m \u001b[0mOkt\u001b[0m\u001b[0;34m(\u001b[0m\u001b[0;34m)\u001b[0m\u001b[0;34m\u001b[0m\u001b[0;34m\u001b[0m\u001b[0m\n\u001b[1;32m      6\u001b[0m \u001b[0;34m\u001b[0m\u001b[0m\n\u001b[0;32m----> 7\u001b[0;31m \u001b[0mlaw_corpus\u001b[0m \u001b[0;34m=\u001b[0m \u001b[0mkolaw\u001b[0m\u001b[0;34m.\u001b[0m\u001b[0mopen\u001b[0m\u001b[0;34m(\u001b[0m\u001b[0;34m\"위치\"\u001b[0m\u001b[0;34m)\u001b[0m\u001b[0;34m.\u001b[0m\u001b[0mread\u001b[0m\u001b[0;34m(\u001b[0m\u001b[0;34m)\u001b[0m\u001b[0;34m\u001b[0m\u001b[0;34m\u001b[0m\u001b[0m\n\u001b[0m\u001b[1;32m      8\u001b[0m \u001b[0mlaw_corpus\u001b[0m\u001b[0;34m[\u001b[0m\u001b[0;34m:\u001b[0m\u001b[0;36m50\u001b[0m\u001b[0;34m]\u001b[0m\u001b[0;34m\u001b[0m\u001b[0;34m\u001b[0m\u001b[0m\n",
      "\u001b[0;32m/usr/local/lib/python3.6/dist-packages/konlpy/corpus.py\u001b[0m in \u001b[0;36mopen\u001b[0;34m(self, filename)\u001b[0m\n\u001b[1;32m     44\u001b[0m         \u001b[0;34m:\u001b[0m\u001b[0mparam\u001b[0m \u001b[0mfilename\u001b[0m\u001b[0;34m:\u001b[0m \u001b[0mName\u001b[0m \u001b[0mof\u001b[0m \u001b[0ma\u001b[0m \u001b[0mparticular\u001b[0m \u001b[0mfile\u001b[0m \u001b[0;32min\u001b[0m \u001b[0mthe\u001b[0m \u001b[0mcorpus\u001b[0m\u001b[0;34m.\u001b[0m\u001b[0;34m\u001b[0m\u001b[0;34m\u001b[0m\u001b[0m\n\u001b[1;32m     45\u001b[0m         \"\"\"\n\u001b[0;32m---> 46\u001b[0;31m         \u001b[0;32mreturn\u001b[0m \u001b[0mutils\u001b[0m\u001b[0;34m.\u001b[0m\u001b[0mload_txt\u001b[0m\u001b[0;34m(\u001b[0m\u001b[0mself\u001b[0m\u001b[0;34m.\u001b[0m\u001b[0mabspath\u001b[0m\u001b[0;34m(\u001b[0m\u001b[0mfilename\u001b[0m\u001b[0;34m)\u001b[0m\u001b[0;34m)\u001b[0m\u001b[0;34m\u001b[0m\u001b[0;34m\u001b[0m\u001b[0m\n\u001b[0m\u001b[1;32m     47\u001b[0m \u001b[0;34m\u001b[0m\u001b[0m\n\u001b[1;32m     48\u001b[0m     \u001b[0;32mdef\u001b[0m \u001b[0m__init__\u001b[0m\u001b[0;34m(\u001b[0m\u001b[0mself\u001b[0m\u001b[0;34m,\u001b[0m \u001b[0mname\u001b[0m\u001b[0;34m=\u001b[0m\u001b[0;32mNone\u001b[0m\u001b[0;34m)\u001b[0m\u001b[0;34m:\u001b[0m\u001b[0;34m\u001b[0m\u001b[0;34m\u001b[0m\u001b[0m\n",
      "\u001b[0;32m/usr/local/lib/python3.6/dist-packages/konlpy/utils.py\u001b[0m in \u001b[0;36mload_txt\u001b[0;34m(filename, encoding)\u001b[0m\n\u001b[1;32m    184\u001b[0m     \u001b[0mTo\u001b[0m \u001b[0mread\u001b[0m \u001b[0ma\u001b[0m \u001b[0mfile\u001b[0m\u001b[0;34m,\u001b[0m \u001b[0muse\u001b[0m\u001b[0;31m \u001b[0m\u001b[0;31m`\u001b[0m\u001b[0;31m`\u001b[0m\u001b[0mread_txt\u001b[0m\u001b[0;34m(\u001b[0m\u001b[0;34m)\u001b[0m\u001b[0;31m`\u001b[0m\u001b[0;31m`\u001b[0m\u001b[0minstead\u001b[0m\u001b[0;34m.\u001b[0m\u001b[0;34m\u001b[0m\u001b[0;34m\u001b[0m\u001b[0m\n\u001b[1;32m    185\u001b[0m     \"\"\"\n\u001b[0;32m--> 186\u001b[0;31m     \u001b[0;32mreturn\u001b[0m \u001b[0mio\u001b[0m\u001b[0;34m.\u001b[0m\u001b[0mopen\u001b[0m\u001b[0;34m(\u001b[0m\u001b[0mfilename\u001b[0m\u001b[0;34m,\u001b[0m \u001b[0;34m'r'\u001b[0m\u001b[0;34m,\u001b[0m \u001b[0mencoding\u001b[0m\u001b[0;34m=\u001b[0m\u001b[0mencoding\u001b[0m\u001b[0;34m)\u001b[0m\u001b[0;34m\u001b[0m\u001b[0;34m\u001b[0m\u001b[0m\n\u001b[0m\u001b[1;32m    187\u001b[0m \u001b[0;34m\u001b[0m\u001b[0m\n\u001b[1;32m    188\u001b[0m \u001b[0;34m\u001b[0m\u001b[0m\n",
      "\u001b[0;31mFileNotFoundError\u001b[0m: [Errno 2] No such file or directory: '/usr/local/lib/python3.6/dist-packages/konlpy/data/corpus/kolaw/위치'"
     ]
    }
   ],
   "source": [
    "from konlpy.corpus import kolaw\n",
    "from konlpy.tag import Okt\n",
    "\n",
    "\n",
    "okt = Okt()\n",
    "\n",
    "law_corpus = kolaw.open(\"위치\").read()\n",
    "law_corpus[:50]"
   ]
  },
  {
   "cell_type": "code",
   "execution_count": 1,
   "metadata": {},
   "outputs": [
    {
     "name": "stderr",
     "output_type": "stream",
     "text": [
      "[nltk_data] Downloading package stopwords to\n",
      "[nltk_data]     C:\\Users\\Affinity\\AppData\\Roaming\\nltk_data...\n",
      "[nltk_data]   Unzipping corpora\\stopwords.zip.\n"
     ]
    },
    {
     "data": {
      "text/plain": [
       "['i', 'me', 'my', 'myself', 'we', 'our', 'ours', 'ourselves', 'you', \"you're\"]"
      ]
     },
     "execution_count": 1,
     "metadata": {},
     "output_type": "execute_result"
    }
   ],
   "source": [
    "import nltk\n",
    "nltk.download('stopwords')\n",
    "from nltk.corpus import stopwords\n",
    "stopwords.words(\"english\")[:10]"
   ]
  },
  {
   "cell_type": "code",
   "execution_count": 3,
   "metadata": {},
   "outputs": [
    {
     "name": "stderr",
     "output_type": "stream",
     "text": [
      "[nltk_data] Downloading package punkt to\n",
      "[nltk_data]     C:\\Users\\Affinity\\AppData\\Roaming\\nltk_data...\n",
      "[nltk_data]   Unzipping tokenizers\\punkt.zip.\n"
     ]
    },
    {
     "name": "stdout",
     "output_type": "stream",
     "text": [
      "['Familly', 'is', 'not', 'an', 'important', 'thing', '.', 'it', \"'s\", 'everything']\n",
      "['Familly', 'important', 'thing', '.', \"'s\", 'everything']\n"
     ]
    }
   ],
   "source": [
    "import nltk\n",
    "nltk.download('punkt')\n",
    "from nltk.corpus import stopwords\n",
    "from nltk.tokenize import word_tokenize\n",
    "\n",
    "\n",
    "example = \"Familly is not an important thing. it's everything\"\n",
    "stop_words = set(stopwords.words(\"english\"))\n",
    "\n",
    "word_tokens = word_tokenize(example)\n",
    "result = []\n",
    "\n",
    "for w in word_tokens:\n",
    "    if w not in stop_words:\n",
    "        result.append(w)\n",
    "    \n",
    "print(word_tokens)\n",
    "print(result)\n"
   ]
  },
  {
   "cell_type": "code",
   "execution_count": 12,
   "metadata": {},
   "outputs": [],
   "source": [
    "import nltk\n",
    "from nltk.corpus import stopwords\n",
    "from nltk.tokenize import word_tokenize\n",
    "\n",
    "\n",
    "example = \"고기를 아무렇게나 구우려고 하면 안 돼. 고기라고 다 같은 게 아니거든. 예컨대 삼겹살을 구울 때는 중요한 게 있지.\"\n",
    "stop_words = \"아무거나 아무렇게나 어찌하든지 같다 비슷하다 예컨대 이럴정도로 하면 아니거든\""
   ]
  },
  {
   "cell_type": "code",
   "execution_count": 5,
   "metadata": {},
   "outputs": [
    {
     "name": "stdout",
     "output_type": "stream",
     "text": [
      "['고기를', '아무렇게나', '구우려고', '하면', '안', '돼', '.', '고기라고', '다', '같은', '게', '아니거든', '.', '예컨대', '삼겹살을', '구울', '때는', '중요한', '게', '있지', '.']\n",
      "['고기를', '구우려고', '안', '돼', '.', '고기라고', '다', '같은', '게', '.', '삼겹살을', '구울', '때는', '중요한', '게', '있지', '.']\n"
     ]
    }
   ],
   "source": [
    "stop_words = stop_words.split(\" \")\n",
    "word_tokens = word_tokenize(example)\n",
    "result = []\n",
    "\n",
    "for w in word_tokens:\n",
    "    if w not in stop_words:\n",
    "        result.append(w)\n",
    "        \n",
    "print(word_tokens)\n",
    "print(result)"
   ]
  },
  {
   "cell_type": "code",
   "execution_count": 13,
   "metadata": {},
   "outputs": [
    {
     "data": {
      "text/plain": [
       "['아무거나', '아무렇게나', '어찌하든지', '같다', '비슷하다', '예컨대', '이럴정도로', '하면', '아니거든']"
      ]
     },
     "execution_count": 13,
     "metadata": {},
     "output_type": "execute_result"
    }
   ],
   "source": [
    "stop_words2 = stop_words.split()\n",
    "stop_words2"
   ]
  },
  {
   "cell_type": "code",
   "execution_count": 7,
   "metadata": {},
   "outputs": [
    {
     "data": {
      "text/plain": [
       "['1809890.txt',\n",
       " '1809891.txt',\n",
       " '1809892.txt',\n",
       " '1809893.txt',\n",
       " '1809894.txt',\n",
       " '1809895.txt',\n",
       " '1809896.txt',\n",
       " '1809897.txt',\n",
       " '1809898.txt',\n",
       " '1809899.txt']"
      ]
     },
     "execution_count": 7,
     "metadata": {},
     "output_type": "execute_result"
    }
   ],
   "source": [
    "import nltk\n",
    "from konlpy.corpus import kobill\n",
    "\n",
    "\n",
    "files_ko = kobill.fileids()\n",
    "files_ko"
   ]
  },
  {
   "cell_type": "code",
   "execution_count": 8,
   "metadata": {},
   "outputs": [
    {
     "data": {
      "text/plain": [
       "'고등교육법 일부개정법률안\\n\\n(안상수의원 대표발의 )\\n\\n 의 안\\n 번 호\\n\\n9894\\n\\n발의연월일 : 2010.  11.  15.\\n\\n발  의  자 : 안상수․김정훈․원희목 \\n\\n강석호․서상기․나성린 \\n\\n권영진․이춘식․정영희 \\n\\n이애주․안형환․백성운 \\n\\n김금래 의원(13인)\\n\\n제안이유 및 주요내용\\n\\n  현재 간호사의 경우 전문대학 졸업 또는 대학 졸업에 상관없이 면\\n\\n허증을 취득할 수 있지만, 학위의 종류가 전문학사이기 때문에 학사학\\n\\n위를 취득하기 위하여 87.2%가 별도로 학사학위 교육과정을 이수하고 \\n\\n있는 실정임.\\n\\n  이러한 4년제 간호 교육의 필요성과 선진 각국의 경향을 고려하고 \\n\\n국민에 대한 보다 나은 의료 서비스를 제공하기 위하여 대통령령이 \\n\\n정하는 일정한 기준을 충족하는 간호과에 대해서는 수업연한을 4년으\\n\\n로 하고, 수여하는 학위의 종류를 학사학위로 하도록 함(안 제50조의3 \\n\\n신설).\\n\\n- 1 -\\n\\n\\x0c법률  제        호\\n\\n고등교육법 일부개정법률안\\n\\n고등교육법 일부를 다음과 같이 개정한다.\\n\\n제50조의3을 다음과 같이 신설한다.\\n\\n제50조의3(간호과의 수업연한 및 학위에 관한 특례) ① 대통령령이 정\\n\\n하는 기준을 충족하는 간호과의 수업연한은 4년으로 한다.\\n\\n  ② 제1항의 간호과에서 학칙이 정하는 과정을 이수한 자에 대하여\\n\\n는 학사학위를 수여한다.\\n\\n  ③ 제2항의 학위의 종류 및 수여에 관하여 필요한 사항은 대통령령\\n\\n으로 정한다.\\n\\n부      칙\\n\\n① 이 법은 공포 후 6개월이 경과한 날부터 시행한다.\\n\\n② 이 법 시행 당시 수업연한이 4년으로 된 간호과에 재학 중인 자에 \\n\\n대해서는 본인의 신청에 의하여 종전의 수업연한 및 학위에 관한 규\\n\\n정을 적용할 수 있다.\\n\\n- 3 -\\n\\n\\x0c신·구조문대비표\\n\\n현      행\\n\\n개   정   안\\n\\n  <신  설>\\n\\n제50조의3(간호과의 수업연한 및 \\n\\n학위에 관한 특례) ① 대통령\\n\\n령이 정하는 기준을 충족하는 \\n\\n간호과의 수업연한은 4년으로 \\n\\n한다.\\n\\n  ② 제1항의 간호과에서 학칙이 \\n\\n정하는 과정을 이수한 자에 대\\n\\n하여는 학사학위를 수여한다.\\n\\n  ③ 제2항의 학위의 종류 및 수\\n\\n여에 관하여 필요한 사항은 대\\n\\n통령령으로 정한다.\\n\\n- 5 -\\n\\n\\x0c'"
      ]
     },
     "execution_count": 8,
     "metadata": {},
     "output_type": "execute_result"
    }
   ],
   "source": [
    "doc_ko = kobill.open(\"1809894.txt\").read()\n",
    "doc_ko"
   ]
  },
  {
   "cell_type": "code",
   "execution_count": 15,
   "metadata": {},
   "outputs": [
    {
     "data": {
      "text/plain": [
       "['고등',\n",
       " '교육법',\n",
       " '일부',\n",
       " '개정',\n",
       " '법률',\n",
       " '안',\n",
       " '안상수',\n",
       " '의원',\n",
       " '대표',\n",
       " '발의',\n",
       " '의',\n",
       " '안',\n",
       " '번',\n",
       " '호',\n",
       " '발의',\n",
       " '연월일',\n",
       " '발',\n",
       " '의',\n",
       " '자',\n",
       " '안상수',\n",
       " '김정훈',\n",
       " '원희목',\n",
       " '강석호',\n",
       " '서상기',\n",
       " '나성린',\n",
       " '권영진',\n",
       " '이춘식',\n",
       " '정영희',\n",
       " '이애주',\n",
       " '안형환',\n",
       " '백성운',\n",
       " '김금래',\n",
       " '의원',\n",
       " '인',\n",
       " '제안',\n",
       " '이유',\n",
       " '및',\n",
       " '내용',\n",
       " '현재',\n",
       " '간호사',\n",
       " '경우',\n",
       " '전문',\n",
       " '대학',\n",
       " '졸업',\n",
       " '대학',\n",
       " '졸업',\n",
       " '면',\n",
       " '증',\n",
       " '취득',\n",
       " '수',\n",
       " '학위',\n",
       " '종류',\n",
       " '문학사',\n",
       " '이기',\n",
       " '때문',\n",
       " '학',\n",
       " '사학',\n",
       " '위',\n",
       " '취득',\n",
       " '위',\n",
       " '별도',\n",
       " '학사',\n",
       " '학위',\n",
       " '교육과정',\n",
       " '이수',\n",
       " '실정',\n",
       " '임',\n",
       " '간호',\n",
       " '교육',\n",
       " '필요성',\n",
       " '선진',\n",
       " '각국',\n",
       " '경향',\n",
       " '고려',\n",
       " '국민',\n",
       " '대한',\n",
       " '나은',\n",
       " '의료',\n",
       " '서비스',\n",
       " '제공',\n",
       " '위',\n",
       " '대통령령',\n",
       " '정',\n",
       " '기준',\n",
       " '충족',\n",
       " '간호',\n",
       " '과',\n",
       " '대해',\n",
       " '수업',\n",
       " '연한',\n",
       " '로',\n",
       " '수여',\n",
       " '학위',\n",
       " '종류',\n",
       " '학사',\n",
       " '학위',\n",
       " '함',\n",
       " '안',\n",
       " '제',\n",
       " '신설',\n",
       " '법률',\n",
       " '제',\n",
       " '호',\n",
       " '고등',\n",
       " '교육법',\n",
       " '일부',\n",
       " '개정',\n",
       " '법률',\n",
       " '안',\n",
       " '고등',\n",
       " '교육법',\n",
       " '일부',\n",
       " '다음',\n",
       " '개정',\n",
       " '제',\n",
       " '다음',\n",
       " '신설',\n",
       " '제',\n",
       " '간호',\n",
       " '수업',\n",
       " '연한',\n",
       " '및',\n",
       " '학위',\n",
       " '관',\n",
       " '특례',\n",
       " '대통령령',\n",
       " '정',\n",
       " '기준',\n",
       " '충족',\n",
       " '간호',\n",
       " '수업',\n",
       " '연한',\n",
       " '제',\n",
       " '항의',\n",
       " '간호',\n",
       " '과',\n",
       " '학칙',\n",
       " '정',\n",
       " '과정',\n",
       " '이수',\n",
       " '자',\n",
       " '대하',\n",
       " '학사',\n",
       " '학위',\n",
       " '수여',\n",
       " '제',\n",
       " '항의',\n",
       " '학위',\n",
       " '종류',\n",
       " '및',\n",
       " '수여',\n",
       " '관',\n",
       " '사항',\n",
       " '대통령령',\n",
       " '정',\n",
       " '부',\n",
       " '칙',\n",
       " '이',\n",
       " '법',\n",
       " '공포',\n",
       " '후',\n",
       " '개월',\n",
       " '경과',\n",
       " '날',\n",
       " '시행',\n",
       " '이',\n",
       " '법',\n",
       " '시행',\n",
       " '당시',\n",
       " '수업',\n",
       " '연한',\n",
       " '간호',\n",
       " '과',\n",
       " '재학',\n",
       " '중인',\n",
       " '자',\n",
       " '대해',\n",
       " '본인',\n",
       " '신청',\n",
       " '종전',\n",
       " '수업',\n",
       " '연한',\n",
       " '및',\n",
       " '학위',\n",
       " '관',\n",
       " '규',\n",
       " '정',\n",
       " '적용',\n",
       " '수',\n",
       " '신',\n",
       " '구조',\n",
       " '문대비',\n",
       " '표',\n",
       " '현',\n",
       " '행',\n",
       " '개',\n",
       " '정',\n",
       " '안',\n",
       " '신',\n",
       " '설',\n",
       " '제',\n",
       " '간호',\n",
       " '수업',\n",
       " '연한',\n",
       " '및',\n",
       " '학위',\n",
       " '관',\n",
       " '특례',\n",
       " '대통령',\n",
       " '령',\n",
       " '정',\n",
       " '기준',\n",
       " '충족',\n",
       " '간호',\n",
       " '수업',\n",
       " '연한',\n",
       " '제',\n",
       " '항의',\n",
       " '간호',\n",
       " '과',\n",
       " '학칙',\n",
       " '정',\n",
       " '과정',\n",
       " '이수',\n",
       " '자',\n",
       " '학사',\n",
       " '학위',\n",
       " '수여',\n",
       " '제',\n",
       " '항의',\n",
       " '학위',\n",
       " '종류',\n",
       " '및',\n",
       " '수',\n",
       " '여',\n",
       " '관',\n",
       " '사항',\n",
       " '통령',\n",
       " '령',\n",
       " '정']"
      ]
     },
     "execution_count": 15,
     "metadata": {},
     "output_type": "execute_result"
    }
   ],
   "source": [
    "from konlpy.tag import Okt\n",
    "\n",
    "okt = Okt()\n",
    "\n",
    "nouns = okt.nouns(doc_ko)\n",
    "nouns"
   ]
  },
  {
   "cell_type": "code",
   "execution_count": 17,
   "metadata": {},
   "outputs": [
    {
     "name": "stdout",
     "output_type": "stream",
     "text": [
      "240\n",
      "121\n"
     ]
    },
    {
     "data": {
      "text/plain": [
       "FreqDist({'학위': 11, '간호': 9, '정': 9, '제': 9, '수업': 7, '연한': 7, '및': 6, '안': 5, '관': 5, '자': 4, ...})"
      ]
     },
     "execution_count": 17,
     "metadata": {},
     "output_type": "execute_result"
    }
   ],
   "source": [
    "ko = nltk.Text(nouns, name=\"의안 제1809894호\")\n",
    "print(len(ko.tokens))\n",
    "print(len(set(ko.tokens)))\n",
    "ko.vocab()"
   ]
  },
  {
   "cell_type": "code",
   "execution_count": 20,
   "metadata": {},
   "outputs": [
    {
     "data": {
      "image/png": "[encoded data removed]",
      "text/plain": [
       "<Figure size 864x432 with 1 Axes>"
      ]
     },
     "metadata": {
      "needs_background": "light"
     },
     "output_type": "display_data"
    }
   ],
   "source": [
    "import matplotlib.pyplot as plt\n",
    "import platform\n",
    "\n",
    "from matplotlib import font_manager, rc\n",
    "rc('font', family=\"MalGun Gothic\")\n",
    "\n",
    "\n",
    "plt.figure(figsize=(12,6))\n",
    "ko.plot(50)\n",
    "plt.show()"
   ]
  },
  {
   "cell_type": "code",
   "execution_count": 22,
   "metadata": {},
   "outputs": [
    {
     "data": {
      "text/plain": [
       "['고등',\n",
       " '교육법',\n",
       " '일부',\n",
       " '개정',\n",
       " '법률',\n",
       " '안상수',\n",
       " '의원',\n",
       " '대표',\n",
       " '발의',\n",
       " '번',\n",
       " '호',\n",
       " '발의',\n",
       " '연월일',\n",
       " '안상수',\n",
       " '김정훈',\n",
       " '원희목',\n",
       " '강석호',\n",
       " '서상기',\n",
       " '나성린',\n",
       " '권영진',\n",
       " '이춘식',\n",
       " '정영희',\n",
       " '이애주',\n",
       " '안형환',\n",
       " '백성운',\n",
       " '김금래',\n",
       " '의원',\n",
       " '인',\n",
       " '제안',\n",
       " '이유',\n",
       " '내용',\n",
       " '현재',\n",
       " '간호사',\n",
       " '경우',\n",
       " '전문',\n",
       " '대학',\n",
       " '졸업',\n",
       " '대학',\n",
       " '졸업',\n",
       " '면',\n",
       " '증',\n",
       " '취득',\n",
       " '학위',\n",
       " '종류',\n",
       " '문학사',\n",
       " '이기',\n",
       " '때문',\n",
       " '학',\n",
       " '사학',\n",
       " '위',\n",
       " '취득',\n",
       " '위',\n",
       " '별도',\n",
       " '학사',\n",
       " '학위',\n",
       " '교육과정',\n",
       " '이수',\n",
       " '실정',\n",
       " '임',\n",
       " '간호',\n",
       " '교육',\n",
       " '필요성',\n",
       " '선진',\n",
       " '각국',\n",
       " '경향',\n",
       " '고려',\n",
       " '국민',\n",
       " '대한',\n",
       " '나은',\n",
       " '의료',\n",
       " '서비스',\n",
       " '제공',\n",
       " '위',\n",
       " '대통령령',\n",
       " '기준',\n",
       " '충족',\n",
       " '간호',\n",
       " '대해',\n",
       " '수업',\n",
       " '연한',\n",
       " '로',\n",
       " '수여',\n",
       " '학위',\n",
       " '종류',\n",
       " '학사',\n",
       " '학위',\n",
       " '함',\n",
       " '신설',\n",
       " '법률',\n",
       " '호',\n",
       " '고등',\n",
       " '교육법',\n",
       " '일부',\n",
       " '개정',\n",
       " '법률',\n",
       " '고등',\n",
       " '교육법',\n",
       " '일부',\n",
       " '다음',\n",
       " '개정',\n",
       " '다음',\n",
       " '신설',\n",
       " '간호',\n",
       " '수업',\n",
       " '연한',\n",
       " '학위',\n",
       " '관',\n",
       " '특례',\n",
       " '대통령령',\n",
       " '기준',\n",
       " '충족',\n",
       " '간호',\n",
       " '수업',\n",
       " '연한',\n",
       " '항의',\n",
       " '간호',\n",
       " '학칙',\n",
       " '과정',\n",
       " '이수',\n",
       " '대하',\n",
       " '학사',\n",
       " '학위',\n",
       " '수여',\n",
       " '항의',\n",
       " '학위',\n",
       " '종류',\n",
       " '수여',\n",
       " '관',\n",
       " '사항',\n",
       " '대통령령',\n",
       " '부',\n",
       " '칙',\n",
       " '법',\n",
       " '공포',\n",
       " '후',\n",
       " '개월',\n",
       " '경과',\n",
       " '날',\n",
       " '시행',\n",
       " '법',\n",
       " '시행',\n",
       " '당시',\n",
       " '수업',\n",
       " '연한',\n",
       " '간호',\n",
       " '재학',\n",
       " '중인',\n",
       " '대해',\n",
       " '본인',\n",
       " '신청',\n",
       " '종전',\n",
       " '수업',\n",
       " '연한',\n",
       " '학위',\n",
       " '관',\n",
       " '규',\n",
       " '적용',\n",
       " '신',\n",
       " '구조',\n",
       " '문대비',\n",
       " '표',\n",
       " '현',\n",
       " '행',\n",
       " '개',\n",
       " '신',\n",
       " '설',\n",
       " '간호',\n",
       " '수업',\n",
       " '연한',\n",
       " '학위',\n",
       " '관',\n",
       " '특례',\n",
       " '대통령',\n",
       " '령',\n",
       " '기준',\n",
       " '충족',\n",
       " '간호',\n",
       " '수업',\n",
       " '연한',\n",
       " '항의',\n",
       " '간호',\n",
       " '학칙',\n",
       " '과정',\n",
       " '이수',\n",
       " '학사',\n",
       " '학위',\n",
       " '수여',\n",
       " '항의',\n",
       " '학위',\n",
       " '종류',\n",
       " '여',\n",
       " '관',\n",
       " '사항',\n",
       " '통령',\n",
       " '령']"
      ]
     },
     "execution_count": 22,
     "metadata": {},
     "output_type": "execute_result"
    }
   ],
   "source": [
    "from wordcloud import WordCloud, STOPWORDS\n",
    "\n",
    "\n",
    "stopwords = [\"정\", \"제\", \"및\", \"안\", \"자\", \"과\", \"수\", \"의\", \"이\", \"발\"]\n",
    "ko = [each_word for each_word in ko if each_word not in stopwords]\n",
    "ko"
   ]
  },
  {
   "cell_type": "code",
   "execution_count": 23,
   "metadata": {},
   "outputs": [
    {
     "data": {
      "image/png": "[encoded data removed]",
      "text/plain": [
       "<Figure size 864x432 with 1 Axes>"
      ]
     },
     "metadata": {
      "needs_background": "light"
     },
     "output_type": "display_data"
    }
   ],
   "source": [
    "ko = nltk.Text(ko, name=\"의안 제 1809894호\")\n",
    "plt.figure(figsize=(12, 6))\n",
    "ko.plot(50)\n",
    "plt.show()"
   ]
  },
  {
   "cell_type": "code",
   "execution_count": 24,
   "metadata": {},
   "outputs": [
    {
     "data": {
      "image/png": "[encoded data removed]",
      "text/plain": [
       "<Figure size 864x576 with 1 Axes>"
      ]
     },
     "metadata": {
      "needs_background": "light"
     },
     "output_type": "display_data"
    }
   ],
   "source": [
    "data = ko.vocab().most_common(30)\n",
    "\n",
    "wordcloud = WordCloud(font_path=\"c:/windows/Fonts/malgun.ttf\", background_color=\"white\").generate_from_frequencies(dict(data))\n",
    "plt.figure(figsize=(12, 8))\n",
    "plt.imshow(wordcloud)\n",
    "plt.axis(\"off\")\n",
    "plt.show()"
   ]
  },
  {
   "cell_type": "code",
   "execution_count": 28,
   "metadata": {},
   "outputs": [],
   "source": [
    "import re\n",
    "r = re.compile(\"a.c\")\n",
    "r.search(\"kkk\")"
   ]
  },
  {
   "cell_type": "code",
   "execution_count": 29,
   "metadata": {},
   "outputs": [
    {
     "data": {
      "text/plain": [
       "<_sre.SRE_Match object; span=(0, 3), match='abc'>"
      ]
     },
     "execution_count": 29,
     "metadata": {},
     "output_type": "execute_result"
    }
   ],
   "source": [
    "r.search(\"abc\")"
   ]
  },
  {
   "cell_type": "code",
   "execution_count": 31,
   "metadata": {},
   "outputs": [],
   "source": [
    "import re\n",
    "r = re.compile(\"ab?c\")\n",
    "r.search(\"abbc\")"
   ]
  },
  {
   "cell_type": "code",
   "execution_count": 32,
   "metadata": {},
   "outputs": [
    {
     "data": {
      "text/plain": [
       "<_sre.SRE_Match object; span=(0, 3), match='abc'>"
      ]
     },
     "execution_count": 32,
     "metadata": {},
     "output_type": "execute_result"
    }
   ],
   "source": [
    "r.search(\"abc\")"
   ]
  },
  {
   "cell_type": "code",
   "execution_count": 33,
   "metadata": {},
   "outputs": [
    {
     "data": {
      "text/plain": [
       "<_sre.SRE_Match object; span=(0, 2), match='ac'>"
      ]
     },
     "execution_count": 33,
     "metadata": {},
     "output_type": "execute_result"
    }
   ],
   "source": [
    "r.search(\"ac\")"
   ]
  },
  {
   "cell_type": "code",
   "execution_count": 34,
   "metadata": {},
   "outputs": [],
   "source": [
    "import re\n",
    "r = re.compile(\"ab*c\")\n",
    "r.search(\"a\")"
   ]
  },
  {
   "cell_type": "code",
   "execution_count": 35,
   "metadata": {},
   "outputs": [
    {
     "data": {
      "text/plain": [
       "<_sre.SRE_Match object; span=(0, 2), match='ac'>"
      ]
     },
     "execution_count": 35,
     "metadata": {},
     "output_type": "execute_result"
    }
   ],
   "source": [
    "r.search(\"ac\")"
   ]
  },
  {
   "cell_type": "code",
   "execution_count": 36,
   "metadata": {},
   "outputs": [
    {
     "data": {
      "text/plain": [
       "<_sre.SRE_Match object; span=(0, 6), match='abbbbc'>"
      ]
     },
     "execution_count": 36,
     "metadata": {},
     "output_type": "execute_result"
    }
   ],
   "source": [
    "r.search(\"abbbbc\")"
   ]
  },
  {
   "cell_type": "code",
   "execution_count": 37,
   "metadata": {},
   "outputs": [],
   "source": [
    "import re\n",
    "r = re.compile(\"^a\")\n",
    "r.search(\"bbc\")"
   ]
  },
  {
   "cell_type": "code",
   "execution_count": 38,
   "metadata": {},
   "outputs": [
    {
     "data": {
      "text/plain": [
       "<_sre.SRE_Match object; span=(0, 1), match='a'>"
      ]
     },
     "execution_count": 38,
     "metadata": {},
     "output_type": "execute_result"
    }
   ],
   "source": [
    "r.search(\"ab\")"
   ]
  },
  {
   "cell_type": "code",
   "execution_count": 39,
   "metadata": {},
   "outputs": [],
   "source": [
    "import re\n",
    "r = re.compile(\"ab{2}c\")\n",
    "r.search(\"ac\")"
   ]
  },
  {
   "cell_type": "code",
   "execution_count": 40,
   "metadata": {},
   "outputs": [],
   "source": [
    "r.search(\"abc\")"
   ]
  },
  {
   "cell_type": "code",
   "execution_count": 41,
   "metadata": {},
   "outputs": [
    {
     "data": {
      "text/plain": [
       "<_sre.SRE_Match object; span=(0, 4), match='abbc'>"
      ]
     },
     "execution_count": 41,
     "metadata": {},
     "output_type": "execute_result"
    }
   ],
   "source": [
    "r.search(\"abbc\")"
   ]
  },
  {
   "cell_type": "code",
   "execution_count": 42,
   "metadata": {},
   "outputs": [],
   "source": [
    "r.search(\"abbbbc\")"
   ]
  },
  {
   "cell_type": "code",
   "execution_count": 45,
   "metadata": {},
   "outputs": [],
   "source": [
    "import re\n",
    "\n",
    "\n",
    "r = re.compile(\"ab{2, 8}c\")\n",
    "r.search(\"ac\")\n",
    "r.search(\"abbbc\")"
   ]
  },
  {
   "cell_type": "code",
   "execution_count": 46,
   "metadata": {},
   "outputs": [],
   "source": [
    "r.search(\"abbbbbbbbbbbbbbbbbbbbbc\")"
   ]
  },
  {
   "cell_type": "code",
   "execution_count": 47,
   "metadata": {},
   "outputs": [],
   "source": [
    "r = re.compile(\"a{2,}bc\")\n",
    "r.search(\"bc\")"
   ]
  },
  {
   "cell_type": "code",
   "execution_count": 48,
   "metadata": {},
   "outputs": [],
   "source": [
    "r.search(\"aa\")"
   ]
  },
  {
   "cell_type": "code",
   "execution_count": 49,
   "metadata": {},
   "outputs": [
    {
     "data": {
      "text/plain": [
       "<_sre.SRE_Match object; span=(0, 6), match='aaaabc'>"
      ]
     },
     "execution_count": 49,
     "metadata": {},
     "output_type": "execute_result"
    }
   ],
   "source": [
    "r.search(\"aaaabc\")"
   ]
  },
  {
   "cell_type": "code",
   "execution_count": 50,
   "metadata": {},
   "outputs": [],
   "source": [
    "r = re.compile(\"[abc]\")\n",
    "r.search(\"zzz\")"
   ]
  },
  {
   "cell_type": "code",
   "execution_count": 51,
   "metadata": {},
   "outputs": [
    {
     "data": {
      "text/plain": [
       "<_sre.SRE_Match object; span=(0, 1), match='a'>"
      ]
     },
     "execution_count": 51,
     "metadata": {},
     "output_type": "execute_result"
    }
   ],
   "source": [
    "r.search(\"a\")"
   ]
  },
  {
   "cell_type": "code",
   "execution_count": 52,
   "metadata": {},
   "outputs": [],
   "source": [
    "r = re.compile(\"[a-z]\")\n",
    "r.search(\"AAA\")"
   ]
  },
  {
   "cell_type": "code",
   "execution_count": 53,
   "metadata": {},
   "outputs": [
    {
     "data": {
      "text/plain": [
       "<_sre.SRE_Match object; span=(0, 1), match='z'>"
      ]
     },
     "execution_count": 53,
     "metadata": {},
     "output_type": "execute_result"
    }
   ],
   "source": [
    "r.search(\"zzz\")"
   ]
  },
  {
   "cell_type": "code",
   "execution_count": 54,
   "metadata": {},
   "outputs": [
    {
     "data": {
      "text/plain": [
       "<_sre.SRE_Match object; span=(0, 1), match='A'>"
      ]
     },
     "execution_count": 54,
     "metadata": {},
     "output_type": "execute_result"
    }
   ],
   "source": [
    "r = re.compile(\"[^abc]\")\n",
    "r.search(\"A\")"
   ]
  },
  {
   "cell_type": "code",
   "execution_count": 55,
   "metadata": {},
   "outputs": [
    {
     "data": {
      "text/plain": [
       "<_sre.SRE_Match object; span=(0, 1), match='d'>"
      ]
     },
     "execution_count": 55,
     "metadata": {},
     "output_type": "execute_result"
    }
   ],
   "source": [
    "r.search(\"d\")"
   ]
  },
  {
   "cell_type": "code",
   "execution_count": 56,
   "metadata": {},
   "outputs": [
    {
     "data": {
      "text/plain": [
       "<_sre.SRE_Match object; span=(3, 6), match='abc'>"
      ]
     },
     "execution_count": 56,
     "metadata": {},
     "output_type": "execute_result"
    }
   ],
   "source": [
    "import re\n",
    "r=re.compile(\"ab.\")\n",
    "r.search(\"kkkabc\")  "
   ]
  },
  {
   "cell_type": "code",
   "execution_count": 57,
   "metadata": {},
   "outputs": [],
   "source": [
    "r.match(\"kkkabc\")"
   ]
  },
  {
   "cell_type": "code",
   "execution_count": 58,
   "metadata": {},
   "outputs": [
    {
     "data": {
      "text/plain": [
       "<_sre.SRE_Match object; span=(0, 3), match='abc'>"
      ]
     },
     "execution_count": 58,
     "metadata": {},
     "output_type": "execute_result"
    }
   ],
   "source": [
    "r.match(\"abckkk\")  "
   ]
  },
  {
   "cell_type": "code",
   "execution_count": 59,
   "metadata": {},
   "outputs": [
    {
     "data": {
      "text/plain": [
       "['사과', '딸기', '수박', '메론', '바나나']"
      ]
     },
     "execution_count": 59,
     "metadata": {},
     "output_type": "execute_result"
    }
   ],
   "source": [
    "import re\n",
    "text=\"사과 딸기 수박 메론 바나나\"\n",
    "re.split(\" \",text)"
   ]
  },
  {
   "cell_type": "code",
   "execution_count": 60,
   "metadata": {},
   "outputs": [
    {
     "data": {
      "text/plain": [
       "['사과', '딸기', '수박', '메론', '바나나']"
      ]
     },
     "execution_count": 60,
     "metadata": {},
     "output_type": "execute_result"
    }
   ],
   "source": [
    "import re\n",
    "text=\"\"\"사과\n",
    "딸기\n",
    "수박\n",
    "메론\n",
    "바나나\"\"\"\n",
    "re.split(\"\\n\",text)"
   ]
  },
  {
   "cell_type": "code",
   "execution_count": 62,
   "metadata": {},
   "outputs": [
    {
     "data": {
      "text/plain": [
       "['010', '1234', '1234', '30']"
      ]
     },
     "execution_count": 62,
     "metadata": {},
     "output_type": "execute_result"
    }
   ],
   "source": [
    "import re\n",
    "text=\"\"\"이름 : 김철수\n",
    "전화번호 : 010 - 1234 - 1234\n",
    "나이 : 30\n",
    "성별 : 남\"\"\"  \n",
    "re.findall(\"\\d+\",text)"
   ]
  },
  {
   "cell_type": "code",
   "execution_count": 63,
   "metadata": {},
   "outputs": [
    {
     "data": {
      "text/plain": [
       "[]"
      ]
     },
     "execution_count": 63,
     "metadata": {},
     "output_type": "execute_result"
    }
   ],
   "source": [
    "re.findall(\"\\d+\", \"문자열입니다.\")"
   ]
  },
  {
   "cell_type": "code",
   "execution_count": 64,
   "metadata": {},
   "outputs": [
    {
     "data": {
      "text/plain": [
       "'Regular expression   A regular expression  regex or regexp     sometimes called a rational expression        is  in theoretical computer science and formal language theory  a sequence of characters that define a search pattern '"
      ]
     },
     "execution_count": 64,
     "metadata": {},
     "output_type": "execute_result"
    }
   ],
   "source": [
    "import re\n",
    "text=\"Regular expression : A regular expression, regex or regexp[1] (sometimes called a rational expression)[2][3] is, in theoretical computer science and formal language theory, a sequence of characters that define a search pattern.\"\n",
    "re.sub('[^a-zA-Z]',' ',text)"
   ]
  },
  {
   "cell_type": "code",
   "execution_count": 67,
   "metadata": {},
   "outputs": [
    {
     "name": "stdout",
     "output_type": "stream",
     "text": [
      "I was wondering if anyone out there could enllghten me on this car\n"
     ]
    }
   ],
   "source": [
    "import re\n",
    "text = \"I was wondering if anyone out there could enllghten me on this car\"\n",
    "shortword = re.compile(r\"\\W*\\b\\w{1, 2}\\b\")\n",
    "print(shortword.sub(\"\", text))"
   ]
  },
  {
   "cell_type": "markdown",
   "metadata": {},
   "source": [
    "# 연습하기"
   ]
  },
  {
   "cell_type": "markdown",
   "metadata": {},
   "source": [
    "## 형태소분석, 정제, 30개 단어 시각화"
   ]
  },
  {
   "cell_type": "code",
   "execution_count": 75,
   "metadata": {},
   "outputs": [
    {
     "data": {
      "text/plain": [
       "'하도급거래 공정화에 관한 법률 일부개정법률안\\n\\n(유선호의원 대표발의 )\\n\\n 의 안\\n 번 호\\n\\n9895\\n\\n발의연월일 : 2010.  11.  15.\\n\\n발  의  자 : 유선호․강기갑․김효석  \\n\\n조승수ㆍ최문순ㆍ조영택  \\n\\n문학진ㆍ백재현ㆍ송민순  \\n\\n박은수ㆍ정동영ㆍ김춘진  \\n\\n김재윤ㆍ우윤근ㆍ이성남  \\n\\n이종걸 의원(16인)\\n\\n제안이유 및 주요내용\\n\\n  원․수급사업자 사이의 하도급거래는 외형적으로 공정한 계약을 체\\n\\n결할지라도 교섭력에서 절대 우위에 있는 원사업자에 의한 불공정한 \\n\\n행위의 가능성은 여전히 상존하고 있음. 또한 수급사업자는 원사업자\\n\\n의 부당행위에 의하여 손해를 입게 된 경우에도 입증의 부담을 안기 \\n\\n때문에 민사소송에 의한 피해구제도 쉽지 않은 실정임.  \\n\\n  이에 서면에 의한 계약을 따르지 않을 경우 벌금에 처하도록 하고, \\n\\n손해배상에 있어서 입증책임을 원사업자에게 전환시키며, 법원이 추정\\n\\n에 의한 손해액의 인정을 할 수 있게 하여 수급사업자가 소송을 용의\\n\\n- 1 -\\n\\n\\x0c- 2 -\\n\\n하게 진행할 수 있도록 함으로써 비대칭적인 교섭력과 정보력의 차이\\n\\n를 보완하고, 나아가 공정한 하도급거래 질서가 유지․발전 되도록 하\\n\\n려는 것임(안 제35조 및 제36조 신설). \\n\\n\\x0c법률  제        호\\n\\n하도급거래 공정화에 관한 법률 일부개정법률안\\n\\n하도급거래 공정화에 관한 법률 일부를 다음과 같이 개정한다.\\n\\n제30조제2항제1호 및 제2호를 각각 제2호 및 제3호로 하고, 같은 항에 \\n\\n제1호를 다음과 같이 신설한다.\\n\\n  1. 제3조제1항부터 제4항까지 및 제9항을 위반한 자\\n\\n제35조 및 제36조를 각각 다음과 같이 신설한다.\\n\\n제35조(손해배상책임) 원사업자가 이 법을 위반함으로써 손해를 입은 \\n\\n자가 있는 경우에는 그 자의 손해에 대하여 해당 원사업자는 배상\\n\\n책임을 진다. 다만, 해당 원사업자가 고의 또는 과실이 없음을 입증\\n\\n한 경우에는 그러하지 아니하다.\\n\\n제36조(손해액의 인정) 법원은 이 법을 위반한 행위로 인하여 손해가 \\n\\n발생한 사실은 인정되나 손해액의 구체적인 금액을 산정하기 곤란\\n\\n한 경우에는 변론의 취지와 증거조사의 결과를 고려하여 그에 상당\\n\\n한 손해액을 인정할 수 있다.\\n\\n- 3 -\\n\\n\\x0c- 4 -\\n\\n부      칙\\n\\n①(시행일) 이 법은 공포한 날부터 시행한다.\\n\\n②(적용례) 제30조제2항제1호, 제35조 및 제36조의 개정규정은 이 법 \\n\\n시행 후 최초로 체결하는 하도급계약부터 적용한다.\\n\\n\\x0c신·구조문대비표\\n\\n현      행\\n\\n개   정   안\\n\\n제30조(벌칙) ① (생  략)\\n\\n제30조(벌칙) ① (현행과 같음)\\n\\n  ② 다음 각 호의 어느 하나에 \\n  ② -------------------------\\n\\n해당하는 자는 1억 5천만원 이\\n\\n----------------------------\\n\\n하의 벌금에 처한다.\\n\\n------------------.\\n\\n  <신  설>\\n\\n  1. 제3조제1항부터 제4항까지 \\n\\n  1.⋅2. (생  략)\\n\\n  2.⋅3. (현행 제1호 및 제2호와 \\n\\n및 제9항을 위반한 자\\n\\n  ③ (생  략)\\n\\n  <신  설>\\n\\n같음)\\n\\n  ③ (현행과 같음)\\n\\n제35조(손해배상책임) 원사업자가 \\n\\n이 법을 위반함으로써 손해를 \\n\\n입은 자가 있는 경우에는 그 \\n\\n자의 손해에 대하여 해당 원사\\n\\n업자는 배상책임을 진다. 다만, \\n\\n해당 원사업자가 고의 또는 과\\n\\n실이 없음을 입증한 경우에는 \\n\\n그러하지 아니하다.\\n\\n  <신  설>\\n\\n제36조(손해액의 인정) 법원은 이 \\n\\n법을 위반한 행위로 인하여 손\\n\\n해가 발생한 사실은 인정되나 \\n\\n손해액의 구체적인 금액을 산\\n\\n정하기 곤란한 경우에는 변론\\n\\n의 취지와 증거조사의 결과를 \\n\\n- 5 -\\n\\n\\x0c- 6 -\\n\\n고려하여 그에 상당한 손해액\\n\\n을 인정할 수 있다.\\n\\n\\x0c'"
      ]
     },
     "execution_count": 75,
     "metadata": {},
     "output_type": "execute_result"
    }
   ],
   "source": [
    "doc_ko = kobill.open(\"1809895.txt\").read()\n",
    "doc_ko"
   ]
  },
  {
   "cell_type": "code",
   "execution_count": 77,
   "metadata": {},
   "outputs": [
    {
     "data": {
      "text/plain": [
       "[('하도급', 'Noun'),\n",
       " ('거래', 'Noun'),\n",
       " ('공', 'Modifier'),\n",
       " ('정화', 'Noun'),\n",
       " ('에', 'Josa'),\n",
       " ('관', 'Noun'),\n",
       " ('한', 'Josa'),\n",
       " ('법률', 'Noun'),\n",
       " ('일부', 'Noun'),\n",
       " ('개정', 'Noun'),\n",
       " ('법률', 'Noun'),\n",
       " ('안', 'Noun'),\n",
       " ('\\n\\n', 'Foreign'),\n",
       " ('(', 'Punctuation'),\n",
       " ('유선호', 'Noun'),\n",
       " ('의원', 'Noun'),\n",
       " ('대표', 'Noun'),\n",
       " ('발의', 'Noun'),\n",
       " (')', 'Punctuation'),\n",
       " ('\\n\\n ', 'Foreign'),\n",
       " ('의', 'Noun'),\n",
       " ('안', 'Noun'),\n",
       " ('\\n ', 'Foreign'),\n",
       " ('번', 'Noun'),\n",
       " ('호', 'Noun'),\n",
       " ('\\n\\n', 'Foreign'),\n",
       " ('9895', 'Number'),\n",
       " ('\\n\\n', 'Foreign'),\n",
       " ('발의', 'Noun'),\n",
       " ('연월일', 'Noun'),\n",
       " (':', 'Punctuation'),\n",
       " ('2010', 'Number'),\n",
       " ('.', 'Punctuation'),\n",
       " ('11', 'Number'),\n",
       " ('.', 'Punctuation'),\n",
       " ('15', 'Number'),\n",
       " ('.', 'Punctuation'),\n",
       " ('\\n\\n', 'Foreign'),\n",
       " ('발', 'Noun'),\n",
       " ('의', 'Noun'),\n",
       " ('자', 'Noun'),\n",
       " (':', 'Punctuation'),\n",
       " ('유선호', 'Noun'),\n",
       " ('․', 'Foreign'),\n",
       " ('강기갑', 'Noun'),\n",
       " ('․', 'Foreign'),\n",
       " ('김효석', 'Noun'),\n",
       " ('조승수', 'Noun'),\n",
       " ('ㆍ', 'Foreign'),\n",
       " ('최문순', 'Noun'),\n",
       " ('ㆍ', 'Foreign'),\n",
       " ('조영택', 'Noun'),\n",
       " ('문학진', 'Noun'),\n",
       " ('ㆍ', 'Foreign'),\n",
       " ('백재현', 'Noun'),\n",
       " ('ㆍ', 'Foreign'),\n",
       " ('송민순', 'Noun'),\n",
       " ('박은수', 'Noun'),\n",
       " ('ㆍ', 'Foreign'),\n",
       " ('정동영', 'Noun'),\n",
       " ('ㆍ', 'Foreign'),\n",
       " ('김춘진', 'Noun'),\n",
       " ('김재윤', 'Noun'),\n",
       " ('ㆍ', 'Foreign'),\n",
       " ('우윤근', 'Noun'),\n",
       " ('ㆍ', 'Foreign'),\n",
       " ('이성남', 'Noun'),\n",
       " ('이종걸', 'Noun'),\n",
       " ('의원', 'Noun'),\n",
       " ('(', 'Punctuation'),\n",
       " ('16', 'Number'),\n",
       " ('인', 'Noun'),\n",
       " (')', 'Punctuation'),\n",
       " ('\\n\\n', 'Foreign'),\n",
       " ('제안', 'Noun'),\n",
       " ('이유', 'Noun'),\n",
       " ('및', 'Noun'),\n",
       " ('주요', 'Modifier'),\n",
       " ('내용', 'Noun'),\n",
       " ('\\n\\n  ', 'Foreign'),\n",
       " ('원', 'Noun'),\n",
       " ('․', 'Foreign'),\n",
       " ('수급', 'Noun'),\n",
       " ('사업자', 'Noun'),\n",
       " ('사이', 'Noun'),\n",
       " ('의', 'Josa'),\n",
       " ('하도급', 'Noun'),\n",
       " ('거래', 'Noun'),\n",
       " ('는', 'Josa'),\n",
       " ('외형', 'Noun'),\n",
       " ('적', 'Suffix'),\n",
       " ('으로', 'Josa'),\n",
       " ('공정한', 'Adjective'),\n",
       " ('계약', 'Noun'),\n",
       " ('을', 'Josa'),\n",
       " ('체', 'Noun'),\n",
       " ('\\n\\n', 'Foreign'),\n",
       " ('결', 'Noun'),\n",
       " ('할지라도', 'Verb'),\n",
       " ('교섭', 'Noun'),\n",
       " ('력', 'Suffix'),\n",
       " ('에서', 'Josa'),\n",
       " ('절대', 'Noun'),\n",
       " ('우위', 'Noun'),\n",
       " ('에', 'Josa'),\n",
       " ('있는', 'Adjective'),\n",
       " ('원', 'Modifier'),\n",
       " ('사업자', 'Noun'),\n",
       " ('에', 'Josa'),\n",
       " ('의한', 'Adjective'),\n",
       " ('불공정', 'Noun'),\n",
       " ('한', 'Josa'),\n",
       " ('행위', 'Noun'),\n",
       " ('의', 'Josa'),\n",
       " ('가능성', 'Noun'),\n",
       " ('은', 'Josa'),\n",
       " ('여전히', 'Adjective'),\n",
       " ('상존', 'Noun'),\n",
       " ('하고', 'Josa'),\n",
       " ('있음', 'Adjective'),\n",
       " ('.', 'Punctuation'),\n",
       " ('또한', 'Noun'),\n",
       " ('수급', 'Noun'),\n",
       " ('사업자', 'Noun'),\n",
       " ('는', 'Josa'),\n",
       " ('원', 'Modifier'),\n",
       " ('사업자', 'Noun'),\n",
       " ('\\n\\n', 'Foreign'),\n",
       " ('의', 'Noun'),\n",
       " ('부당행위', 'Noun'),\n",
       " ('에', 'Josa'),\n",
       " ('의하여', 'Adjective'),\n",
       " ('손해', 'Noun'),\n",
       " ('를', 'Josa'),\n",
       " ('입게', 'Verb'),\n",
       " ('된', 'Verb'),\n",
       " ('경우', 'Noun'),\n",
       " ('에도', 'Josa'),\n",
       " ('입증', 'Noun'),\n",
       " ('의', 'Josa'),\n",
       " ('부담', 'Noun'),\n",
       " ('을', 'Josa'),\n",
       " ('안기', 'Verb'),\n",
       " ('때문', 'Noun'),\n",
       " ('에', 'Josa'),\n",
       " ('민사소송', 'Noun'),\n",
       " ('에', 'Josa'),\n",
       " ('의한', 'Adjective'),\n",
       " ('피해', 'Noun'),\n",
       " ('구', 'Modifier'),\n",
       " ('제도', 'Noun'),\n",
       " ('쉽지', 'Verb'),\n",
       " ('않은', 'Verb'),\n",
       " ('실정', 'Noun'),\n",
       " ('임', 'Noun'),\n",
       " ('.', 'Punctuation'),\n",
       " ('이', 'Noun'),\n",
       " ('에', 'Josa'),\n",
       " ('서면', 'Noun'),\n",
       " ('에', 'Josa'),\n",
       " ('의한', 'Adjective'),\n",
       " ('계약', 'Noun'),\n",
       " ('을', 'Josa'),\n",
       " ('따르지', 'Verb'),\n",
       " ('않을', 'Verb'),\n",
       " ('경우', 'Noun'),\n",
       " ('벌금', 'Noun'),\n",
       " ('에', 'Josa'),\n",
       " ('처', 'Noun'),\n",
       " ('하도록', 'Verb'),\n",
       " ('하고', 'Verb'),\n",
       " (',', 'Punctuation'),\n",
       " ('손해배상', 'Noun'),\n",
       " ('에', 'Josa'),\n",
       " ('있어서', 'Adjective'),\n",
       " ('입증책임', 'Noun'),\n",
       " ('을', 'Josa'),\n",
       " ('원', 'Modifier'),\n",
       " ('사업자', 'Noun'),\n",
       " ('에게', 'Josa'),\n",
       " ('전환', 'Noun'),\n",
       " ('시키며', 'Verb'),\n",
       " (',', 'Punctuation'),\n",
       " ('법원', 'Noun'),\n",
       " ('이', 'Josa'),\n",
       " ('추정', 'Noun'),\n",
       " ('\\n\\n', 'Foreign'),\n",
       " ('에', 'Josa'),\n",
       " ('의한', 'Adjective'),\n",
       " ('손해', 'Noun'),\n",
       " ('액', 'Noun'),\n",
       " ('의', 'Josa'),\n",
       " ('인정', 'Noun'),\n",
       " ('을', 'Josa'),\n",
       " ('할', 'Verb'),\n",
       " ('수', 'Noun'),\n",
       " ('있게', 'Adjective'),\n",
       " ('하여', 'Verb'),\n",
       " ('수급', 'Noun'),\n",
       " ('사업자', 'Noun'),\n",
       " ('가', 'Josa'),\n",
       " ('소송', 'Noun'),\n",
       " ('을', 'Josa'),\n",
       " ('용의', 'Noun'),\n",
       " ('\\n\\n', 'Foreign'),\n",
       " ('-', 'Punctuation'),\n",
       " ('1', 'Number'),\n",
       " ('-', 'Punctuation'),\n",
       " ('\\n\\n\\x0c', 'Foreign'),\n",
       " ('-', 'Punctuation'),\n",
       " ('2', 'Number'),\n",
       " ('-', 'Punctuation'),\n",
       " ('\\n\\n', 'Foreign'),\n",
       " ('하게', 'Verb'),\n",
       " ('진행', 'Noun'),\n",
       " ('할', 'Verb'),\n",
       " ('수', 'Noun'),\n",
       " ('있도록', 'Adjective'),\n",
       " ('함', 'Noun'),\n",
       " ('으로써', 'Josa'),\n",
       " ('비', 'Noun'),\n",
       " ('대칭', 'Noun'),\n",
       " ('적', 'Suffix'),\n",
       " ('인', 'Josa'),\n",
       " ('교섭', 'Noun'),\n",
       " ('력', 'Suffix'),\n",
       " ('과', 'Josa'),\n",
       " ('정보', 'Noun'),\n",
       " ('력', 'Suffix'),\n",
       " ('의', 'Josa'),\n",
       " ('차이', 'Noun'),\n",
       " ('\\n\\n', 'Foreign'),\n",
       " ('를', 'Noun'),\n",
       " ('보완', 'Noun'),\n",
       " ('하고', 'Josa'),\n",
       " (',', 'Punctuation'),\n",
       " ('나아가', 'Verb'),\n",
       " ('공정한', 'Adjective'),\n",
       " ('하도급', 'Noun'),\n",
       " ('거래', 'Noun'),\n",
       " ('질서', 'Noun'),\n",
       " ('가', 'Josa'),\n",
       " ('유지', 'Noun'),\n",
       " ('․', 'Foreign'),\n",
       " ('발전', 'Noun'),\n",
       " ('되도록', 'Verb'),\n",
       " ('하', 'Exclamation'),\n",
       " ('\\n\\n', 'Foreign'),\n",
       " ('려는', 'Eomi'),\n",
       " ('것임', 'Noun'),\n",
       " ('(', 'Punctuation'),\n",
       " ('안', 'Noun'),\n",
       " ('제', 'Noun'),\n",
       " ('35조', 'Number'),\n",
       " ('및', 'Noun'),\n",
       " ('제', 'Noun'),\n",
       " ('36조', 'Number'),\n",
       " ('신설', 'Noun'),\n",
       " (').', 'Punctuation'),\n",
       " ('법률', 'Noun'),\n",
       " ('제', 'Noun'),\n",
       " ('호', 'Noun'),\n",
       " ('\\n\\n', 'Foreign'),\n",
       " ('하도급', 'Noun'),\n",
       " ('거래', 'Noun'),\n",
       " ('공', 'Modifier'),\n",
       " ('정화', 'Noun'),\n",
       " ('에', 'Josa'),\n",
       " ('관', 'Noun'),\n",
       " ('한', 'Josa'),\n",
       " ('법률', 'Noun'),\n",
       " ('일부', 'Noun'),\n",
       " ('개정', 'Noun'),\n",
       " ('법률', 'Noun'),\n",
       " ('안', 'Noun'),\n",
       " ('\\n\\n', 'Foreign'),\n",
       " ('하도급', 'Noun'),\n",
       " ('거래', 'Noun'),\n",
       " ('공', 'Modifier'),\n",
       " ('정화', 'Noun'),\n",
       " ('에', 'Josa'),\n",
       " ('관', 'Noun'),\n",
       " ('한', 'Josa'),\n",
       " ('법률', 'Noun'),\n",
       " ('일부', 'Noun'),\n",
       " ('를', 'Josa'),\n",
       " ('다음', 'Noun'),\n",
       " ('과', 'Josa'),\n",
       " ('같이', 'Adverb'),\n",
       " ('개정', 'Noun'),\n",
       " ('한다', 'Verb'),\n",
       " ('.', 'Punctuation'),\n",
       " ('\\n\\n', 'Foreign'),\n",
       " ('제', 'Noun'),\n",
       " ('30조', 'Number'),\n",
       " ('제', 'Foreign'),\n",
       " ('2', 'Number'),\n",
       " ('항제', 'Noun'),\n",
       " ('1', 'Number'),\n",
       " ('호', 'Noun'),\n",
       " ('및', 'Noun'),\n",
       " ('제', 'Noun'),\n",
       " ('2', 'Number'),\n",
       " ('호', 'Noun'),\n",
       " ('를', 'Josa'),\n",
       " ('각각', 'Noun'),\n",
       " ('제', 'Noun'),\n",
       " ('2', 'Number'),\n",
       " ('호', 'Noun'),\n",
       " ('및', 'Noun'),\n",
       " ('제', 'Noun'),\n",
       " ('3', 'Number'),\n",
       " ('호로', 'Noun'),\n",
       " ('하고', 'Verb'),\n",
       " (',', 'Punctuation'),\n",
       " ('같은', 'Adjective'),\n",
       " ('항', 'Noun'),\n",
       " ('에', 'Josa'),\n",
       " ('제', 'Noun'),\n",
       " ('1', 'Number'),\n",
       " ('호', 'Noun'),\n",
       " ('를', 'Josa'),\n",
       " ('다음', 'Noun'),\n",
       " ('과', 'Josa'),\n",
       " ('같이', 'Adverb'),\n",
       " ('신설', 'Noun'),\n",
       " ('한', 'Josa'),\n",
       " ('다', 'Adverb'),\n",
       " ('.', 'Punctuation'),\n",
       " ('\\n\\n  ', 'Foreign'),\n",
       " ('1', 'Number'),\n",
       " ('.', 'Punctuation'),\n",
       " ('제', 'Noun'),\n",
       " ('3조', 'Number'),\n",
       " ('제', 'Foreign'),\n",
       " ('1', 'Number'),\n",
       " ('항', 'Noun'),\n",
       " ('부터', 'Josa'),\n",
       " ('제', 'Noun'),\n",
       " ('4', 'Number'),\n",
       " ('항', 'Noun'),\n",
       " ('까지', 'Josa'),\n",
       " ('및', 'Noun'),\n",
       " ('제', 'Noun'),\n",
       " ('9', 'Number'),\n",
       " ('항', 'Noun'),\n",
       " ('을', 'Josa'),\n",
       " ('위반', 'Noun'),\n",
       " ('한', 'Josa'),\n",
       " ('자', 'Noun'),\n",
       " ('\\n\\n', 'Foreign'),\n",
       " ('제', 'Noun'),\n",
       " ('35조', 'Number'),\n",
       " ('및', 'Noun'),\n",
       " ('제', 'Noun'),\n",
       " ('36조', 'Number'),\n",
       " ('를', 'Foreign'),\n",
       " ('각각', 'Noun'),\n",
       " ('다음', 'Noun'),\n",
       " ('과', 'Josa'),\n",
       " ('같이', 'Adverb'),\n",
       " ('신설', 'Noun'),\n",
       " ('한', 'Josa'),\n",
       " ('다', 'Adverb'),\n",
       " ('.', 'Punctuation'),\n",
       " ('\\n\\n', 'Foreign'),\n",
       " ('제', 'Noun'),\n",
       " ('35조', 'Number'),\n",
       " ('(', 'Punctuation'),\n",
       " ('손해배상', 'Noun'),\n",
       " ('책임', 'Noun'),\n",
       " (')', 'Punctuation'),\n",
       " ('원', 'Modifier'),\n",
       " ('사업자', 'Noun'),\n",
       " ('가', 'Josa'),\n",
       " ('이', 'Noun'),\n",
       " ('법', 'Noun'),\n",
       " ('을', 'Josa'),\n",
       " ('위반', 'Noun'),\n",
       " ('함', 'Noun'),\n",
       " ('으로써', 'Josa'),\n",
       " ('손해', 'Noun'),\n",
       " ('를', 'Josa'),\n",
       " ('입은', 'Verb'),\n",
       " ('자가', 'Noun'),\n",
       " ('있는', 'Adjective'),\n",
       " ('경우', 'Noun'),\n",
       " ('에는', 'Josa'),\n",
       " ('그', 'Noun'),\n",
       " ('자의', 'Noun'),\n",
       " ('손해', 'Noun'),\n",
       " ('에', 'Josa'),\n",
       " ('대하', 'Noun'),\n",
       " ('여', 'Josa'),\n",
       " ('해당', 'Noun'),\n",
       " ('원', 'Modifier'),\n",
       " ('사업자', 'Noun'),\n",
       " ('는', 'Josa'),\n",
       " ('배상', 'Noun'),\n",
       " ('\\n\\n', 'Foreign'),\n",
       " ('책임', 'Noun'),\n",
       " ('을', 'Josa'),\n",
       " ('진다', 'Verb'),\n",
       " ('.', 'Punctuation'),\n",
       " ('다만', 'Noun'),\n",
       " (',', 'Punctuation'),\n",
       " ('해당', 'Noun'),\n",
       " ('원', 'Modifier'),\n",
       " ('사업자', 'Noun'),\n",
       " ('가', 'Josa'),\n",
       " ('고의', 'Noun'),\n",
       " ('또는', 'Adverb'),\n",
       " ('과실', 'Noun'),\n",
       " ('이', 'Josa'),\n",
       " ('없', 'Adjective'),\n",
       " ('음', 'Noun'),\n",
       " ('을', 'Josa'),\n",
       " ('입증', 'Noun'),\n",
       " ('\\n\\n', 'Foreign'),\n",
       " ('한', 'Verb'),\n",
       " ('경우', 'Noun'),\n",
       " ('에는', 'Josa'),\n",
       " ('그러하지', 'Adjective'),\n",
       " ('아니하다', 'Adjective'),\n",
       " ('.', 'Punctuation'),\n",
       " ('\\n\\n', 'Foreign'),\n",
       " ('제', 'Noun'),\n",
       " ('36조', 'Number'),\n",
       " ('(', 'Punctuation'),\n",
       " ('손해', 'Noun'),\n",
       " ('액', 'Noun'),\n",
       " ('의', 'Josa'),\n",
       " ('인정', 'Noun'),\n",
       " (')', 'Punctuation'),\n",
       " ('법원', 'Noun'),\n",
       " ('은', 'Josa'),\n",
       " ('이', 'Noun'),\n",
       " ('법', 'Noun'),\n",
       " ('을', 'Josa'),\n",
       " ('위반', 'Noun'),\n",
       " ('한', 'Josa'),\n",
       " ('행위', 'Noun'),\n",
       " ('로', 'Josa'),\n",
       " ('인하여', 'Adjective'),\n",
       " ('손해', 'Noun'),\n",
       " ('가', 'Josa'),\n",
       " ('발생', 'Noun'),\n",
       " ('한', 'Josa'),\n",
       " ('사실', 'Noun'),\n",
       " ('은', 'Josa'),\n",
       " ('인정', 'Noun'),\n",
       " ('되나', 'Verb'),\n",
       " ('손해', 'Noun'),\n",
       " ('액', 'Noun'),\n",
       " ('의', 'Josa'),\n",
       " ('구체', 'Noun'),\n",
       " ('적', 'Suffix'),\n",
       " ('인', 'Josa'),\n",
       " ('금액', 'Noun'),\n",
       " ('을', 'Josa'),\n",
       " ('산정', 'Noun'),\n",
       " ('하기', 'Verb'),\n",
       " ('곤란', 'Noun'),\n",
       " ('\\n\\n', 'Foreign'),\n",
       " ('한', 'Verb'),\n",
       " ('경우', 'Noun'),\n",
       " ('에는', 'Josa'),\n",
       " ('변론', 'Noun'),\n",
       " ('의', 'Josa'),\n",
       " ('취지', 'Noun'),\n",
       " ('와', 'Josa'),\n",
       " ('증거조사', 'Noun'),\n",
       " ('의', 'Josa'),\n",
       " ('결과', 'Noun'),\n",
       " ('를', 'Josa'),\n",
       " ('고려', 'Noun'),\n",
       " ('하여', 'Verb'),\n",
       " ('그', 'Noun'),\n",
       " ('에', 'Josa'),\n",
       " ('상당', 'Noun'),\n",
       " ('\\n\\n', 'Foreign'),\n",
       " ('한', 'Verb'),\n",
       " ('손해', 'Noun'),\n",
       " ('액', 'Noun'),\n",
       " ('을', 'Josa'),\n",
       " ('인정', 'Noun'),\n",
       " ('할', 'Verb'),\n",
       " ('수', 'Noun'),\n",
       " ('있다', 'Adjective'),\n",
       " ('.', 'Punctuation'),\n",
       " ('\\n\\n', 'Foreign'),\n",
       " ('-', 'Punctuation'),\n",
       " ('3', 'Number'),\n",
       " ('-', 'Punctuation'),\n",
       " ('\\n\\n\\x0c', 'Foreign'),\n",
       " ('-', 'Punctuation'),\n",
       " ('4', 'Number'),\n",
       " ('-', 'Punctuation'),\n",
       " ('\\n\\n', 'Foreign'),\n",
       " ('부', 'Noun'),\n",
       " ('칙', 'Noun'),\n",
       " ('\\n\\n', 'Foreign'),\n",
       " ('①', 'Foreign'),\n",
       " ('(', 'Punctuation'),\n",
       " ('시행일', 'Noun'),\n",
       " (')', 'Punctuation'),\n",
       " ('이', 'Noun'),\n",
       " ('법', 'Noun'),\n",
       " ('은', 'Josa'),\n",
       " ('공포', 'Noun'),\n",
       " ('한', 'Josa'),\n",
       " ('날', 'Noun'),\n",
       " ('부터', 'Josa'),\n",
       " ('시행', 'Noun'),\n",
       " ('한다', 'Verb'),\n",
       " ('.', 'Punctuation'),\n",
       " ('\\n\\n', 'Foreign'),\n",
       " ('②', 'Foreign'),\n",
       " ('(', 'Punctuation'),\n",
       " ('적', 'Noun'),\n",
       " ('용례', 'Noun'),\n",
       " (')', 'Punctuation'),\n",
       " ('제', 'Noun'),\n",
       " ('30조', 'Number'),\n",
       " ('제', 'Foreign'),\n",
       " ('2', 'Number'),\n",
       " ('항제', 'Noun'),\n",
       " ('1', 'Number'),\n",
       " ('호', 'Noun'),\n",
       " (',', 'Punctuation'),\n",
       " ('제', 'Noun'),\n",
       " ('35조', 'Number'),\n",
       " ('및', 'Noun'),\n",
       " ('제', 'Noun'),\n",
       " ('36조', 'Number'),\n",
       " ('의', 'Foreign'),\n",
       " ('개정', 'Noun'),\n",
       " ('규정', 'Noun'),\n",
       " ('은', 'Josa'),\n",
       " ('이', 'Noun'),\n",
       " ('법', 'Noun'),\n",
       " ('시행', 'Noun'),\n",
       " ('후', 'Noun'),\n",
       " ('최초', 'Noun'),\n",
       " ('로', 'Josa'),\n",
       " ('체결', 'Noun'),\n",
       " ('하는', 'Verb'),\n",
       " ('하도급', 'Noun'),\n",
       " ('계약', 'Noun'),\n",
       " ('부터', 'Josa'),\n",
       " ('적용', 'Noun'),\n",
       " ('한다', 'Verb'),\n",
       " ('.', 'Punctuation'),\n",
       " ('\\n\\n\\x0c', 'Foreign'),\n",
       " ('신', 'Noun'),\n",
       " ('·', 'Punctuation'),\n",
       " ('구조', 'Noun'),\n",
       " ('문대비', 'Noun'),\n",
       " ('표', 'Noun'),\n",
       " ('\\n\\n', 'Foreign'),\n",
       " ('현', 'Noun'),\n",
       " ('행', 'Noun'),\n",
       " ('\\n\\n', 'Foreign'),\n",
       " ('개', 'Noun'),\n",
       " ('정', 'Noun'),\n",
       " ('안', 'Noun'),\n",
       " ('\\n\\n', 'Foreign'),\n",
       " ('제', 'Noun'),\n",
       " ('30조', 'Number'),\n",
       " ('(', 'Punctuation'),\n",
       " ('벌칙', 'Noun'),\n",
       " (')', 'Punctuation'),\n",
       " ('①', 'Foreign'),\n",
       " ('(', 'Punctuation'),\n",
       " ('생', 'Noun'),\n",
       " ('략', 'Noun'),\n",
       " (')', 'Punctuation'),\n",
       " ('\\n\\n', 'Foreign'),\n",
       " ('제', 'Noun'),\n",
       " ('30조', 'Number'),\n",
       " ('(', 'Punctuation'),\n",
       " ('벌칙', 'Noun'),\n",
       " (')', 'Punctuation'),\n",
       " ('①', 'Foreign'),\n",
       " ('(', 'Punctuation'),\n",
       " ('현행', 'Noun'),\n",
       " ('과', 'Josa'),\n",
       " ('같음', 'Adjective'),\n",
       " (')', 'Punctuation'),\n",
       " ('\\n\\n  ', 'Foreign'),\n",
       " ('②', 'Foreign'),\n",
       " ('다음', 'Noun'),\n",
       " ('각', 'Noun'),\n",
       " ('호의', 'Noun'),\n",
       " ('어느', 'Adverb'),\n",
       " ('하나', 'Noun'),\n",
       " ('에', 'Josa'),\n",
       " ('②', 'Foreign'),\n",
       " ('-------------------------', 'Punctuation'),\n",
       " ('\\n\\n', 'Foreign'),\n",
       " ('해당', 'Noun'),\n",
       " ('하는', 'Verb'),\n",
       " ('자는', 'Verb'),\n",
       " ('1억', 'Number'),\n",
       " ('5천만원', 'Number'),\n",
       " ('이', 'Noun'),\n",
       " ('\\n\\n', 'Foreign'),\n",
       " ('----------------------------', 'Punctuation'),\n",
       " ('\\n\\n', 'Foreign'),\n",
       " ('하의', 'Noun'),\n",
       " ('벌금', 'Noun'),\n",
       " ('에', 'Josa'),\n",
       " ('처', 'Noun'),\n",
       " ('한다', 'Verb'),\n",
       " ('.', 'Punctuation'),\n",
       " ('\\n\\n', 'Foreign'),\n",
       " ('------------------.', 'Punctuation'),\n",
       " ('\\n\\n  ', 'Foreign'),\n",
       " ('<', 'Punctuation'),\n",
       " ('신', 'Noun'),\n",
       " ('설', 'Noun'),\n",
       " ('>', 'Punctuation'),\n",
       " ('\\n\\n  ', 'Foreign'),\n",
       " ('1', 'Number'),\n",
       " ('.', 'Punctuation'),\n",
       " ('제', 'Noun'),\n",
       " ('3조', 'Number'),\n",
       " ('제', 'Foreign'),\n",
       " ('1', 'Number'),\n",
       " ('항', 'Noun'),\n",
       " ('부터', 'Josa'),\n",
       " ('제', 'Noun'),\n",
       " ('4', 'Number'),\n",
       " ('항', 'Noun'),\n",
       " ('까지', 'Josa'),\n",
       " ('1', 'Number'),\n",
       " ('.', 'Punctuation'),\n",
       " ('⋅', 'Foreign'),\n",
       " ('2', 'Number'),\n",
       " ('.', 'Punctuation'),\n",
       " ('(', 'Punctuation'),\n",
       " ('생', 'Noun'),\n",
       " ('략', 'Noun'),\n",
       " (')', 'Punctuation'),\n",
       " ('\\n\\n  ', 'Foreign'),\n",
       " ('2', 'Number'),\n",
       " ('.', 'Punctuation'),\n",
       " ('⋅', 'Foreign'),\n",
       " ('3', 'Number'),\n",
       " ('.', 'Punctuation'),\n",
       " ('(', 'Punctuation'),\n",
       " ('현행', 'Noun'),\n",
       " ('제', 'Noun'),\n",
       " ('1', 'Number'),\n",
       " ('호', 'Noun'),\n",
       " ('및', 'Noun'),\n",
       " ('제', 'Noun'),\n",
       " ('2', 'Number'),\n",
       " ('호', 'Noun'),\n",
       " ('와', 'Josa'),\n",
       " ('및', 'Noun'),\n",
       " ('제', 'Noun'),\n",
       " ('9', 'Number'),\n",
       " ('항', 'Noun'),\n",
       " ('을', 'Josa'),\n",
       " ('위반', 'Noun'),\n",
       " ('한', 'Josa'),\n",
       " ('자', 'Noun'),\n",
       " ('\\n\\n  ', 'Foreign'),\n",
       " ('③', 'Foreign'),\n",
       " ('(', 'Punctuation'),\n",
       " ('생', 'Noun'),\n",
       " ('략', 'Noun'),\n",
       " (')', 'Punctuation'),\n",
       " ('\\n\\n  ', 'Foreign'),\n",
       " ('<', 'Punctuation'),\n",
       " ('신', 'Noun'),\n",
       " ('설', 'Noun'),\n",
       " ('>', 'Punctuation'),\n",
       " ('\\n\\n', 'Foreign'),\n",
       " ('같음', 'Adjective'),\n",
       " (')', 'Punctuation'),\n",
       " ('\\n\\n  ', 'Foreign'),\n",
       " ('③', 'Foreign'),\n",
       " ('(', 'Punctuation'),\n",
       " ('현행', 'Noun'),\n",
       " ('과', 'Josa'),\n",
       " ('같음', 'Adjective'),\n",
       " (')', 'Punctuation'),\n",
       " ('\\n\\n', 'Foreign'),\n",
       " ('제', 'Noun'),\n",
       " ('35조', 'Number'),\n",
       " ('(', 'Punctuation'),\n",
       " ('손해배상', 'Noun'),\n",
       " ('책임', 'Noun'),\n",
       " (')', 'Punctuation'),\n",
       " ('원', 'Modifier'),\n",
       " ('사업자', 'Noun'),\n",
       " ('가', 'Josa'),\n",
       " ('이', 'Noun'),\n",
       " ('법', 'Noun'),\n",
       " ('을', 'Josa'),\n",
       " ('위반', 'Noun'),\n",
       " ('함', 'Noun'),\n",
       " ('으로써', 'Josa'),\n",
       " ('손해', 'Noun'),\n",
       " ('를', 'Josa'),\n",
       " ('입은', 'Verb'),\n",
       " ('자가', 'Noun'),\n",
       " ('있는', 'Adjective'),\n",
       " ('경우', 'Noun'),\n",
       " ('에는', 'Josa'),\n",
       " ('그', 'Noun'),\n",
       " ('자의', 'Noun'),\n",
       " ('손해', 'Noun'),\n",
       " ('에', 'Josa'),\n",
       " ('대하', 'Noun'),\n",
       " ('여', 'Josa'),\n",
       " ('해당', 'Noun'),\n",
       " ('원사', 'Noun'),\n",
       " ('\\n\\n', 'Foreign'),\n",
       " ('업자', 'Noun'),\n",
       " ('는', 'Josa'),\n",
       " ('배상', 'Noun'),\n",
       " ('책임', 'Noun'),\n",
       " ('을', 'Josa'),\n",
       " ('진다', 'Verb'),\n",
       " ('.', 'Punctuation'),\n",
       " ('다만', 'Noun'),\n",
       " (',', 'Punctuation'),\n",
       " ('해당', 'Noun'),\n",
       " ('원', 'Modifier'),\n",
       " ('사업자', 'Noun'),\n",
       " ('가', 'Josa'),\n",
       " ('고의', 'Noun'),\n",
       " ('또는', 'Adverb'),\n",
       " ('과', 'Noun'),\n",
       " ('\\n\\n', 'Foreign'),\n",
       " ('실', 'Noun'),\n",
       " ('이', 'Josa'),\n",
       " ('없', 'Adjective'),\n",
       " ('음', 'Noun'),\n",
       " ('을', 'Josa'),\n",
       " ('입증', 'Noun'),\n",
       " ('한', 'Josa'),\n",
       " ('경우', 'Noun'),\n",
       " ('에는', 'Josa'),\n",
       " ('그러하지', 'Adjective'),\n",
       " ('아니하다', 'Adjective'),\n",
       " ('.', 'Punctuation'),\n",
       " ('\\n\\n  ', 'Foreign'),\n",
       " ('<', 'Punctuation'),\n",
       " ('신', 'Noun'),\n",
       " ('설', 'Noun'),\n",
       " ('>', 'Punctuation'),\n",
       " ('\\n\\n', 'Foreign'),\n",
       " ('제', 'Noun'),\n",
       " ('36조', 'Number'),\n",
       " ('(', 'Punctuation'),\n",
       " ('손해', 'Noun'),\n",
       " ('액', 'Noun'),\n",
       " ('의', 'Josa'),\n",
       " ('인정', 'Noun'),\n",
       " (')', 'Punctuation'),\n",
       " ('법원', 'Noun'),\n",
       " ('은', 'Josa'),\n",
       " ('이', 'Noun'),\n",
       " ('법', 'Noun'),\n",
       " ('을', 'Josa'),\n",
       " ('위반', 'Noun'),\n",
       " ('한', 'Josa'),\n",
       " ('행위', 'Noun'),\n",
       " ('로', 'Josa'),\n",
       " ('인하여', 'Adjective'),\n",
       " ('손', 'Noun'),\n",
       " ('\\n\\n', 'Foreign'),\n",
       " ('해', 'Noun'),\n",
       " ('가', 'Josa'),\n",
       " ('발생', 'Noun'),\n",
       " ('한', 'Josa'),\n",
       " ('사실', 'Noun'),\n",
       " ('은', 'Josa'),\n",
       " ('인정', 'Noun'),\n",
       " ('되나', 'Verb'),\n",
       " ('손해', 'Noun'),\n",
       " ('액', 'Noun'),\n",
       " ('의', 'Josa'),\n",
       " ('구체', 'Noun'),\n",
       " ('적', 'Suffix'),\n",
       " ('인', 'Josa'),\n",
       " ('금액', 'Noun'),\n",
       " ('을', 'Josa'),\n",
       " ('산', 'Noun'),\n",
       " ('\\n\\n', 'Foreign'),\n",
       " ('정', 'Noun'),\n",
       " ('하기', 'Verb'),\n",
       " ('곤란한', 'Adjective'),\n",
       " ('경우', 'Noun'),\n",
       " ('에는', 'Josa'),\n",
       " ('변론', 'Noun'),\n",
       " ('\\n\\n', 'Foreign'),\n",
       " ('의', 'Noun'),\n",
       " ('취지', 'Noun'),\n",
       " ('와', 'Josa'),\n",
       " ('증거조사', 'Noun'),\n",
       " ('의', 'Josa'),\n",
       " ('결과', 'Noun'),\n",
       " ('를', 'Josa'),\n",
       " ('-', 'Punctuation'),\n",
       " ('5', 'Number'),\n",
       " ('-', 'Punctuation'),\n",
       " ('\\n\\n\\x0c', 'Foreign'),\n",
       " ('-', 'Punctuation'),\n",
       " ('6', 'Number'),\n",
       " ('-', 'Punctuation'),\n",
       " ('\\n\\n', 'Foreign'),\n",
       " ('고려', 'Noun'),\n",
       " ('하여', 'Verb'),\n",
       " ('그', 'Noun'),\n",
       " ('에', 'Josa'),\n",
       " ('상당한', 'Adjective'),\n",
       " ('손해', 'Noun'),\n",
       " ('액', 'Noun'),\n",
       " ('\\n\\n', 'Foreign'),\n",
       " ('을', 'Josa'),\n",
       " ('인정', 'Noun'),\n",
       " ('할', 'Verb'),\n",
       " ('수', 'Noun'),\n",
       " ('있다', 'Adjective'),\n",
       " ('.', 'Punctuation'),\n",
       " ('\\n\\n\\x0c', 'Foreign')]"
      ]
     },
     "execution_count": 77,
     "metadata": {},
     "output_type": "execute_result"
    }
   ],
   "source": [
    "from konlpy.tag import Okt\n",
    "\n",
    "\n",
    "okt = Okt()\n",
    "\n",
    "okt.pos(doc_ko)"
   ]
  },
  {
   "cell_type": "code",
   "execution_count": 78,
   "metadata": {},
   "outputs": [
    {
     "data": {
      "text/plain": [
       "['하도급',\n",
       " '거래',\n",
       " '정화',\n",
       " '관',\n",
       " '법률',\n",
       " '일부',\n",
       " '개정',\n",
       " '법률',\n",
       " '안',\n",
       " '유선호',\n",
       " '의원',\n",
       " '대표',\n",
       " '발의',\n",
       " '의',\n",
       " '안',\n",
       " '번',\n",
       " '호',\n",
       " '발의',\n",
       " '연월일',\n",
       " '발',\n",
       " '의',\n",
       " '자',\n",
       " '유선호',\n",
       " '강기갑',\n",
       " '김효석',\n",
       " '조승수',\n",
       " '최문순',\n",
       " '조영택',\n",
       " '문학진',\n",
       " '백재현',\n",
       " '송민순',\n",
       " '박은수',\n",
       " '정동영',\n",
       " '김춘진',\n",
       " '김재윤',\n",
       " '우윤근',\n",
       " '이성남',\n",
       " '이종걸',\n",
       " '의원',\n",
       " '인',\n",
       " '제안',\n",
       " '이유',\n",
       " '및',\n",
       " '내용',\n",
       " '원',\n",
       " '수급',\n",
       " '사업자',\n",
       " '사이',\n",
       " '하도급',\n",
       " '거래',\n",
       " '외형',\n",
       " '계약',\n",
       " '체',\n",
       " '결',\n",
       " '교섭',\n",
       " '절대',\n",
       " '우위',\n",
       " '사업자',\n",
       " '불공정',\n",
       " '행위',\n",
       " '가능성',\n",
       " '상존',\n",
       " '또한',\n",
       " '수급',\n",
       " '사업자',\n",
       " '사업자',\n",
       " '의',\n",
       " '부당행위',\n",
       " '손해',\n",
       " '경우',\n",
       " '입증',\n",
       " '부담',\n",
       " '때문',\n",
       " '민사소송',\n",
       " '피해',\n",
       " '제도',\n",
       " '실정',\n",
       " '임',\n",
       " '이',\n",
       " '서면',\n",
       " '계약',\n",
       " '경우',\n",
       " '벌금',\n",
       " '처',\n",
       " '손해배상',\n",
       " '입증책임',\n",
       " '사업자',\n",
       " '전환',\n",
       " '법원',\n",
       " '추정',\n",
       " '손해',\n",
       " '액',\n",
       " '인정',\n",
       " '수',\n",
       " '수급',\n",
       " '사업자',\n",
       " '소송',\n",
       " '용의',\n",
       " '진행',\n",
       " '수',\n",
       " '함',\n",
       " '비',\n",
       " '대칭',\n",
       " '교섭',\n",
       " '정보',\n",
       " '차이',\n",
       " '를',\n",
       " '보완',\n",
       " '하도급',\n",
       " '거래',\n",
       " '질서',\n",
       " '유지',\n",
       " '발전',\n",
       " '것임',\n",
       " '안',\n",
       " '제',\n",
       " '및',\n",
       " '제',\n",
       " '신설',\n",
       " '법률',\n",
       " '제',\n",
       " '호',\n",
       " '하도급',\n",
       " '거래',\n",
       " '정화',\n",
       " '관',\n",
       " '법률',\n",
       " '일부',\n",
       " '개정',\n",
       " '법률',\n",
       " '안',\n",
       " '하도급',\n",
       " '거래',\n",
       " '정화',\n",
       " '관',\n",
       " '법률',\n",
       " '일부',\n",
       " '다음',\n",
       " '개정',\n",
       " '제',\n",
       " '항제',\n",
       " '호',\n",
       " '및',\n",
       " '제',\n",
       " '호',\n",
       " '각각',\n",
       " '제',\n",
       " '호',\n",
       " '및',\n",
       " '제',\n",
       " '호로',\n",
       " '항',\n",
       " '제',\n",
       " '호',\n",
       " '다음',\n",
       " '신설',\n",
       " '제',\n",
       " '항',\n",
       " '제',\n",
       " '항',\n",
       " '및',\n",
       " '제',\n",
       " '항',\n",
       " '위반',\n",
       " '자',\n",
       " '제',\n",
       " '및',\n",
       " '제',\n",
       " '각각',\n",
       " '다음',\n",
       " '신설',\n",
       " '제',\n",
       " '손해배상',\n",
       " '책임',\n",
       " '사업자',\n",
       " '이',\n",
       " '법',\n",
       " '위반',\n",
       " '함',\n",
       " '손해',\n",
       " '자가',\n",
       " '경우',\n",
       " '그',\n",
       " '자의',\n",
       " '손해',\n",
       " '대하',\n",
       " '해당',\n",
       " '사업자',\n",
       " '배상',\n",
       " '책임',\n",
       " '다만',\n",
       " '해당',\n",
       " '사업자',\n",
       " '고의',\n",
       " '과실',\n",
       " '음',\n",
       " '입증',\n",
       " '경우',\n",
       " '제',\n",
       " '손해',\n",
       " '액',\n",
       " '인정',\n",
       " '법원',\n",
       " '이',\n",
       " '법',\n",
       " '위반',\n",
       " '행위',\n",
       " '손해',\n",
       " '발생',\n",
       " '사실',\n",
       " '인정',\n",
       " '손해',\n",
       " '액',\n",
       " '구체',\n",
       " '금액',\n",
       " '산정',\n",
       " '곤란',\n",
       " '경우',\n",
       " '변론',\n",
       " '취지',\n",
       " '증거조사',\n",
       " '결과',\n",
       " '고려',\n",
       " '그',\n",
       " '상당',\n",
       " '손해',\n",
       " '액',\n",
       " '인정',\n",
       " '수',\n",
       " '부',\n",
       " '칙',\n",
       " '시행일',\n",
       " '이',\n",
       " '법',\n",
       " '공포',\n",
       " '날',\n",
       " '시행',\n",
       " '적',\n",
       " '용례',\n",
       " '제',\n",
       " '항제',\n",
       " '호',\n",
       " '제',\n",
       " '및',\n",
       " '제',\n",
       " '개정',\n",
       " '규정',\n",
       " '이',\n",
       " '법',\n",
       " '시행',\n",
       " '후',\n",
       " '최초',\n",
       " '체결',\n",
       " '하도급',\n",
       " '계약',\n",
       " '적용',\n",
       " '신',\n",
       " '구조',\n",
       " '문대비',\n",
       " '표',\n",
       " '현',\n",
       " '행',\n",
       " '개',\n",
       " '정',\n",
       " '안',\n",
       " '제',\n",
       " '벌칙',\n",
       " '생',\n",
       " '략',\n",
       " '제',\n",
       " '벌칙',\n",
       " '현행',\n",
       " '다음',\n",
       " '각',\n",
       " '호의',\n",
       " '하나',\n",
       " '해당',\n",
       " '이',\n",
       " '하의',\n",
       " '벌금',\n",
       " '처',\n",
       " '신',\n",
       " '설',\n",
       " '제',\n",
       " '항',\n",
       " '제',\n",
       " '항',\n",
       " '생',\n",
       " '략',\n",
       " '현행',\n",
       " '제',\n",
       " '호',\n",
       " '및',\n",
       " '제',\n",
       " '호',\n",
       " '및',\n",
       " '제',\n",
       " '항',\n",
       " '위반',\n",
       " '자',\n",
       " '생',\n",
       " '략',\n",
       " '신',\n",
       " '설',\n",
       " '현행',\n",
       " '제',\n",
       " '손해배상',\n",
       " '책임',\n",
       " '사업자',\n",
       " '이',\n",
       " '법',\n",
       " '위반',\n",
       " '함',\n",
       " '손해',\n",
       " '자가',\n",
       " '경우',\n",
       " '그',\n",
       " '자의',\n",
       " '손해',\n",
       " '대하',\n",
       " '해당',\n",
       " '원사',\n",
       " '업자',\n",
       " '배상',\n",
       " '책임',\n",
       " '다만',\n",
       " '해당',\n",
       " '사업자',\n",
       " '고의',\n",
       " '과',\n",
       " '실',\n",
       " '음',\n",
       " '입증',\n",
       " '경우',\n",
       " '신',\n",
       " '설',\n",
       " '제',\n",
       " '손해',\n",
       " '액',\n",
       " '인정',\n",
       " '법원',\n",
       " '이',\n",
       " '법',\n",
       " '위반',\n",
       " '행위',\n",
       " '손',\n",
       " '해',\n",
       " '발생',\n",
       " '사실',\n",
       " '인정',\n",
       " '손해',\n",
       " '액',\n",
       " '구체',\n",
       " '금액',\n",
       " '산',\n",
       " '정',\n",
       " '경우',\n",
       " '변론',\n",
       " '의',\n",
       " '취지',\n",
       " '증거조사',\n",
       " '결과',\n",
       " '고려',\n",
       " '그',\n",
       " '손해',\n",
       " '액',\n",
       " '인정',\n",
       " '수']"
      ]
     },
     "execution_count": 78,
     "metadata": {},
     "output_type": "execute_result"
    }
   ],
   "source": [
    "okt.nouns(doc_ko)"
   ]
  },
  {
   "cell_type": "code",
   "execution_count": 79,
   "metadata": {},
   "outputs": [
    {
     "data": {
      "text/plain": [
       "['하도급',\n",
       " '거래',\n",
       " '공',\n",
       " '정화',\n",
       " '에',\n",
       " '관',\n",
       " '한',\n",
       " '법률',\n",
       " '일부',\n",
       " '개정',\n",
       " '법률',\n",
       " '안',\n",
       " '\\n\\n',\n",
       " '(',\n",
       " '유선호',\n",
       " '의원',\n",
       " '대표',\n",
       " '발의',\n",
       " ')',\n",
       " '\\n\\n ',\n",
       " '의',\n",
       " '안',\n",
       " '\\n ',\n",
       " '번',\n",
       " '호',\n",
       " '\\n\\n',\n",
       " '9895',\n",
       " '\\n\\n',\n",
       " '발의',\n",
       " '연월일',\n",
       " ':',\n",
       " '2010',\n",
       " '.',\n",
       " '11',\n",
       " '.',\n",
       " '15',\n",
       " '.',\n",
       " '\\n\\n',\n",
       " '발',\n",
       " '의',\n",
       " '자',\n",
       " ':',\n",
       " '유선호',\n",
       " '․',\n",
       " '강기갑',\n",
       " '․',\n",
       " '김효석',\n",
       " '조승수',\n",
       " 'ㆍ',\n",
       " '최문순',\n",
       " 'ㆍ',\n",
       " '조영택',\n",
       " '문학진',\n",
       " 'ㆍ',\n",
       " '백재현',\n",
       " 'ㆍ',\n",
       " '송민순',\n",
       " '박은수',\n",
       " 'ㆍ',\n",
       " '정동영',\n",
       " 'ㆍ',\n",
       " '김춘진',\n",
       " '김재윤',\n",
       " 'ㆍ',\n",
       " '우윤근',\n",
       " 'ㆍ',\n",
       " '이성남',\n",
       " '이종걸',\n",
       " '의원',\n",
       " '(',\n",
       " '16',\n",
       " '인',\n",
       " ')',\n",
       " '\\n\\n',\n",
       " '제안',\n",
       " '이유',\n",
       " '및',\n",
       " '주요',\n",
       " '내용',\n",
       " '\\n\\n  ',\n",
       " '원',\n",
       " '․',\n",
       " '수급',\n",
       " '사업자',\n",
       " '사이',\n",
       " '의',\n",
       " '하도급',\n",
       " '거래',\n",
       " '는',\n",
       " '외형',\n",
       " '적',\n",
       " '으로',\n",
       " '공정한',\n",
       " '계약',\n",
       " '을',\n",
       " '체',\n",
       " '\\n\\n',\n",
       " '결',\n",
       " '할지라도',\n",
       " '교섭',\n",
       " '력',\n",
       " '에서',\n",
       " '절대',\n",
       " '우위',\n",
       " '에',\n",
       " '있는',\n",
       " '원',\n",
       " '사업자',\n",
       " '에',\n",
       " '의한',\n",
       " '불공정',\n",
       " '한',\n",
       " '행위',\n",
       " '의',\n",
       " '가능성',\n",
       " '은',\n",
       " '여전히',\n",
       " '상존',\n",
       " '하고',\n",
       " '있음',\n",
       " '.',\n",
       " '또한',\n",
       " '수급',\n",
       " '사업자',\n",
       " '는',\n",
       " '원',\n",
       " '사업자',\n",
       " '\\n\\n',\n",
       " '의',\n",
       " '부당행위',\n",
       " '에',\n",
       " '의하여',\n",
       " '손해',\n",
       " '를',\n",
       " '입게',\n",
       " '된',\n",
       " '경우',\n",
       " '에도',\n",
       " '입증',\n",
       " '의',\n",
       " '부담',\n",
       " '을',\n",
       " '안기',\n",
       " '때문',\n",
       " '에',\n",
       " '민사소송',\n",
       " '에',\n",
       " '의한',\n",
       " '피해',\n",
       " '구',\n",
       " '제도',\n",
       " '쉽지',\n",
       " '않은',\n",
       " '실정',\n",
       " '임',\n",
       " '.',\n",
       " '이',\n",
       " '에',\n",
       " '서면',\n",
       " '에',\n",
       " '의한',\n",
       " '계약',\n",
       " '을',\n",
       " '따르지',\n",
       " '않을',\n",
       " '경우',\n",
       " '벌금',\n",
       " '에',\n",
       " '처',\n",
       " '하도록',\n",
       " '하고',\n",
       " ',',\n",
       " '손해배상',\n",
       " '에',\n",
       " '있어서',\n",
       " '입증책임',\n",
       " '을',\n",
       " '원',\n",
       " '사업자',\n",
       " '에게',\n",
       " '전환',\n",
       " '시키며',\n",
       " ',',\n",
       " '법원',\n",
       " '이',\n",
       " '추정',\n",
       " '\\n\\n',\n",
       " '에',\n",
       " '의한',\n",
       " '손해',\n",
       " '액',\n",
       " '의',\n",
       " '인정',\n",
       " '을',\n",
       " '할',\n",
       " '수',\n",
       " '있게',\n",
       " '하여',\n",
       " '수급',\n",
       " '사업자',\n",
       " '가',\n",
       " '소송',\n",
       " '을',\n",
       " '용의',\n",
       " '\\n\\n',\n",
       " '-',\n",
       " '1',\n",
       " '-',\n",
       " '\\n\\n\\x0c',\n",
       " '-',\n",
       " '2',\n",
       " '-',\n",
       " '\\n\\n',\n",
       " '하게',\n",
       " '진행',\n",
       " '할',\n",
       " '수',\n",
       " '있도록',\n",
       " '함',\n",
       " '으로써',\n",
       " '비',\n",
       " '대칭',\n",
       " '적',\n",
       " '인',\n",
       " '교섭',\n",
       " '력',\n",
       " '과',\n",
       " '정보',\n",
       " '력',\n",
       " '의',\n",
       " '차이',\n",
       " '\\n\\n',\n",
       " '를',\n",
       " '보완',\n",
       " '하고',\n",
       " ',',\n",
       " '나아가',\n",
       " '공정한',\n",
       " '하도급',\n",
       " '거래',\n",
       " '질서',\n",
       " '가',\n",
       " '유지',\n",
       " '․',\n",
       " '발전',\n",
       " '되도록',\n",
       " '하',\n",
       " '\\n\\n',\n",
       " '려는',\n",
       " '것임',\n",
       " '(',\n",
       " '안',\n",
       " '제',\n",
       " '35조',\n",
       " '및',\n",
       " '제',\n",
       " '36조',\n",
       " '신설',\n",
       " ').',\n",
       " '법률',\n",
       " '제',\n",
       " '호',\n",
       " '\\n\\n',\n",
       " '하도급',\n",
       " '거래',\n",
       " '공',\n",
       " '정화',\n",
       " '에',\n",
       " '관',\n",
       " '한',\n",
       " '법률',\n",
       " '일부',\n",
       " '개정',\n",
       " '법률',\n",
       " '안',\n",
       " '\\n\\n',\n",
       " '하도급',\n",
       " '거래',\n",
       " '공',\n",
       " '정화',\n",
       " '에',\n",
       " '관',\n",
       " '한',\n",
       " '법률',\n",
       " '일부',\n",
       " '를',\n",
       " '다음',\n",
       " '과',\n",
       " '같이',\n",
       " '개정',\n",
       " '한다',\n",
       " '.',\n",
       " '\\n\\n',\n",
       " '제',\n",
       " '30조',\n",
       " '제',\n",
       " '2',\n",
       " '항제',\n",
       " '1',\n",
       " '호',\n",
       " '및',\n",
       " '제',\n",
       " '2',\n",
       " '호',\n",
       " '를',\n",
       " '각각',\n",
       " '제',\n",
       " '2',\n",
       " '호',\n",
       " '및',\n",
       " '제',\n",
       " '3',\n",
       " '호로',\n",
       " '하고',\n",
       " ',',\n",
       " '같은',\n",
       " '항',\n",
       " '에',\n",
       " '제',\n",
       " '1',\n",
       " '호',\n",
       " '를',\n",
       " '다음',\n",
       " '과',\n",
       " '같이',\n",
       " '신설',\n",
       " '한',\n",
       " '다',\n",
       " '.',\n",
       " '\\n\\n  ',\n",
       " '1',\n",
       " '.',\n",
       " '제',\n",
       " '3조',\n",
       " '제',\n",
       " '1',\n",
       " '항',\n",
       " '부터',\n",
       " '제',\n",
       " '4',\n",
       " '항',\n",
       " '까지',\n",
       " '및',\n",
       " '제',\n",
       " '9',\n",
       " '항',\n",
       " '을',\n",
       " '위반',\n",
       " '한',\n",
       " '자',\n",
       " '\\n\\n',\n",
       " '제',\n",
       " '35조',\n",
       " '및',\n",
       " '제',\n",
       " '36조',\n",
       " '를',\n",
       " '각각',\n",
       " '다음',\n",
       " '과',\n",
       " '같이',\n",
       " '신설',\n",
       " '한',\n",
       " '다',\n",
       " '.',\n",
       " '\\n\\n',\n",
       " '제',\n",
       " '35조',\n",
       " '(',\n",
       " '손해배상',\n",
       " '책임',\n",
       " ')',\n",
       " '원',\n",
       " '사업자',\n",
       " '가',\n",
       " '이',\n",
       " '법',\n",
       " '을',\n",
       " '위반',\n",
       " '함',\n",
       " '으로써',\n",
       " '손해',\n",
       " '를',\n",
       " '입은',\n",
       " '자가',\n",
       " '있는',\n",
       " '경우',\n",
       " '에는',\n",
       " '그',\n",
       " '자의',\n",
       " '손해',\n",
       " '에',\n",
       " '대하',\n",
       " '여',\n",
       " '해당',\n",
       " '원',\n",
       " '사업자',\n",
       " '는',\n",
       " '배상',\n",
       " '\\n\\n',\n",
       " '책임',\n",
       " '을',\n",
       " '진다',\n",
       " '.',\n",
       " '다만',\n",
       " ',',\n",
       " '해당',\n",
       " '원',\n",
       " '사업자',\n",
       " '가',\n",
       " '고의',\n",
       " '또는',\n",
       " '과실',\n",
       " '이',\n",
       " '없',\n",
       " '음',\n",
       " '을',\n",
       " '입증',\n",
       " '\\n\\n',\n",
       " '한',\n",
       " '경우',\n",
       " '에는',\n",
       " '그러하지',\n",
       " '아니하다',\n",
       " '.',\n",
       " '\\n\\n',\n",
       " '제',\n",
       " '36조',\n",
       " '(',\n",
       " '손해',\n",
       " '액',\n",
       " '의',\n",
       " '인정',\n",
       " ')',\n",
       " '법원',\n",
       " '은',\n",
       " '이',\n",
       " '법',\n",
       " '을',\n",
       " '위반',\n",
       " '한',\n",
       " '행위',\n",
       " '로',\n",
       " '인하여',\n",
       " '손해',\n",
       " '가',\n",
       " '발생',\n",
       " '한',\n",
       " '사실',\n",
       " '은',\n",
       " '인정',\n",
       " '되나',\n",
       " '손해',\n",
       " '액',\n",
       " '의',\n",
       " '구체',\n",
       " '적',\n",
       " '인',\n",
       " '금액',\n",
       " '을',\n",
       " '산정',\n",
       " '하기',\n",
       " '곤란',\n",
       " '\\n\\n',\n",
       " '한',\n",
       " '경우',\n",
       " '에는',\n",
       " '변론',\n",
       " '의',\n",
       " '취지',\n",
       " '와',\n",
       " '증거조사',\n",
       " '의',\n",
       " '결과',\n",
       " '를',\n",
       " '고려',\n",
       " '하여',\n",
       " '그',\n",
       " '에',\n",
       " '상당',\n",
       " '\\n\\n',\n",
       " '한',\n",
       " '손해',\n",
       " '액',\n",
       " '을',\n",
       " '인정',\n",
       " '할',\n",
       " '수',\n",
       " '있다',\n",
       " '.',\n",
       " '\\n\\n',\n",
       " '-',\n",
       " '3',\n",
       " '-',\n",
       " '\\n\\n\\x0c',\n",
       " '-',\n",
       " '4',\n",
       " '-',\n",
       " '\\n\\n',\n",
       " '부',\n",
       " '칙',\n",
       " '\\n\\n',\n",
       " '①',\n",
       " '(',\n",
       " '시행일',\n",
       " ')',\n",
       " '이',\n",
       " '법',\n",
       " '은',\n",
       " '공포',\n",
       " '한',\n",
       " '날',\n",
       " '부터',\n",
       " '시행',\n",
       " '한다',\n",
       " '.',\n",
       " '\\n\\n',\n",
       " '②',\n",
       " '(',\n",
       " '적',\n",
       " '용례',\n",
       " ')',\n",
       " '제',\n",
       " '30조',\n",
       " '제',\n",
       " '2',\n",
       " '항제',\n",
       " '1',\n",
       " '호',\n",
       " ',',\n",
       " '제',\n",
       " '35조',\n",
       " '및',\n",
       " '제',\n",
       " '36조',\n",
       " '의',\n",
       " '개정',\n",
       " '규정',\n",
       " '은',\n",
       " '이',\n",
       " '법',\n",
       " '시행',\n",
       " '후',\n",
       " '최초',\n",
       " '로',\n",
       " '체결',\n",
       " '하는',\n",
       " '하도급',\n",
       " '계약',\n",
       " '부터',\n",
       " '적용',\n",
       " '한다',\n",
       " '.',\n",
       " '\\n\\n\\x0c',\n",
       " '신',\n",
       " '·',\n",
       " '구조',\n",
       " '문대비',\n",
       " '표',\n",
       " '\\n\\n',\n",
       " '현',\n",
       " '행',\n",
       " '\\n\\n',\n",
       " '개',\n",
       " '정',\n",
       " '안',\n",
       " '\\n\\n',\n",
       " '제',\n",
       " '30조',\n",
       " '(',\n",
       " '벌칙',\n",
       " ')',\n",
       " '①',\n",
       " '(',\n",
       " '생',\n",
       " '략',\n",
       " ')',\n",
       " '\\n\\n',\n",
       " '제',\n",
       " '30조',\n",
       " '(',\n",
       " '벌칙',\n",
       " ')',\n",
       " '①',\n",
       " '(',\n",
       " '현행',\n",
       " '과',\n",
       " '같음',\n",
       " ')',\n",
       " '\\n\\n  ',\n",
       " '②',\n",
       " '다음',\n",
       " '각',\n",
       " '호의',\n",
       " '어느',\n",
       " '하나',\n",
       " '에',\n",
       " '②',\n",
       " '-------------------------',\n",
       " '\\n\\n',\n",
       " '해당',\n",
       " '하는',\n",
       " '자는',\n",
       " '1억',\n",
       " '5천만원',\n",
       " '이',\n",
       " '\\n\\n',\n",
       " '----------------------------',\n",
       " '\\n\\n',\n",
       " '하의',\n",
       " '벌금',\n",
       " '에',\n",
       " '처',\n",
       " '한다',\n",
       " '.',\n",
       " '\\n\\n',\n",
       " '------------------.',\n",
       " '\\n\\n  ',\n",
       " '<',\n",
       " '신',\n",
       " '설',\n",
       " '>',\n",
       " '\\n\\n  ',\n",
       " '1',\n",
       " '.',\n",
       " '제',\n",
       " '3조',\n",
       " '제',\n",
       " '1',\n",
       " '항',\n",
       " '부터',\n",
       " '제',\n",
       " '4',\n",
       " '항',\n",
       " '까지',\n",
       " '1',\n",
       " '.',\n",
       " '⋅',\n",
       " '2',\n",
       " '.',\n",
       " '(',\n",
       " '생',\n",
       " '략',\n",
       " ')',\n",
       " '\\n\\n  ',\n",
       " '2',\n",
       " '.',\n",
       " '⋅',\n",
       " '3',\n",
       " '.',\n",
       " '(',\n",
       " '현행',\n",
       " '제',\n",
       " '1',\n",
       " '호',\n",
       " '및',\n",
       " '제',\n",
       " '2',\n",
       " '호',\n",
       " '와',\n",
       " '및',\n",
       " '제',\n",
       " '9',\n",
       " '항',\n",
       " '을',\n",
       " '위반',\n",
       " '한',\n",
       " '자',\n",
       " '\\n\\n  ',\n",
       " '③',\n",
       " '(',\n",
       " '생',\n",
       " '략',\n",
       " ')',\n",
       " '\\n\\n  ',\n",
       " '<',\n",
       " '신',\n",
       " '설',\n",
       " '>',\n",
       " '\\n\\n',\n",
       " '같음',\n",
       " ')',\n",
       " '\\n\\n  ',\n",
       " '③',\n",
       " '(',\n",
       " '현행',\n",
       " '과',\n",
       " '같음',\n",
       " ')',\n",
       " '\\n\\n',\n",
       " '제',\n",
       " '35조',\n",
       " '(',\n",
       " '손해배상',\n",
       " '책임',\n",
       " ')',\n",
       " '원',\n",
       " '사업자',\n",
       " '가',\n",
       " '이',\n",
       " '법',\n",
       " '을',\n",
       " '위반',\n",
       " '함',\n",
       " '으로써',\n",
       " '손해',\n",
       " '를',\n",
       " '입은',\n",
       " '자가',\n",
       " '있는',\n",
       " '경우',\n",
       " '에는',\n",
       " '그',\n",
       " '자의',\n",
       " '손해',\n",
       " '에',\n",
       " '대하',\n",
       " '여',\n",
       " '해당',\n",
       " '원사',\n",
       " '\\n\\n',\n",
       " '업자',\n",
       " '는',\n",
       " '배상',\n",
       " '책임',\n",
       " '을',\n",
       " '진다',\n",
       " '.',\n",
       " '다만',\n",
       " ',',\n",
       " '해당',\n",
       " '원',\n",
       " '사업자',\n",
       " '가',\n",
       " '고의',\n",
       " '또는',\n",
       " '과',\n",
       " '\\n\\n',\n",
       " '실',\n",
       " '이',\n",
       " '없',\n",
       " '음',\n",
       " '을',\n",
       " '입증',\n",
       " '한',\n",
       " '경우',\n",
       " '에는',\n",
       " '그러하지',\n",
       " '아니하다',\n",
       " '.',\n",
       " '\\n\\n  ',\n",
       " '<',\n",
       " '신',\n",
       " '설',\n",
       " '>',\n",
       " '\\n\\n',\n",
       " '제',\n",
       " '36조',\n",
       " '(',\n",
       " '손해',\n",
       " '액',\n",
       " '의',\n",
       " '인정',\n",
       " ')',\n",
       " '법원',\n",
       " '은',\n",
       " '이',\n",
       " '법',\n",
       " '을',\n",
       " '위반',\n",
       " '한',\n",
       " '행위',\n",
       " '로',\n",
       " '인하여',\n",
       " '손',\n",
       " '\\n\\n',\n",
       " '해',\n",
       " '가',\n",
       " '발생',\n",
       " '한',\n",
       " '사실',\n",
       " '은',\n",
       " '인정',\n",
       " '되나',\n",
       " '손해',\n",
       " '액',\n",
       " '의',\n",
       " '구체',\n",
       " '적',\n",
       " '인',\n",
       " '금액',\n",
       " '을',\n",
       " '산',\n",
       " '\\n\\n',\n",
       " '정',\n",
       " '하기',\n",
       " '곤란한',\n",
       " '경우',\n",
       " '에는',\n",
       " '변론',\n",
       " '\\n\\n',\n",
       " '의',\n",
       " '취지',\n",
       " '와',\n",
       " '증거조사',\n",
       " '의',\n",
       " '결과',\n",
       " '를',\n",
       " '-',\n",
       " '5',\n",
       " '-',\n",
       " '\\n\\n\\x0c',\n",
       " '-',\n",
       " '6',\n",
       " '-',\n",
       " '\\n\\n',\n",
       " '고려',\n",
       " '하여',\n",
       " '그',\n",
       " '에',\n",
       " '상당한',\n",
       " '손해',\n",
       " '액',\n",
       " '\\n\\n',\n",
       " '을',\n",
       " '인정',\n",
       " '할',\n",
       " '수',\n",
       " '있다',\n",
       " '.',\n",
       " '\\n\\n\\x0c']"
      ]
     },
     "execution_count": 79,
     "metadata": {},
     "output_type": "execute_result"
    }
   ],
   "source": [
    "okt.morphs(doc_ko)"
   ]
  },
  {
   "cell_type": "code",
   "execution_count": 80,
   "metadata": {},
   "outputs": [
    {
     "data": {
      "text/plain": [
       "195"
      ]
     },
     "execution_count": 80,
     "metadata": {},
     "output_type": "execute_result"
    }
   ],
   "source": [
    "ko = nltk.Text(ko, name=\"의안 제 1809895호\")\n",
    "len(ko.tokens)"
   ]
  },
  {
   "cell_type": "code",
   "execution_count": 81,
   "metadata": {},
   "outputs": [
    {
     "data": {
      "text/plain": [
       "111"
      ]
     },
     "execution_count": 81,
     "metadata": {},
     "output_type": "execute_result"
    }
   ],
   "source": [
    "len(set(ko.tokens))"
   ]
  },
  {
   "cell_type": "code",
   "execution_count": 84,
   "metadata": {},
   "outputs": [
    {
     "data": {
      "text/plain": [
       "[('학위', 11),\n",
       " ('간호', 9),\n",
       " ('수업', 7),\n",
       " ('연한', 7),\n",
       " ('관', 5),\n",
       " ('종류', 4),\n",
       " ('학사', 4),\n",
       " ('수여', 4),\n",
       " ('항의', 4),\n",
       " ('고등', 3),\n",
       " ('교육법', 3),\n",
       " ('일부', 3),\n",
       " ('개정', 3),\n",
       " ('법률', 3),\n",
       " ('위', 3),\n",
       " ('이수', 3),\n",
       " ('대통령령', 3),\n",
       " ('기준', 3),\n",
       " ('충족', 3),\n",
       " ('안상수', 2),\n",
       " ('의원', 2),\n",
       " ('발의', 2),\n",
       " ('호', 2),\n",
       " ('대학', 2),\n",
       " ('졸업', 2),\n",
       " ('취득', 2),\n",
       " ('대해', 2),\n",
       " ('신설', 2),\n",
       " ('다음', 2),\n",
       " ('특례', 2)]"
      ]
     },
     "execution_count": 84,
     "metadata": {},
     "output_type": "execute_result"
    }
   ],
   "source": [
    "data = ko.vocab().most_common(30)\n",
    "data"
   ]
  },
  {
   "cell_type": "code",
   "execution_count": 93,
   "metadata": {},
   "outputs": [
    {
     "data": {
      "text/plain": [
       "[<matplotlib.lines.Line2D at 0x1a60f2fd198>]"
      ]
     },
     "execution_count": 93,
     "metadata": {},
     "output_type": "execute_result"
    },
    {
     "data": {
      "image/png": "[encoded data removed]",
      "text/plain": [
       "<Figure size 864x360 with 1 Axes>"
      ]
     },
     "metadata": {
      "needs_background": "light"
     },
     "output_type": "display_data"
    }
   ],
   "source": [
    "plt.figure(figsize=(12,5))\n",
    "plt.plot([x[0] for x in data], [x[1] for x in data])"
   ]
  },
  {
   "cell_type": "markdown",
   "metadata": {},
   "source": [
    "## 휴대폰 번호와 전화번호 모두를 추출하는 정규식"
   ]
  },
  {
   "cell_type": "code",
   "execution_count": 120,
   "metadata": {},
   "outputs": [],
   "source": [
    "def phone(text):\n",
    "    \n",
    "\n",
    "   \n",
    "\n",
    "    r = re.compile(r\"\\d{1,}\")\n",
    "    result = r.findall(text)\n",
    "    if len(result) <5:\n",
    "        return [result[0] + result[1] + result[2], result[3]]\n",
    "    else:\n",
    "        return [result[0] + result[1] + result[2], result[3], result[4] + result[5] + result[6]]\n",
    "\n",
    "def hyphen(number):\n",
    "    number_list = []\n",
    "    for x in number:\n",
    "        \n",
    "        if len(x) <= 10:\n",
    "            number_list.append(x[:2] + \"-\" + x[2:6] + \"-\" + x[6:])\n",
    "        else:\n",
    "            number_list.append(x[:3] + \"-\" + x[3:7] + \"-\" + x[7:])\n",
    "    return number_list"
   ]
  },
  {
   "cell_type": "markdown",
   "metadata": {},
   "source": [
    "## 휴대폰 번호와 전화번호 모두를 추출하는 정규식"
   ]
  },
  {
   "cell_type": "code",
   "execution_count": 121,
   "metadata": {},
   "outputs": [
    {
     "data": {
      "text/plain": [
       "['010-1234-5667', '02-1133-5577']"
      ]
     },
     "execution_count": 121,
     "metadata": {},
     "output_type": "execute_result"
    }
   ],
   "source": [
    "text = \"제 휴대폰 번호는 010-1234-5667이고, 전화번호는 0211335577입니다.\"\n",
    "number = phone(text)\n",
    "number\n",
    "hyphen(number)"
   ]
  },
  {
   "cell_type": "code",
   "execution_count": 122,
   "metadata": {},
   "outputs": [
    {
     "data": {
      "text/plain": [
       "['010-1234-5678', '02-1133-5577', '02-1133-5599']"
      ]
     },
     "execution_count": 122,
     "metadata": {},
     "output_type": "execute_result"
    }
   ],
   "source": [
    "text = \"제 휴대폰 번호는 010-1234-5678이고, 전화번호는 0211335577과 02.1133.5599입니다.\"\n",
    "number = phone(text)\n",
    "hyphen(number)"
   ]
  },
  {
   "cell_type": "code",
   "execution_count": 156,
   "metadata": {},
   "outputs": [],
   "source": [
    "text = \"제 휴대폰 번호는 010-1234-5667이고, 전화번호는 0211335577입니다.\"\n",
    "r = re.compile(\"[0-9]{2,3}-?[0-9]{4}-?[0-9]{4}\")\n",
    "result_1 = r.findall(text)"
   ]
  },
  {
   "cell_type": "code",
   "execution_count": 157,
   "metadata": {},
   "outputs": [],
   "source": [
    "text = \"제 휴대폰 번호는 010-1234-5678이고, 전화번호는 0211335577과 02.1133.5599입니다.\"\n",
    "r = re.compile(\"[0-9]{2,3}.?-?[0-9]{4}.?-?[0-9]{4}\")\n",
    "result_2 = r.findall(text)"
   ]
  },
  {
   "cell_type": "code",
   "execution_count": 162,
   "metadata": {},
   "outputs": [
    {
     "data": {
      "text/plain": [
       "['010-XXXX-XXXX', '02-XXXX-XXXX']"
      ]
     },
     "execution_count": 162,
     "metadata": {},
     "output_type": "execute_result"
    }
   ],
   "source": [
    "[re.sub(\"\\d{4}\", \"XXXX\", x) if len(x) > 11 else re.sub(\"(\\d{2})\\d{4}\\d{4}\", r\"\\1-XXXX-XXXX\", x) for x in result_1 ]"
   ]
  },
  {
   "cell_type": "code",
   "execution_count": 165,
   "metadata": {},
   "outputs": [
    {
     "data": {
      "text/plain": [
       "['010-XXXX-XXXX', '02-XXXX-XXXX', '02-XXXX-XXXX']"
      ]
     },
     "execution_count": 165,
     "metadata": {},
     "output_type": "execute_result"
    }
   ],
   "source": [
    "[re.sub(\"\\d{4}\", \"XXXX\", x) if \"-\" in x else re.sub(\"(\\d{2}).?\\d{4}.?\\d{4}\", r\"\\1-XXXX-XXXX\", x) for x in result_2]"
   ]
  },
  {
   "cell_type": "code",
   "execution_count": null,
   "metadata": {},
   "outputs": [],
   "source": []
  }
 ],
 "metadata": {
  "accelerator": "GPU",
  "colab": {
   "collapsed_sections": [],
   "name": "08_19_NLP_1.ipynb",
   "provenance": [],
   "version": "0.3.2"
  },
  "kernelspec": {
   "display_name": "Python [conda env:.conda-keras]",
   "language": "python",
   "name": "conda-env-.conda-keras-py"
  },
  "language_info": {
   "codemirror_mode": {
    "name": "ipython",
    "version": 3
   },
   "file_extension": ".py",
   "mimetype": "text/x-python",
   "name": "python",
   "nbconvert_exporter": "python",
   "pygments_lexer": "ipython3",
   "version": "3.6.8"
  }
 },
 "nbformat": 4,
 "nbformat_minor": 2
}
